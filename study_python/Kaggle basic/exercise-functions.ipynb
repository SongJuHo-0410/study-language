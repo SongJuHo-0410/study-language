{
 "cells": [
  {
   "cell_type": "markdown",
   "id": "7b5649dc",
   "metadata": {
    "papermill": {
     "duration": 0.007262,
     "end_time": "2023-01-10T12:34:36.366924",
     "exception": false,
     "start_time": "2023-01-10T12:34:36.359662",
     "status": "completed"
    },
    "tags": []
   },
   "source": [
    "**This notebook is an exercise in the [Intro to Programming](https://www.kaggle.com/learn/intro-to-programming) course.  You can reference the tutorial at [this link](https://www.kaggle.com/alexisbcook/functions).**\n",
    "\n",
    "---\n"
   ]
  },
  {
   "cell_type": "markdown",
   "id": "8bf661d5",
   "metadata": {
    "papermill": {
     "duration": 0.005426,
     "end_time": "2023-01-10T12:34:36.378365",
     "exception": false,
     "start_time": "2023-01-10T12:34:36.372939",
     "status": "completed"
    },
    "tags": []
   },
   "source": [
    "In the tutorial, you learned about functions. In this exercise, you'll write some of your own!\n",
    "\n",
    "# Set up the notebook\n",
    "\n",
    "Run the next code cell without changes to set up the notebook."
   ]
  },
  {
   "cell_type": "code",
   "execution_count": 1,
   "id": "7eefcb41",
   "metadata": {
    "execution": {
     "iopub.execute_input": "2023-01-10T12:34:36.392961Z",
     "iopub.status.busy": "2023-01-10T12:34:36.392336Z",
     "iopub.status.idle": "2023-01-10T12:34:36.447105Z",
     "shell.execute_reply": "2023-01-10T12:34:36.445513Z"
    },
    "papermill": {
     "duration": 0.065379,
     "end_time": "2023-01-10T12:34:36.450005",
     "exception": false,
     "start_time": "2023-01-10T12:34:36.384626",
     "status": "completed"
    },
    "tags": []
   },
   "outputs": [
    {
     "name": "stdout",
     "output_type": "stream",
     "text": [
      "Setup complete.\n"
     ]
    }
   ],
   "source": [
    "# Set up the exercise\n",
    "import math\n",
    "from learntools.core import binder\n",
    "binder.bind(globals())\n",
    "from learntools.intro_to_programming.ex2 import *\n",
    "print('Setup complete.')"
   ]
  },
  {
   "cell_type": "markdown",
   "id": "3f6e5d79",
   "metadata": {
    "papermill": {
     "duration": 0.005682,
     "end_time": "2023-01-10T12:34:36.462570",
     "exception": false,
     "start_time": "2023-01-10T12:34:36.456888",
     "status": "completed"
    },
    "tags": []
   },
   "source": [
    "# Question 1\n",
    "\n",
    "In the [House Prices - Advanced Regression Techniques competition](https://www.kaggle.com/c/house-prices-advanced-regression-techniques/overview), you need to use information like the number of bedrooms and bathrooms to predict the price of a house.  Inspired by this competition, you'll write your own function to do this.\n",
    "\n",
    "In the next code cell, create a function `get_expected_cost()` that has two arguments:\n",
    "- `beds` - number of bedrooms \n",
    "- `baths` - number of bathrooms\n",
    "\n",
    "It should return the expected cost of a house with that number of bedrooms and bathrooms.  Assume that:\n",
    "- the expected cost for a house with 0 bedrooms and 0 bathrooms is `80000`.  \n",
    "- each bedroom adds `30000` to the expected cost\n",
    "- each bathroom adds `10000` to the expected cost.\n",
    "\n",
    "For instance, \n",
    "- a house with 1 bedroom and 1 bathroom has an expected cost of `120000`, and \n",
    "- a house with 2 bedrooms and 1 bathroom has an expected cost of `150000`."
   ]
  },
  {
   "cell_type": "code",
   "execution_count": 2,
   "id": "b938f95a",
   "metadata": {
    "execution": {
     "iopub.execute_input": "2023-01-10T12:34:36.476393Z",
     "iopub.status.busy": "2023-01-10T12:34:36.475998Z",
     "iopub.status.idle": "2023-01-10T12:34:36.487871Z",
     "shell.execute_reply": "2023-01-10T12:34:36.486508Z"
    },
    "papermill": {
     "duration": 0.021788,
     "end_time": "2023-01-10T12:34:36.490205",
     "exception": false,
     "start_time": "2023-01-10T12:34:36.468417",
     "status": "completed"
    },
    "tags": []
   },
   "outputs": [
    {
     "data": {
      "application/javascript": [
       "parent.postMessage({\"jupyterEvent\": \"custom.exercise_interaction\", \"data\": {\"outcomeType\": 1, \"valueTowardsCompletion\": 0.2, \"interactionType\": 1, \"questionType\": 2, \"questionId\": \"1_GetExpectedCost\", \"learnToolsVersion\": \"0.3.4\", \"failureMessage\": \"\", \"exceptionClass\": \"\", \"trace\": \"\"}}, \"*\")"
      ],
      "text/plain": [
       "<IPython.core.display.Javascript object>"
      ]
     },
     "metadata": {},
     "output_type": "display_data"
    },
    {
     "data": {
      "text/markdown": [
       "<span style=\"color:#33cc33\">Correct</span>"
      ],
      "text/plain": [
       "Correct"
      ]
     },
     "metadata": {},
     "output_type": "display_data"
    }
   ],
   "source": [
    "# TODO: Complete the function\n",
    "def get_expected_cost(beds, baths):\n",
    "    value = 80000 + (beds * 30000) + (baths * 10000)\n",
    "    return value\n",
    "\n",
    "# Check your answer \n",
    "q1.check()"
   ]
  },
  {
   "cell_type": "code",
   "execution_count": 3,
   "id": "d21603aa",
   "metadata": {
    "execution": {
     "iopub.execute_input": "2023-01-10T12:34:36.504443Z",
     "iopub.status.busy": "2023-01-10T12:34:36.504057Z",
     "iopub.status.idle": "2023-01-10T12:34:36.509315Z",
     "shell.execute_reply": "2023-01-10T12:34:36.508121Z"
    },
    "papermill": {
     "duration": 0.015199,
     "end_time": "2023-01-10T12:34:36.511677",
     "exception": false,
     "start_time": "2023-01-10T12:34:36.496478",
     "status": "completed"
    },
    "tags": []
   },
   "outputs": [],
   "source": [
    "# Uncomment to see a hint\n",
    "#q1.hint()\n",
    "\n",
    "# Uncomment to view the solution\n",
    "#q1.solution()"
   ]
  },
  {
   "cell_type": "markdown",
   "id": "c86ec29d",
   "metadata": {
    "papermill": {
     "duration": 0.005863,
     "end_time": "2023-01-10T12:34:36.523887",
     "exception": false,
     "start_time": "2023-01-10T12:34:36.518024",
     "status": "completed"
    },
    "tags": []
   },
   "source": [
    "# Question 2\n",
    "\n",
    "You are thinking about buying a home and want to get an idea of how much you will spend, based on the number of bedrooms and bathrooms.  You are trying to decide between four different options:\n",
    "- Option 1: house with two bedrooms and three bathrooms\n",
    "- Option 2: house with three bedrooms and two bathrooms\n",
    "- Option 3: house with three bedrooms and three bathrooms\n",
    "- Option 4: house with three bedrooms and four bathrooms\n",
    "\n",
    "Use the `get_expected_cost()` function you defined in question 1 to set `option_1`, `option_2`, `option_3`, and `option_4` to the expected cost of each option."
   ]
  },
  {
   "cell_type": "code",
   "execution_count": 4,
   "id": "ba604778",
   "metadata": {
    "execution": {
     "iopub.execute_input": "2023-01-10T12:34:36.539822Z",
     "iopub.status.busy": "2023-01-10T12:34:36.539367Z",
     "iopub.status.idle": "2023-01-10T12:34:36.550431Z",
     "shell.execute_reply": "2023-01-10T12:34:36.549219Z"
    },
    "papermill": {
     "duration": 0.02289,
     "end_time": "2023-01-10T12:34:36.552892",
     "exception": false,
     "start_time": "2023-01-10T12:34:36.530002",
     "status": "completed"
    },
    "tags": []
   },
   "outputs": [
    {
     "name": "stdout",
     "output_type": "stream",
     "text": [
      "170000\n",
      "190000\n",
      "200000\n",
      "210000\n"
     ]
    },
    {
     "data": {
      "application/javascript": [
       "parent.postMessage({\"jupyterEvent\": \"custom.exercise_interaction\", \"data\": {\"outcomeType\": 1, \"valueTowardsCompletion\": 0.2, \"interactionType\": 1, \"questionType\": 1, \"questionId\": \"2_RunGetExpectedCost\", \"learnToolsVersion\": \"0.3.4\", \"failureMessage\": \"\", \"exceptionClass\": \"\", \"trace\": \"\"}}, \"*\")"
      ],
      "text/plain": [
       "<IPython.core.display.Javascript object>"
      ]
     },
     "metadata": {},
     "output_type": "display_data"
    },
    {
     "data": {
      "text/markdown": [
       "<span style=\"color:#33cc33\">Correct</span>"
      ],
      "text/plain": [
       "Correct"
      ]
     },
     "metadata": {},
     "output_type": "display_data"
    }
   ],
   "source": [
    "# TODO: Use the get_expected_cost function to fill in each value\n",
    "option_one = get_expected_cost(2,3)\n",
    "option_two = get_expected_cost(3,2)\n",
    "option_three = get_expected_cost(3,3)\n",
    "option_four = get_expected_cost(3,4)\n",
    "\n",
    "print(option_one)\n",
    "print(option_two)\n",
    "print(option_three)\n",
    "print(option_four)\n",
    "\n",
    "# Check your answer\n",
    "q2.check()"
   ]
  },
  {
   "cell_type": "code",
   "execution_count": 5,
   "id": "4717a4b8",
   "metadata": {
    "execution": {
     "iopub.execute_input": "2023-01-10T12:34:36.567922Z",
     "iopub.status.busy": "2023-01-10T12:34:36.567191Z",
     "iopub.status.idle": "2023-01-10T12:34:36.571192Z",
     "shell.execute_reply": "2023-01-10T12:34:36.570267Z"
    },
    "papermill": {
     "duration": 0.013856,
     "end_time": "2023-01-10T12:34:36.573219",
     "exception": false,
     "start_time": "2023-01-10T12:34:36.559363",
     "status": "completed"
    },
    "tags": []
   },
   "outputs": [],
   "source": [
    "# Uncomment to see a hint\n",
    "#q2.hint()\n",
    "\n",
    "# Uncomment to view the solution\n",
    "#q2.solution()"
   ]
  },
  {
   "cell_type": "markdown",
   "id": "385cbd06",
   "metadata": {
    "papermill": {
     "duration": 0.006559,
     "end_time": "2023-01-10T12:34:36.586970",
     "exception": false,
     "start_time": "2023-01-10T12:34:36.580411",
     "status": "completed"
    },
    "tags": []
   },
   "source": [
    "# Question 3\n",
    "\n",
    "You're a home decorator, and you'd like to use Python to streamline some of your work.  Specifically, you're creating a tool that you intend to use to calculate the cost of painting a room.\n",
    "\n",
    "As a first step, define a function `get_cost()` that takes as input:\n",
    "- `sqft_walls` = total square feet of walls to be painted\n",
    "- `sqft_ceiling` = square feet of ceiling to be painted\n",
    "- `sqft_per_gallon` = number of square feet that you can cover with one gallon of paint\n",
    "- `cost_per_gallon` = cost (in dollars) of one gallon of paint\n",
    "\n",
    "It should return the cost (in dollars) of putting one coat of paint on all walls and the ceiling.  Assume you can buy the exact amount of paint that you need, so you can buy partial gallons (e.g., if you need 7.523 gallons, you can buy that exact amount, instead of needing to buy 8 gallons and waste some paint).  Do not round your answer."
   ]
  },
  {
   "cell_type": "code",
   "execution_count": 6,
   "id": "31c3778c",
   "metadata": {
    "execution": {
     "iopub.execute_input": "2023-01-10T12:34:36.601725Z",
     "iopub.status.busy": "2023-01-10T12:34:36.601315Z",
     "iopub.status.idle": "2023-01-10T12:34:36.611193Z",
     "shell.execute_reply": "2023-01-10T12:34:36.610052Z"
    },
    "papermill": {
     "duration": 0.020061,
     "end_time": "2023-01-10T12:34:36.613506",
     "exception": false,
     "start_time": "2023-01-10T12:34:36.593445",
     "status": "completed"
    },
    "tags": []
   },
   "outputs": [
    {
     "data": {
      "application/javascript": [
       "parent.postMessage({\"jupyterEvent\": \"custom.exercise_interaction\", \"data\": {\"outcomeType\": 1, \"valueTowardsCompletion\": 0.2, \"interactionType\": 1, \"questionType\": 2, \"questionId\": \"3_GetCostPaint\", \"learnToolsVersion\": \"0.3.4\", \"failureMessage\": \"\", \"exceptionClass\": \"\", \"trace\": \"\"}}, \"*\")"
      ],
      "text/plain": [
       "<IPython.core.display.Javascript object>"
      ]
     },
     "metadata": {},
     "output_type": "display_data"
    },
    {
     "data": {
      "text/markdown": [
       "<span style=\"color:#33cc33\">Correct</span>"
      ],
      "text/plain": [
       "Correct"
      ]
     },
     "metadata": {},
     "output_type": "display_data"
    }
   ],
   "source": [
    "# TODO: Finish defining the function\n",
    "def get_cost(sqft_walls, sqft_ceiling, sqft_per_gallon, cost_per_gallon):\n",
    "    #cost = (sqft_walls + sqft_ceiling) / sqft_per_gallon * cost_per_gallon\n",
    "    total_sqft= sqft_walls + sqft_ceiling\n",
    "    gellons_needed = total_sqft / sqft_per_gallon\n",
    "    cost = cost_per_gallon * gellons_needed\n",
    "    return cost\n",
    "\n",
    "# Check your answer\n",
    "q3.check()"
   ]
  },
  {
   "cell_type": "code",
   "execution_count": 7,
   "id": "d956b540",
   "metadata": {
    "execution": {
     "iopub.execute_input": "2023-01-10T12:34:36.629185Z",
     "iopub.status.busy": "2023-01-10T12:34:36.628357Z",
     "iopub.status.idle": "2023-01-10T12:34:36.633024Z",
     "shell.execute_reply": "2023-01-10T12:34:36.632201Z"
    },
    "papermill": {
     "duration": 0.015146,
     "end_time": "2023-01-10T12:34:36.635387",
     "exception": false,
     "start_time": "2023-01-10T12:34:36.620241",
     "status": "completed"
    },
    "tags": []
   },
   "outputs": [],
   "source": [
    "# Uncomment to see a hint\n",
    "#q3.hint()\n",
    "\n",
    "# Uncomment to view the solution\n",
    "#q3.solution()"
   ]
  },
  {
   "cell_type": "markdown",
   "id": "aeb3bf9d",
   "metadata": {
    "papermill": {
     "duration": 0.007016,
     "end_time": "2023-01-10T12:34:36.649104",
     "exception": false,
     "start_time": "2023-01-10T12:34:36.642088",
     "status": "completed"
    },
    "tags": []
   },
   "source": [
    "# Question 4\n",
    "\n",
    "Use the `get_cost()` function you defined in Question 3 to calculate the cost of applying one coat of paint to a room with:\n",
    "- 432 square feet of walls, and\n",
    "- 144 square feet of ceiling.\n",
    "\n",
    "Assume that one gallon of paint covers 400 square feet and costs $15.  As in Question 3, assume you can buy partial gallons of paint.  Do not round your answer."
   ]
  },
  {
   "cell_type": "code",
   "execution_count": 8,
   "id": "267bc2c8",
   "metadata": {
    "execution": {
     "iopub.execute_input": "2023-01-10T12:34:36.665092Z",
     "iopub.status.busy": "2023-01-10T12:34:36.664268Z",
     "iopub.status.idle": "2023-01-10T12:34:36.673598Z",
     "shell.execute_reply": "2023-01-10T12:34:36.672752Z"
    },
    "papermill": {
     "duration": 0.019827,
     "end_time": "2023-01-10T12:34:36.675887",
     "exception": false,
     "start_time": "2023-01-10T12:34:36.656060",
     "status": "completed"
    },
    "tags": []
   },
   "outputs": [
    {
     "data": {
      "application/javascript": [
       "parent.postMessage({\"jupyterEvent\": \"custom.exercise_interaction\", \"data\": {\"outcomeType\": 1, \"valueTowardsCompletion\": 0.2, \"interactionType\": 1, \"questionType\": 1, \"questionId\": \"4_GetCostPaintExample\", \"learnToolsVersion\": \"0.3.4\", \"failureMessage\": \"\", \"exceptionClass\": \"\", \"trace\": \"\"}}, \"*\")"
      ],
      "text/plain": [
       "<IPython.core.display.Javascript object>"
      ]
     },
     "metadata": {},
     "output_type": "display_data"
    },
    {
     "data": {
      "text/markdown": [
       "<span style=\"color:#33cc33\">Correct</span>"
      ],
      "text/plain": [
       "Correct"
      ]
     },
     "metadata": {},
     "output_type": "display_data"
    }
   ],
   "source": [
    "# TODO: Set the project_cost variable to the cost of the project\n",
    "project_cost = get_cost(432,144,400,15)\n",
    "\n",
    "# Check your answer\n",
    "q4.check()"
   ]
  },
  {
   "cell_type": "code",
   "execution_count": 9,
   "id": "667890a1",
   "metadata": {
    "execution": {
     "iopub.execute_input": "2023-01-10T12:34:36.692556Z",
     "iopub.status.busy": "2023-01-10T12:34:36.691766Z",
     "iopub.status.idle": "2023-01-10T12:34:36.696896Z",
     "shell.execute_reply": "2023-01-10T12:34:36.695979Z"
    },
    "papermill": {
     "duration": 0.016114,
     "end_time": "2023-01-10T12:34:36.699253",
     "exception": false,
     "start_time": "2023-01-10T12:34:36.683139",
     "status": "completed"
    },
    "tags": []
   },
   "outputs": [],
   "source": [
    "# Uncomment to see a hint\n",
    "#q4.hint()\n",
    "\n",
    "# Uncomment to view the solution\n",
    "#q4.solution()"
   ]
  },
  {
   "cell_type": "markdown",
   "id": "d70d1cc0",
   "metadata": {
    "papermill": {
     "duration": 0.006784,
     "end_time": "2023-01-10T12:34:36.713385",
     "exception": false,
     "start_time": "2023-01-10T12:34:36.706601",
     "status": "completed"
    },
    "tags": []
   },
   "source": [
    "# 🌶️ Question 5\n",
    "\n",
    "Now say you can no longer buy fractions of a gallon.  (For instance, if you need 4.3 gallons to do a project, then you have to buy 5 gallons of paint.)\n",
    "\n",
    "With this new scenario, you will create a new function `get_actual_cost` that uses the same inputs and calculates the cost of your project.\n",
    "\n",
    "One function that you'll need to use to do this is `math.ceil()`.  We demonstrate usage of this function in the code cell below.  It takes as a number as input and rounds the number up to the nearest integer.  \n",
    "\n",
    "Run the next code cell to test this function for yourself.  Feel free to change the value of `test_value` and make sure `math.ceil()` returns the number you expect."
   ]
  },
  {
   "cell_type": "code",
   "execution_count": 10,
   "id": "cdd6ca81",
   "metadata": {
    "execution": {
     "iopub.execute_input": "2023-01-10T12:34:36.729762Z",
     "iopub.status.busy": "2023-01-10T12:34:36.728953Z",
     "iopub.status.idle": "2023-01-10T12:34:36.735987Z",
     "shell.execute_reply": "2023-01-10T12:34:36.734581Z"
    },
    "papermill": {
     "duration": 0.018223,
     "end_time": "2023-01-10T12:34:36.738614",
     "exception": false,
     "start_time": "2023-01-10T12:34:36.720391",
     "status": "completed"
    },
    "tags": []
   },
   "outputs": [
    {
     "name": "stdout",
     "output_type": "stream",
     "text": [
      "3\n"
     ]
    }
   ],
   "source": [
    "test_value = 2.17\n",
    "\n",
    "rounded_value = math.ceil(test_value)\n",
    "print(rounded_value)"
   ]
  },
  {
   "cell_type": "markdown",
   "id": "9ebc98ca",
   "metadata": {
    "papermill": {
     "duration": 0.006855,
     "end_time": "2023-01-10T12:34:36.752999",
     "exception": false,
     "start_time": "2023-01-10T12:34:36.746144",
     "status": "completed"
    },
    "tags": []
   },
   "source": [
    "Use the next code cell to define the function `get_actual_cost()`.  You'll need to use the `math.ceil()` function to do this.\n",
    "\n",
    "When answering this question, note that it's completely valid to define a function that makes use of another function.  For instance, we can define a function `round_up_and_divide_by_three` that makes use of the `math.ceil` function:\n",
    "```\n",
    "def round_up_and_divide_by_three(num):\n",
    "    new_value = math.ceil(num)\n",
    "    final_value = new_value / 3\n",
    "    return final_value\n",
    "```"
   ]
  },
  {
   "cell_type": "code",
   "execution_count": 11,
   "id": "b25f1480",
   "metadata": {
    "execution": {
     "iopub.execute_input": "2023-01-10T12:34:36.770371Z",
     "iopub.status.busy": "2023-01-10T12:34:36.769094Z",
     "iopub.status.idle": "2023-01-10T12:34:36.779937Z",
     "shell.execute_reply": "2023-01-10T12:34:36.778783Z"
    },
    "papermill": {
     "duration": 0.021707,
     "end_time": "2023-01-10T12:34:36.782344",
     "exception": false,
     "start_time": "2023-01-10T12:34:36.760637",
     "status": "completed"
    },
    "tags": []
   },
   "outputs": [
    {
     "data": {
      "application/javascript": [
       "parent.postMessage({\"jupyterEvent\": \"custom.exercise_interaction\", \"data\": {\"outcomeType\": 1, \"valueTowardsCompletion\": 0.2, \"interactionType\": 1, \"questionType\": 2, \"questionId\": \"5_NoMoreFractions\", \"learnToolsVersion\": \"0.3.4\", \"failureMessage\": \"\", \"exceptionClass\": \"\", \"trace\": \"\"}}, \"*\")"
      ],
      "text/plain": [
       "<IPython.core.display.Javascript object>"
      ]
     },
     "metadata": {},
     "output_type": "display_data"
    },
    {
     "data": {
      "text/markdown": [
       "<span style=\"color:#33cc33\">Correct</span>"
      ],
      "text/plain": [
       "Correct"
      ]
     },
     "metadata": {},
     "output_type": "display_data"
    }
   ],
   "source": [
    "def get_actual_cost(sqft_walls, sqft_ceiling, sqft_per_gallon, cost_per_gallon):\n",
    "    total_sqft = sqft_walls + sqft_ceiling\n",
    "    gallons_needed = total_sqft / sqft_per_gallon\n",
    "    gallons_to_buy = math.ceil(gallons_needed) \n",
    "    cost = cost_per_gallon * gallons_to_buy\n",
    "    return cost\n",
    "\n",
    "# Check your answer\n",
    "q5.check()"
   ]
  },
  {
   "cell_type": "code",
   "execution_count": 12,
   "id": "9eef906a",
   "metadata": {
    "execution": {
     "iopub.execute_input": "2023-01-10T12:34:36.799255Z",
     "iopub.status.busy": "2023-01-10T12:34:36.798862Z",
     "iopub.status.idle": "2023-01-10T12:34:36.803851Z",
     "shell.execute_reply": "2023-01-10T12:34:36.802760Z"
    },
    "papermill": {
     "duration": 0.015908,
     "end_time": "2023-01-10T12:34:36.806093",
     "exception": false,
     "start_time": "2023-01-10T12:34:36.790185",
     "status": "completed"
    },
    "tags": []
   },
   "outputs": [],
   "source": [
    "# Uncomment to see a hint\n",
    "#q5.hint()\n",
    "\n",
    "# Uncomment to view the solution\n",
    "#q5.solution()"
   ]
  },
  {
   "cell_type": "markdown",
   "id": "a34f2095",
   "metadata": {
    "papermill": {
     "duration": 0.007075,
     "end_time": "2023-01-10T12:34:36.820436",
     "exception": false,
     "start_time": "2023-01-10T12:34:36.813361",
     "status": "completed"
    },
    "tags": []
   },
   "source": [
    "Once your function is verified as correct, run the next code cell to calculate the updated cost of your project."
   ]
  },
  {
   "cell_type": "code",
   "execution_count": 13,
   "id": "0f4d54f1",
   "metadata": {
    "execution": {
     "iopub.execute_input": "2023-01-10T12:34:36.837282Z",
     "iopub.status.busy": "2023-01-10T12:34:36.836878Z",
     "iopub.status.idle": "2023-01-10T12:34:36.844256Z",
     "shell.execute_reply": "2023-01-10T12:34:36.842940Z"
    },
    "papermill": {
     "duration": 0.019102,
     "end_time": "2023-01-10T12:34:36.846785",
     "exception": false,
     "start_time": "2023-01-10T12:34:36.827683",
     "status": "completed"
    },
    "tags": []
   },
   "outputs": [
    {
     "data": {
      "text/plain": [
       "30"
      ]
     },
     "execution_count": 13,
     "metadata": {},
     "output_type": "execute_result"
    }
   ],
   "source": [
    "get_actual_cost(432, 144, 400, 15) "
   ]
  },
  {
   "cell_type": "markdown",
   "id": "f94c2237",
   "metadata": {
    "papermill": {
     "duration": 0.007217,
     "end_time": "2023-01-10T12:34:36.861374",
     "exception": false,
     "start_time": "2023-01-10T12:34:36.854157",
     "status": "completed"
    },
    "tags": []
   },
   "source": [
    "Say you're working with a slightly larger room.  Run the next code cell to calculate the cost of the project."
   ]
  },
  {
   "cell_type": "code",
   "execution_count": 14,
   "id": "ac1b6aeb",
   "metadata": {
    "execution": {
     "iopub.execute_input": "2023-01-10T12:34:36.878796Z",
     "iopub.status.busy": "2023-01-10T12:34:36.877838Z",
     "iopub.status.idle": "2023-01-10T12:34:36.884137Z",
     "shell.execute_reply": "2023-01-10T12:34:36.883296Z"
    },
    "papermill": {
     "duration": 0.017232,
     "end_time": "2023-01-10T12:34:36.886389",
     "exception": false,
     "start_time": "2023-01-10T12:34:36.869157",
     "status": "completed"
    },
    "tags": []
   },
   "outputs": [
    {
     "data": {
      "text/plain": [
       "45"
      ]
     },
     "execution_count": 14,
     "metadata": {},
     "output_type": "execute_result"
    }
   ],
   "source": [
    "get_actual_cost(594, 288, 400, 15) "
   ]
  },
  {
   "cell_type": "markdown",
   "id": "1b4d00e3",
   "metadata": {
    "papermill": {
     "duration": 0.007153,
     "end_time": "2023-01-10T12:34:36.901390",
     "exception": false,
     "start_time": "2023-01-10T12:34:36.894237",
     "status": "completed"
    },
    "tags": []
   },
   "source": [
    "# Keep going\n",
    "\n",
    "Continue to learn about **[data types](https://www.kaggle.com/alexisbcook/data-types)**."
   ]
  },
  {
   "cell_type": "markdown",
   "id": "fa4feae5",
   "metadata": {
    "papermill": {
     "duration": 0.00708,
     "end_time": "2023-01-10T12:34:36.915975",
     "exception": false,
     "start_time": "2023-01-10T12:34:36.908895",
     "status": "completed"
    },
    "tags": []
   },
   "source": [
    "---\n",
    "\n",
    "\n",
    "\n",
    "\n",
    "*Have questions or comments? Visit the [course discussion forum](https://www.kaggle.com/learn/intro-to-programming/discussion) to chat with other learners.*"
   ]
  }
 ],
 "metadata": {
  "kernelspec": {
   "display_name": "Python 3",
   "language": "python",
   "name": "python3"
  },
  "language_info": {
   "codemirror_mode": {
    "name": "ipython",
    "version": 3
   },
   "file_extension": ".py",
   "mimetype": "text/x-python",
   "name": "python",
   "nbconvert_exporter": "python",
   "pygments_lexer": "ipython3",
   "version": "3.7.12"
  },
  "papermill": {
   "default_parameters": {},
   "duration": 9.937764,
   "end_time": "2023-01-10T12:34:37.546005",
   "environment_variables": {},
   "exception": null,
   "input_path": "__notebook__.ipynb",
   "output_path": "__notebook__.ipynb",
   "parameters": {},
   "start_time": "2023-01-10T12:34:27.608241",
   "version": "2.3.4"
  }
 },
 "nbformat": 4,
 "nbformat_minor": 5
}
