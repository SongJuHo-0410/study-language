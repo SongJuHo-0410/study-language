{
 "cells": [
  {
   "cell_type": "markdown",
   "id": "d2996b31",
   "metadata": {
    "papermill": {
     "duration": 0.006918,
     "end_time": "2023-01-07T15:09:12.380407",
     "exception": false,
     "start_time": "2023-01-07T15:09:12.373489",
     "status": "completed"
    },
    "tags": []
   },
   "source": [
    "**This notebook is an exercise in the [Python](https://www.kaggle.com/learn/python) course.  You can reference the tutorial at [this link](https://www.kaggle.com/colinmorris/strings-and-dictionaries).**\n",
    "\n",
    "---\n"
   ]
  },
  {
   "cell_type": "markdown",
   "id": "b0c6229e",
   "metadata": {
    "papermill": {
     "duration": 0.00525,
     "end_time": "2023-01-07T15:09:12.391387",
     "exception": false,
     "start_time": "2023-01-07T15:09:12.386137",
     "status": "completed"
    },
    "tags": []
   },
   "source": [
    "You are almost done with the course. Nice job!\n",
    "\n",
    "We have a couple more interesting problems for you before you go. \n",
    "\n",
    "As always, run the setup code below before working on the questions."
   ]
  },
  {
   "cell_type": "code",
   "execution_count": 1,
   "id": "0442a09a",
   "metadata": {
    "execution": {
     "iopub.execute_input": "2023-01-07T15:09:12.405188Z",
     "iopub.status.busy": "2023-01-07T15:09:12.404167Z",
     "iopub.status.idle": "2023-01-07T15:09:12.450420Z",
     "shell.execute_reply": "2023-01-07T15:09:12.449185Z"
    },
    "papermill": {
     "duration": 0.055853,
     "end_time": "2023-01-07T15:09:12.452966",
     "exception": false,
     "start_time": "2023-01-07T15:09:12.397113",
     "status": "completed"
    },
    "tags": []
   },
   "outputs": [
    {
     "name": "stdout",
     "output_type": "stream",
     "text": [
      "Setup complete.\n"
     ]
    }
   ],
   "source": [
    "from learntools.core import binder; binder.bind(globals())\n",
    "from learntools.python.ex6 import *\n",
    "print('Setup complete.')"
   ]
  },
  {
   "cell_type": "markdown",
   "id": "2777de41",
   "metadata": {
    "papermill": {
     "duration": 0.005232,
     "end_time": "2023-01-07T15:09:12.463691",
     "exception": false,
     "start_time": "2023-01-07T15:09:12.458459",
     "status": "completed"
    },
    "tags": []
   },
   "source": [
    "Let's start with a string lightning round to warm up. What are the lengths of the strings below?\n",
    "\n",
    "For each of the five strings below, predict what `len()` would return when passed that string. Use the variable `length` to record your answer, then run the cell to check whether you were right.  \n",
    "\n",
    "# 0a."
   ]
  },
  {
   "cell_type": "code",
   "execution_count": 2,
   "id": "2ee0dcc9",
   "metadata": {
    "execution": {
     "iopub.execute_input": "2023-01-07T15:09:12.477214Z",
     "iopub.status.busy": "2023-01-07T15:09:12.475925Z",
     "iopub.status.idle": "2023-01-07T15:09:12.487112Z",
     "shell.execute_reply": "2023-01-07T15:09:12.485944Z"
    },
    "papermill": {
     "duration": 0.020112,
     "end_time": "2023-01-07T15:09:12.489305",
     "exception": false,
     "start_time": "2023-01-07T15:09:12.469193",
     "status": "completed"
    },
    "tags": []
   },
   "outputs": [
    {
     "data": {
      "application/javascript": [
       "parent.postMessage({\"jupyterEvent\": \"custom.exercise_interaction\", \"data\": {\"outcomeType\": 1, \"valueTowardsCompletion\": 0.3333333333333333, \"interactionType\": 1, \"questionType\": 1, \"questionId\": \"0.1_ZA\", \"learnToolsVersion\": \"0.3.4\", \"failureMessage\": \"\", \"exceptionClass\": \"\", \"trace\": \"\"}}, \"*\")"
      ],
      "text/plain": [
       "<IPython.core.display.Javascript object>"
      ]
     },
     "metadata": {},
     "output_type": "display_data"
    },
    {
     "data": {
      "text/markdown": [
       "<span style=\"color:#33cc33\">Correct:</span> \n",
       "\n",
       "The empty string has length zero. Note that the empty string is also the only string that Python considers as False when converting to boolean."
      ],
      "text/plain": [
       "Correct: \n",
       "\n",
       "The empty string has length zero. Note that the empty string is also the only string that Python considers as False when converting to boolean."
      ]
     },
     "metadata": {},
     "output_type": "display_data"
    }
   ],
   "source": [
    "a = \"\"\n",
    "length = len(a)\n",
    "q0.a.check()"
   ]
  },
  {
   "cell_type": "markdown",
   "id": "9f0a0250",
   "metadata": {
    "papermill": {
     "duration": 0.005444,
     "end_time": "2023-01-07T15:09:12.500641",
     "exception": false,
     "start_time": "2023-01-07T15:09:12.495197",
     "status": "completed"
    },
    "tags": []
   },
   "source": [
    "# 0b."
   ]
  },
  {
   "cell_type": "code",
   "execution_count": 3,
   "id": "dd12ea28",
   "metadata": {
    "execution": {
     "iopub.execute_input": "2023-01-07T15:09:12.514009Z",
     "iopub.status.busy": "2023-01-07T15:09:12.513530Z",
     "iopub.status.idle": "2023-01-07T15:09:12.522748Z",
     "shell.execute_reply": "2023-01-07T15:09:12.521607Z"
    },
    "papermill": {
     "duration": 0.018781,
     "end_time": "2023-01-07T15:09:12.525167",
     "exception": false,
     "start_time": "2023-01-07T15:09:12.506386",
     "status": "completed"
    },
    "tags": []
   },
   "outputs": [
    {
     "data": {
      "application/javascript": [
       "parent.postMessage({\"jupyterEvent\": \"custom.exercise_interaction\", \"data\": {\"outcomeType\": 1, \"valueTowardsCompletion\": 0.3333333333333333, \"interactionType\": 1, \"questionType\": 1, \"questionId\": \"0.2_ZB\", \"learnToolsVersion\": \"0.3.4\", \"failureMessage\": \"\", \"exceptionClass\": \"\", \"trace\": \"\"}}, \"*\")"
      ],
      "text/plain": [
       "<IPython.core.display.Javascript object>"
      ]
     },
     "metadata": {},
     "output_type": "display_data"
    },
    {
     "data": {
      "text/markdown": [
       "<span style=\"color:#33cc33\">Correct:</span> \n",
       "\n",
       "Keep in mind Python includes spaces (and punctuation) when counting string length."
      ],
      "text/plain": [
       "Correct: \n",
       "\n",
       "Keep in mind Python includes spaces (and punctuation) when counting string length."
      ]
     },
     "metadata": {},
     "output_type": "display_data"
    }
   ],
   "source": [
    "b = \"it's ok\"\n",
    "length = len(b)\n",
    "q0.b.check()"
   ]
  },
  {
   "cell_type": "markdown",
   "id": "3679a118",
   "metadata": {
    "papermill": {
     "duration": 0.005778,
     "end_time": "2023-01-07T15:09:12.537101",
     "exception": false,
     "start_time": "2023-01-07T15:09:12.531323",
     "status": "completed"
    },
    "tags": []
   },
   "source": [
    "# 0c."
   ]
  },
  {
   "cell_type": "code",
   "execution_count": 4,
   "id": "782bc5ba",
   "metadata": {
    "execution": {
     "iopub.execute_input": "2023-01-07T15:09:12.553006Z",
     "iopub.status.busy": "2023-01-07T15:09:12.552560Z",
     "iopub.status.idle": "2023-01-07T15:09:12.561866Z",
     "shell.execute_reply": "2023-01-07T15:09:12.560744Z"
    },
    "papermill": {
     "duration": 0.018842,
     "end_time": "2023-01-07T15:09:12.564042",
     "exception": false,
     "start_time": "2023-01-07T15:09:12.545200",
     "status": "completed"
    },
    "tags": []
   },
   "outputs": [
    {
     "data": {
      "application/javascript": [
       "parent.postMessage({\"jupyterEvent\": \"custom.exercise_interaction\", \"data\": {\"outcomeType\": 1, \"valueTowardsCompletion\": 0.3333333333333333, \"interactionType\": 1, \"questionType\": 1, \"questionId\": \"0.3_ZC\", \"learnToolsVersion\": \"0.3.4\", \"failureMessage\": \"\", \"exceptionClass\": \"\", \"trace\": \"\"}}, \"*\")"
      ],
      "text/plain": [
       "<IPython.core.display.Javascript object>"
      ]
     },
     "metadata": {},
     "output_type": "display_data"
    },
    {
     "data": {
      "text/markdown": [
       "<span style=\"color:#33cc33\">Correct:</span> \n",
       "\n",
       "Even though we use different syntax to create it, the string `c` is identical to `b`. In particular, note that the backslash is not part of the string, so it doesn't contribute to its length."
      ],
      "text/plain": [
       "Correct: \n",
       "\n",
       "Even though we use different syntax to create it, the string `c` is identical to `b`. In particular, note that the backslash is not part of the string, so it doesn't contribute to its length."
      ]
     },
     "metadata": {},
     "output_type": "display_data"
    }
   ],
   "source": [
    "c = 'it\\'s ok'\n",
    "length = len(c)\n",
    "q0.c.check()"
   ]
  },
  {
   "cell_type": "markdown",
   "id": "76d2f004",
   "metadata": {
    "papermill": {
     "duration": 0.006012,
     "end_time": "2023-01-07T15:09:12.576245",
     "exception": false,
     "start_time": "2023-01-07T15:09:12.570233",
     "status": "completed"
    },
    "tags": []
   },
   "source": [
    "# 0d."
   ]
  },
  {
   "cell_type": "code",
   "execution_count": 5,
   "id": "afa868b1",
   "metadata": {
    "execution": {
     "iopub.execute_input": "2023-01-07T15:09:12.591111Z",
     "iopub.status.busy": "2023-01-07T15:09:12.590248Z",
     "iopub.status.idle": "2023-01-07T15:09:12.600016Z",
     "shell.execute_reply": "2023-01-07T15:09:12.599042Z"
    },
    "papermill": {
     "duration": 0.0197,
     "end_time": "2023-01-07T15:09:12.602176",
     "exception": false,
     "start_time": "2023-01-07T15:09:12.582476",
     "status": "completed"
    },
    "tags": []
   },
   "outputs": [
    {
     "data": {
      "application/javascript": [
       "parent.postMessage({\"jupyterEvent\": \"custom.exercise_interaction\", \"data\": {\"outcomeType\": 1, \"valueTowardsCompletion\": 0.3333333333333333, \"interactionType\": 1, \"questionType\": 1, \"questionId\": \"0.4_ZD\", \"learnToolsVersion\": \"0.3.4\", \"failureMessage\": \"\", \"exceptionClass\": \"\", \"trace\": \"\"}}, \"*\")"
      ],
      "text/plain": [
       "<IPython.core.display.Javascript object>"
      ]
     },
     "metadata": {},
     "output_type": "display_data"
    },
    {
     "data": {
      "text/markdown": [
       "<span style=\"color:#33cc33\">Correct:</span> \n",
       "\n",
       "The fact that this string was created using triple-quote syntax doesn't make any difference in terms of its content or length. This string is exactly the same as `'hey'`."
      ],
      "text/plain": [
       "Correct: \n",
       "\n",
       "The fact that this string was created using triple-quote syntax doesn't make any difference in terms of its content or length. This string is exactly the same as `'hey'`."
      ]
     },
     "metadata": {},
     "output_type": "display_data"
    }
   ],
   "source": [
    "d = \"\"\"hey\"\"\"\n",
    "length = len(d)\n",
    "q0.d.check()"
   ]
  },
  {
   "cell_type": "markdown",
   "id": "b8ec557f",
   "metadata": {
    "papermill": {
     "duration": 0.006368,
     "end_time": "2023-01-07T15:09:12.614797",
     "exception": false,
     "start_time": "2023-01-07T15:09:12.608429",
     "status": "completed"
    },
    "tags": []
   },
   "source": [
    "# 0e."
   ]
  },
  {
   "cell_type": "code",
   "execution_count": 6,
   "id": "9748cf9e",
   "metadata": {
    "execution": {
     "iopub.execute_input": "2023-01-07T15:09:12.629716Z",
     "iopub.status.busy": "2023-01-07T15:09:12.629309Z",
     "iopub.status.idle": "2023-01-07T15:09:12.638534Z",
     "shell.execute_reply": "2023-01-07T15:09:12.637378Z"
    },
    "papermill": {
     "duration": 0.019296,
     "end_time": "2023-01-07T15:09:12.640705",
     "exception": false,
     "start_time": "2023-01-07T15:09:12.621409",
     "status": "completed"
    },
    "tags": []
   },
   "outputs": [
    {
     "data": {
      "application/javascript": [
       "parent.postMessage({\"jupyterEvent\": \"custom.exercise_interaction\", \"data\": {\"outcomeType\": 1, \"valueTowardsCompletion\": 0.3333333333333333, \"interactionType\": 1, \"questionType\": 1, \"questionId\": \"0.5_ZE\", \"learnToolsVersion\": \"0.3.4\", \"failureMessage\": \"\", \"exceptionClass\": \"\", \"trace\": \"\"}}, \"*\")"
      ],
      "text/plain": [
       "<IPython.core.display.Javascript object>"
      ]
     },
     "metadata": {},
     "output_type": "display_data"
    },
    {
     "data": {
      "text/markdown": [
       "<span style=\"color:#33cc33\">Correct:</span> \n",
       "\n",
       "The newline character is just a single character! (Even though we represent it to Python using a combination of two characters.)"
      ],
      "text/plain": [
       "Correct: \n",
       "\n",
       "The newline character is just a single character! (Even though we represent it to Python using a combination of two characters.)"
      ]
     },
     "metadata": {},
     "output_type": "display_data"
    }
   ],
   "source": [
    "e = '\\n'\n",
    "length = len(e)\n",
    "q0.e.check()"
   ]
  },
  {
   "cell_type": "markdown",
   "id": "09488102",
   "metadata": {
    "papermill": {
     "duration": 0.006494,
     "end_time": "2023-01-07T15:09:12.653928",
     "exception": false,
     "start_time": "2023-01-07T15:09:12.647434",
     "status": "completed"
    },
    "tags": []
   },
   "source": [
    "# 1.\n",
    "\n",
    "There is a saying that \"Data scientists spend 80% of their time cleaning data, and 20% of their time complaining about cleaning data.\" Let's see if you can write a function to help clean US zip code data. Given a string, it should return whether or not that string represents a valid zip code. For our purposes, a valid zip code is any string consisting of exactly 5 digits.\n",
    "\n",
    "HINT: `str` has a method that will be useful here. Use `help(str)` to review a list of string methods."
   ]
  },
  {
   "cell_type": "code",
   "execution_count": 7,
   "id": "04faa98c",
   "metadata": {
    "execution": {
     "iopub.execute_input": "2023-01-07T15:09:12.669119Z",
     "iopub.status.busy": "2023-01-07T15:09:12.668373Z",
     "iopub.status.idle": "2023-01-07T15:09:12.678026Z",
     "shell.execute_reply": "2023-01-07T15:09:12.676903Z"
    },
    "papermill": {
     "duration": 0.019755,
     "end_time": "2023-01-07T15:09:12.680269",
     "exception": false,
     "start_time": "2023-01-07T15:09:12.660514",
     "status": "completed"
    },
    "tags": []
   },
   "outputs": [
    {
     "data": {
      "application/javascript": [
       "parent.postMessage({\"jupyterEvent\": \"custom.exercise_interaction\", \"data\": {\"outcomeType\": 1, \"valueTowardsCompletion\": 0.3333333333333333, \"interactionType\": 1, \"questionType\": 2, \"questionId\": \"1_ZipValidator\", \"learnToolsVersion\": \"0.3.4\", \"failureMessage\": \"\", \"exceptionClass\": \"\", \"trace\": \"\"}}, \"*\")"
      ],
      "text/plain": [
       "<IPython.core.display.Javascript object>"
      ]
     },
     "metadata": {},
     "output_type": "display_data"
    },
    {
     "data": {
      "text/markdown": [
       "<span style=\"color:#33cc33\">Correct</span>"
      ],
      "text/plain": [
       "Correct"
      ]
     },
     "metadata": {},
     "output_type": "display_data"
    }
   ],
   "source": [
    "def is_valid_zip(zip_code):\n",
    "    \"\"\"Returns whether the input string is a valid (5 digit) zip code\n",
    "    \"\"\"\n",
    "    #return str.isdigit(zip_code) and len(zip_code)\n",
    "    return len(zip_code) == 5 and zip_code.isdigit()\n",
    "\n",
    "# Check your answer\n",
    "q1.check()"
   ]
  },
  {
   "cell_type": "code",
   "execution_count": 8,
   "id": "60f82f2a",
   "metadata": {
    "execution": {
     "iopub.execute_input": "2023-01-07T15:09:12.696301Z",
     "iopub.status.busy": "2023-01-07T15:09:12.695784Z",
     "iopub.status.idle": "2023-01-07T15:09:12.700229Z",
     "shell.execute_reply": "2023-01-07T15:09:12.699030Z"
    },
    "papermill": {
     "duration": 0.015178,
     "end_time": "2023-01-07T15:09:12.702446",
     "exception": false,
     "start_time": "2023-01-07T15:09:12.687268",
     "status": "completed"
    },
    "tags": []
   },
   "outputs": [],
   "source": [
    "#q1.hint()\n",
    "#q1.solution()"
   ]
  },
  {
   "cell_type": "markdown",
   "id": "a8bc696e",
   "metadata": {
    "papermill": {
     "duration": 0.006525,
     "end_time": "2023-01-07T15:09:12.715757",
     "exception": false,
     "start_time": "2023-01-07T15:09:12.709232",
     "status": "completed"
    },
    "tags": []
   },
   "source": [
    "# 2.\n",
    "\n",
    "A researcher has gathered thousands of news articles. But she wants to focus her attention on articles including a specific word. Complete the function below to help her filter her list of articles.\n",
    "\n",
    "Your function should meet the following criteria:\n",
    "\n",
    "- Do not include documents where the keyword string shows up only as a part of a larger word. For example, if she were looking for the keyword “closed”, you would not include the string “enclosed.” \n",
    "- She does not want you to distinguish upper case from lower case letters. So the phrase “Closed the case.” would be included when the keyword is “closed”\n",
    "- Do not let periods or commas affect what is matched. “It is closed.” would be included when the keyword is “closed”. But you can assume there are no other types of punctuation."
   ]
  },
  {
   "cell_type": "code",
   "execution_count": 9,
   "id": "5ec13f7a",
   "metadata": {
    "execution": {
     "iopub.execute_input": "2023-01-07T15:09:12.731306Z",
     "iopub.status.busy": "2023-01-07T15:09:12.730926Z",
     "iopub.status.idle": "2023-01-07T15:09:12.741584Z",
     "shell.execute_reply": "2023-01-07T15:09:12.740504Z"
    },
    "papermill": {
     "duration": 0.021436,
     "end_time": "2023-01-07T15:09:12.743988",
     "exception": false,
     "start_time": "2023-01-07T15:09:12.722552",
     "status": "completed"
    },
    "tags": []
   },
   "outputs": [
    {
     "data": {
      "application/javascript": [
       "parent.postMessage({\"jupyterEvent\": \"custom.exercise_interaction\", \"data\": {\"outcomeType\": 1, \"valueTowardsCompletion\": 0.3333333333333333, \"interactionType\": 1, \"questionType\": 2, \"questionId\": \"2_WordSearch\", \"learnToolsVersion\": \"0.3.4\", \"failureMessage\": \"\", \"exceptionClass\": \"\", \"trace\": \"\"}}, \"*\")"
      ],
      "text/plain": [
       "<IPython.core.display.Javascript object>"
      ]
     },
     "metadata": {},
     "output_type": "display_data"
    },
    {
     "data": {
      "text/markdown": [
       "<span style=\"color:#33cc33\">Correct</span>"
      ],
      "text/plain": [
       "Correct"
      ]
     },
     "metadata": {},
     "output_type": "display_data"
    }
   ],
   "source": [
    "def word_search(doc_list, keyword):\n",
    "    \"\"\"\n",
    "    Takes a list of documents (each document is a string) and a keyword. \n",
    "    Returns list of the index values into the original list for all documents \n",
    "    containing the keyword.\n",
    "\n",
    "    Example:\n",
    "    doc_list = [\"The Learn Python Challenge Casino.\", \"They bought a car\", \"Casinoville\"]\n",
    "    >>> word_search(doc_list, 'casino')\n",
    "    >>> [0]\n",
    "    \"\"\"\n",
    "    indices = [] \n",
    "    \n",
    "    for i, doc in enumerate(doc_list):\n",
    "        tokens = doc.split()\n",
    "        normalized = [token.rstrip('.,').lower() for token in tokens]\n",
    "        if keyword.lower() in normalized:\n",
    "            indices.append(i)\n",
    "    return indices\n",
    "\n",
    "# Check your answer\n",
    "q2.check()"
   ]
  },
  {
   "cell_type": "code",
   "execution_count": 10,
   "id": "0641e3dc",
   "metadata": {
    "execution": {
     "iopub.execute_input": "2023-01-07T15:09:12.760208Z",
     "iopub.status.busy": "2023-01-07T15:09:12.759767Z",
     "iopub.status.idle": "2023-01-07T15:09:12.764442Z",
     "shell.execute_reply": "2023-01-07T15:09:12.763170Z"
    },
    "papermill": {
     "duration": 0.015468,
     "end_time": "2023-01-07T15:09:12.766639",
     "exception": false,
     "start_time": "2023-01-07T15:09:12.751171",
     "status": "completed"
    },
    "tags": []
   },
   "outputs": [],
   "source": [
    "#q2.hint()\n",
    "#q2.solution()"
   ]
  },
  {
   "cell_type": "markdown",
   "id": "7a5a8a6f",
   "metadata": {
    "papermill": {
     "duration": 0.007643,
     "end_time": "2023-01-07T15:09:12.782593",
     "exception": false,
     "start_time": "2023-01-07T15:09:12.774950",
     "status": "completed"
    },
    "tags": []
   },
   "source": [
    "# 3.\n",
    "\n",
    "Now the researcher wants to supply multiple keywords to search for. Complete the function below to help her.\n",
    "\n",
    "(You're encouraged to use the `word_search` function you just wrote when implementing this function. Reusing code in this way makes your programs more robust and readable - and it saves typing!)"
   ]
  },
  {
   "cell_type": "code",
   "execution_count": 11,
   "id": "85c7a93a",
   "metadata": {
    "execution": {
     "iopub.execute_input": "2023-01-07T15:09:12.801452Z",
     "iopub.status.busy": "2023-01-07T15:09:12.800394Z",
     "iopub.status.idle": "2023-01-07T15:09:12.813585Z",
     "shell.execute_reply": "2023-01-07T15:09:12.812439Z"
    },
    "papermill": {
     "duration": 0.025098,
     "end_time": "2023-01-07T15:09:12.815924",
     "exception": false,
     "start_time": "2023-01-07T15:09:12.790826",
     "status": "completed"
    },
    "tags": []
   },
   "outputs": [
    {
     "data": {
      "application/javascript": [
       "parent.postMessage({\"jupyterEvent\": \"custom.exercise_interaction\", \"data\": {\"outcomeType\": 1, \"valueTowardsCompletion\": 0.3333333333333333, \"interactionType\": 1, \"questionType\": 2, \"questionId\": \"3_MultiWordSearch\", \"learnToolsVersion\": \"0.3.4\", \"failureMessage\": \"\", \"exceptionClass\": \"\", \"trace\": \"\"}}, \"*\")"
      ],
      "text/plain": [
       "<IPython.core.display.Javascript object>"
      ]
     },
     "metadata": {},
     "output_type": "display_data"
    },
    {
     "data": {
      "text/markdown": [
       "<span style=\"color:#33cc33\">Correct</span>"
      ],
      "text/plain": [
       "Correct"
      ]
     },
     "metadata": {},
     "output_type": "display_data"
    }
   ],
   "source": [
    "def multi_word_search(doc_list, keywords):\n",
    "    \"\"\"\n",
    "    Takes list of documents (each document is a string) and a list of keywords.  \n",
    "    Returns a dictionary where each key is a keyword, and the value is a list of indices\n",
    "    (from doc_list) of the documents containing that keyword\n",
    "\n",
    "    >>> doc_list = [\"The Learn Python Challenge Casino.\", \"They bought a car and a casino\", \"Casinoville\"]\n",
    "    >>> keywords = ['casino', 'they']\n",
    "    >>> multi_word_search(doc_list, keywords)\n",
    "    {'casino': [0, 1], 'they': [1]}\n",
    "    \"\"\"\n",
    "    keyword_to_indices = {}\n",
    "    for keyword in keywords:\n",
    "        keyword_to_indices[keyword] = word_search(doc_list, keyword)\n",
    "    return keyword_to_indices\n",
    "\n",
    "# Check your answer\n",
    "q3.check()"
   ]
  },
  {
   "cell_type": "code",
   "execution_count": 12,
   "id": "a64f925e",
   "metadata": {
    "execution": {
     "iopub.execute_input": "2023-01-07T15:09:12.834793Z",
     "iopub.status.busy": "2023-01-07T15:09:12.833871Z",
     "iopub.status.idle": "2023-01-07T15:09:12.840451Z",
     "shell.execute_reply": "2023-01-07T15:09:12.838927Z"
    },
    "papermill": {
     "duration": 0.020489,
     "end_time": "2023-01-07T15:09:12.843722",
     "exception": false,
     "start_time": "2023-01-07T15:09:12.823233",
     "status": "completed"
    },
    "tags": []
   },
   "outputs": [],
   "source": [
    "#q3.solution()"
   ]
  },
  {
   "cell_type": "markdown",
   "id": "5804f251",
   "metadata": {
    "papermill": {
     "duration": 0.008604,
     "end_time": "2023-01-07T15:09:12.862067",
     "exception": false,
     "start_time": "2023-01-07T15:09:12.853463",
     "status": "completed"
    },
    "tags": []
   },
   "source": [
    "# Keep Going\n",
    "\n",
    "You've learned a lot. But even the best programmers rely heavily on \"libraries\" of code from other programmers. You'll learn about that in **[the last lesson](https://www.kaggle.com/colinmorris/working-with-external-libraries)**.\n"
   ]
  },
  {
   "cell_type": "markdown",
   "id": "22119d5c",
   "metadata": {
    "papermill": {
     "duration": 0.007095,
     "end_time": "2023-01-07T15:09:12.877305",
     "exception": false,
     "start_time": "2023-01-07T15:09:12.870210",
     "status": "completed"
    },
    "tags": []
   },
   "source": [
    "---\n",
    "\n",
    "\n",
    "\n",
    "\n",
    "*Have questions or comments? Visit the [course discussion forum](https://www.kaggle.com/learn/python/discussion) to chat with other learners.*"
   ]
  }
 ],
 "metadata": {
  "kernelspec": {
   "display_name": "Python 3",
   "language": "python",
   "name": "python3"
  },
  "language_info": {
   "codemirror_mode": {
    "name": "ipython",
    "version": 3
   },
   "file_extension": ".py",
   "mimetype": "text/x-python",
   "name": "python",
   "nbconvert_exporter": "python",
   "pygments_lexer": "ipython3",
   "version": "3.7.12"
  },
  "papermill": {
   "default_parameters": {},
   "duration": 9.645466,
   "end_time": "2023-01-07T15:09:13.605586",
   "environment_variables": {},
   "exception": null,
   "input_path": "__notebook__.ipynb",
   "output_path": "__notebook__.ipynb",
   "parameters": {},
   "start_time": "2023-01-07T15:09:03.960120",
   "version": "2.3.4"
  }
 },
 "nbformat": 4,
 "nbformat_minor": 5
}
