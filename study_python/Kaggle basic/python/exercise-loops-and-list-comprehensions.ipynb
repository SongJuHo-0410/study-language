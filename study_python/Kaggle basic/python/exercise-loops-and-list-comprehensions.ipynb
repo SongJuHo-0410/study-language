{
 "cells": [
  {
   "cell_type": "markdown",
   "id": "10155133",
   "metadata": {
    "papermill": {
     "duration": 0.006611,
     "end_time": "2023-01-06T16:01:09.624185",
     "exception": false,
     "start_time": "2023-01-06T16:01:09.617574",
     "status": "completed"
    },
    "tags": []
   },
   "source": [
    "**This notebook is an exercise in the [Python](https://www.kaggle.com/learn/python) course.  You can reference the tutorial at [this link](https://www.kaggle.com/colinmorris/loops-and-list-comprehensions).**\n",
    "\n",
    "---\n"
   ]
  },
  {
   "cell_type": "markdown",
   "id": "731de324",
   "metadata": {
    "papermill": {
     "duration": 0.00504,
     "end_time": "2023-01-06T16:01:09.634780",
     "exception": false,
     "start_time": "2023-01-06T16:01:09.629740",
     "status": "completed"
    },
    "tags": []
   },
   "source": [
    "With all you've learned, you can start writing much more interesting programs. See if you can solve the problems below.\n",
    "\n",
    "As always, run the setup code below before working on the questions."
   ]
  },
  {
   "cell_type": "code",
   "execution_count": 1,
   "id": "38a85a43",
   "metadata": {
    "execution": {
     "iopub.execute_input": "2023-01-06T16:01:09.648377Z",
     "iopub.status.busy": "2023-01-06T16:01:09.647305Z",
     "iopub.status.idle": "2023-01-06T16:01:09.694364Z",
     "shell.execute_reply": "2023-01-06T16:01:09.693098Z"
    },
    "papermill": {
     "duration": 0.057029,
     "end_time": "2023-01-06T16:01:09.697159",
     "exception": false,
     "start_time": "2023-01-06T16:01:09.640130",
     "status": "completed"
    },
    "tags": []
   },
   "outputs": [
    {
     "name": "stdout",
     "output_type": "stream",
     "text": [
      "Setup complete.\n"
     ]
    }
   ],
   "source": [
    "from learntools.core import binder; binder.bind(globals())\n",
    "from learntools.python.ex5 import *\n",
    "print('Setup complete.')"
   ]
  },
  {
   "cell_type": "markdown",
   "id": "ecef4d4c",
   "metadata": {
    "papermill": {
     "duration": 0.005233,
     "end_time": "2023-01-06T16:01:09.707976",
     "exception": false,
     "start_time": "2023-01-06T16:01:09.702743",
     "status": "completed"
    },
    "tags": []
   },
   "source": [
    "# 1.\n",
    "\n",
    "Have you ever felt debugging involved a bit of luck? The following program has a bug. Try to identify the bug and fix it."
   ]
  },
  {
   "cell_type": "code",
   "execution_count": 2,
   "id": "cab949ac",
   "metadata": {
    "execution": {
     "iopub.execute_input": "2023-01-06T16:01:09.720953Z",
     "iopub.status.busy": "2023-01-06T16:01:09.720029Z",
     "iopub.status.idle": "2023-01-06T16:01:09.726326Z",
     "shell.execute_reply": "2023-01-06T16:01:09.725106Z"
    },
    "papermill": {
     "duration": 0.015364,
     "end_time": "2023-01-06T16:01:09.728704",
     "exception": false,
     "start_time": "2023-01-06T16:01:09.713340",
     "status": "completed"
    },
    "tags": []
   },
   "outputs": [],
   "source": [
    "def has_lucky_number(nums):\n",
    "    \"\"\"Return whether the given list of numbers is lucky. A lucky list contains\n",
    "    at least one number divisible by 7.\n",
    "    \"\"\"\n",
    "    for num in nums:\n",
    "        if num % 7 == 0:\n",
    "            return True\n",
    "        else:\n",
    "            return False"
   ]
  },
  {
   "cell_type": "markdown",
   "id": "52923e1d",
   "metadata": {
    "papermill": {
     "duration": 0.005155,
     "end_time": "2023-01-06T16:01:09.739492",
     "exception": false,
     "start_time": "2023-01-06T16:01:09.734337",
     "status": "completed"
    },
    "tags": []
   },
   "source": [
    "Try to identify the bug and fix it in the cell below:"
   ]
  },
  {
   "cell_type": "code",
   "execution_count": 3,
   "id": "02a7a354",
   "metadata": {
    "execution": {
     "iopub.execute_input": "2023-01-06T16:01:09.752238Z",
     "iopub.status.busy": "2023-01-06T16:01:09.751793Z",
     "iopub.status.idle": "2023-01-06T16:01:09.762680Z",
     "shell.execute_reply": "2023-01-06T16:01:09.761905Z"
    },
    "papermill": {
     "duration": 0.019711,
     "end_time": "2023-01-06T16:01:09.764576",
     "exception": false,
     "start_time": "2023-01-06T16:01:09.744865",
     "status": "completed"
    },
    "tags": []
   },
   "outputs": [
    {
     "data": {
      "application/javascript": [
       "parent.postMessage({\"jupyterEvent\": \"custom.exercise_interaction\", \"data\": {\"outcomeType\": 1, \"valueTowardsCompletion\": 0.25, \"interactionType\": 1, \"questionType\": 2, \"questionId\": \"1_EarlyExitDebugging\", \"learnToolsVersion\": \"0.3.4\", \"failureMessage\": \"\", \"exceptionClass\": \"\", \"trace\": \"\"}}, \"*\")"
      ],
      "text/plain": [
       "<IPython.core.display.Javascript object>"
      ]
     },
     "metadata": {},
     "output_type": "display_data"
    },
    {
     "data": {
      "text/markdown": [
       "<span style=\"color:#33cc33\">Correct:</span> \n",
       "\n",
       "Remember that `return` causes a function to exit immediately. So our original implementation always ran for just one iteration. We can only return `False` if we've looked at every element of the list (and confirmed that none of them are lucky). Though we can return early if the answer is `True`:\n",
       "\n",
       "```python\n",
       "def has_lucky_number(nums):\n",
       "    for num in nums:\n",
       "        if num % 7 == 0:\n",
       "            return True\n",
       "    # We've exhausted the list without finding a lucky number\n",
       "    return False\n",
       "```\n",
       "\n",
       "Here's a one-line version using a list comprehension with Python's `any` function (you can read about what it does by calling `help(any)`):\n",
       "\n",
       "```python\n",
       "def has_lucky_number(nums):\n",
       "    return any([num % 7 == 0 for num in nums])\n",
       "```\n"
      ],
      "text/plain": [
       "Correct: \n",
       "\n",
       "Remember that `return` causes a function to exit immediately. So our original implementation always ran for just one iteration. We can only return `False` if we've looked at every element of the list (and confirmed that none of them are lucky). Though we can return early if the answer is `True`:\n",
       "\n",
       "```python\n",
       "def has_lucky_number(nums):\n",
       "    for num in nums:\n",
       "        if num % 7 == 0:\n",
       "            return True\n",
       "    # We've exhausted the list without finding a lucky number\n",
       "    return False\n",
       "```\n",
       "\n",
       "Here's a one-line version using a list comprehension with Python's `any` function (you can read about what it does by calling `help(any)`):\n",
       "\n",
       "```python\n",
       "def has_lucky_number(nums):\n",
       "    return any([num % 7 == 0 for num in nums])\n",
       "```"
      ]
     },
     "metadata": {},
     "output_type": "display_data"
    }
   ],
   "source": [
    "def has_lucky_number(nums):\n",
    "    \"\"\"Return whether the given list of numbers is lucky. A lucky list contains\n",
    "    at least one number divisible by 7.\n",
    "    \"\"\"\n",
    "    \"\"\"\n",
    "    for num in nums:\n",
    "        if num % 7 == 0:\n",
    "            return True\n",
    "    return False\n",
    "    \"\"\"\n",
    "    \n",
    "    return any([num % 7 == 0 for num in nums])\n",
    "\n",
    "# Check your answer\n",
    "q1.check()"
   ]
  },
  {
   "cell_type": "code",
   "execution_count": 4,
   "id": "d851a6c3",
   "metadata": {
    "execution": {
     "iopub.execute_input": "2023-01-06T16:01:09.778281Z",
     "iopub.status.busy": "2023-01-06T16:01:09.777614Z",
     "iopub.status.idle": "2023-01-06T16:01:09.781748Z",
     "shell.execute_reply": "2023-01-06T16:01:09.780730Z"
    },
    "papermill": {
     "duration": 0.013189,
     "end_time": "2023-01-06T16:01:09.783890",
     "exception": false,
     "start_time": "2023-01-06T16:01:09.770701",
     "status": "completed"
    },
    "tags": []
   },
   "outputs": [],
   "source": [
    "#q1.hint()\n",
    "#q1.solution()"
   ]
  },
  {
   "cell_type": "markdown",
   "id": "d174380f",
   "metadata": {
    "papermill": {
     "duration": 0.005554,
     "end_time": "2023-01-06T16:01:09.796956",
     "exception": false,
     "start_time": "2023-01-06T16:01:09.791402",
     "status": "completed"
    },
    "tags": []
   },
   "source": [
    "# 2.\n",
    "Look at the Python expression below. What do you think we'll get when we run it? When you've made your prediction, uncomment the code and run the cell to see if you were right."
   ]
  },
  {
   "cell_type": "code",
   "execution_count": 5,
   "id": "9c1f0726",
   "metadata": {
    "execution": {
     "iopub.execute_input": "2023-01-06T16:01:09.810595Z",
     "iopub.status.busy": "2023-01-06T16:01:09.809917Z",
     "iopub.status.idle": "2023-01-06T16:01:09.813991Z",
     "shell.execute_reply": "2023-01-06T16:01:09.813200Z"
    },
    "papermill": {
     "duration": 0.013796,
     "end_time": "2023-01-06T16:01:09.816526",
     "exception": false,
     "start_time": "2023-01-06T16:01:09.802730",
     "status": "completed"
    },
    "tags": []
   },
   "outputs": [],
   "source": [
    "#[1, 2, 3, 4] > 2"
   ]
  },
  {
   "cell_type": "markdown",
   "id": "93b171ab",
   "metadata": {
    "papermill": {
     "duration": 0.005484,
     "end_time": "2023-01-06T16:01:09.827964",
     "exception": false,
     "start_time": "2023-01-06T16:01:09.822480",
     "status": "completed"
    },
    "tags": []
   },
   "source": [
    "R and Python have some libraries (like numpy and pandas) compare each element of the list to 2 (i.e. do an 'element-wise' comparison) and give us a list of booleans like `[False, False, True, True]`. \n",
    "\n",
    "Implement a function that reproduces this behaviour, returning a list of booleans corresponding to whether the corresponding element is greater than n."
   ]
  },
  {
   "cell_type": "code",
   "execution_count": 6,
   "id": "893d0241",
   "metadata": {
    "execution": {
     "iopub.execute_input": "2023-01-06T16:01:09.841615Z",
     "iopub.status.busy": "2023-01-06T16:01:09.840924Z",
     "iopub.status.idle": "2023-01-06T16:01:09.850159Z",
     "shell.execute_reply": "2023-01-06T16:01:09.849295Z"
    },
    "papermill": {
     "duration": 0.018484,
     "end_time": "2023-01-06T16:01:09.852234",
     "exception": false,
     "start_time": "2023-01-06T16:01:09.833750",
     "status": "completed"
    },
    "tags": []
   },
   "outputs": [
    {
     "data": {
      "application/javascript": [
       "parent.postMessage({\"jupyterEvent\": \"custom.exercise_interaction\", \"data\": {\"outcomeType\": 1, \"valueTowardsCompletion\": 0.25, \"interactionType\": 1, \"questionType\": 2, \"questionId\": \"2_ElementWiseComparison\", \"learnToolsVersion\": \"0.3.4\", \"failureMessage\": \"\", \"exceptionClass\": \"\", \"trace\": \"\"}}, \"*\")"
      ],
      "text/plain": [
       "<IPython.core.display.Javascript object>"
      ]
     },
     "metadata": {},
     "output_type": "display_data"
    },
    {
     "data": {
      "text/markdown": [
       "<span style=\"color:#33cc33\">Correct:</span> \n",
       "\n",
       "Here's one solution:\n",
       "```python\n",
       "def elementwise_greater_than(L, thresh):\n",
       "    res = []\n",
       "    for ele in L:\n",
       "        res.append(ele > thresh)\n",
       "    return res\n",
       "```\n",
       "\n",
       "And here's the list comprehension version:\n",
       "```python\n",
       "def elementwise_greater_than(L, thresh):\n",
       "    return [ele > thresh for ele in L]\n",
       "```\n"
      ],
      "text/plain": [
       "Correct: \n",
       "\n",
       "Here's one solution:\n",
       "```python\n",
       "def elementwise_greater_than(L, thresh):\n",
       "    res = []\n",
       "    for ele in L:\n",
       "        res.append(ele > thresh)\n",
       "    return res\n",
       "```\n",
       "\n",
       "And here's the list comprehension version:\n",
       "```python\n",
       "def elementwise_greater_than(L, thresh):\n",
       "    return [ele > thresh for ele in L]\n",
       "```"
      ]
     },
     "metadata": {},
     "output_type": "display_data"
    }
   ],
   "source": [
    "def elementwise_greater_than(L, thresh):\n",
    "    \"\"\"Return a list with the same length as L, where the value at index i is \n",
    "    True if L[i] is greater than thresh, and False otherwise.\n",
    "    \n",
    "    >>> elementwise_greater_than([1, 2, 3, 4], 2)\n",
    "    [False, False, True, True]\n",
    "    \"\"\"\n",
    "    \"\"\"\n",
    "    res = []\n",
    "    for i in L:\n",
    "        if i > thresh:\n",
    "             res.append(True)\n",
    "        else:\n",
    "             res.append(False)\n",
    "    return res\n",
    "    \"\"\"\n",
    "    \n",
    "    return [i > thresh for i in L]\n",
    "\n",
    "# Check your answer\n",
    "q2.check()"
   ]
  },
  {
   "cell_type": "code",
   "execution_count": 7,
   "id": "1c092236",
   "metadata": {
    "execution": {
     "iopub.execute_input": "2023-01-06T16:01:09.866366Z",
     "iopub.status.busy": "2023-01-06T16:01:09.865518Z",
     "iopub.status.idle": "2023-01-06T16:01:09.870717Z",
     "shell.execute_reply": "2023-01-06T16:01:09.869555Z"
    },
    "papermill": {
     "duration": 0.014954,
     "end_time": "2023-01-06T16:01:09.873160",
     "exception": false,
     "start_time": "2023-01-06T16:01:09.858206",
     "status": "completed"
    },
    "tags": []
   },
   "outputs": [],
   "source": [
    "#q2.solution()"
   ]
  },
  {
   "cell_type": "markdown",
   "id": "ffcdf14c",
   "metadata": {
    "papermill": {
     "duration": 0.00576,
     "end_time": "2023-01-06T16:01:09.885081",
     "exception": false,
     "start_time": "2023-01-06T16:01:09.879321",
     "status": "completed"
    },
    "tags": []
   },
   "source": [
    "# 3.\n",
    "\n",
    "Complete the body of the function below according to its docstring."
   ]
  },
  {
   "cell_type": "code",
   "execution_count": 8,
   "id": "243c5fcb",
   "metadata": {
    "execution": {
     "iopub.execute_input": "2023-01-06T16:01:09.899229Z",
     "iopub.status.busy": "2023-01-06T16:01:09.898767Z",
     "iopub.status.idle": "2023-01-06T16:01:09.908444Z",
     "shell.execute_reply": "2023-01-06T16:01:09.907373Z"
    },
    "papermill": {
     "duration": 0.019344,
     "end_time": "2023-01-06T16:01:09.910472",
     "exception": false,
     "start_time": "2023-01-06T16:01:09.891128",
     "status": "completed"
    },
    "tags": []
   },
   "outputs": [
    {
     "data": {
      "application/javascript": [
       "parent.postMessage({\"jupyterEvent\": \"custom.exercise_interaction\", \"data\": {\"outcomeType\": 1, \"valueTowardsCompletion\": 0.25, \"interactionType\": 1, \"questionType\": 2, \"questionId\": \"3_BoringMenu\", \"learnToolsVersion\": \"0.3.4\", \"failureMessage\": \"\", \"exceptionClass\": \"\", \"trace\": \"\"}}, \"*\")"
      ],
      "text/plain": [
       "<IPython.core.display.Javascript object>"
      ]
     },
     "metadata": {},
     "output_type": "display_data"
    },
    {
     "data": {
      "text/markdown": [
       "<span style=\"color:#33cc33\">Correct:</span> \n",
       "\n",
       "\n",
       "\n",
       "```python\n",
       "def menu_is_boring(meals):\n",
       "    # Iterate over all indices of the list, except the last one\n",
       "    for i in range(len(meals)-1):\n",
       "        if meals[i] == meals[i+1]:\n",
       "            return True\n",
       "    return False\n",
       "```\n",
       "\n",
       "The key to our solution is the call to `range`. `range(len(meals))` would give us all the indices of `meals`. If we had used that range, the last iteration of the loop would be comparing the last element to the element after it, which is... `IndexError`! `range(len(meals)-1)` gives us all the indices except the index of the last element.\n",
       "\n",
       "But don't we need to check if `meals` is empty? Turns out that `range(0) == range(-1)` - they're both empty. So if `meals` has length 0 or 1, we just won't do any iterations of our for loop.\n"
      ],
      "text/plain": [
       "Correct: \n",
       "\n",
       "\n",
       "\n",
       "```python\n",
       "def menu_is_boring(meals):\n",
       "    # Iterate over all indices of the list, except the last one\n",
       "    for i in range(len(meals)-1):\n",
       "        if meals[i] == meals[i+1]:\n",
       "            return True\n",
       "    return False\n",
       "```\n",
       "\n",
       "The key to our solution is the call to `range`. `range(len(meals))` would give us all the indices of `meals`. If we had used that range, the last iteration of the loop would be comparing the last element to the element after it, which is... `IndexError`! `range(len(meals)-1)` gives us all the indices except the index of the last element.\n",
       "\n",
       "But don't we need to check if `meals` is empty? Turns out that `range(0) == range(-1)` - they're both empty. So if `meals` has length 0 or 1, we just won't do any iterations of our for loop."
      ]
     },
     "metadata": {},
     "output_type": "display_data"
    }
   ],
   "source": [
    "def menu_is_boring(meals):\n",
    "    \"\"\"Given a list of meals served over some period of time, return True if the\n",
    "    same meal has ever been served two days in a row, and False otherwise.\n",
    "    \"\"\"\n",
    "    for i in range(len(meals)-1):\n",
    "        if meals[i] == meals[i+1]:\n",
    "            return True\n",
    "    return False\n",
    "\n",
    "# Check your answer\n",
    "q3.check()"
   ]
  },
  {
   "cell_type": "code",
   "execution_count": 9,
   "id": "7312829c",
   "metadata": {
    "execution": {
     "iopub.execute_input": "2023-01-06T16:01:09.925451Z",
     "iopub.status.busy": "2023-01-06T16:01:09.924662Z",
     "iopub.status.idle": "2023-01-06T16:01:09.929449Z",
     "shell.execute_reply": "2023-01-06T16:01:09.928649Z"
    },
    "papermill": {
     "duration": 0.014784,
     "end_time": "2023-01-06T16:01:09.931674",
     "exception": false,
     "start_time": "2023-01-06T16:01:09.916890",
     "status": "completed"
    },
    "tags": []
   },
   "outputs": [],
   "source": [
    "#q3.hint()\n",
    "#q3.solution()"
   ]
  },
  {
   "cell_type": "markdown",
   "id": "f3d0afa0",
   "metadata": {
    "papermill": {
     "duration": 0.006081,
     "end_time": "2023-01-06T16:01:09.944232",
     "exception": false,
     "start_time": "2023-01-06T16:01:09.938151",
     "status": "completed"
    },
    "tags": []
   },
   "source": [
    "# 4. <span title=\"A bit spicy\" style=\"color: darkgreen \">🌶️</span>\n",
    "\n",
    "Next to the Blackjack table, the Python Challenge Casino has a slot machine. You can get a result from the slot machine by calling `play_slot_machine()`. The number it returns is your winnings in dollars. Usually it returns 0.  But sometimes you'll get lucky and get a big payday. Try running it below:"
   ]
  },
  {
   "cell_type": "code",
   "execution_count": 10,
   "id": "10323a99",
   "metadata": {
    "execution": {
     "iopub.execute_input": "2023-01-06T16:01:09.959434Z",
     "iopub.status.busy": "2023-01-06T16:01:09.958693Z",
     "iopub.status.idle": "2023-01-06T16:01:09.965822Z",
     "shell.execute_reply": "2023-01-06T16:01:09.964662Z"
    },
    "papermill": {
     "duration": 0.01724,
     "end_time": "2023-01-06T16:01:09.968313",
     "exception": false,
     "start_time": "2023-01-06T16:01:09.951073",
     "status": "completed"
    },
    "tags": []
   },
   "outputs": [
    {
     "data": {
      "text/plain": [
       "0"
      ]
     },
     "execution_count": 10,
     "metadata": {},
     "output_type": "execute_result"
    }
   ],
   "source": [
    "play_slot_machine()"
   ]
  },
  {
   "cell_type": "markdown",
   "id": "a7c84f0b",
   "metadata": {
    "papermill": {
     "duration": 0.007089,
     "end_time": "2023-01-06T16:01:09.981938",
     "exception": false,
     "start_time": "2023-01-06T16:01:09.974849",
     "status": "completed"
    },
    "tags": []
   },
   "source": [
    "By the way, did we mention that each play costs $1? Don't worry, we'll send you the bill later.\n",
    "\n",
    "On average, how much money can you expect to gain (or lose) every time you play the machine?  The casino keeps it a secret, but you can estimate the average value of each pull using a technique called the **Monte Carlo method**. To estimate the average outcome, we simulate the scenario many times, and return the average result.\n",
    "\n",
    "Complete the following function to calculate the average value per play of the slot machine."
   ]
  },
  {
   "cell_type": "code",
   "execution_count": 11,
   "id": "b80fcb85",
   "metadata": {
    "execution": {
     "iopub.execute_input": "2023-01-06T16:01:09.997227Z",
     "iopub.status.busy": "2023-01-06T16:01:09.996314Z",
     "iopub.status.idle": "2023-01-06T16:01:10.006219Z",
     "shell.execute_reply": "2023-01-06T16:01:10.005308Z"
    },
    "papermill": {
     "duration": 0.019617,
     "end_time": "2023-01-06T16:01:10.008300",
     "exception": false,
     "start_time": "2023-01-06T16:01:09.988683",
     "status": "completed"
    },
    "tags": []
   },
   "outputs": [
    {
     "data": {
      "application/javascript": [
       "parent.postMessage({\"jupyterEvent\": \"custom.exercise_interaction\", \"data\": {\"outcomeType\": 1, \"valueTowardsCompletion\": 0.25, \"interactionType\": 1, \"questionType\": 4, \"questionId\": \"4_ExpectedSlotsPayout\", \"learnToolsVersion\": \"0.3.4\", \"failureMessage\": \"\", \"exceptionClass\": \"\", \"trace\": \"\"}}, \"*\")"
      ],
      "text/plain": [
       "<IPython.core.display.Javascript object>"
      ]
     },
     "metadata": {},
     "output_type": "display_data"
    },
    {
     "data": {
      "text/markdown": [
       "<span style=\"color:#33cc33\">Correct:</span> \n",
       "\n",
       "\n",
       "    \n",
       "The exact expected value of one pull of the slot machine is 0.025 - i.e. a little more than 2 cents.  See?  Not every game in the Python Challenge Casino is rigged against the player!\n",
       "\n",
       "In order to get this answer, you'll need to implement the `estimate_average_slot_payout(n_runs)` function to simulate pulling the slot machine `n_runs` times.  It should return the payout averaged over those `n_runs`.\n",
       "\n",
       "Then, once the function is defined, in order to estimate the average slot payout, we need only call the function.\n",
       "\n",
       "Because of the high variance of the outcome (there are some very rare high payout results that significantly affect the average) you might need to run your function with a very high value of `n_runs` to get a stable answer close to the true expectation.  For instance, you might use a value for `n_runs` of 1000000.\n",
       "\n",
       "Here's an example for how the function could look:\n",
       "```python\n",
       "def estimate_average_slot_payout(n_runs):\n",
       "    # Play slot machine n_runs times, calculate payout of each\n",
       "    payouts = [play_slot_machine()-1 for i in range(n_runs)]\n",
       "    # Calculate the average value\n",
       "    avg_payout = sum(payouts) / n_runs\n",
       "    return avg_payout\n",
       "    \n",
       "estimate_average_slot_payout(10000000)\n",
       "\n",
       "```\n",
       "\n",
       "This should return an answer close to 0.025!\n",
       "            \n"
      ],
      "text/plain": [
       "Correct: \n",
       "\n",
       "\n",
       "    \n",
       "The exact expected value of one pull of the slot machine is 0.025 - i.e. a little more than 2 cents.  See?  Not every game in the Python Challenge Casino is rigged against the player!\n",
       "\n",
       "In order to get this answer, you'll need to implement the `estimate_average_slot_payout(n_runs)` function to simulate pulling the slot machine `n_runs` times.  It should return the payout averaged over those `n_runs`.\n",
       "\n",
       "Then, once the function is defined, in order to estimate the average slot payout, we need only call the function.\n",
       "\n",
       "Because of the high variance of the outcome (there are some very rare high payout results that significantly affect the average) you might need to run your function with a very high value of `n_runs` to get a stable answer close to the true expectation.  For instance, you might use a value for `n_runs` of 1000000.\n",
       "\n",
       "Here's an example for how the function could look:\n",
       "```python\n",
       "def estimate_average_slot_payout(n_runs):\n",
       "    # Play slot machine n_runs times, calculate payout of each\n",
       "    payouts = [play_slot_machine()-1 for i in range(n_runs)]\n",
       "    # Calculate the average value\n",
       "    avg_payout = sum(payouts) / n_runs\n",
       "    return avg_payout\n",
       "    \n",
       "estimate_average_slot_payout(10000000)\n",
       "\n",
       "```\n",
       "\n",
       "This should return an answer close to 0.025!\n",
       "            "
      ]
     },
     "metadata": {},
     "output_type": "display_data"
    }
   ],
   "source": [
    "def estimate_average_slot_payout(n_runs):\n",
    "    \"\"\"Run the slot machine n_runs times and return the average net profit per run.\n",
    "    Example calls (note that return value is nondeterministic!):\n",
    "    >>> estimate_average_slot_payout(1)\n",
    "    -1\n",
    "    >>> estimate_average_slot_payout(1)\n",
    "    0.5\n",
    "    \"\"\"\n",
    "    payouts = [play_slot_machine()-1 for i in range(n_runs)]\n",
    "    avg_payout = sum(payouts)/n_runs\n",
    "    return avg_payout\n",
    "    \n",
    "q4.check()"
   ]
  },
  {
   "cell_type": "markdown",
   "id": "825d24f3",
   "metadata": {
    "papermill": {
     "duration": 0.006465,
     "end_time": "2023-01-06T16:01:10.022065",
     "exception": false,
     "start_time": "2023-01-06T16:01:10.015600",
     "status": "completed"
    },
    "tags": []
   },
   "source": [
    "When you think you know the expected value per spin, run the code cell below to view the solution and get credit for answering the question."
   ]
  },
  {
   "cell_type": "code",
   "execution_count": 12,
   "id": "11eefc68",
   "metadata": {
    "execution": {
     "iopub.execute_input": "2023-01-06T16:01:10.037289Z",
     "iopub.status.busy": "2023-01-06T16:01:10.036850Z",
     "iopub.status.idle": "2023-01-06T16:01:10.041114Z",
     "shell.execute_reply": "2023-01-06T16:01:10.040106Z"
    },
    "papermill": {
     "duration": 0.014544,
     "end_time": "2023-01-06T16:01:10.043320",
     "exception": false,
     "start_time": "2023-01-06T16:01:10.028776",
     "status": "completed"
    },
    "tags": []
   },
   "outputs": [],
   "source": [
    "# Check your answer (Run this code cell to receive credit!)\n",
    "#q4.solution()"
   ]
  },
  {
   "cell_type": "markdown",
   "id": "1687be16",
   "metadata": {
    "papermill": {
     "duration": 0.006396,
     "end_time": "2023-01-06T16:01:10.056516",
     "exception": false,
     "start_time": "2023-01-06T16:01:10.050120",
     "status": "completed"
    },
    "tags": []
   },
   "source": [
    "# Keep Going\n",
    "\n",
    "Many programmers report that dictionaries are their favorite data structure. You'll get to **[learn about them](https://www.kaggle.com/colinmorris/strings-and-dictionaries)** (as well as strings) in the next lesson."
   ]
  },
  {
   "cell_type": "markdown",
   "id": "ac8c6037",
   "metadata": {
    "papermill": {
     "duration": 0.006426,
     "end_time": "2023-01-06T16:01:10.069599",
     "exception": false,
     "start_time": "2023-01-06T16:01:10.063173",
     "status": "completed"
    },
    "tags": []
   },
   "source": [
    "---\n",
    "\n",
    "\n",
    "\n",
    "\n",
    "*Have questions or comments? Visit the [course discussion forum](https://www.kaggle.com/learn/python/discussion) to chat with other learners.*"
   ]
  }
 ],
 "metadata": {
  "kernelspec": {
   "display_name": "Python 3",
   "language": "python",
   "name": "python3"
  },
  "language_info": {
   "codemirror_mode": {
    "name": "ipython",
    "version": 3
   },
   "file_extension": ".py",
   "mimetype": "text/x-python",
   "name": "python",
   "nbconvert_exporter": "python",
   "pygments_lexer": "ipython3",
   "version": "3.7.12"
  },
  "papermill": {
   "default_parameters": {},
   "duration": 9.51773,
   "end_time": "2023-01-06T16:01:10.697492",
   "environment_variables": {},
   "exception": null,
   "input_path": "__notebook__.ipynb",
   "output_path": "__notebook__.ipynb",
   "parameters": {},
   "start_time": "2023-01-06T16:01:01.179762",
   "version": "2.3.4"
  }
 },
 "nbformat": 4,
 "nbformat_minor": 5
}
