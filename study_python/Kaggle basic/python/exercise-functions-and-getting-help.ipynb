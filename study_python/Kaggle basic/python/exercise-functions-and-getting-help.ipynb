{
 "cells": [
  {
   "cell_type": "markdown",
   "id": "42e0926b",
   "metadata": {
    "papermill": {
     "duration": 0.005766,
     "end_time": "2023-01-03T13:05:55.792371",
     "exception": false,
     "start_time": "2023-01-03T13:05:55.786605",
     "status": "completed"
    },
    "tags": []
   },
   "source": [
    "**This notebook is an exercise in the [Python](https://www.kaggle.com/learn/python) course.  You can reference the tutorial at [this link](https://www.kaggle.com/colinmorris/functions-and-getting-help).**\n",
    "\n",
    "---\n"
   ]
  },
  {
   "cell_type": "markdown",
   "id": "a2175edd",
   "metadata": {
    "papermill": {
     "duration": 0.004457,
     "end_time": "2023-01-03T13:05:55.801815",
     "exception": false,
     "start_time": "2023-01-03T13:05:55.797358",
     "status": "completed"
    },
    "tags": []
   },
   "source": [
    "Functions are powerful. Try writing some yourself.\n",
    "\n",
    "As before, don't forget to run the setup code below before jumping into question 1."
   ]
  },
  {
   "cell_type": "code",
   "execution_count": 1,
   "id": "207b3df0",
   "metadata": {
    "_kg_hide-input": true,
    "_kg_hide-output": true,
    "execution": {
     "iopub.execute_input": "2023-01-03T13:05:55.813502Z",
     "iopub.status.busy": "2023-01-03T13:05:55.812896Z",
     "iopub.status.idle": "2023-01-03T13:05:55.866936Z",
     "shell.execute_reply": "2023-01-03T13:05:55.865598Z"
    },
    "papermill": {
     "duration": 0.063214,
     "end_time": "2023-01-03T13:05:55.869688",
     "exception": false,
     "start_time": "2023-01-03T13:05:55.806474",
     "status": "completed"
    },
    "tags": []
   },
   "outputs": [
    {
     "name": "stdout",
     "output_type": "stream",
     "text": [
      "Setup complete.\n"
     ]
    }
   ],
   "source": [
    "# SETUP. You don't need to worry for now about what this code does or how it works.\n",
    "from learntools.core import binder; binder.bind(globals())\n",
    "from learntools.python.ex2 import *\n",
    "print('Setup complete.')"
   ]
  },
  {
   "cell_type": "markdown",
   "id": "fb179e58",
   "metadata": {
    "papermill": {
     "duration": 0.004726,
     "end_time": "2023-01-03T13:05:55.879662",
     "exception": false,
     "start_time": "2023-01-03T13:05:55.874936",
     "status": "completed"
    },
    "tags": []
   },
   "source": [
    "# 1.\n",
    "\n",
    "Complete the body of the following function according to its docstring.\n",
    "\n",
    "HINT: Python has a built-in function `round`."
   ]
  },
  {
   "cell_type": "code",
   "execution_count": 2,
   "id": "9f0c9898",
   "metadata": {
    "execution": {
     "iopub.execute_input": "2023-01-03T13:05:55.891314Z",
     "iopub.status.busy": "2023-01-03T13:05:55.890165Z",
     "iopub.status.idle": "2023-01-03T13:05:55.902941Z",
     "shell.execute_reply": "2023-01-03T13:05:55.901705Z"
    },
    "papermill": {
     "duration": 0.020815,
     "end_time": "2023-01-03T13:05:55.905161",
     "exception": false,
     "start_time": "2023-01-03T13:05:55.884346",
     "status": "completed"
    },
    "tags": []
   },
   "outputs": [
    {
     "data": {
      "application/javascript": [
       "parent.postMessage({\"jupyterEvent\": \"custom.exercise_interaction\", \"data\": {\"outcomeType\": 1, \"valueTowardsCompletion\": 0.16666666666666666, \"interactionType\": 1, \"questionType\": 2, \"questionId\": \"1_RoundFunctionProblem\", \"learnToolsVersion\": \"0.3.4\", \"failureMessage\": \"\", \"exceptionClass\": \"\", \"trace\": \"\"}}, \"*\")"
      ],
      "text/plain": [
       "<IPython.core.display.Javascript object>"
      ]
     },
     "metadata": {},
     "output_type": "display_data"
    },
    {
     "data": {
      "text/markdown": [
       "<span style=\"color:#33cc33\">Correct</span>"
      ],
      "text/plain": [
       "Correct"
      ]
     },
     "metadata": {},
     "output_type": "display_data"
    }
   ],
   "source": [
    "def round_to_two_places(num):\n",
    "    return round(num,2)\n",
    "    \"\"\"Return the given number rounded to two decimal places. \n",
    "\n",
    "    >>> round_to_two_places(3.14159)\n",
    "    3.14\n",
    "    \"\"\"\n",
    "    # Replace this body with your own code.\n",
    "    # (\"pass\" is a keyword that does literally nothing. We used it as a placeholder\n",
    "    # because after we begin a code block, Python requires at least one line of code)\n",
    "    pass\n",
    "\n",
    "# Check your answer\n",
    "q1.check()"
   ]
  },
  {
   "cell_type": "code",
   "execution_count": 3,
   "id": "890359ef",
   "metadata": {
    "execution": {
     "iopub.execute_input": "2023-01-03T13:05:55.917300Z",
     "iopub.status.busy": "2023-01-03T13:05:55.916567Z",
     "iopub.status.idle": "2023-01-03T13:05:55.921376Z",
     "shell.execute_reply": "2023-01-03T13:05:55.920555Z"
    },
    "papermill": {
     "duration": 0.013402,
     "end_time": "2023-01-03T13:05:55.923621",
     "exception": false,
     "start_time": "2023-01-03T13:05:55.910219",
     "status": "completed"
    },
    "tags": []
   },
   "outputs": [],
   "source": [
    "# Uncomment the following for a hint\n",
    "#q1.hint()\n",
    "# Or uncomment the following to peek at the solution\n",
    "#q1.solution()"
   ]
  },
  {
   "cell_type": "markdown",
   "id": "6b89384b",
   "metadata": {
    "papermill": {
     "duration": 0.004687,
     "end_time": "2023-01-03T13:05:55.933286",
     "exception": false,
     "start_time": "2023-01-03T13:05:55.928599",
     "status": "completed"
    },
    "tags": []
   },
   "source": [
    "# 2.\n",
    "The help for `round` says that `ndigits` (the second argument) may be negative.\n",
    "What do you think will happen when it is? Try some examples in the following cell."
   ]
  },
  {
   "cell_type": "code",
   "execution_count": 4,
   "id": "c6dd55dd",
   "metadata": {
    "execution": {
     "iopub.execute_input": "2023-01-03T13:05:55.945439Z",
     "iopub.status.busy": "2023-01-03T13:05:55.944788Z",
     "iopub.status.idle": "2023-01-03T13:05:55.953690Z",
     "shell.execute_reply": "2023-01-03T13:05:55.952859Z"
    },
    "papermill": {
     "duration": 0.01737,
     "end_time": "2023-01-03T13:05:55.955768",
     "exception": false,
     "start_time": "2023-01-03T13:05:55.938398",
     "status": "completed"
    },
    "tags": []
   },
   "outputs": [
    {
     "data": {
      "application/javascript": [
       "parent.postMessage({\"jupyterEvent\": \"custom.exercise_interaction\", \"data\": {\"outcomeType\": 1, \"valueTowardsCompletion\": 0.16666666666666666, \"interactionType\": 1, \"questionType\": 4, \"questionId\": \"2_RoundNdigitsProblem\", \"learnToolsVersion\": \"0.3.4\", \"failureMessage\": \"\", \"exceptionClass\": \"\", \"trace\": \"\"}}, \"*\")"
      ],
      "text/plain": [
       "<IPython.core.display.Javascript object>"
      ]
     },
     "metadata": {},
     "output_type": "display_data"
    },
    {
     "data": {
      "text/markdown": [
       "<span style=\"color:#33cc33\">Correct:</span> \n",
       "\n",
       "As you've seen, `ndigits=-1` rounds to the nearest 10, `ndigits=-2` rounds to the nearest 100 and so on. Where might this be useful? Suppose we're dealing with large numbers:\n",
       "\n",
       "> The area of Finland is 338,424 km²  \n",
       "> The area of Greenland is 2,166,086 km²\n",
       "\n",
       "We probably don't care whether it's really 338,424, or 338,425, or 338,177. All those digits of accuracy are just distracting. We can chop them off by calling `round()` with `ndigits=-3`:\n",
       "\n",
       "> The area of Finland is 338,000 km²  \n",
       "> The area of Greenland is 2,166,000 km²\n",
       "\n",
       "(We'll talk about how we would get the commas later when we talk about string formatting :))\n"
      ],
      "text/plain": [
       "Correct: \n",
       "\n",
       "As you've seen, `ndigits=-1` rounds to the nearest 10, `ndigits=-2` rounds to the nearest 100 and so on. Where might this be useful? Suppose we're dealing with large numbers:\n",
       "\n",
       "> The area of Finland is 338,424 km²  \n",
       "> The area of Greenland is 2,166,086 km²\n",
       "\n",
       "We probably don't care whether it's really 338,424, or 338,425, or 338,177. All those digits of accuracy are just distracting. We can chop them off by calling `round()` with `ndigits=-3`:\n",
       "\n",
       "> The area of Finland is 338,000 km²  \n",
       "> The area of Greenland is 2,166,000 km²\n",
       "\n",
       "(We'll talk about how we would get the commas later when we talk about string formatting :))"
      ]
     },
     "metadata": {},
     "output_type": "display_data"
    }
   ],
   "source": [
    "# Put your test code here\n",
    "round(123,ndigits=-1)\n",
    "q2.check()"
   ]
  },
  {
   "cell_type": "markdown",
   "id": "7d3ae4ef",
   "metadata": {
    "papermill": {
     "duration": 0.004986,
     "end_time": "2023-01-03T13:05:55.966016",
     "exception": false,
     "start_time": "2023-01-03T13:05:55.961030",
     "status": "completed"
    },
    "tags": []
   },
   "source": [
    "Can you think of a case where this would be useful?  Once you're ready, run the code cell below to see the answer and to receive credit for completing the problem."
   ]
  },
  {
   "cell_type": "code",
   "execution_count": 5,
   "id": "3eb51bd4",
   "metadata": {
    "execution": {
     "iopub.execute_input": "2023-01-03T13:05:55.978935Z",
     "iopub.status.busy": "2023-01-03T13:05:55.978296Z",
     "iopub.status.idle": "2023-01-03T13:05:55.982532Z",
     "shell.execute_reply": "2023-01-03T13:05:55.981821Z"
    },
    "papermill": {
     "duration": 0.013421,
     "end_time": "2023-01-03T13:05:55.984633",
     "exception": false,
     "start_time": "2023-01-03T13:05:55.971212",
     "status": "completed"
    },
    "tags": []
   },
   "outputs": [],
   "source": [
    "# Check your answer (Run this code cell to receive credit!)\n",
    "#q2.solution()"
   ]
  },
  {
   "cell_type": "markdown",
   "id": "5980ee34",
   "metadata": {
    "papermill": {
     "duration": 0.004953,
     "end_time": "2023-01-03T13:05:55.994708",
     "exception": false,
     "start_time": "2023-01-03T13:05:55.989755",
     "status": "completed"
    },
    "tags": []
   },
   "source": [
    "# 3.\n",
    "\n",
    "In the previous exercise, the candy-sharing friends Alice, Bob and Carol tried to split candies evenly. For the sake of their friendship, any candies left over would be smashed. For example, if they collectively bring home 91 candies, they'll take 30 each and smash 1.\n",
    "\n",
    "Below is a simple function that will calculate the number of candies to smash for *any* number of total candies.\n",
    "\n",
    "Modify it so that it optionally takes a second argument representing the number of friends the candies are being split between. If no second argument is provided, it should assume 3 friends, as before.\n",
    "\n",
    "Update the docstring to reflect this new behaviour."
   ]
  },
  {
   "cell_type": "code",
   "execution_count": 6,
   "id": "45a5f4c5",
   "metadata": {
    "execution": {
     "iopub.execute_input": "2023-01-03T13:05:56.007066Z",
     "iopub.status.busy": "2023-01-03T13:05:56.006640Z",
     "iopub.status.idle": "2023-01-03T13:05:56.016040Z",
     "shell.execute_reply": "2023-01-03T13:05:56.015065Z"
    },
    "papermill": {
     "duration": 0.018302,
     "end_time": "2023-01-03T13:05:56.018285",
     "exception": false,
     "start_time": "2023-01-03T13:05:55.999983",
     "status": "completed"
    },
    "tags": []
   },
   "outputs": [
    {
     "data": {
      "application/javascript": [
       "parent.postMessage({\"jupyterEvent\": \"custom.exercise_interaction\", \"data\": {\"outcomeType\": 1, \"valueTowardsCompletion\": 0.16666666666666666, \"interactionType\": 1, \"questionType\": 2, \"questionId\": \"3_CandySmashingFunctionProblem\", \"learnToolsVersion\": \"0.3.4\", \"failureMessage\": \"\", \"exceptionClass\": \"\", \"trace\": \"\"}}, \"*\")"
      ],
      "text/plain": [
       "<IPython.core.display.Javascript object>"
      ]
     },
     "metadata": {},
     "output_type": "display_data"
    },
    {
     "data": {
      "text/markdown": [
       "<span style=\"color:#33cc33\">Correct</span>"
      ],
      "text/plain": [
       "Correct"
      ]
     },
     "metadata": {},
     "output_type": "display_data"
    }
   ],
   "source": [
    "def to_smash(total_candies,friends = 3):\n",
    "    \n",
    "    \"\"\"Return the number of leftover candies that must be smashed after distributing\n",
    "    the given number of candies evenly between 3 friends.\n",
    "    \n",
    "    >>> to_smash(91)\n",
    "    1\n",
    "    \"\"\"\n",
    "    return total_candies % friends\n",
    "\n",
    "\n",
    "# Check your answer\n",
    "q3.check()"
   ]
  },
  {
   "cell_type": "code",
   "execution_count": 7,
   "id": "6d57a95a",
   "metadata": {
    "execution": {
     "iopub.execute_input": "2023-01-03T13:05:56.031658Z",
     "iopub.status.busy": "2023-01-03T13:05:56.031013Z",
     "iopub.status.idle": "2023-01-03T13:05:56.034846Z",
     "shell.execute_reply": "2023-01-03T13:05:56.034122Z"
    },
    "papermill": {
     "duration": 0.012739,
     "end_time": "2023-01-03T13:05:56.036889",
     "exception": false,
     "start_time": "2023-01-03T13:05:56.024150",
     "status": "completed"
    },
    "tags": []
   },
   "outputs": [],
   "source": [
    "#q3.hint()"
   ]
  },
  {
   "cell_type": "code",
   "execution_count": 8,
   "id": "e29ecd63",
   "metadata": {
    "execution": {
     "iopub.execute_input": "2023-01-03T13:05:56.050975Z",
     "iopub.status.busy": "2023-01-03T13:05:56.050366Z",
     "iopub.status.idle": "2023-01-03T13:05:56.053978Z",
     "shell.execute_reply": "2023-01-03T13:05:56.053208Z"
    },
    "papermill": {
     "duration": 0.013628,
     "end_time": "2023-01-03T13:05:56.056040",
     "exception": false,
     "start_time": "2023-01-03T13:05:56.042412",
     "status": "completed"
    },
    "tags": []
   },
   "outputs": [],
   "source": [
    "#q3.solution()"
   ]
  },
  {
   "cell_type": "markdown",
   "id": "5456c772",
   "metadata": {
    "papermill": {
     "duration": 0.005257,
     "end_time": "2023-01-03T13:05:56.067452",
     "exception": false,
     "start_time": "2023-01-03T13:05:56.062195",
     "status": "completed"
    },
    "tags": []
   },
   "source": [
    "# 4. (Optional)\n",
    "\n",
    "It may not be fun, but reading and understanding error messages will be an important part of your Python career.\n",
    "\n",
    "Each code cell below contains some commented buggy code. For each cell...\n",
    "\n",
    "1. Read the code and predict what you think will happen when it's run.\n",
    "2. Then uncomment the code and run it to see what happens. (**Tip**: In the kernel editor, you can highlight several lines and press `ctrl`+`/` to toggle commenting.)\n",
    "3. Fix the code (so that it accomplishes its intended purpose without throwing an exception)\n",
    "\n",
    "<!-- TODO: should this be autochecked? Delta is probably pretty small. -->"
   ]
  },
  {
   "cell_type": "code",
   "execution_count": 9,
   "id": "b39bd3a4",
   "metadata": {
    "execution": {
     "iopub.execute_input": "2023-01-03T13:05:56.080539Z",
     "iopub.status.busy": "2023-01-03T13:05:56.079929Z",
     "iopub.status.idle": "2023-01-03T13:05:56.085280Z",
     "shell.execute_reply": "2023-01-03T13:05:56.084468Z"
    },
    "papermill": {
     "duration": 0.014278,
     "end_time": "2023-01-03T13:05:56.087285",
     "exception": false,
     "start_time": "2023-01-03T13:05:56.073007",
     "status": "completed"
    },
    "tags": []
   },
   "outputs": [
    {
     "data": {
      "text/plain": [
       "10.0"
      ]
     },
     "execution_count": 9,
     "metadata": {},
     "output_type": "execute_result"
    }
   ],
   "source": [
    "round_to_two_places(9.9999)"
   ]
  },
  {
   "cell_type": "code",
   "execution_count": 10,
   "id": "d27e51c8",
   "metadata": {
    "execution": {
     "iopub.execute_input": "2023-01-03T13:05:56.100395Z",
     "iopub.status.busy": "2023-01-03T13:05:56.099857Z",
     "iopub.status.idle": "2023-01-03T13:05:56.104895Z",
     "shell.execute_reply": "2023-01-03T13:05:56.103784Z"
    },
    "papermill": {
     "duration": 0.014236,
     "end_time": "2023-01-03T13:05:56.107202",
     "exception": false,
     "start_time": "2023-01-03T13:05:56.092966",
     "status": "completed"
    },
    "tags": []
   },
   "outputs": [
    {
     "name": "stdout",
     "output_type": "stream",
     "text": [
      "-10\n"
     ]
    }
   ],
   "source": [
    "x = -10\n",
    "y = 5\n",
    "# Which of the two variables above has the smallest absolute value?\n",
    "smallest_abs = min(x, y)\n",
    "print(smallest_abs)"
   ]
  },
  {
   "cell_type": "code",
   "execution_count": 11,
   "id": "6503db61",
   "metadata": {
    "execution": {
     "iopub.execute_input": "2023-01-03T13:05:56.120265Z",
     "iopub.status.busy": "2023-01-03T13:05:56.119893Z",
     "iopub.status.idle": "2023-01-03T13:05:56.124784Z",
     "shell.execute_reply": "2023-01-03T13:05:56.124031Z"
    },
    "papermill": {
     "duration": 0.014601,
     "end_time": "2023-01-03T13:05:56.127456",
     "exception": false,
     "start_time": "2023-01-03T13:05:56.112855",
     "status": "completed"
    },
    "tags": []
   },
   "outputs": [
    {
     "name": "stdout",
     "output_type": "stream",
     "text": [
      "5\n"
     ]
    }
   ],
   "source": [
    "def f(x):\n",
    "    y = abs(x)\n",
    "    return y\n",
    "\n",
    "print(f(5))"
   ]
  },
  {
   "cell_type": "markdown",
   "id": "1c6ebeb9",
   "metadata": {
    "papermill": {
     "duration": 0.005397,
     "end_time": "2023-01-03T13:05:56.138580",
     "exception": false,
     "start_time": "2023-01-03T13:05:56.133183",
     "status": "completed"
    },
    "tags": []
   },
   "source": [
    "# Keep Going\n",
    "\n",
    "Nice job with the code. Next up, you'll learn about *conditionals*, which you'll need to **[write interesting programs](https://www.kaggle.com/colinmorris/booleans-and-conditionals)**. "
   ]
  },
  {
   "cell_type": "markdown",
   "id": "e73f0f7e",
   "metadata": {
    "papermill": {
     "duration": 0.005405,
     "end_time": "2023-01-03T13:05:56.150121",
     "exception": false,
     "start_time": "2023-01-03T13:05:56.144716",
     "status": "completed"
    },
    "tags": []
   },
   "source": [
    "---\n",
    "\n",
    "\n",
    "\n",
    "\n",
    "*Have questions or comments? Visit the [course discussion forum](https://www.kaggle.com/learn/python/discussion) to chat with other learners.*"
   ]
  }
 ],
 "metadata": {
  "kernelspec": {
   "display_name": "Python 3",
   "language": "python",
   "name": "python3"
  },
  "language_info": {
   "codemirror_mode": {
    "name": "ipython",
    "version": 3
   },
   "file_extension": ".py",
   "mimetype": "text/x-python",
   "name": "python",
   "nbconvert_exporter": "python",
   "pygments_lexer": "ipython3",
   "version": "3.7.12"
  },
  "papermill": {
   "default_parameters": {},
   "duration": 9.226537,
   "end_time": "2023-01-03T13:05:56.777501",
   "environment_variables": {},
   "exception": null,
   "input_path": "__notebook__.ipynb",
   "output_path": "__notebook__.ipynb",
   "parameters": {},
   "start_time": "2023-01-03T13:05:47.550964",
   "version": "2.3.4"
  }
 },
 "nbformat": 4,
 "nbformat_minor": 5
}
