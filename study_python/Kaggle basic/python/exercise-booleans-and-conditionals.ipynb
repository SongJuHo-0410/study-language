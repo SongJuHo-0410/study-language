{
 "cells": [
  {
   "cell_type": "markdown",
   "id": "493fcc20",
   "metadata": {
    "papermill": {
     "duration": 0.010459,
     "end_time": "2023-01-04T15:05:52.857337",
     "exception": false,
     "start_time": "2023-01-04T15:05:52.846878",
     "status": "completed"
    },
    "tags": []
   },
   "source": [
    "**This notebook is an exercise in the [Python](https://www.kaggle.com/learn/python) course.  You can reference the tutorial at [this link](https://www.kaggle.com/colinmorris/booleans-and-conditionals).**\n",
    "\n",
    "---\n"
   ]
  },
  {
   "cell_type": "markdown",
   "id": "dd51359d",
   "metadata": {
    "papermill": {
     "duration": 0.008937,
     "end_time": "2023-01-04T15:05:52.876078",
     "exception": false,
     "start_time": "2023-01-04T15:05:52.867141",
     "status": "completed"
    },
    "tags": []
   },
   "source": [
    "In this exercise, you'll put to work what you have learned about booleans and conditionals.\n",
    "\n",
    "To get started, **run the setup code below** before writing your own code (and if you leave this notebook and come back later, don't forget to run the setup code again)."
   ]
  },
  {
   "cell_type": "code",
   "execution_count": 1,
   "id": "3bcb11f0",
   "metadata": {
    "execution": {
     "iopub.execute_input": "2023-01-04T15:05:52.896274Z",
     "iopub.status.busy": "2023-01-04T15:05:52.895540Z",
     "iopub.status.idle": "2023-01-04T15:05:52.948311Z",
     "shell.execute_reply": "2023-01-04T15:05:52.946909Z"
    },
    "papermill": {
     "duration": 0.066194,
     "end_time": "2023-01-04T15:05:52.951266",
     "exception": false,
     "start_time": "2023-01-04T15:05:52.885072",
     "status": "completed"
    },
    "tags": []
   },
   "outputs": [
    {
     "name": "stdout",
     "output_type": "stream",
     "text": [
      "Setup complete.\n"
     ]
    }
   ],
   "source": [
    "from learntools.core import binder; binder.bind(globals())\n",
    "from learntools.python.ex3 import *\n",
    "print('Setup complete.')"
   ]
  },
  {
   "cell_type": "markdown",
   "id": "b4253f6f",
   "metadata": {
    "papermill": {
     "duration": 0.008901,
     "end_time": "2023-01-04T15:05:52.969480",
     "exception": false,
     "start_time": "2023-01-04T15:05:52.960579",
     "status": "completed"
    },
    "tags": []
   },
   "source": [
    "# 1.\n",
    "\n",
    "Many programming languages have [`sign`](https://en.wikipedia.org/wiki/Sign_function) available as a built-in function. Python doesn't, but we can define our own!\n",
    "\n",
    "In the cell below, define a function called `sign` which takes a numerical argument and returns -1 if it's negative, 1 if it's positive, and 0 if it's 0."
   ]
  },
  {
   "cell_type": "code",
   "execution_count": 2,
   "id": "d2a55739",
   "metadata": {
    "execution": {
     "iopub.execute_input": "2023-01-04T15:05:52.991807Z",
     "iopub.status.busy": "2023-01-04T15:05:52.991386Z",
     "iopub.status.idle": "2023-01-04T15:05:53.003420Z",
     "shell.execute_reply": "2023-01-04T15:05:53.002005Z"
    },
    "papermill": {
     "duration": 0.025748,
     "end_time": "2023-01-04T15:05:53.005957",
     "exception": false,
     "start_time": "2023-01-04T15:05:52.980209",
     "status": "completed"
    },
    "tags": []
   },
   "outputs": [
    {
     "data": {
      "application/javascript": [
       "parent.postMessage({\"jupyterEvent\": \"custom.exercise_interaction\", \"data\": {\"outcomeType\": 1, \"valueTowardsCompletion\": 0.2, \"interactionType\": 1, \"questionType\": 2, \"questionId\": \"1_SignFunctionProblem\", \"learnToolsVersion\": \"0.3.4\", \"failureMessage\": \"\", \"exceptionClass\": \"\", \"trace\": \"\"}}, \"*\")"
      ],
      "text/plain": [
       "<IPython.core.display.Javascript object>"
      ]
     },
     "metadata": {},
     "output_type": "display_data"
    },
    {
     "data": {
      "text/markdown": [
       "<span style=\"color:#33cc33\">Correct</span>"
      ],
      "text/plain": [
       "Correct"
      ]
     },
     "metadata": {},
     "output_type": "display_data"
    }
   ],
   "source": [
    "# Your code goes here. Define a function called 'sign'\n",
    "def sign(x):\n",
    "    if x > 0:\n",
    "        return 1\n",
    "    elif x < 0:\n",
    "        return -1\n",
    "    else:\n",
    "        return 0\n",
    "# Check your answer\n",
    "q1.check()"
   ]
  },
  {
   "cell_type": "code",
   "execution_count": 3,
   "id": "af331267",
   "metadata": {
    "execution": {
     "iopub.execute_input": "2023-01-04T15:05:53.027785Z",
     "iopub.status.busy": "2023-01-04T15:05:53.027352Z",
     "iopub.status.idle": "2023-01-04T15:05:53.032486Z",
     "shell.execute_reply": "2023-01-04T15:05:53.031140Z"
    },
    "papermill": {
     "duration": 0.019429,
     "end_time": "2023-01-04T15:05:53.035395",
     "exception": false,
     "start_time": "2023-01-04T15:05:53.015966",
     "status": "completed"
    },
    "tags": []
   },
   "outputs": [],
   "source": [
    "#q1.solution()"
   ]
  },
  {
   "cell_type": "markdown",
   "id": "2c21eeb0",
   "metadata": {
    "papermill": {
     "duration": 0.009034,
     "end_time": "2023-01-04T15:05:53.054269",
     "exception": false,
     "start_time": "2023-01-04T15:05:53.045235",
     "status": "completed"
    },
    "tags": []
   },
   "source": [
    "# 2.\n",
    "\n",
    "We've decided to add \"logging\" to our `to_smash` function from the previous exercise."
   ]
  },
  {
   "cell_type": "code",
   "execution_count": 4,
   "id": "9c2be1a9",
   "metadata": {
    "execution": {
     "iopub.execute_input": "2023-01-04T15:05:53.074711Z",
     "iopub.status.busy": "2023-01-04T15:05:53.074289Z",
     "iopub.status.idle": "2023-01-04T15:05:53.082839Z",
     "shell.execute_reply": "2023-01-04T15:05:53.081500Z"
    },
    "papermill": {
     "duration": 0.022095,
     "end_time": "2023-01-04T15:05:53.085883",
     "exception": false,
     "start_time": "2023-01-04T15:05:53.063788",
     "status": "completed"
    },
    "tags": []
   },
   "outputs": [
    {
     "name": "stdout",
     "output_type": "stream",
     "text": [
      "Splitting 91 candies\n"
     ]
    },
    {
     "data": {
      "text/plain": [
       "1"
      ]
     },
     "execution_count": 4,
     "metadata": {},
     "output_type": "execute_result"
    }
   ],
   "source": [
    "def to_smash(total_candies):\n",
    "    \"\"\"Return the number of leftover candies that must be smashed after distributing\n",
    "    the given number of candies evenly between 3 friends.\n",
    "    \n",
    "    >>> to_smash(91)\n",
    "    1\n",
    "    \"\"\"\n",
    "    print(\"Splitting\", total_candies, \"candies\")\n",
    "    return total_candies % 3\n",
    "\n",
    "to_smash(91)"
   ]
  },
  {
   "cell_type": "markdown",
   "id": "817339b5",
   "metadata": {
    "papermill": {
     "duration": 0.009094,
     "end_time": "2023-01-04T15:05:53.104477",
     "exception": false,
     "start_time": "2023-01-04T15:05:53.095383",
     "status": "completed"
    },
    "tags": []
   },
   "source": [
    "What happens if we call it with `total_candies = 1`?"
   ]
  },
  {
   "cell_type": "code",
   "execution_count": 5,
   "id": "a314bbae",
   "metadata": {
    "execution": {
     "iopub.execute_input": "2023-01-04T15:05:53.125058Z",
     "iopub.status.busy": "2023-01-04T15:05:53.124662Z",
     "iopub.status.idle": "2023-01-04T15:05:53.132427Z",
     "shell.execute_reply": "2023-01-04T15:05:53.130966Z"
    },
    "papermill": {
     "duration": 0.021255,
     "end_time": "2023-01-04T15:05:53.135281",
     "exception": false,
     "start_time": "2023-01-04T15:05:53.114026",
     "status": "completed"
    },
    "tags": []
   },
   "outputs": [
    {
     "name": "stdout",
     "output_type": "stream",
     "text": [
      "Splitting 1 candies\n"
     ]
    },
    {
     "data": {
      "text/plain": [
       "1"
      ]
     },
     "execution_count": 5,
     "metadata": {},
     "output_type": "execute_result"
    }
   ],
   "source": [
    "to_smash(1)"
   ]
  },
  {
   "cell_type": "markdown",
   "id": "2a2292d2",
   "metadata": {
    "papermill": {
     "duration": 0.00937,
     "end_time": "2023-01-04T15:05:53.154426",
     "exception": false,
     "start_time": "2023-01-04T15:05:53.145056",
     "status": "completed"
    },
    "tags": []
   },
   "source": [
    "That isn't great grammar!\n",
    "\n",
    "Modify the definition in the cell below to correct the grammar of our print statement. (If there's only one candy, we should use the singular \"candy\" instead of the plural \"candies\")"
   ]
  },
  {
   "cell_type": "code",
   "execution_count": 6,
   "id": "d4ea2adc",
   "metadata": {
    "execution": {
     "iopub.execute_input": "2023-01-04T15:05:53.175768Z",
     "iopub.status.busy": "2023-01-04T15:05:53.175335Z",
     "iopub.status.idle": "2023-01-04T15:05:53.187480Z",
     "shell.execute_reply": "2023-01-04T15:05:53.186317Z"
    },
    "papermill": {
     "duration": 0.025661,
     "end_time": "2023-01-04T15:05:53.189870",
     "exception": false,
     "start_time": "2023-01-04T15:05:53.164209",
     "status": "completed"
    },
    "tags": []
   },
   "outputs": [
    {
     "name": "stdout",
     "output_type": "stream",
     "text": [
      "Splitting 91 candies\n",
      "Splitting 1 candy\n"
     ]
    },
    {
     "data": {
      "application/javascript": [
       "parent.postMessage({\"jupyterEvent\": \"custom.exercise_interaction\", \"data\": {\"outcomeType\": 1, \"valueTowardsCompletion\": 0.2, \"interactionType\": 1, \"questionType\": 4, \"questionId\": \"2_PluralizationProblem\", \"learnToolsVersion\": \"0.3.4\", \"failureMessage\": \"\", \"exceptionClass\": \"\", \"trace\": \"\"}}, \"*\")"
      ],
      "text/plain": [
       "<IPython.core.display.Javascript object>"
      ]
     },
     "metadata": {},
     "output_type": "display_data"
    },
    {
     "data": {
      "text/markdown": [
       "<span style=\"color:#33cc33\">Correct:</span> \n",
       "\n",
       "A straightforward (and totally fine) solution is to replace the original `print` call with:\n",
       "\n",
       "```python\n",
       "if total_candies == 1:\n",
       "    print(\"Splitting 1 candy\")\n",
       "else:\n",
       "    print(\"Splitting\", total_candies, \"candies\")\n",
       "```\n",
       "\n",
       "Here's a slightly more succinct solution using a conditional expression:\n",
       "\n",
       "```python\n",
       "print(\"Splitting\", total_candies, \"candy\" if total_candies == 1 else \"candies\")\n",
       "```"
      ],
      "text/plain": [
       "Correct: \n",
       "\n",
       "A straightforward (and totally fine) solution is to replace the original `print` call with:\n",
       "\n",
       "```python\n",
       "if total_candies == 1:\n",
       "    print(\"Splitting 1 candy\")\n",
       "else:\n",
       "    print(\"Splitting\", total_candies, \"candies\")\n",
       "```\n",
       "\n",
       "Here's a slightly more succinct solution using a conditional expression:\n",
       "\n",
       "```python\n",
       "print(\"Splitting\", total_candies, \"candy\" if total_candies == 1 else \"candies\")\n",
       "```"
      ]
     },
     "metadata": {},
     "output_type": "display_data"
    }
   ],
   "source": [
    "def to_smash(total_candies):\n",
    "    \"\"\"Return the number of leftover candies that must be smashed after distributing\n",
    "    the given number of candies evenly between 3 friends.\n",
    "    \n",
    "    >>> to_smash(91)\n",
    "    1\n",
    "    \"\"\"\n",
    "    if total_candies == 1:\n",
    "        print(\"Splitting\", total_candies, \"candy\")\n",
    "    else:\n",
    "        print(\"Splitting\", total_candies, \"candies\")\n",
    "    return total_candies % 3\n",
    "\n",
    "to_smash(91)\n",
    "to_smash(1)\n",
    "q2.check()"
   ]
  },
  {
   "cell_type": "markdown",
   "id": "5164bda9",
   "metadata": {
    "papermill": {
     "duration": 0.009757,
     "end_time": "2023-01-04T15:05:53.209744",
     "exception": false,
     "start_time": "2023-01-04T15:05:53.199987",
     "status": "completed"
    },
    "tags": []
   },
   "source": [
    "To get credit for completing this problem, and to see the official answer, run the code cell below."
   ]
  },
  {
   "cell_type": "code",
   "execution_count": 7,
   "id": "2c497bc5",
   "metadata": {
    "execution": {
     "iopub.execute_input": "2023-01-04T15:05:53.231601Z",
     "iopub.status.busy": "2023-01-04T15:05:53.231191Z",
     "iopub.status.idle": "2023-01-04T15:05:53.235741Z",
     "shell.execute_reply": "2023-01-04T15:05:53.234559Z"
    },
    "papermill": {
     "duration": 0.018217,
     "end_time": "2023-01-04T15:05:53.238031",
     "exception": false,
     "start_time": "2023-01-04T15:05:53.219814",
     "status": "completed"
    },
    "tags": []
   },
   "outputs": [],
   "source": [
    "# Check your answer (Run this code cell to receive credit!)\n",
    "#q2.solution()"
   ]
  },
  {
   "cell_type": "markdown",
   "id": "38f5ecda",
   "metadata": {
    "papermill": {
     "duration": 0.00978,
     "end_time": "2023-01-04T15:05:53.257995",
     "exception": false,
     "start_time": "2023-01-04T15:05:53.248215",
     "status": "completed"
    },
    "tags": []
   },
   "source": [
    "# 3. <span title=\"A bit spicy\" style=\"color: darkgreen \">🌶️</span>\n",
    "\n",
    "In the tutorial, we talked about deciding whether we're prepared for the weather. I said that I'm safe from today's weather if...\n",
    "- I have an umbrella...\n",
    "- or if the rain isn't too heavy and I have a hood...\n",
    "- otherwise, I'm still fine unless it's raining *and* it's a workday\n",
    "\n",
    "The function below uses our first attempt at turning this logic into a Python expression. I claimed that there was a bug in that code. Can you find it?\n",
    "\n",
    "To prove that `prepared_for_weather` is buggy, come up with a set of inputs where either:\n",
    "- the function returns `False` (but should have returned `True`), or\n",
    "- the function returned `True` (but should have returned `False`).\n",
    "\n",
    "To get credit for completing this question, your code should return a <font color='#33cc33'>Correct</font> result."
   ]
  },
  {
   "cell_type": "code",
   "execution_count": 8,
   "id": "4346a0e5",
   "metadata": {
    "execution": {
     "iopub.execute_input": "2023-01-04T15:05:53.280158Z",
     "iopub.status.busy": "2023-01-04T15:05:53.279760Z",
     "iopub.status.idle": "2023-01-04T15:05:53.292159Z",
     "shell.execute_reply": "2023-01-04T15:05:53.290656Z"
    },
    "papermill": {
     "duration": 0.027656,
     "end_time": "2023-01-04T15:05:53.295772",
     "exception": false,
     "start_time": "2023-01-04T15:05:53.268116",
     "status": "completed"
    },
    "tags": []
   },
   "outputs": [
    {
     "name": "stdout",
     "output_type": "stream",
     "text": [
      "False\n"
     ]
    },
    {
     "data": {
      "application/javascript": [
       "parent.postMessage({\"jupyterEvent\": \"custom.exercise_interaction\", \"data\": {\"outcomeType\": 1, \"valueTowardsCompletion\": 0.2, \"interactionType\": 1, \"questionType\": 1, \"questionId\": \"3_WeatherDebug\", \"learnToolsVersion\": \"0.3.4\", \"failureMessage\": \"\", \"exceptionClass\": \"\", \"trace\": \"\"}}, \"*\")"
      ],
      "text/plain": [
       "<IPython.core.display.Javascript object>"
      ]
     },
     "metadata": {},
     "output_type": "display_data"
    },
    {
     "data": {
      "text/markdown": [
       "<span style=\"color:#33cc33\">Correct:</span> \n",
       "\n",
       "One example of a failing test case is:\n",
       "\n",
       "```python\n",
       "have_umbrella = False\n",
       "rain_level = 0.0\n",
       "have_hood = False\n",
       "is_workday = False\n",
       "```\n",
       "\n",
       "Clearly we're prepared for the weather in this case. It's not raining. Not only that, it's not a workday, so we don't even need to leave the house! But our function will return False on these inputs.\n",
       "\n",
       "The key problem is that Python implictly parenthesizes the last part as:\n",
       "\n",
       "```python\n",
       "(not (rain_level > 0)) and is_workday\n",
       "```\n",
       "\n",
       "Whereas what we were trying to express would look more like:\n",
       "\n",
       "```python\n",
       "not (rain_level > 0 and is_workday)\n",
       "```\n"
      ],
      "text/plain": [
       "Correct: \n",
       "\n",
       "One example of a failing test case is:\n",
       "\n",
       "```python\n",
       "have_umbrella = False\n",
       "rain_level = 0.0\n",
       "have_hood = False\n",
       "is_workday = False\n",
       "```\n",
       "\n",
       "Clearly we're prepared for the weather in this case. It's not raining. Not only that, it's not a workday, so we don't even need to leave the house! But our function will return False on these inputs.\n",
       "\n",
       "The key problem is that Python implictly parenthesizes the last part as:\n",
       "\n",
       "```python\n",
       "(not (rain_level > 0)) and is_workday\n",
       "```\n",
       "\n",
       "Whereas what we were trying to express would look more like:\n",
       "\n",
       "```python\n",
       "not (rain_level > 0 and is_workday)\n",
       "```"
      ]
     },
     "metadata": {},
     "output_type": "display_data"
    }
   ],
   "source": [
    "def prepared_for_weather(have_umbrella, rain_level, have_hood, is_workday):\n",
    "    # Don't change this code. Our goal is just to find the bug, not fix it!\n",
    "    return have_umbrella or rain_level < 5 and have_hood or not rain_level > 0 and is_workday\n",
    "\n",
    "# Change the values of these inputs so they represent a case where prepared_for_weather\n",
    "# returns the wrong answer.\n",
    "have_umbrella = False\n",
    "rain_level = 0.0\n",
    "have_hood = False\n",
    "is_workday = False\n",
    "\n",
    "# Check what the function returns given the current values of the variables above\n",
    "actual = prepared_for_weather(have_umbrella, rain_level, have_hood, is_workday)\n",
    "print(actual)\n",
    "\n",
    "# Check your answer\n",
    "q3.check()"
   ]
  },
  {
   "cell_type": "code",
   "execution_count": 9,
   "id": "6d9aac44",
   "metadata": {
    "execution": {
     "iopub.execute_input": "2023-01-04T15:05:53.320010Z",
     "iopub.status.busy": "2023-01-04T15:05:53.319652Z",
     "iopub.status.idle": "2023-01-04T15:05:53.323462Z",
     "shell.execute_reply": "2023-01-04T15:05:53.322497Z"
    },
    "papermill": {
     "duration": 0.017763,
     "end_time": "2023-01-04T15:05:53.325607",
     "exception": false,
     "start_time": "2023-01-04T15:05:53.307844",
     "status": "completed"
    },
    "tags": []
   },
   "outputs": [],
   "source": [
    "#q3.hint()\n",
    "#q3.solution()"
   ]
  },
  {
   "cell_type": "markdown",
   "id": "919d13f0",
   "metadata": {
    "papermill": {
     "duration": 0.010098,
     "end_time": "2023-01-04T15:05:53.346305",
     "exception": false,
     "start_time": "2023-01-04T15:05:53.336207",
     "status": "completed"
    },
    "tags": []
   },
   "source": [
    "# 4.\n",
    "\n",
    "The function `is_negative` below is implemented correctly - it returns True if the given number is negative and False otherwise.\n",
    "\n",
    "However, it's more verbose than it needs to be. We can actually reduce the number of lines of code in this function by *75%* while keeping the same behaviour. \n",
    "\n",
    "See if you can come up with an equivalent body that uses just **one line** of code, and put it in the function `concise_is_negative`. (HINT: you don't even need Python's ternary syntax)"
   ]
  },
  {
   "cell_type": "code",
   "execution_count": 10,
   "id": "aab1bfce",
   "metadata": {
    "execution": {
     "iopub.execute_input": "2023-01-04T15:05:53.369870Z",
     "iopub.status.busy": "2023-01-04T15:05:53.369109Z",
     "iopub.status.idle": "2023-01-04T15:05:53.378074Z",
     "shell.execute_reply": "2023-01-04T15:05:53.377022Z"
    },
    "papermill": {
     "duration": 0.02305,
     "end_time": "2023-01-04T15:05:53.380226",
     "exception": false,
     "start_time": "2023-01-04T15:05:53.357176",
     "status": "completed"
    },
    "tags": []
   },
   "outputs": [
    {
     "data": {
      "application/javascript": [
       "parent.postMessage({\"jupyterEvent\": \"custom.exercise_interaction\", \"data\": {\"outcomeType\": 1, \"valueTowardsCompletion\": 0.2, \"interactionType\": 1, \"questionType\": 2, \"questionId\": \"4_ConciseIsNegative\", \"learnToolsVersion\": \"0.3.4\", \"failureMessage\": \"\", \"exceptionClass\": \"\", \"trace\": \"\"}}, \"*\")"
      ],
      "text/plain": [
       "<IPython.core.display.Javascript object>"
      ]
     },
     "metadata": {},
     "output_type": "display_data"
    },
    {
     "data": {
      "text/markdown": [
       "<span style=\"color:#33cc33\">Correct</span>"
      ],
      "text/plain": [
       "Correct"
      ]
     },
     "metadata": {},
     "output_type": "display_data"
    }
   ],
   "source": [
    "def is_negative(number):\n",
    "    if number < 0:\n",
    "        return True\n",
    "    else:\n",
    "        return False\n",
    "\n",
    "def concise_is_negative(number):\n",
    "    # Your code goes here (try to keep it to one line!)\n",
    "    return number < 0\n",
    "\n",
    "# Check your answer\n",
    "q4.check()"
   ]
  },
  {
   "cell_type": "code",
   "execution_count": 11,
   "id": "d82af346",
   "metadata": {
    "execution": {
     "iopub.execute_input": "2023-01-04T15:05:53.404065Z",
     "iopub.status.busy": "2023-01-04T15:05:53.403036Z",
     "iopub.status.idle": "2023-01-04T15:05:53.407826Z",
     "shell.execute_reply": "2023-01-04T15:05:53.406873Z"
    },
    "papermill": {
     "duration": 0.019043,
     "end_time": "2023-01-04T15:05:53.410062",
     "exception": false,
     "start_time": "2023-01-04T15:05:53.391019",
     "status": "completed"
    },
    "tags": []
   },
   "outputs": [],
   "source": [
    "#q4.hint()\n",
    "#q4.solution()"
   ]
  },
  {
   "cell_type": "markdown",
   "id": "7115a4fa",
   "metadata": {
    "papermill": {
     "duration": 0.010323,
     "end_time": "2023-01-04T15:05:53.431168",
     "exception": false,
     "start_time": "2023-01-04T15:05:53.420845",
     "status": "completed"
    },
    "tags": []
   },
   "source": [
    "# 5a.\n",
    "\n",
    "The boolean variables `ketchup`, `mustard` and `onion` represent whether a customer wants a particular topping on their hot dog. We want to implement a number of boolean functions that correspond to some yes-or-no questions about the customer's order. For example:"
   ]
  },
  {
   "cell_type": "code",
   "execution_count": 12,
   "id": "efc47296",
   "metadata": {
    "execution": {
     "iopub.execute_input": "2023-01-04T15:05:53.454767Z",
     "iopub.status.busy": "2023-01-04T15:05:53.454110Z",
     "iopub.status.idle": "2023-01-04T15:05:53.459143Z",
     "shell.execute_reply": "2023-01-04T15:05:53.458304Z"
    },
    "papermill": {
     "duration": 0.019488,
     "end_time": "2023-01-04T15:05:53.461336",
     "exception": false,
     "start_time": "2023-01-04T15:05:53.441848",
     "status": "completed"
    },
    "tags": []
   },
   "outputs": [],
   "source": [
    "def onionless(ketchup, mustard, onion):\n",
    "    \"\"\"Return whether the customer doesn't want onions.\n",
    "    \"\"\"\n",
    "    return not onion"
   ]
  },
  {
   "cell_type": "code",
   "execution_count": 13,
   "id": "cda7f6d0",
   "metadata": {
    "execution": {
     "iopub.execute_input": "2023-01-04T15:05:53.484644Z",
     "iopub.status.busy": "2023-01-04T15:05:53.484010Z",
     "iopub.status.idle": "2023-01-04T15:05:53.493025Z",
     "shell.execute_reply": "2023-01-04T15:05:53.492176Z"
    },
    "papermill": {
     "duration": 0.023129,
     "end_time": "2023-01-04T15:05:53.495128",
     "exception": false,
     "start_time": "2023-01-04T15:05:53.471999",
     "status": "completed"
    },
    "tags": []
   },
   "outputs": [
    {
     "data": {
      "application/javascript": [
       "parent.postMessage({\"jupyterEvent\": \"custom.exercise_interaction\", \"data\": {\"outcomeType\": 1, \"valueTowardsCompletion\": 0.2, \"interactionType\": 1, \"questionType\": 2, \"questionId\": \"5.1_AllToppings\", \"learnToolsVersion\": \"0.3.4\", \"failureMessage\": \"\", \"exceptionClass\": \"\", \"trace\": \"\"}}, \"*\")"
      ],
      "text/plain": [
       "<IPython.core.display.Javascript object>"
      ]
     },
     "metadata": {},
     "output_type": "display_data"
    },
    {
     "data": {
      "text/markdown": [
       "<span style=\"color:#33cc33\">Correct</span>"
      ],
      "text/plain": [
       "Correct"
      ]
     },
     "metadata": {},
     "output_type": "display_data"
    }
   ],
   "source": [
    "def wants_all_toppings(ketchup, mustard, onion):\n",
    "    \"\"\"Return whether the customer wants \"the works\" (all 3 toppings)\n",
    "    \"\"\"\n",
    "    return ketchup and mustard and onion\n",
    "\n",
    "# Check your answer\n",
    "q5.a.check()"
   ]
  },
  {
   "cell_type": "code",
   "execution_count": 14,
   "id": "d8fe5004",
   "metadata": {
    "execution": {
     "iopub.execute_input": "2023-01-04T15:05:53.518678Z",
     "iopub.status.busy": "2023-01-04T15:05:53.518037Z",
     "iopub.status.idle": "2023-01-04T15:05:53.522298Z",
     "shell.execute_reply": "2023-01-04T15:05:53.521504Z"
    },
    "papermill": {
     "duration": 0.018485,
     "end_time": "2023-01-04T15:05:53.524383",
     "exception": false,
     "start_time": "2023-01-04T15:05:53.505898",
     "status": "completed"
    },
    "tags": []
   },
   "outputs": [],
   "source": [
    "#q5.a.hint()\n",
    "#q5.a.solution()"
   ]
  },
  {
   "cell_type": "markdown",
   "id": "60ecd0a1",
   "metadata": {
    "papermill": {
     "duration": 0.0107,
     "end_time": "2023-01-04T15:05:53.546399",
     "exception": false,
     "start_time": "2023-01-04T15:05:53.535699",
     "status": "completed"
    },
    "tags": []
   },
   "source": [
    "# 5b.\n",
    "\n",
    "For the next function, fill in the body to match the English description in the docstring. "
   ]
  },
  {
   "cell_type": "code",
   "execution_count": 15,
   "id": "af7fb6fc",
   "metadata": {
    "execution": {
     "iopub.execute_input": "2023-01-04T15:05:53.570206Z",
     "iopub.status.busy": "2023-01-04T15:05:53.569427Z",
     "iopub.status.idle": "2023-01-04T15:05:53.579030Z",
     "shell.execute_reply": "2023-01-04T15:05:53.578198Z"
    },
    "papermill": {
     "duration": 0.023812,
     "end_time": "2023-01-04T15:05:53.581080",
     "exception": false,
     "start_time": "2023-01-04T15:05:53.557268",
     "status": "completed"
    },
    "tags": []
   },
   "outputs": [
    {
     "data": {
      "application/javascript": [
       "parent.postMessage({\"jupyterEvent\": \"custom.exercise_interaction\", \"data\": {\"outcomeType\": 1, \"valueTowardsCompletion\": 0.2, \"interactionType\": 1, \"questionType\": 2, \"questionId\": \"5.2_PlainDog\", \"learnToolsVersion\": \"0.3.4\", \"failureMessage\": \"\", \"exceptionClass\": \"\", \"trace\": \"\"}}, \"*\")"
      ],
      "text/plain": [
       "<IPython.core.display.Javascript object>"
      ]
     },
     "metadata": {},
     "output_type": "display_data"
    },
    {
     "data": {
      "text/markdown": [
       "<span style=\"color:#33cc33\">Correct:</span> \n",
       "\n",
       "One solution looks like:\n",
       "```python\n",
       "return not ketchup and not mustard and not onion\n",
       "```\n",
       "\n",
       "We can also [\"factor out\" the nots](https://en.wikipedia.org/wiki/De_Morgan%27s_laws) to get:\n",
       "\n",
       "```python\n",
       "return not (ketchup or mustard or onion)\n",
       "```"
      ],
      "text/plain": [
       "Correct: \n",
       "\n",
       "One solution looks like:\n",
       "```python\n",
       "return not ketchup and not mustard and not onion\n",
       "```\n",
       "\n",
       "We can also [\"factor out\" the nots](https://en.wikipedia.org/wiki/De_Morgan%27s_laws) to get:\n",
       "\n",
       "```python\n",
       "return not (ketchup or mustard or onion)\n",
       "```"
      ]
     },
     "metadata": {},
     "output_type": "display_data"
    }
   ],
   "source": [
    "def wants_plain_hotdog(ketchup, mustard, onion):\n",
    "    \"\"\"Return whether the customer wants a plain hot dog with no toppings.\n",
    "    \"\"\"\n",
    "    #return not ketchup and not mustard and not onion\n",
    "    return not (ketchup or mustard or onion)\n",
    "    \n",
    "# Check your answer\n",
    "q5.b.check()"
   ]
  },
  {
   "cell_type": "code",
   "execution_count": 16,
   "id": "2ec13fbf",
   "metadata": {
    "execution": {
     "iopub.execute_input": "2023-01-04T15:05:53.605325Z",
     "iopub.status.busy": "2023-01-04T15:05:53.604710Z",
     "iopub.status.idle": "2023-01-04T15:05:53.608904Z",
     "shell.execute_reply": "2023-01-04T15:05:53.608100Z"
    },
    "papermill": {
     "duration": 0.018973,
     "end_time": "2023-01-04T15:05:53.611050",
     "exception": false,
     "start_time": "2023-01-04T15:05:53.592077",
     "status": "completed"
    },
    "tags": []
   },
   "outputs": [],
   "source": [
    "#q5.b.hint()\n",
    "#q5.b.solution()"
   ]
  },
  {
   "cell_type": "markdown",
   "id": "15a2f309",
   "metadata": {
    "papermill": {
     "duration": 0.010843,
     "end_time": "2023-01-04T15:05:53.633097",
     "exception": false,
     "start_time": "2023-01-04T15:05:53.622254",
     "status": "completed"
    },
    "tags": []
   },
   "source": [
    "# 5c.\n",
    "\n",
    "You know what to do: for the next function, fill in the body to match the English description in the docstring."
   ]
  },
  {
   "cell_type": "code",
   "execution_count": 17,
   "id": "e31fc9ee",
   "metadata": {
    "execution": {
     "iopub.execute_input": "2023-01-04T15:05:53.657607Z",
     "iopub.status.busy": "2023-01-04T15:05:53.656965Z",
     "iopub.status.idle": "2023-01-04T15:05:53.666622Z",
     "shell.execute_reply": "2023-01-04T15:05:53.665553Z"
    },
    "papermill": {
     "duration": 0.024347,
     "end_time": "2023-01-04T15:05:53.668738",
     "exception": false,
     "start_time": "2023-01-04T15:05:53.644391",
     "status": "completed"
    },
    "tags": []
   },
   "outputs": [
    {
     "data": {
      "application/javascript": [
       "parent.postMessage({\"jupyterEvent\": \"custom.exercise_interaction\", \"data\": {\"outcomeType\": 1, \"valueTowardsCompletion\": 0.2, \"interactionType\": 1, \"questionType\": 2, \"questionId\": \"5.3_OneSauce\", \"learnToolsVersion\": \"0.3.4\", \"failureMessage\": \"\", \"exceptionClass\": \"\", \"trace\": \"\"}}, \"*\")"
      ],
      "text/plain": [
       "<IPython.core.display.Javascript object>"
      ]
     },
     "metadata": {},
     "output_type": "display_data"
    },
    {
     "data": {
      "text/markdown": [
       "<span style=\"color:#33cc33\">Correct</span>"
      ],
      "text/plain": [
       "Correct"
      ]
     },
     "metadata": {},
     "output_type": "display_data"
    }
   ],
   "source": [
    "def exactly_one_sauce(ketchup, mustard, onion):\n",
    "    \"\"\"Return whether the customer wants either ketchup or mustard, but not both.\n",
    "    (You may be familiar with this operation under the name \"exclusive or\")\n",
    "    \"\"\"\n",
    "    return (ketchup and not mustard) or (not ketchup and mustard)\n",
    "\n",
    "# Check your answer\n",
    "q5.c.check()"
   ]
  },
  {
   "cell_type": "code",
   "execution_count": 18,
   "id": "7a45ff9b",
   "metadata": {
    "execution": {
     "iopub.execute_input": "2023-01-04T15:05:53.693364Z",
     "iopub.status.busy": "2023-01-04T15:05:53.692726Z",
     "iopub.status.idle": "2023-01-04T15:05:53.697076Z",
     "shell.execute_reply": "2023-01-04T15:05:53.696192Z"
    },
    "papermill": {
     "duration": 0.019385,
     "end_time": "2023-01-04T15:05:53.699341",
     "exception": false,
     "start_time": "2023-01-04T15:05:53.679956",
     "status": "completed"
    },
    "tags": []
   },
   "outputs": [],
   "source": [
    "#q5.c.hint()\n",
    "#q5.c.solution()"
   ]
  },
  {
   "cell_type": "markdown",
   "id": "7406072d",
   "metadata": {
    "papermill": {
     "duration": 0.010957,
     "end_time": "2023-01-04T15:05:53.721845",
     "exception": false,
     "start_time": "2023-01-04T15:05:53.710888",
     "status": "completed"
    },
    "tags": []
   },
   "source": [
    "# 6. <span title=\"A bit spicy\" style=\"color: darkgreen \">🌶️</span>\n",
    "\n",
    "We’ve seen that calling `bool()` on an integer returns `False` if it’s equal to 0 and `True` otherwise. What happens if we call `int()` on a bool? Try it out in the notebook cell below.\n",
    "\n",
    "Can you take advantage of this to write a succinct function that corresponds to the English sentence \"does the customer want exactly one topping?\"?"
   ]
  },
  {
   "cell_type": "code",
   "execution_count": 19,
   "id": "95f3f8b4",
   "metadata": {
    "execution": {
     "iopub.execute_input": "2023-01-04T15:05:53.747326Z",
     "iopub.status.busy": "2023-01-04T15:05:53.746194Z",
     "iopub.status.idle": "2023-01-04T15:05:53.756494Z",
     "shell.execute_reply": "2023-01-04T15:05:53.755535Z"
    },
    "papermill": {
     "duration": 0.025393,
     "end_time": "2023-01-04T15:05:53.758690",
     "exception": false,
     "start_time": "2023-01-04T15:05:53.733297",
     "status": "completed"
    },
    "tags": []
   },
   "outputs": [
    {
     "data": {
      "application/javascript": [
       "parent.postMessage({\"jupyterEvent\": \"custom.exercise_interaction\", \"data\": {\"outcomeType\": 1, \"valueTowardsCompletion\": 0.2, \"interactionType\": 1, \"questionType\": 2, \"questionId\": \"6_OneTopping\", \"learnToolsVersion\": \"0.3.4\", \"failureMessage\": \"\", \"exceptionClass\": \"\", \"trace\": \"\"}}, \"*\")"
      ],
      "text/plain": [
       "<IPython.core.display.Javascript object>"
      ]
     },
     "metadata": {},
     "output_type": "display_data"
    },
    {
     "data": {
      "text/markdown": [
       "<span style=\"color:#33cc33\">Correct:</span> \n",
       "\n",
       "This condition would be pretty complicated to express using just `and`, `or` and `not`, but using boolean-to-integer conversion gives us this short solution:\n",
       "```python\n",
       "return (int(ketchup) + int(mustard) + int(onion)) == 1\n",
       "```\n",
       "\n",
       "Fun fact: we don't technically need to call `int` on the arguments. Just by doing addition with booleans, Python implicitly does the integer conversion. So we could also write...\n",
       "\n",
       "```python\n",
       "return (ketchup + mustard + onion) == 1\n",
       "```"
      ],
      "text/plain": [
       "Correct: \n",
       "\n",
       "This condition would be pretty complicated to express using just `and`, `or` and `not`, but using boolean-to-integer conversion gives us this short solution:\n",
       "```python\n",
       "return (int(ketchup) + int(mustard) + int(onion)) == 1\n",
       "```\n",
       "\n",
       "Fun fact: we don't technically need to call `int` on the arguments. Just by doing addition with booleans, Python implicitly does the integer conversion. So we could also write...\n",
       "\n",
       "```python\n",
       "return (ketchup + mustard + onion) == 1\n",
       "```"
      ]
     },
     "metadata": {},
     "output_type": "display_data"
    }
   ],
   "source": [
    "def exactly_one_topping(ketchup, mustard, onion):\n",
    "    \"\"\"Return whether the customer wants exactly one of the three available toppings\n",
    "    on their hot dog.\n",
    "    \"\"\"\n",
    "    #return (ketchup and not mustard and not onion) or (not ketchup and mustard and not onion) or (not ketchup and not mustard and onion)\n",
    "    #return (int(ketchup) + int(mustard) + int(onion)) == 1\n",
    "    return (ketchup + mustard + onion) == 1\n",
    "# Check your answer\n",
    "q6.check()"
   ]
  },
  {
   "cell_type": "code",
   "execution_count": 20,
   "id": "a09e2419",
   "metadata": {
    "execution": {
     "iopub.execute_input": "2023-01-04T15:05:53.784147Z",
     "iopub.status.busy": "2023-01-04T15:05:53.783134Z",
     "iopub.status.idle": "2023-01-04T15:05:53.787717Z",
     "shell.execute_reply": "2023-01-04T15:05:53.786795Z"
    },
    "papermill": {
     "duration": 0.01997,
     "end_time": "2023-01-04T15:05:53.790166",
     "exception": false,
     "start_time": "2023-01-04T15:05:53.770196",
     "status": "completed"
    },
    "tags": []
   },
   "outputs": [],
   "source": [
    "#q6.hint()\n",
    "#q6.solution()"
   ]
  },
  {
   "cell_type": "markdown",
   "id": "9113737e",
   "metadata": {
    "papermill": {
     "duration": 0.01156,
     "end_time": "2023-01-04T15:05:53.813576",
     "exception": false,
     "start_time": "2023-01-04T15:05:53.802016",
     "status": "completed"
    },
    "tags": []
   },
   "source": [
    "# 7. <span title=\"A bit spicy\" style=\"color: darkgreen \">🌶️</span> (Optional)\n",
    "\n",
    "In this problem we'll be working with a simplified version of [blackjack](https://en.wikipedia.org/wiki/Blackjack) (aka twenty-one). In this version there is one player (who you'll control) and a dealer. Play proceeds as follows:\n",
    "\n",
    "- The player is dealt two face-up cards. The dealer is dealt one face-up card.\n",
    "- The player may ask to be dealt another card ('hit') as many times as they wish. If the sum of their cards exceeds 21, they lose the round immediately.\n",
    "- The dealer then deals additional cards to himself until either:\n",
    "    - the sum of the dealer's cards exceeds 21, in which case the player wins the round\n",
    "    - the sum of the dealer's cards is greater than or equal to 17. If the player's total is greater than the dealer's, the player wins. Otherwise, the dealer wins (even in case of a tie).\n",
    "    \n",
    "When calculating the sum of cards, Jack, Queen, and King count for 10. Aces can count as 1 or 11 (when referring to a player's \"total\" above, we mean the largest total that can be made without exceeding 21. So e.g. A+8 = 19, A+8+8 = 17)\n",
    "\n",
    "For this problem, you'll write a function representing the player's decision-making strategy in this game. We've provided a very unintelligent implementation below:"
   ]
  },
  {
   "cell_type": "code",
   "execution_count": 21,
   "id": "cdbdb8dc",
   "metadata": {
    "execution": {
     "iopub.execute_input": "2023-01-04T15:05:53.840026Z",
     "iopub.status.busy": "2023-01-04T15:05:53.838999Z",
     "iopub.status.idle": "2023-01-04T15:05:53.845439Z",
     "shell.execute_reply": "2023-01-04T15:05:53.844323Z"
    },
    "papermill": {
     "duration": 0.022607,
     "end_time": "2023-01-04T15:05:53.848143",
     "exception": false,
     "start_time": "2023-01-04T15:05:53.825536",
     "status": "completed"
    },
    "tags": []
   },
   "outputs": [],
   "source": [
    "def should_hit(dealer_total, player_total, player_low_aces, player_high_aces):\n",
    "    \"\"\"Return True if the player should hit (request another card) given the current game\n",
    "    state, or False if the player should stay.\n",
    "    When calculating a hand's total value, we count aces as \"high\" (with value 11) if doing so\n",
    "    doesn't bring the total above 21, otherwise we count them as low (with value 1). \n",
    "    For example, if the player's hand is {A, A, A, 7}, we will count it as 11 + 1 + 1 + 7,\n",
    "    and therefore set player_total=20, player_low_aces=2, player_high_aces=1.\n",
    "    \"\"\"\n",
    "    return  player_total < 14"
   ]
  },
  {
   "cell_type": "markdown",
   "id": "e48724fd",
   "metadata": {
    "papermill": {
     "duration": 0.011745,
     "end_time": "2023-01-04T15:05:53.871887",
     "exception": false,
     "start_time": "2023-01-04T15:05:53.860142",
     "status": "completed"
    },
    "tags": []
   },
   "source": [
    "This very conservative agent *always* sticks with the hand of two cards that they're dealt.\n",
    "\n",
    "We'll be simulating games between your player agent and our own dealer agent by calling your function.\n",
    "\n",
    "Try running the function below to see an example of a simulated game:"
   ]
  },
  {
   "cell_type": "code",
   "execution_count": 22,
   "id": "6f38d1b8",
   "metadata": {
    "execution": {
     "iopub.execute_input": "2023-01-04T15:05:53.897199Z",
     "iopub.status.busy": "2023-01-04T15:05:53.896768Z",
     "iopub.status.idle": "2023-01-04T15:05:53.902363Z",
     "shell.execute_reply": "2023-01-04T15:05:53.901141Z"
    },
    "papermill": {
     "duration": 0.021372,
     "end_time": "2023-01-04T15:05:53.905077",
     "exception": false,
     "start_time": "2023-01-04T15:05:53.883705",
     "status": "completed"
    },
    "tags": []
   },
   "outputs": [
    {
     "name": "stdout",
     "output_type": "stream",
     "text": [
      "Player starts with 3 and 4 (total = 7)\n",
      "Dealer starts with A\n",
      "\n",
      "__Player's turn__\n",
      "Player hits and receives 9. (total = 16)\n",
      "Player stays\n",
      "\n",
      "__Dealer's turn__\n",
      "Dealer hits and receives Q. (total = 21)\n",
      "Dealer stands.\n",
      "Dealer wins. 21 >= 16\n"
     ]
    }
   ],
   "source": [
    "q7.simulate_one_game()"
   ]
  },
  {
   "cell_type": "markdown",
   "id": "06193da3",
   "metadata": {
    "papermill": {
     "duration": 0.011151,
     "end_time": "2023-01-04T15:05:53.928229",
     "exception": false,
     "start_time": "2023-01-04T15:05:53.917078",
     "status": "completed"
    },
    "tags": []
   },
   "source": [
    "The real test of your agent's mettle is their average win rate over many games. Try calling the function below to simulate 50000 games of blackjack (it may take a couple seconds):"
   ]
  },
  {
   "cell_type": "code",
   "execution_count": 23,
   "id": "099e78a5",
   "metadata": {
    "execution": {
     "iopub.execute_input": "2023-01-04T15:05:53.953698Z",
     "iopub.status.busy": "2023-01-04T15:05:53.953258Z",
     "iopub.status.idle": "2023-01-04T15:05:55.865411Z",
     "shell.execute_reply": "2023-01-04T15:05:55.864116Z"
    },
    "papermill": {
     "duration": 1.928149,
     "end_time": "2023-01-04T15:05:55.868308",
     "exception": false,
     "start_time": "2023-01-04T15:05:53.940159",
     "status": "completed"
    },
    "tags": []
   },
   "outputs": [
    {
     "name": "stdout",
     "output_type": "stream",
     "text": [
      "Player won 20650 out of 50000 games (win rate = 41.3%)\n"
     ]
    }
   ],
   "source": [
    "q7.simulate(n_games=50000)"
   ]
  },
  {
   "cell_type": "markdown",
   "id": "13fd2c95",
   "metadata": {
    "papermill": {
     "duration": 0.01156,
     "end_time": "2023-01-04T15:05:55.891715",
     "exception": false,
     "start_time": "2023-01-04T15:05:55.880155",
     "status": "completed"
    },
    "tags": []
   },
   "source": [
    "Our dumb agent that completely ignores the game state still manages to win shockingly often!\n",
    "\n",
    "Try adding some more smarts to the `should_hit` function and see how it affects the results."
   ]
  },
  {
   "cell_type": "code",
   "execution_count": 24,
   "id": "7cd238cc",
   "metadata": {
    "execution": {
     "iopub.execute_input": "2023-01-04T15:05:55.916973Z",
     "iopub.status.busy": "2023-01-04T15:05:55.916533Z",
     "iopub.status.idle": "2023-01-04T15:05:57.791938Z",
     "shell.execute_reply": "2023-01-04T15:05:57.790460Z"
    },
    "papermill": {
     "duration": 1.891529,
     "end_time": "2023-01-04T15:05:57.794973",
     "exception": false,
     "start_time": "2023-01-04T15:05:55.903444",
     "status": "completed"
    },
    "tags": []
   },
   "outputs": [
    {
     "name": "stdout",
     "output_type": "stream",
     "text": [
      "Player won 21072 out of 50000 games (win rate = 42.1%)\n"
     ]
    }
   ],
   "source": [
    "def should_hit(dealer_total, player_total, player_low_aces, player_high_aces):\n",
    "    \"\"\"Return True if the player should hit (request another card) given the current game\n",
    "    state, or False if the player should stay.\n",
    "    When calculating a hand's total value, we count aces as \"high\" (with value 11) if doing so\n",
    "    doesn't bring the total above 21, otherwise we count them as low (with value 1). \n",
    "    For example, if the player's hand is {A, A, A, 7}, we will count it as 11 + 1 + 1 + 7,\n",
    "    and therefore set player_total=20, player_low_aces=2, player_high_aces=1.\n",
    "    \"\"\"\n",
    "    return  player_total < 14\n",
    "\n",
    "q7.simulate(n_games=50000)"
   ]
  },
  {
   "cell_type": "markdown",
   "id": "67c3ec57",
   "metadata": {
    "papermill": {
     "duration": 0.011669,
     "end_time": "2023-01-04T15:05:57.819055",
     "exception": false,
     "start_time": "2023-01-04T15:05:57.807386",
     "status": "completed"
    },
    "tags": []
   },
   "source": [
    "# Keep Going\n",
    "\n",
    "Learn about **[lists and tuples](https://www.kaggle.com/colinmorris/lists)** to handle multiple items of data in a systematic way."
   ]
  },
  {
   "cell_type": "markdown",
   "id": "3d7c2356",
   "metadata": {
    "papermill": {
     "duration": 0.01161,
     "end_time": "2023-01-04T15:05:57.842666",
     "exception": false,
     "start_time": "2023-01-04T15:05:57.831056",
     "status": "completed"
    },
    "tags": []
   },
   "source": [
    "---\n",
    "\n",
    "\n",
    "\n",
    "\n",
    "*Have questions or comments? Visit the [course discussion forum](https://www.kaggle.com/learn/python/discussion) to chat with other learners.*"
   ]
  }
 ],
 "metadata": {
  "kernelspec": {
   "display_name": "Python 3",
   "language": "python",
   "name": "python3"
  },
  "language_info": {
   "codemirror_mode": {
    "name": "ipython",
    "version": 3
   },
   "file_extension": ".py",
   "mimetype": "text/x-python",
   "name": "python",
   "nbconvert_exporter": "python",
   "pygments_lexer": "ipython3",
   "version": "3.7.12"
  },
  "papermill": {
   "default_parameters": {},
   "duration": 14.050468,
   "end_time": "2023-01-04T15:05:58.475609",
   "environment_variables": {},
   "exception": null,
   "input_path": "__notebook__.ipynb",
   "output_path": "__notebook__.ipynb",
   "parameters": {},
   "start_time": "2023-01-04T15:05:44.425141",
   "version": "2.3.4"
  }
 },
 "nbformat": 4,
 "nbformat_minor": 5
}
