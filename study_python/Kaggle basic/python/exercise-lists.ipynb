{
 "cells": [
  {
   "cell_type": "markdown",
   "id": "87e9a830",
   "metadata": {
    "papermill": {
     "duration": 0.006461,
     "end_time": "2023-01-05T12:50:38.609189",
     "exception": false,
     "start_time": "2023-01-05T12:50:38.602728",
     "status": "completed"
    },
    "tags": []
   },
   "source": [
    "**This notebook is an exercise in the [Python](https://www.kaggle.com/learn/python) course.  You can reference the tutorial at [this link](https://www.kaggle.com/colinmorris/lists).**\n",
    "\n",
    "---\n"
   ]
  },
  {
   "cell_type": "markdown",
   "id": "e32a4fcb",
   "metadata": {
    "papermill": {
     "duration": 0.006735,
     "end_time": "2023-01-05T12:50:38.621012",
     "exception": false,
     "start_time": "2023-01-05T12:50:38.614277",
     "status": "completed"
    },
    "tags": []
   },
   "source": [
    "Things get more interesting with lists. You'll apply your new knowledge to solve the questions below. Remember to run the following cell first."
   ]
  },
  {
   "cell_type": "code",
   "execution_count": 1,
   "id": "655c232d",
   "metadata": {
    "execution": {
     "iopub.execute_input": "2023-01-05T12:50:38.637655Z",
     "iopub.status.busy": "2023-01-05T12:50:38.637186Z",
     "iopub.status.idle": "2023-01-05T12:50:38.696538Z",
     "shell.execute_reply": "2023-01-05T12:50:38.694926Z"
    },
    "papermill": {
     "duration": 0.071662,
     "end_time": "2023-01-05T12:50:38.699731",
     "exception": false,
     "start_time": "2023-01-05T12:50:38.628069",
     "status": "completed"
    },
    "tags": []
   },
   "outputs": [
    {
     "name": "stdout",
     "output_type": "stream",
     "text": [
      "Setup complete.\n"
     ]
    }
   ],
   "source": [
    "from learntools.core import binder; binder.bind(globals())\n",
    "from learntools.python.ex4 import *\n",
    "print('Setup complete.')"
   ]
  },
  {
   "cell_type": "markdown",
   "id": "9b179768",
   "metadata": {
    "papermill": {
     "duration": 0.004993,
     "end_time": "2023-01-05T12:50:38.710764",
     "exception": false,
     "start_time": "2023-01-05T12:50:38.705771",
     "status": "completed"
    },
    "tags": []
   },
   "source": [
    "# 1.\n",
    "\n",
    "Complete the function below according to its docstring."
   ]
  },
  {
   "cell_type": "code",
   "execution_count": 2,
   "id": "d300c517",
   "metadata": {
    "execution": {
     "iopub.execute_input": "2023-01-05T12:50:38.723234Z",
     "iopub.status.busy": "2023-01-05T12:50:38.722542Z",
     "iopub.status.idle": "2023-01-05T12:50:38.736363Z",
     "shell.execute_reply": "2023-01-05T12:50:38.735164Z"
    },
    "papermill": {
     "duration": 0.023009,
     "end_time": "2023-01-05T12:50:38.738763",
     "exception": false,
     "start_time": "2023-01-05T12:50:38.715754",
     "status": "completed"
    },
    "tags": []
   },
   "outputs": [
    {
     "data": {
      "application/javascript": [
       "parent.postMessage({\"jupyterEvent\": \"custom.exercise_interaction\", \"data\": {\"outcomeType\": 1, \"valueTowardsCompletion\": 0.2, \"interactionType\": 1, \"questionType\": 2, \"questionId\": \"1_SelectSecondItem\", \"learnToolsVersion\": \"0.3.4\", \"failureMessage\": \"\", \"exceptionClass\": \"\", \"trace\": \"\"}}, \"*\")"
      ],
      "text/plain": [
       "<IPython.core.display.Javascript object>"
      ]
     },
     "metadata": {},
     "output_type": "display_data"
    },
    {
     "data": {
      "text/markdown": [
       "<span style=\"color:#33cc33\">Correct</span>"
      ],
      "text/plain": [
       "Correct"
      ]
     },
     "metadata": {},
     "output_type": "display_data"
    }
   ],
   "source": [
    "def select_second(L):\n",
    "    \"\"\"Return the second element of the given list. If the list has no second\n",
    "    element, return None.\n",
    "    \"\"\"\n",
    "    if len(L) < 2:\n",
    "        return None\n",
    "    return L[1]\n",
    "    \n",
    "# Check your answer\n",
    "q1.check()"
   ]
  },
  {
   "cell_type": "code",
   "execution_count": 3,
   "id": "4715a884",
   "metadata": {
    "execution": {
     "iopub.execute_input": "2023-01-05T12:50:38.752044Z",
     "iopub.status.busy": "2023-01-05T12:50:38.751217Z",
     "iopub.status.idle": "2023-01-05T12:50:38.756306Z",
     "shell.execute_reply": "2023-01-05T12:50:38.755028Z"
    },
    "papermill": {
     "duration": 0.0164,
     "end_time": "2023-01-05T12:50:38.760646",
     "exception": false,
     "start_time": "2023-01-05T12:50:38.744246",
     "status": "completed"
    },
    "tags": []
   },
   "outputs": [],
   "source": [
    "#q1.hint()\n",
    "#q1.solution()"
   ]
  },
  {
   "cell_type": "markdown",
   "id": "33393bd1",
   "metadata": {
    "papermill": {
     "duration": 0.00511,
     "end_time": "2023-01-05T12:50:38.773458",
     "exception": false,
     "start_time": "2023-01-05T12:50:38.768348",
     "status": "completed"
    },
    "tags": []
   },
   "source": [
    "# 2.\n",
    "\n",
    "You are analyzing sports teams.  Members of each team are stored in a list. The Coach is the first name in the list, the captain is the second name in the list, and other players are listed after that. \n",
    "These lists are stored in another list, which starts with the best team and proceeds through the list to the worst team last.  Complete the function below to select the **captain** of the worst team."
   ]
  },
  {
   "cell_type": "code",
   "execution_count": 4,
   "id": "b809eea5",
   "metadata": {
    "execution": {
     "iopub.execute_input": "2023-01-05T12:50:38.785677Z",
     "iopub.status.busy": "2023-01-05T12:50:38.785170Z",
     "iopub.status.idle": "2023-01-05T12:50:38.796002Z",
     "shell.execute_reply": "2023-01-05T12:50:38.794825Z"
    },
    "papermill": {
     "duration": 0.020551,
     "end_time": "2023-01-05T12:50:38.799199",
     "exception": false,
     "start_time": "2023-01-05T12:50:38.778648",
     "status": "completed"
    },
    "tags": []
   },
   "outputs": [
    {
     "data": {
      "application/javascript": [
       "parent.postMessage({\"jupyterEvent\": \"custom.exercise_interaction\", \"data\": {\"outcomeType\": 1, \"valueTowardsCompletion\": 0.2, \"interactionType\": 1, \"questionType\": 2, \"questionId\": \"2_LosingTeamCaptain\", \"learnToolsVersion\": \"0.3.4\", \"failureMessage\": \"\", \"exceptionClass\": \"\", \"trace\": \"\"}}, \"*\")"
      ],
      "text/plain": [
       "<IPython.core.display.Javascript object>"
      ]
     },
     "metadata": {},
     "output_type": "display_data"
    },
    {
     "data": {
      "text/markdown": [
       "<span style=\"color:#33cc33\">Correct</span>"
      ],
      "text/plain": [
       "Correct"
      ]
     },
     "metadata": {},
     "output_type": "display_data"
    }
   ],
   "source": [
    "def losing_team_captain(teams):\n",
    "    \"\"\"Given a list of teams, where each team is a list of names, return the 2nd player (captain)\n",
    "    from the last listed team\n",
    "    \"\"\"\n",
    "    return teams[-1][1]\n",
    "\n",
    "# Check your answer\n",
    "q2.check()"
   ]
  },
  {
   "cell_type": "code",
   "execution_count": 5,
   "id": "f54608fd",
   "metadata": {
    "execution": {
     "iopub.execute_input": "2023-01-05T12:50:38.813032Z",
     "iopub.status.busy": "2023-01-05T12:50:38.812616Z",
     "iopub.status.idle": "2023-01-05T12:50:38.817081Z",
     "shell.execute_reply": "2023-01-05T12:50:38.816024Z"
    },
    "papermill": {
     "duration": 0.013371,
     "end_time": "2023-01-05T12:50:38.819304",
     "exception": false,
     "start_time": "2023-01-05T12:50:38.805933",
     "status": "completed"
    },
    "tags": []
   },
   "outputs": [],
   "source": [
    "#q2.hint()\n",
    "#q2.solution()"
   ]
  },
  {
   "cell_type": "markdown",
   "id": "ca80b83d",
   "metadata": {
    "papermill": {
     "duration": 0.005107,
     "end_time": "2023-01-05T12:50:38.830277",
     "exception": false,
     "start_time": "2023-01-05T12:50:38.825170",
     "status": "completed"
    },
    "tags": []
   },
   "source": [
    "# 3.\n",
    "\n",
    "The next iteration of Mario Kart will feature an extra-infuriating new item, the *Purple Shell*. When used, it warps the last place racer into first place and the first place racer into last place. Complete the function below to implement the Purple Shell's effect."
   ]
  },
  {
   "cell_type": "code",
   "execution_count": 6,
   "id": "fdcd16be",
   "metadata": {
    "execution": {
     "iopub.execute_input": "2023-01-05T12:50:38.843218Z",
     "iopub.status.busy": "2023-01-05T12:50:38.842808Z",
     "iopub.status.idle": "2023-01-05T12:50:38.852418Z",
     "shell.execute_reply": "2023-01-05T12:50:38.850957Z"
    },
    "papermill": {
     "duration": 0.018904,
     "end_time": "2023-01-05T12:50:38.854567",
     "exception": false,
     "start_time": "2023-01-05T12:50:38.835663",
     "status": "completed"
    },
    "tags": []
   },
   "outputs": [
    {
     "data": {
      "application/javascript": [
       "parent.postMessage({\"jupyterEvent\": \"custom.exercise_interaction\", \"data\": {\"outcomeType\": 1, \"valueTowardsCompletion\": 0.2, \"interactionType\": 1, \"questionType\": 2, \"questionId\": \"3_PurpleShell\", \"learnToolsVersion\": \"0.3.4\", \"failureMessage\": \"\", \"exceptionClass\": \"\", \"trace\": \"\"}}, \"*\")"
      ],
      "text/plain": [
       "<IPython.core.display.Javascript object>"
      ]
     },
     "metadata": {},
     "output_type": "display_data"
    },
    {
     "data": {
      "text/markdown": [
       "<span style=\"color:#33cc33\">Correct</span>"
      ],
      "text/plain": [
       "Correct"
      ]
     },
     "metadata": {},
     "output_type": "display_data"
    }
   ],
   "source": [
    "def purple_shell(racers):\n",
    "    \"\"\"Given a list of racers, set the first place racer (at the front of the list) to last\n",
    "    place and vice versa.\n",
    "    \n",
    "    >>> r = [\"Mario\", \"Bowser\", \"Luigi\"]\n",
    "    >>> purple_shell(r)\n",
    "    >>> r\n",
    "    [\"Luigi\", \"Bowser\", \"Mario\"]\n",
    "    \"\"\"\n",
    "    \n",
    "    \"\"\"\n",
    "    temp = racers[0]\n",
    "    racers[0] = racers[-1]\n",
    "    racers[-1] = temp\n",
    "    \"\"\"\n",
    "    racers[0], racers[-1] = racers[-1], racers[0]\n",
    "    \n",
    "# Check your answer\n",
    "q3.check()"
   ]
  },
  {
   "cell_type": "code",
   "execution_count": 7,
   "id": "d34e08ee",
   "metadata": {
    "execution": {
     "iopub.execute_input": "2023-01-05T12:50:38.875285Z",
     "iopub.status.busy": "2023-01-05T12:50:38.873947Z",
     "iopub.status.idle": "2023-01-05T12:50:38.880416Z",
     "shell.execute_reply": "2023-01-05T12:50:38.878805Z"
    },
    "papermill": {
     "duration": 0.02067,
     "end_time": "2023-01-05T12:50:38.884212",
     "exception": false,
     "start_time": "2023-01-05T12:50:38.863542",
     "status": "completed"
    },
    "tags": []
   },
   "outputs": [],
   "source": [
    "#q3.hint()\n",
    "#q3.solution()"
   ]
  },
  {
   "cell_type": "markdown",
   "id": "c457b638",
   "metadata": {
    "papermill": {
     "duration": 0.009128,
     "end_time": "2023-01-05T12:50:38.901491",
     "exception": false,
     "start_time": "2023-01-05T12:50:38.892363",
     "status": "completed"
    },
    "tags": []
   },
   "source": [
    "# 4.\n",
    "\n",
    "What are the lengths of the following lists? Fill in the variable `lengths` with your predictions. (Try to make a prediction for each list *without* just calling `len()` on it.)"
   ]
  },
  {
   "cell_type": "code",
   "execution_count": 8,
   "id": "f8ef1499",
   "metadata": {
    "execution": {
     "iopub.execute_input": "2023-01-05T12:50:38.922532Z",
     "iopub.status.busy": "2023-01-05T12:50:38.921844Z",
     "iopub.status.idle": "2023-01-05T12:50:38.930937Z",
     "shell.execute_reply": "2023-01-05T12:50:38.930174Z"
    },
    "papermill": {
     "duration": 0.022862,
     "end_time": "2023-01-05T12:50:38.933381",
     "exception": false,
     "start_time": "2023-01-05T12:50:38.910519",
     "status": "completed"
    },
    "tags": []
   },
   "outputs": [
    {
     "data": {
      "application/javascript": [
       "parent.postMessage({\"jupyterEvent\": \"custom.exercise_interaction\", \"data\": {\"outcomeType\": 1, \"valueTowardsCompletion\": 0.2, \"interactionType\": 1, \"questionType\": 1, \"questionId\": \"4_UnderstandLen\", \"learnToolsVersion\": \"0.3.4\", \"failureMessage\": \"\", \"exceptionClass\": \"\", \"trace\": \"\"}}, \"*\")"
      ],
      "text/plain": [
       "<IPython.core.display.Javascript object>"
      ]
     },
     "metadata": {},
     "output_type": "display_data"
    },
    {
     "data": {
      "text/markdown": [
       "<span style=\"color:#33cc33\">Correct:</span> \n",
       "\n",
       "\n",
       "- a: There are three items in this list. Nothing tricky yet.\n",
       "- b: The list `[2, 3]` counts as a single item. It has one item before it. So we have 2 items in the list\n",
       "- c: The empty list has 0 items\n",
       "- d: The expression is the same as the list `[2, 3]`, which has length 2."
      ],
      "text/plain": [
       "Correct: \n",
       "\n",
       "\n",
       "- a: There are three items in this list. Nothing tricky yet.\n",
       "- b: The list `[2, 3]` counts as a single item. It has one item before it. So we have 2 items in the list\n",
       "- c: The empty list has 0 items\n",
       "- d: The expression is the same as the list `[2, 3]`, which has length 2."
      ]
     },
     "metadata": {},
     "output_type": "display_data"
    }
   ],
   "source": [
    "a = [1, 2, 3]\n",
    "b = [1, [2, 3]]\n",
    "c = []\n",
    "d = [1, 2, 3][1:]\n",
    "\n",
    "# Put your predictions in the list below. Lengths should contain 4 numbers, the\n",
    "# first being the length of a, the second being the length of b and so on.\n",
    "lengths = [3,2,0,2]\n",
    "\n",
    "# Check your answer\n",
    "q4.check()"
   ]
  },
  {
   "cell_type": "code",
   "execution_count": 9,
   "id": "947ecdef",
   "metadata": {
    "execution": {
     "iopub.execute_input": "2023-01-05T12:50:38.953081Z",
     "iopub.status.busy": "2023-01-05T12:50:38.952671Z",
     "iopub.status.idle": "2023-01-05T12:50:38.957614Z",
     "shell.execute_reply": "2023-01-05T12:50:38.956588Z"
    },
    "papermill": {
     "duration": 0.0178,
     "end_time": "2023-01-05T12:50:38.959948",
     "exception": false,
     "start_time": "2023-01-05T12:50:38.942148",
     "status": "completed"
    },
    "tags": []
   },
   "outputs": [],
   "source": [
    "# line below provides some explanation\n",
    "#q4.solution()"
   ]
  },
  {
   "cell_type": "markdown",
   "id": "92495c36",
   "metadata": {
    "papermill": {
     "duration": 0.005421,
     "end_time": "2023-01-05T12:50:38.971205",
     "exception": false,
     "start_time": "2023-01-05T12:50:38.965784",
     "status": "completed"
    },
    "tags": []
   },
   "source": [
    "# 5. <span title=\"A bit spicy\" style=\"color: darkgreen \">🌶️</span>\n",
    "\n",
    "We're using lists to record people who attended our party and what order they arrived in. For example, the following list represents a party with 7 guests, in which Adela showed up first and Ford was the last to arrive:\n",
    "\n",
    "    party_attendees = ['Adela', 'Fleda', 'Owen', 'May', 'Mona', 'Gilbert', 'Ford']\n",
    "\n",
    "A guest is considered 'fashionably late' if they arrived after at least half of the party's guests. However, they must not be the very last guest (that's taking it too far). In the above example, Mona and Gilbert are the only guests who were fashionably late.\n",
    "\n",
    "Complete the function below which takes a list of party attendees as well as a person, and tells us whether that person is fashionably late."
   ]
  },
  {
   "cell_type": "code",
   "execution_count": 10,
   "id": "5d37f981",
   "metadata": {
    "execution": {
     "iopub.execute_input": "2023-01-05T12:50:38.984358Z",
     "iopub.status.busy": "2023-01-05T12:50:38.983952Z",
     "iopub.status.idle": "2023-01-05T12:50:38.993785Z",
     "shell.execute_reply": "2023-01-05T12:50:38.992828Z"
    },
    "papermill": {
     "duration": 0.018874,
     "end_time": "2023-01-05T12:50:38.995916",
     "exception": false,
     "start_time": "2023-01-05T12:50:38.977042",
     "status": "completed"
    },
    "tags": []
   },
   "outputs": [
    {
     "data": {
      "application/javascript": [
       "parent.postMessage({\"jupyterEvent\": \"custom.exercise_interaction\", \"data\": {\"outcomeType\": 1, \"valueTowardsCompletion\": 0.2, \"interactionType\": 1, \"questionType\": 2, \"questionId\": \"5_FashionablyLate\", \"learnToolsVersion\": \"0.3.4\", \"failureMessage\": \"\", \"exceptionClass\": \"\", \"trace\": \"\"}}, \"*\")"
      ],
      "text/plain": [
       "<IPython.core.display.Javascript object>"
      ]
     },
     "metadata": {},
     "output_type": "display_data"
    },
    {
     "data": {
      "text/markdown": [
       "<span style=\"color:#33cc33\">Correct</span>"
      ],
      "text/plain": [
       "Correct"
      ]
     },
     "metadata": {},
     "output_type": "display_data"
    }
   ],
   "source": [
    "def fashionably_late(arrivals, name):\n",
    "    \"\"\"Given an ordered list of arrivals to the party and a name, return whether the guest with that\n",
    "    name was fashionably late.\n",
    "    \"\"\"\n",
    "    \n",
    "    \"\"\"\n",
    "    order = arrivals.index(name)\n",
    "    return order >= len(arrivals) / 2 and order != len(arrivals) - 1\n",
    "    \"\"\"\n",
    "    return name in arrivals[round(len(arrivals)/2):-1]\n",
    "    \n",
    "# Check your answer\n",
    "q5.check()"
   ]
  },
  {
   "cell_type": "code",
   "execution_count": 11,
   "id": "6681d366",
   "metadata": {
    "execution": {
     "iopub.execute_input": "2023-01-05T12:50:39.010348Z",
     "iopub.status.busy": "2023-01-05T12:50:39.009974Z",
     "iopub.status.idle": "2023-01-05T12:50:39.014666Z",
     "shell.execute_reply": "2023-01-05T12:50:39.012961Z"
    },
    "papermill": {
     "duration": 0.014486,
     "end_time": "2023-01-05T12:50:39.016826",
     "exception": false,
     "start_time": "2023-01-05T12:50:39.002340",
     "status": "completed"
    },
    "tags": []
   },
   "outputs": [],
   "source": [
    "#q5.hint()\n",
    "#q5.solution()"
   ]
  },
  {
   "cell_type": "markdown",
   "id": "0cdb834c",
   "metadata": {
    "papermill": {
     "duration": 0.005868,
     "end_time": "2023-01-05T12:50:39.028781",
     "exception": false,
     "start_time": "2023-01-05T12:50:39.022913",
     "status": "completed"
    },
    "tags": []
   },
   "source": [
    "# Keep Going\n",
    "\n",
    "That's it for lists and tuples! Now you have the baseline knowledge to **[learn about loops](https://www.kaggle.com/colinmorris/loops-and-list-comprehensions)**, which is where lists and tuples get really interesting. "
   ]
  },
  {
   "cell_type": "markdown",
   "id": "beee570b",
   "metadata": {
    "papermill": {
     "duration": 0.005557,
     "end_time": "2023-01-05T12:50:39.040229",
     "exception": false,
     "start_time": "2023-01-05T12:50:39.034672",
     "status": "completed"
    },
    "tags": []
   },
   "source": [
    "---\n",
    "\n",
    "\n",
    "\n",
    "\n",
    "*Have questions or comments? Visit the [course discussion forum](https://www.kaggle.com/learn/python/discussion) to chat with other learners.*"
   ]
  }
 ],
 "metadata": {
  "kernelspec": {
   "display_name": "Python 3",
   "language": "python",
   "name": "python3"
  },
  "language_info": {
   "codemirror_mode": {
    "name": "ipython",
    "version": 3
   },
   "file_extension": ".py",
   "mimetype": "text/x-python",
   "name": "python",
   "nbconvert_exporter": "python",
   "pygments_lexer": "ipython3",
   "version": "3.7.12"
  },
  "papermill": {
   "default_parameters": {},
   "duration": 9.868342,
   "end_time": "2023-01-05T12:50:39.667495",
   "environment_variables": {},
   "exception": null,
   "input_path": "__notebook__.ipynb",
   "output_path": "__notebook__.ipynb",
   "parameters": {},
   "start_time": "2023-01-05T12:50:29.799153",
   "version": "2.3.4"
  }
 },
 "nbformat": 4,
 "nbformat_minor": 5
}
