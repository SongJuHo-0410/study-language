{
 "cells": [
  {
   "cell_type": "markdown",
   "id": "dc0bd783",
   "metadata": {
    "papermill": {
     "duration": 0.011489,
     "end_time": "2023-01-11T11:28:36.446254",
     "exception": false,
     "start_time": "2023-01-11T11:28:36.434765",
     "status": "completed"
    },
    "tags": []
   },
   "source": [
    "**This notebook is an exercise in the [Intro to Programming](https://www.kaggle.com/learn/intro-to-programming) course.  You can reference the tutorial at [this link](https://www.kaggle.com/alexisbcook/data-types).**\n",
    "\n",
    "---\n"
   ]
  },
  {
   "cell_type": "markdown",
   "id": "b04fe000",
   "metadata": {
    "papermill": {
     "duration": 0.007167,
     "end_time": "2023-01-11T11:28:36.462044",
     "exception": false,
     "start_time": "2023-01-11T11:28:36.454877",
     "status": "completed"
    },
    "tags": []
   },
   "source": [
    "In the tutorial, you learned about four different data types: floats, integers, strings, and booleans.  In this exercise, you'll experiment with them.\n",
    "\n",
    "# Set up the notebook\n",
    "\n",
    "Run the next code cell without changes to set up the notebook."
   ]
  },
  {
   "cell_type": "code",
   "execution_count": 1,
   "id": "2adecb94",
   "metadata": {
    "execution": {
     "iopub.execute_input": "2023-01-11T11:28:36.476490Z",
     "iopub.status.busy": "2023-01-11T11:28:36.476040Z",
     "iopub.status.idle": "2023-01-11T11:28:36.528667Z",
     "shell.execute_reply": "2023-01-11T11:28:36.527640Z"
    },
    "papermill": {
     "duration": 0.064217,
     "end_time": "2023-01-11T11:28:36.532540",
     "exception": false,
     "start_time": "2023-01-11T11:28:36.468323",
     "status": "completed"
    },
    "tags": []
   },
   "outputs": [
    {
     "name": "stdout",
     "output_type": "stream",
     "text": [
      "Setup complete.\n"
     ]
    }
   ],
   "source": [
    "# Set up the exercise\n",
    "from learntools.core import binder\n",
    "binder.bind(globals())\n",
    "from learntools.intro_to_programming.ex3 import *\n",
    "print('Setup complete.')"
   ]
  },
  {
   "cell_type": "markdown",
   "id": "0ae65cdf",
   "metadata": {
    "papermill": {
     "duration": 0.006213,
     "end_time": "2023-01-11T11:28:36.546249",
     "exception": false,
     "start_time": "2023-01-11T11:28:36.540036",
     "status": "completed"
    },
    "tags": []
   },
   "source": [
    "# Question 1\n",
    "\n",
    "You have seen how to convert a float to an integer with the `int` function.  Try this out yourself by running the code cell below."
   ]
  },
  {
   "cell_type": "code",
   "execution_count": 2,
   "id": "202c5455",
   "metadata": {
    "execution": {
     "iopub.execute_input": "2023-01-11T11:28:36.561159Z",
     "iopub.status.busy": "2023-01-11T11:28:36.560680Z",
     "iopub.status.idle": "2023-01-11T11:28:36.567107Z",
     "shell.execute_reply": "2023-01-11T11:28:36.566203Z"
    },
    "papermill": {
     "duration": 0.017398,
     "end_time": "2023-01-11T11:28:36.570042",
     "exception": false,
     "start_time": "2023-01-11T11:28:36.552644",
     "status": "completed"
    },
    "tags": []
   },
   "outputs": [
    {
     "name": "stdout",
     "output_type": "stream",
     "text": [
      "1.0\n",
      "<class 'float'>\n",
      "1\n",
      "<class 'int'>\n"
     ]
    }
   ],
   "source": [
    "# Define a float\n",
    "y = 1.\n",
    "print(y)\n",
    "print(type(y))\n",
    "\n",
    "# Convert float to integer with the int function\n",
    "z = int(y)\n",
    "print(z)\n",
    "print(type(z))"
   ]
  },
  {
   "cell_type": "markdown",
   "id": "3f95adf1",
   "metadata": {
    "papermill": {
     "duration": 0.006301,
     "end_time": "2023-01-11T11:28:36.583050",
     "exception": false,
     "start_time": "2023-01-11T11:28:36.576749",
     "status": "completed"
    },
    "tags": []
   },
   "source": [
    "In this case, the float you are using has no numbers after the decimal.  \n",
    "- But what happens when you try to convert a float with a fractional part to an integer?  \n",
    "- How does the outcome of the `int` function change for positive and negative numbers?\n",
    "\n",
    "Use the next code cell to investigate and answer these questions.  Feel free to add or remove any lines of code -- it is your workspace!"
   ]
  },
  {
   "cell_type": "code",
   "execution_count": 3,
   "id": "0b11cba5",
   "metadata": {
    "execution": {
     "iopub.execute_input": "2023-01-11T11:28:36.598062Z",
     "iopub.status.busy": "2023-01-11T11:28:36.597607Z",
     "iopub.status.idle": "2023-01-11T11:28:36.604658Z",
     "shell.execute_reply": "2023-01-11T11:28:36.602730Z"
    },
    "papermill": {
     "duration": 0.017598,
     "end_time": "2023-01-11T11:28:36.607189",
     "exception": false,
     "start_time": "2023-01-11T11:28:36.589591",
     "status": "completed"
    },
    "tags": []
   },
   "outputs": [
    {
     "name": "stdout",
     "output_type": "stream",
     "text": [
      "1\n",
      "1\n",
      "-3\n",
      "-2\n"
     ]
    }
   ],
   "source": [
    "# Uncomment and run this code to get started!\n",
    "print(int(1.2321))\n",
    "print(int(1.747))\n",
    "print(int(-3.94535))\n",
    "print(int(-2.19774))"
   ]
  },
  {
   "cell_type": "markdown",
   "id": "a30dc8b2",
   "metadata": {
    "papermill": {
     "duration": 0.008826,
     "end_time": "2023-01-11T11:28:36.622505",
     "exception": false,
     "start_time": "2023-01-11T11:28:36.613679",
     "status": "completed"
    },
    "tags": []
   },
   "source": [
    "Once you have an answer, run the code cell below to see the solution.  Viewing the solution will give you credit for answering the problem."
   ]
  },
  {
   "cell_type": "code",
   "execution_count": 4,
   "id": "813a8725",
   "metadata": {
    "execution": {
     "iopub.execute_input": "2023-01-11T11:28:36.641073Z",
     "iopub.status.busy": "2023-01-11T11:28:36.639851Z",
     "iopub.status.idle": "2023-01-11T11:28:36.654580Z",
     "shell.execute_reply": "2023-01-11T11:28:36.653240Z"
    },
    "papermill": {
     "duration": 0.025893,
     "end_time": "2023-01-11T11:28:36.657043",
     "exception": false,
     "start_time": "2023-01-11T11:28:36.631150",
     "status": "completed"
    },
    "tags": []
   },
   "outputs": [
    {
     "data": {
      "application/javascript": [
       "parent.postMessage({\"jupyterEvent\": \"custom.exercise_interaction\", \"data\": {\"outcomeType\": 1, \"valueTowardsCompletion\": 0.2, \"interactionType\": 1, \"questionType\": 4, \"questionId\": \"1_FloatToInt\", \"learnToolsVersion\": \"0.3.4\", \"failureMessage\": \"\", \"exceptionClass\": \"\", \"trace\": \"\"}}, \"*\")"
      ],
      "text/plain": [
       "<IPython.core.display.Javascript object>"
      ]
     },
     "metadata": {},
     "output_type": "display_data"
    },
    {
     "data": {
      "text/markdown": [
       "<span style=\"color:#33cc33\">Correct:</span> \n",
       "\n",
       "Negative floats are always rounded UP to the closest integer (for instance, both -1.1 and -1.9 are rounded up to -1). Positive floats are always rounded DOWN to the closest integer (for instance, 2.1 and 2.9 are rounded down to 2)."
      ],
      "text/plain": [
       "Correct: \n",
       "\n",
       "Negative floats are always rounded UP to the closest integer (for instance, both -1.1 and -1.9 are rounded up to -1). Positive floats are always rounded DOWN to the closest integer (for instance, 2.1 and 2.9 are rounded down to 2)."
      ]
     },
     "metadata": {},
     "output_type": "display_data"
    }
   ],
   "source": [
    "# Check your answer (Run this code cell to receive credit!)\n",
    "q1.check()"
   ]
  },
  {
   "cell_type": "markdown",
   "id": "ee075e5b",
   "metadata": {
    "papermill": {
     "duration": 0.01018,
     "end_time": "2023-01-11T11:28:36.679158",
     "exception": false,
     "start_time": "2023-01-11T11:28:36.668978",
     "status": "completed"
    },
    "tags": []
   },
   "source": [
    "# Question 2\n",
    "\n",
    "In the tutorial, you learned about booleans (which can take a value of `True` or `False`), in addition to integers, floats, and strings.  For this question, your goal is to determine what happens when you multiply a boolean by any of these data types.  Specifically, \n",
    "- What happens when you multiply an integer or float by `True`?  What happens when you multiply them by `False`?  How does the answer change if the numbers are positive or negative?\n",
    "- What happens when you multiply a string by `True`?  By `False`?\n",
    "\n",
    "Use the next code cell for your investigation. "
   ]
  },
  {
   "cell_type": "code",
   "execution_count": 5,
   "id": "45d05870",
   "metadata": {
    "execution": {
     "iopub.execute_input": "2023-01-11T11:28:36.702769Z",
     "iopub.status.busy": "2023-01-11T11:28:36.702320Z",
     "iopub.status.idle": "2023-01-11T11:28:36.707749Z",
     "shell.execute_reply": "2023-01-11T11:28:36.706966Z"
    },
    "papermill": {
     "duration": 0.021142,
     "end_time": "2023-01-11T11:28:36.711124",
     "exception": false,
     "start_time": "2023-01-11T11:28:36.689982",
     "status": "completed"
    },
    "tags": []
   },
   "outputs": [
    {
     "name": "stdout",
     "output_type": "stream",
     "text": [
      "3\n",
      "-3.1\n",
      "<class 'str'>\n",
      "0\n"
     ]
    }
   ],
   "source": [
    "# Uncomment and run this code to get started!\n",
    "print(3 * True)\n",
    "print(-3.1 * True)\n",
    "print(type(\"abc\" * False))\n",
    "print(len(\"abc\" * False))"
   ]
  },
  {
   "cell_type": "markdown",
   "id": "8c4fad9d",
   "metadata": {
    "papermill": {
     "duration": 0.006877,
     "end_time": "2023-01-11T11:28:36.728295",
     "exception": false,
     "start_time": "2023-01-11T11:28:36.721418",
     "status": "completed"
    },
    "tags": []
   },
   "source": [
    "Once you have an answer, run the code cell below to see the solution.  Viewing the solution will give you credit for answering the problem."
   ]
  },
  {
   "cell_type": "code",
   "execution_count": 6,
   "id": "66970892",
   "metadata": {
    "execution": {
     "iopub.execute_input": "2023-01-11T11:28:36.745235Z",
     "iopub.status.busy": "2023-01-11T11:28:36.744420Z",
     "iopub.status.idle": "2023-01-11T11:28:36.752863Z",
     "shell.execute_reply": "2023-01-11T11:28:36.751951Z"
    },
    "papermill": {
     "duration": 0.01942,
     "end_time": "2023-01-11T11:28:36.755074",
     "exception": false,
     "start_time": "2023-01-11T11:28:36.735654",
     "status": "completed"
    },
    "tags": []
   },
   "outputs": [
    {
     "data": {
      "application/javascript": [
       "parent.postMessage({\"jupyterEvent\": \"custom.exercise_interaction\", \"data\": {\"outcomeType\": 1, \"valueTowardsCompletion\": 0.2, \"interactionType\": 1, \"questionType\": 4, \"questionId\": \"2_MultiplyBooleans\", \"learnToolsVersion\": \"0.3.4\", \"failureMessage\": \"\", \"exceptionClass\": \"\", \"trace\": \"\"}}, \"*\")"
      ],
      "text/plain": [
       "<IPython.core.display.Javascript object>"
      ]
     },
     "metadata": {},
     "output_type": "display_data"
    },
    {
     "data": {
      "text/markdown": [
       "<span style=\"color:#33cc33\">Correct:</span> \n",
       "\n",
       "When you multiple an integer or float by a boolean with value `True`, it just returns that same integer or float (and is equivalent to multiplying by 1).  If you multiply an integer or float by a boolean with value `False`, it always returns 0.  This is true for both positive and negative numbers.  If you multiply a string by a boolean with value `True`, it just returns that same string.  And if you multiply a string by a boolean with value `False`, it returns an empty string (or a string with length zero)."
      ],
      "text/plain": [
       "Correct: \n",
       "\n",
       "When you multiple an integer or float by a boolean with value `True`, it just returns that same integer or float (and is equivalent to multiplying by 1).  If you multiply an integer or float by a boolean with value `False`, it always returns 0.  This is true for both positive and negative numbers.  If you multiply a string by a boolean with value `True`, it just returns that same string.  And if you multiply a string by a boolean with value `False`, it returns an empty string (or a string with length zero)."
      ]
     },
     "metadata": {},
     "output_type": "display_data"
    }
   ],
   "source": [
    "# Check your answer (Run this code cell to receive credit!)\n",
    "q2.check()"
   ]
  },
  {
   "cell_type": "markdown",
   "id": "da1e18a4",
   "metadata": {
    "papermill": {
     "duration": 0.006867,
     "end_time": "2023-01-11T11:28:36.769353",
     "exception": false,
     "start_time": "2023-01-11T11:28:36.762486",
     "status": "completed"
    },
    "tags": []
   },
   "source": [
    "# Question 3\n",
    "\n",
    "In this question, you will build off your work from the previous exercise to write a function that estimates the value of a house.\n",
    "\n",
    "Use the next code cell to create a function `get_expected_cost` that takes as input three variables:\n",
    "- `beds` - number of bedrooms (data type float)\n",
    "- `baths` - number of bathrooms (data type float)\n",
    "- `has_basement` - whether or not the house has a basement (data type boolean)\n",
    "\n",
    "It should return the expected cost of a house with those characteristics. Assume that:\n",
    "- the expected cost for a house with 0 bedrooms and 0 bathrooms, and no basement is 80000, \n",
    "- each bedroom adds 30000 to the expected cost,\n",
    "- each bathroom adds 10000 to the expected cost, and\n",
    "- a basement adds 40000 to the expected cost.\n",
    "\n",
    "For instance,\n",
    "- a house with 1 bedroom, 1 bathroom, and no basement has an expected cost of 80000 + 30000 + 10000 = 120000.  This value will be calculated with `get_expected_cost(1, 1, False)`.\n",
    "- a house with 2 bedrooms, 1 bathroom, and a basement has an expected cost of 80000 + 2*30000 + 10000 + 40000 = 190000.  This value will be calculated with `get_expected_cost(2, 1, True)`.\n",
    "\n",
    "Remember you can always get a hint by uncommenting `q3.hint()` in the code cell following the next!"
   ]
  },
  {
   "cell_type": "code",
   "execution_count": 7,
   "id": "c7d5eff0",
   "metadata": {
    "execution": {
     "iopub.execute_input": "2023-01-11T11:28:36.786193Z",
     "iopub.status.busy": "2023-01-11T11:28:36.785457Z",
     "iopub.status.idle": "2023-01-11T11:28:36.795042Z",
     "shell.execute_reply": "2023-01-11T11:28:36.793954Z"
    },
    "papermill": {
     "duration": 0.02083,
     "end_time": "2023-01-11T11:28:36.797327",
     "exception": false,
     "start_time": "2023-01-11T11:28:36.776497",
     "status": "completed"
    },
    "tags": []
   },
   "outputs": [
    {
     "data": {
      "application/javascript": [
       "parent.postMessage({\"jupyterEvent\": \"custom.exercise_interaction\", \"data\": {\"outcomeType\": 1, \"valueTowardsCompletion\": 0.2, \"interactionType\": 1, \"questionType\": 2, \"questionId\": \"3_EstimateHouseValueBool\", \"learnToolsVersion\": \"0.3.4\", \"failureMessage\": \"\", \"exceptionClass\": \"\", \"trace\": \"\"}}, \"*\")"
      ],
      "text/plain": [
       "<IPython.core.display.Javascript object>"
      ]
     },
     "metadata": {},
     "output_type": "display_data"
    },
    {
     "data": {
      "text/markdown": [
       "<span style=\"color:#33cc33\">Correct</span>"
      ],
      "text/plain": [
       "Correct"
      ]
     },
     "metadata": {},
     "output_type": "display_data"
    }
   ],
   "source": [
    "# TODO: Complete the function\n",
    "def get_expected_cost(beds, baths, has_basement):\n",
    "    bed_cost = beds * 30000\n",
    "    bath_cost = baths * 10000\n",
    "    base_cost = has_basement * 40000\n",
    "    value = 80000 + bed_cost + bath_cost + base_cost\n",
    "    return value\n",
    "\n",
    "# Check your answer \n",
    "q3.check()"
   ]
  },
  {
   "cell_type": "code",
   "execution_count": 8,
   "id": "1121efca",
   "metadata": {
    "execution": {
     "iopub.execute_input": "2023-01-11T11:28:36.814971Z",
     "iopub.status.busy": "2023-01-11T11:28:36.814538Z",
     "iopub.status.idle": "2023-01-11T11:28:36.819203Z",
     "shell.execute_reply": "2023-01-11T11:28:36.817959Z"
    },
    "papermill": {
     "duration": 0.016108,
     "end_time": "2023-01-11T11:28:36.821629",
     "exception": false,
     "start_time": "2023-01-11T11:28:36.805521",
     "status": "completed"
    },
    "tags": []
   },
   "outputs": [],
   "source": [
    "# Uncomment to see a hint\n",
    "#q3.hint()\n",
    "\n",
    "# Uncomment to view the solution\n",
    "#q3.solution()"
   ]
  },
  {
   "cell_type": "markdown",
   "id": "bc1a8f13",
   "metadata": {
    "papermill": {
     "duration": 0.007518,
     "end_time": "2023-01-11T11:28:36.836647",
     "exception": false,
     "start_time": "2023-01-11T11:28:36.829129",
     "status": "completed"
    },
    "tags": []
   },
   "source": [
    "# Question 4\n",
    "\n",
    "We'll continue our study of boolean arithmetic.  For this question, your task is to provide a description of what happpens when you add booleans. \n",
    "\n",
    "Use the next code cell for your investigation.  Feel free to add or remove any lines of code - use it as your workspace!"
   ]
  },
  {
   "cell_type": "code",
   "execution_count": 9,
   "id": "6ada891c",
   "metadata": {
    "execution": {
     "iopub.execute_input": "2023-01-11T11:28:36.854174Z",
     "iopub.status.busy": "2023-01-11T11:28:36.853307Z",
     "iopub.status.idle": "2023-01-11T11:28:36.861121Z",
     "shell.execute_reply": "2023-01-11T11:28:36.859384Z"
    },
    "papermill": {
     "duration": 0.020124,
     "end_time": "2023-01-11T11:28:36.864328",
     "exception": false,
     "start_time": "2023-01-11T11:28:36.844204",
     "status": "completed"
    },
    "tags": []
   },
   "outputs": [
    {
     "name": "stdout",
     "output_type": "stream",
     "text": [
      "0\n",
      "1\n",
      "1\n",
      "2\n",
      "3\n"
     ]
    }
   ],
   "source": [
    "print(False + False)\n",
    "print(True + False)\n",
    "print(False + True)\n",
    "print(True + True)\n",
    "print(False + True + True + True)"
   ]
  },
  {
   "cell_type": "markdown",
   "id": "e7329d45",
   "metadata": {
    "papermill": {
     "duration": 0.007206,
     "end_time": "2023-01-11T11:28:36.879569",
     "exception": false,
     "start_time": "2023-01-11T11:28:36.872363",
     "status": "completed"
    },
    "tags": []
   },
   "source": [
    "Once you have an answer, run the code cell below to see the solution.  Viewing the solution will give you credit for answering the problem."
   ]
  },
  {
   "cell_type": "code",
   "execution_count": 10,
   "id": "471b490b",
   "metadata": {
    "execution": {
     "iopub.execute_input": "2023-01-11T11:28:36.896964Z",
     "iopub.status.busy": "2023-01-11T11:28:36.896283Z",
     "iopub.status.idle": "2023-01-11T11:28:36.903941Z",
     "shell.execute_reply": "2023-01-11T11:28:36.902946Z"
    },
    "papermill": {
     "duration": 0.019341,
     "end_time": "2023-01-11T11:28:36.906552",
     "exception": false,
     "start_time": "2023-01-11T11:28:36.887211",
     "status": "completed"
    },
    "tags": []
   },
   "outputs": [
    {
     "data": {
      "application/javascript": [
       "parent.postMessage({\"jupyterEvent\": \"custom.exercise_interaction\", \"data\": {\"outcomeType\": 1, \"valueTowardsCompletion\": 0.2, \"interactionType\": 1, \"questionType\": 4, \"questionId\": \"4_AddingBooleans\", \"learnToolsVersion\": \"0.3.4\", \"failureMessage\": \"\", \"exceptionClass\": \"\", \"trace\": \"\"}}, \"*\")"
      ],
      "text/plain": [
       "<IPython.core.display.Javascript object>"
      ]
     },
     "metadata": {},
     "output_type": "display_data"
    },
    {
     "data": {
      "text/markdown": [
       "<span style=\"color:#33cc33\">Correct:</span> \n",
       "\n",
       "When you add booleans, adding `False` is equivalent to adding 0, and adding `True` is equivalent to adding 1."
      ],
      "text/plain": [
       "Correct: \n",
       "\n",
       "When you add booleans, adding `False` is equivalent to adding 0, and adding `True` is equivalent to adding 1."
      ]
     },
     "metadata": {},
     "output_type": "display_data"
    }
   ],
   "source": [
    "# Check your answer (Run this code cell to receive credit!)\n",
    "q4.check()"
   ]
  },
  {
   "cell_type": "markdown",
   "id": "04178268",
   "metadata": {
    "papermill": {
     "duration": 0.007553,
     "end_time": "2023-01-11T11:28:36.922509",
     "exception": false,
     "start_time": "2023-01-11T11:28:36.914956",
     "status": "completed"
    },
    "tags": []
   },
   "source": [
    "# 🌶️ Question 5\n",
    "\n",
    "You own an online shop where you sell rings with custom engravings.  You offer both gold plated and solid gold rings.\n",
    "- Gold plated rings have a base cost of \\\\$50, and you charge \\\\$7 per engraved unit.  \n",
    "- Solid gold rings have a base cost of \\\\$100, and you charge \\\\$10 per engraved unit.\n",
    "- Spaces and punctuation are counted as engraved units.\n",
    "\n",
    "Write a function `cost_of_project()` that takes two arguments:\n",
    "- `engraving` - a Python string with the text of the engraving\n",
    "- `solid_gold` - a Boolean that indicates whether the ring is solid gold\n",
    "\n",
    "It should return the cost of the project.  This question should be fairly challenging, and you may need a hint."
   ]
  },
  {
   "cell_type": "code",
   "execution_count": 11,
   "id": "dcccacdf",
   "metadata": {
    "execution": {
     "iopub.execute_input": "2023-01-11T11:28:36.940305Z",
     "iopub.status.busy": "2023-01-11T11:28:36.939512Z",
     "iopub.status.idle": "2023-01-11T11:28:36.949566Z",
     "shell.execute_reply": "2023-01-11T11:28:36.948353Z"
    },
    "papermill": {
     "duration": 0.02203,
     "end_time": "2023-01-11T11:28:36.952165",
     "exception": false,
     "start_time": "2023-01-11T11:28:36.930135",
     "status": "completed"
    },
    "tags": []
   },
   "outputs": [
    {
     "data": {
      "application/javascript": [
       "parent.postMessage({\"jupyterEvent\": \"custom.exercise_interaction\", \"data\": {\"outcomeType\": 1, \"valueTowardsCompletion\": 0.2, \"interactionType\": 1, \"questionType\": 2, \"questionId\": \"5_CustomEngravings\", \"learnToolsVersion\": \"0.3.4\", \"failureMessage\": \"\", \"exceptionClass\": \"\", \"trace\": \"\"}}, \"*\")"
      ],
      "text/plain": [
       "<IPython.core.display.Javascript object>"
      ]
     },
     "metadata": {},
     "output_type": "display_data"
    },
    {
     "data": {
      "text/markdown": [
       "<span style=\"color:#33cc33\">Correct</span>"
      ],
      "text/plain": [
       "Correct"
      ]
     },
     "metadata": {},
     "output_type": "display_data"
    }
   ],
   "source": [
    "def cost_of_project(engraving, solid_gold):\n",
    "    cost = solid_gold * (100 + 10 * len(engraving)) + (not solid_gold) * (50 + 7 * len(engraving))\n",
    "    return cost\n",
    "    \n",
    "# Check your answer\n",
    "q5.check()"
   ]
  },
  {
   "cell_type": "code",
   "execution_count": 12,
   "id": "074eab63",
   "metadata": {
    "execution": {
     "iopub.execute_input": "2023-01-11T11:28:36.970241Z",
     "iopub.status.busy": "2023-01-11T11:28:36.969801Z",
     "iopub.status.idle": "2023-01-11T11:28:36.974772Z",
     "shell.execute_reply": "2023-01-11T11:28:36.973572Z"
    },
    "papermill": {
     "duration": 0.016675,
     "end_time": "2023-01-11T11:28:36.977111",
     "exception": false,
     "start_time": "2023-01-11T11:28:36.960436",
     "status": "completed"
    },
    "tags": []
   },
   "outputs": [],
   "source": [
    "# Uncomment to see a hint\n",
    "#q5.hint()\n",
    "\n",
    "# Uncomment to view the solution\n",
    "#q5.solution()"
   ]
  },
  {
   "cell_type": "markdown",
   "id": "83d52fbe",
   "metadata": {
    "papermill": {
     "duration": 0.007669,
     "end_time": "2023-01-11T11:28:36.992849",
     "exception": false,
     "start_time": "2023-01-11T11:28:36.985180",
     "status": "completed"
    },
    "tags": []
   },
   "source": [
    "Run the next code cell to calculate the cost of engraving `Charlie+Denver` on a solid gold ring."
   ]
  },
  {
   "cell_type": "code",
   "execution_count": 13,
   "id": "0a2c00c8",
   "metadata": {
    "execution": {
     "iopub.execute_input": "2023-01-11T11:28:37.010704Z",
     "iopub.status.busy": "2023-01-11T11:28:37.010286Z",
     "iopub.status.idle": "2023-01-11T11:28:37.016840Z",
     "shell.execute_reply": "2023-01-11T11:28:37.015551Z"
    },
    "papermill": {
     "duration": 0.018608,
     "end_time": "2023-01-11T11:28:37.019476",
     "exception": false,
     "start_time": "2023-01-11T11:28:37.000868",
     "status": "completed"
    },
    "tags": []
   },
   "outputs": [
    {
     "name": "stdout",
     "output_type": "stream",
     "text": [
      "240\n"
     ]
    }
   ],
   "source": [
    "project_one = cost_of_project(\"Charlie+Denver\", True)\n",
    "print(project_one)"
   ]
  },
  {
   "cell_type": "markdown",
   "id": "f3479e68",
   "metadata": {
    "papermill": {
     "duration": 0.007738,
     "end_time": "2023-01-11T11:28:37.035453",
     "exception": false,
     "start_time": "2023-01-11T11:28:37.027715",
     "status": "completed"
    },
    "tags": []
   },
   "source": [
    "Use the next code cell to calculate the cost of engraving `08/10/2000` on a gold plated ring."
   ]
  },
  {
   "cell_type": "code",
   "execution_count": 14,
   "id": "73897955",
   "metadata": {
    "execution": {
     "iopub.execute_input": "2023-01-11T11:28:37.053422Z",
     "iopub.status.busy": "2023-01-11T11:28:37.052976Z",
     "iopub.status.idle": "2023-01-11T11:28:37.059722Z",
     "shell.execute_reply": "2023-01-11T11:28:37.058290Z"
    },
    "papermill": {
     "duration": 0.018728,
     "end_time": "2023-01-11T11:28:37.062192",
     "exception": false,
     "start_time": "2023-01-11T11:28:37.043464",
     "status": "completed"
    },
    "tags": []
   },
   "outputs": [
    {
     "name": "stdout",
     "output_type": "stream",
     "text": [
      "120\n"
     ]
    }
   ],
   "source": [
    "project_two = cost_of_project(\"08/10/2000\", False)\n",
    "print(project_two)"
   ]
  },
  {
   "cell_type": "markdown",
   "id": "a0e92cf6",
   "metadata": {
    "papermill": {
     "duration": 0.007764,
     "end_time": "2023-01-11T11:28:37.078094",
     "exception": false,
     "start_time": "2023-01-11T11:28:37.070330",
     "status": "completed"
    },
    "tags": []
   },
   "source": [
    "# Keep going\n",
    "\n",
    "Continue to the next lesson to **[learn about conditions and conditional statements](https://www.kaggle.com/alexisbcook/conditions-and-conditional-statements)**."
   ]
  },
  {
   "cell_type": "markdown",
   "id": "6db0d2dd",
   "metadata": {
    "papermill": {
     "duration": 0.007995,
     "end_time": "2023-01-11T11:28:37.094201",
     "exception": false,
     "start_time": "2023-01-11T11:28:37.086206",
     "status": "completed"
    },
    "tags": []
   },
   "source": [
    "---\n",
    "\n",
    "\n",
    "\n",
    "\n",
    "*Have questions or comments? Visit the [course discussion forum](https://www.kaggle.com/learn/intro-to-programming/discussion) to chat with other learners.*"
   ]
  }
 ],
 "metadata": {
  "kernelspec": {
   "display_name": "Python 3",
   "language": "python",
   "name": "python3"
  },
  "language_info": {
   "codemirror_mode": {
    "name": "ipython",
    "version": 3
   },
   "file_extension": ".py",
   "mimetype": "text/x-python",
   "name": "python",
   "nbconvert_exporter": "python",
   "pygments_lexer": "ipython3",
   "version": "3.7.12"
  },
  "papermill": {
   "default_parameters": {},
   "duration": 10.729114,
   "end_time": "2023-01-11T11:28:37.925176",
   "environment_variables": {},
   "exception": null,
   "input_path": "__notebook__.ipynb",
   "output_path": "__notebook__.ipynb",
   "parameters": {},
   "start_time": "2023-01-11T11:28:27.196062",
   "version": "2.3.4"
  }
 },
 "nbformat": 4,
 "nbformat_minor": 5
}
