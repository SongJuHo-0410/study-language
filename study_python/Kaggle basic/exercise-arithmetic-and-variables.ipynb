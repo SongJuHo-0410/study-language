{
 "cells": [
  {
   "cell_type": "markdown",
   "id": "11c078ea",
   "metadata": {
    "papermill": {
     "duration": 0.006889,
     "end_time": "2023-01-09T14:26:18.952815",
     "exception": false,
     "start_time": "2023-01-09T14:26:18.945926",
     "status": "completed"
    },
    "tags": []
   },
   "source": [
    "**This notebook is an exercise in the [Intro to Programming](https://www.kaggle.com/learn/intro-to-programming) course.  You can reference the tutorial at [this link](https://www.kaggle.com/alexisbcook/arithmetic-and-variables).**\n",
    "\n",
    "---\n"
   ]
  },
  {
   "cell_type": "markdown",
   "id": "a93cb7c5",
   "metadata": {
    "papermill": {
     "duration": 0.005407,
     "end_time": "2023-01-09T14:26:18.964068",
     "exception": false,
     "start_time": "2023-01-09T14:26:18.958661",
     "status": "completed"
    },
    "tags": []
   },
   "source": [
    "This exercise will get you started with running your own code.  \n",
    "\n",
    "# Set up the notebook\n",
    "\n",
    "To begin, run the code in the next cell.\n",
    "- Begin by clicking inside the code cell.  \n",
    "- Click on the triangle (in the shape of a \"Play button\") that appears to the left of the code cell.\n",
    "- If your code was run sucessfully, you will see `Setup Complete` as output below the cell.\n",
    "\n",
    "Instead of clicking on the triangle, you can also run code by pressing Shift + Enter on your keyboard.  Try this now!  Nothing bad will happen if you run the code more than once."
   ]
  },
  {
   "cell_type": "code",
   "execution_count": 1,
   "id": "0c83e0b0",
   "metadata": {
    "execution": {
     "iopub.execute_input": "2023-01-09T14:26:18.977619Z",
     "iopub.status.busy": "2023-01-09T14:26:18.976855Z",
     "iopub.status.idle": "2023-01-09T14:26:19.028821Z",
     "shell.execute_reply": "2023-01-09T14:26:19.027943Z"
    },
    "papermill": {
     "duration": 0.061655,
     "end_time": "2023-01-09T14:26:19.031384",
     "exception": false,
     "start_time": "2023-01-09T14:26:18.969729",
     "status": "completed"
    },
    "tags": []
   },
   "outputs": [
    {
     "name": "stdout",
     "output_type": "stream",
     "text": [
      "Setup complete.\n"
     ]
    }
   ],
   "source": [
    "# Set up the exercise\n",
    "from learntools.core import binder\n",
    "binder.bind(globals())\n",
    "from learntools.intro_to_programming.ex1 import *\n",
    "print('Setup complete.')"
   ]
  },
  {
   "cell_type": "markdown",
   "id": "a0de407c",
   "metadata": {
    "papermill": {
     "duration": 0.005457,
     "end_time": "2023-01-09T14:26:19.042632",
     "exception": false,
     "start_time": "2023-01-09T14:26:19.037175",
     "status": "completed"
    },
    "tags": []
   },
   "source": [
    "The code above sets up the notebook so that it can check your answers in this exercise.  You should never modify this code.  (Otherwise, the notebook won't be able to verify that you have successfully completed the exercise.)\n",
    "\n",
    "After finishing all of the questions below, you'll see the exercise marked as complete on the [course page](http://www.kaggle.com/learn/intro-to-programming).  Once you complete all of the lessons, you'll get a course completion certificate!\n",
    "\n",
    "# Question 1\n",
    "\n",
    "Next, you will run some code from the tutorial, so you can see how it works for yourself.  Run the next code cell without changes."
   ]
  },
  {
   "cell_type": "code",
   "execution_count": 2,
   "id": "1cbfcfec",
   "metadata": {
    "execution": {
     "iopub.execute_input": "2023-01-09T14:26:19.055923Z",
     "iopub.status.busy": "2023-01-09T14:26:19.055277Z",
     "iopub.status.idle": "2023-01-09T14:26:19.067792Z",
     "shell.execute_reply": "2023-01-09T14:26:19.066315Z"
    },
    "papermill": {
     "duration": 0.021915,
     "end_time": "2023-01-09T14:26:19.070124",
     "exception": false,
     "start_time": "2023-01-09T14:26:19.048209",
     "status": "completed"
    },
    "tags": []
   },
   "outputs": [
    {
     "name": "stdout",
     "output_type": "stream",
     "text": [
      "Hello, world!\n"
     ]
    },
    {
     "data": {
      "application/javascript": [
       "parent.postMessage({\"jupyterEvent\": \"custom.exercise_interaction\", \"data\": {\"outcomeType\": 1, \"valueTowardsCompletion\": 0.2, \"interactionType\": 1, \"questionType\": 2, \"questionId\": \"1_RunHelloWorld\", \"learnToolsVersion\": \"0.3.4\", \"failureMessage\": \"\", \"exceptionClass\": \"\", \"trace\": \"\"}}, \"*\")"
      ],
      "text/plain": [
       "<IPython.core.display.Javascript object>"
      ]
     },
     "metadata": {},
     "output_type": "display_data"
    },
    {
     "data": {
      "text/markdown": [
       "<span style=\"color:#33cc33\">If you see 'Hello, world!' above, You have successfully printed a message, and you're ready to move on to the next question.</span>"
      ],
      "text/plain": [
       "If you see 'Hello, world!' above, You have successfully printed a message, and you're ready to move on to the next question."
      ]
     },
     "metadata": {},
     "output_type": "display_data"
    }
   ],
   "source": [
    "print(\"Hello, world!\")\n",
    "\n",
    "# DO NOT REMOVE: Mark this question as completed\n",
    "q1.check()"
   ]
  },
  {
   "cell_type": "markdown",
   "id": "4e42e72e",
   "metadata": {
    "papermill": {
     "duration": 0.005948,
     "end_time": "2023-01-09T14:26:19.082342",
     "exception": false,
     "start_time": "2023-01-09T14:26:19.076394",
     "status": "completed"
    },
    "tags": []
   },
   "source": [
    "You just ran code to print `Hello world!`, which you should see in the output above.\n",
    "\n",
    "The second line of code (`q1.check()`) checks your answer.  You should never modify this checking code; if you remove it, you won't get credit for completing the problem.\n",
    "\n",
    "# Question 2\n",
    "\n",
    "Now, you will print another message of your choosing.  To do this, change `print(\"Your message here!\")` to use a different message.  For instance, you might like to change it to something like:\n",
    "- `print(\"Good morning!\")`\n",
    "- `print(\"I am learning how to code :D\")`\n",
    "\n",
    "Or, you might like to see what happens if you write something like `print(\"3+4\")`.  Does it return 7, or does it just think of `\"3+4\"` as just another message?\n",
    "\n",
    "Make sure that your message is enclosed in quotation marks (`\"`), and the message itself does not use quotation marks. For instance, this will throw an error: `print(\"She said \"great job\" and gave me a high-five!\")` because the message contains quotation marks.  If you decide to take the Python course after completing this course, you will learn more about how to avoid this error in [Lesson 6](https://www.kaggle.com/colinmorris/strings-and-dictionaries).\n",
    "\n",
    "Feel free to try out multiple messages!"
   ]
  },
  {
   "cell_type": "code",
   "execution_count": 3,
   "id": "71fb3e32",
   "metadata": {
    "execution": {
     "iopub.execute_input": "2023-01-09T14:26:19.100379Z",
     "iopub.status.busy": "2023-01-09T14:26:19.099491Z",
     "iopub.status.idle": "2023-01-09T14:26:19.113472Z",
     "shell.execute_reply": "2023-01-09T14:26:19.111841Z"
    },
    "papermill": {
     "duration": 0.028294,
     "end_time": "2023-01-09T14:26:19.117195",
     "exception": false,
     "start_time": "2023-01-09T14:26:19.088901",
     "status": "completed"
    },
    "tags": []
   },
   "outputs": [
    {
     "name": "stdout",
     "output_type": "stream",
     "text": [
      "Your message here! hi\n"
     ]
    },
    {
     "data": {
      "application/javascript": [
       "parent.postMessage({\"jupyterEvent\": \"custom.exercise_interaction\", \"data\": {\"outcomeType\": 1, \"valueTowardsCompletion\": 0.2, \"interactionType\": 1, \"questionType\": 2, \"questionId\": \"2_PrintAnotherMsg\", \"learnToolsVersion\": \"0.3.4\", \"failureMessage\": \"\", \"exceptionClass\": \"\", \"trace\": \"\"}}, \"*\")"
      ],
      "text/plain": [
       "<IPython.core.display.Javascript object>"
      ]
     },
     "metadata": {},
     "output_type": "display_data"
    },
    {
     "data": {
      "text/markdown": [
       "<span style=\"color:#33cc33\">Once you have printed your own message, you're ready to move on to the next question.</span>"
      ],
      "text/plain": [
       "Once you have printed your own message, you're ready to move on to the next question."
      ]
     },
     "metadata": {},
     "output_type": "display_data"
    }
   ],
   "source": [
    "# TODO: Change the message\n",
    "print(\"Your message here! hi\")\n",
    "\n",
    "# DO NOT REMOVE: Mark this question as completed \n",
    "q2.check()"
   ]
  },
  {
   "cell_type": "markdown",
   "id": "6e1ecdcf",
   "metadata": {
    "papermill": {
     "duration": 0.006308,
     "end_time": "2023-01-09T14:26:19.135053",
     "exception": false,
     "start_time": "2023-01-09T14:26:19.128745",
     "status": "completed"
    },
    "tags": []
   },
   "source": [
    "# Question 3\n",
    "\n",
    "As you learned in the tutorial, a comment in Python has a pound sign (`#`) in front of it, which tells Python to ignore the text after it.\n",
    "\n",
    "Putting a pound sign in front of a line of code will make Python ignore that code.  For instance, this line would be ignored by Python, and nothing would appear in the output:\n",
    "```python\n",
    "#print(1+2)\n",
    "```\n",
    "Removing the pound sign will make it so that you can run the code again. When we remove the pound sign in front of a line of code, we call this **uncommenting**.\n",
    "\n",
    "In this problem, you will uncomment two lines in the code cell below and view the output:\n",
    "- Remove the `#` in front of `q3.hint()`.  To avoid errors, do NOT remove the `#` in front of `# Uncomment to view hint`.  \n",
    "- Next, remove the `#` in front of `q3.solution()`.\n",
    "\n",
    "As in the previous questions, do not change the final line of code that marks your work as completed."
   ]
  },
  {
   "cell_type": "code",
   "execution_count": 4,
   "id": "d1698522",
   "metadata": {
    "execution": {
     "iopub.execute_input": "2023-01-09T14:26:19.155357Z",
     "iopub.status.busy": "2023-01-09T14:26:19.154771Z",
     "iopub.status.idle": "2023-01-09T14:26:19.170850Z",
     "shell.execute_reply": "2023-01-09T14:26:19.169985Z"
    },
    "papermill": {
     "duration": 0.028609,
     "end_time": "2023-01-09T14:26:19.172977",
     "exception": false,
     "start_time": "2023-01-09T14:26:19.144368",
     "status": "completed"
    },
    "tags": []
   },
   "outputs": [
    {
     "data": {
      "application/javascript": [
       "parent.postMessage({\"jupyterEvent\": \"custom.exercise_interaction\", \"data\": {\"interactionType\": 2, \"questionType\": 2, \"questionId\": \"3_LearnCheckingCode\", \"learnToolsVersion\": \"0.3.4\", \"valueTowardsCompletion\": 0.0, \"failureMessage\": \"\", \"exceptionClass\": \"\", \"trace\": \"\", \"outcomeType\": 4}}, \"*\")"
      ],
      "text/plain": [
       "<IPython.core.display.Javascript object>"
      ]
     },
     "metadata": {},
     "output_type": "display_data"
    },
    {
     "data": {
      "text/markdown": [
       "<span style=\"color:#3366cc\">Hint:</span> If you're ever stuck on a question, it's a good idea to look at the hint before viewing the solution."
      ],
      "text/plain": [
       "Hint: If you're ever stuck on a question, it's a good idea to look at the hint before viewing the solution."
      ]
     },
     "metadata": {},
     "output_type": "display_data"
    },
    {
     "data": {
      "application/javascript": [
       "parent.postMessage({\"jupyterEvent\": \"custom.exercise_interaction\", \"data\": {\"interactionType\": 3, \"questionType\": 2, \"questionId\": \"3_LearnCheckingCode\", \"learnToolsVersion\": \"0.3.4\", \"valueTowardsCompletion\": 0.0, \"failureMessage\": \"\", \"exceptionClass\": \"\", \"trace\": \"\", \"outcomeType\": 4}}, \"*\")"
      ],
      "text/plain": [
       "<IPython.core.display.Javascript object>"
      ]
     },
     "metadata": {},
     "output_type": "display_data"
    },
    {
     "data": {
      "text/markdown": [
       "<span style=\"color:#33cc99\">Solution:</span> If you're still stuck on a question after viewing the hint and re-reading the tutorial, you can view the solution.  You can also view the solution after you have successfully submitted your own answer, to check if the official solution is any different (there may be more than one right answer!)."
      ],
      "text/plain": [
       "Solution: If you're still stuck on a question after viewing the hint and re-reading the tutorial, you can view the solution.  You can also view the solution after you have successfully submitted your own answer, to check if the official solution is any different (there may be more than one right answer!)."
      ]
     },
     "metadata": {},
     "output_type": "display_data"
    },
    {
     "data": {
      "application/javascript": [
       "parent.postMessage({\"jupyterEvent\": \"custom.exercise_interaction\", \"data\": {\"outcomeType\": 1, \"valueTowardsCompletion\": 0.2, \"interactionType\": 1, \"questionType\": 2, \"questionId\": \"3_LearnCheckingCode\", \"learnToolsVersion\": \"0.3.4\", \"failureMessage\": \"\", \"exceptionClass\": \"\", \"trace\": \"\"}}, \"*\")"
      ],
      "text/plain": [
       "<IPython.core.display.Javascript object>"
      ]
     },
     "metadata": {},
     "output_type": "display_data"
    },
    {
     "data": {
      "text/markdown": [
       "<span style=\"color:#33cc33\">Once you have printed the hint and the solution, you're ready to move on to the next question.</span>"
      ],
      "text/plain": [
       "Once you have printed the hint and the solution, you're ready to move on to the next question."
      ]
     },
     "metadata": {},
     "output_type": "display_data"
    }
   ],
   "source": [
    "# Uncomment to get a hint\n",
    "q3.hint()\n",
    "\n",
    "# Uncomment to view solution\n",
    "q3.solution()\n",
    "\n",
    "# DO NOT REMOVE: Check your answer\n",
    "q3.check()"
   ]
  },
  {
   "cell_type": "markdown",
   "id": "8427ff91",
   "metadata": {
    "papermill": {
     "duration": 0.006678,
     "end_time": "2023-01-09T14:26:19.186693",
     "exception": false,
     "start_time": "2023-01-09T14:26:19.180015",
     "status": "completed"
    },
    "tags": []
   },
   "source": [
    "In the next question, and in most of the exercises in this course, you will have the option to uncomment to view hints and solutions.  Once you feel comfortable with uncommenting, continue to the next question.\n"
   ]
  },
  {
   "cell_type": "markdown",
   "id": "0ba29ee4",
   "metadata": {
    "papermill": {
     "duration": 0.007002,
     "end_time": "2023-01-09T14:26:19.200522",
     "exception": false,
     "start_time": "2023-01-09T14:26:19.193520",
     "status": "completed"
    },
    "tags": []
   },
   "source": [
    "# Question 4\n",
    "\n",
    "In the tutorial, you defined several variables to calculate the total number of seconds in a year.  Run the next code cell to do the calculation here."
   ]
  },
  {
   "cell_type": "code",
   "execution_count": 5,
   "id": "f498a3d8",
   "metadata": {
    "execution": {
     "iopub.execute_input": "2023-01-09T14:26:19.216099Z",
     "iopub.status.busy": "2023-01-09T14:26:19.215695Z",
     "iopub.status.idle": "2023-01-09T14:26:19.222084Z",
     "shell.execute_reply": "2023-01-09T14:26:19.220974Z"
    },
    "papermill": {
     "duration": 0.017458,
     "end_time": "2023-01-09T14:26:19.225014",
     "exception": false,
     "start_time": "2023-01-09T14:26:19.207556",
     "status": "completed"
    },
    "tags": []
   },
   "outputs": [
    {
     "name": "stdout",
     "output_type": "stream",
     "text": [
      "126144000\n"
     ]
    }
   ],
   "source": [
    "# Create variables\n",
    "num_years = 4\n",
    "days_per_year = 365 \n",
    "hours_per_day = 24\n",
    "mins_per_hour = 60\n",
    "secs_per_min = 60\n",
    "\n",
    "# Calculate number of seconds in four years\n",
    "total_secs = secs_per_min * mins_per_hour * hours_per_day * days_per_year * num_years\n",
    "print(total_secs)"
   ]
  },
  {
   "cell_type": "markdown",
   "id": "35d9a982",
   "metadata": {
    "papermill": {
     "duration": 0.00926,
     "end_time": "2023-01-09T14:26:19.241303",
     "exception": false,
     "start_time": "2023-01-09T14:26:19.232043",
     "status": "completed"
    },
    "tags": []
   },
   "source": [
    "Use the next code cell to:\n",
    "- Define a variable `births_per_min` and set it to 250.  (There are on average 250 babies born each minute.)\n",
    "- Define a variable `births_per_day` that contains the average number of babies born each day.  (To set the value of this variable, you should use `births_per_min` and some of the variables from the previous code cell.)\n",
    "\n",
    "Remember you can always get a hint if you need it!"
   ]
  },
  {
   "cell_type": "code",
   "execution_count": 6,
   "id": "9c4d9ff8",
   "metadata": {
    "execution": {
     "iopub.execute_input": "2023-01-09T14:26:19.259203Z",
     "iopub.status.busy": "2023-01-09T14:26:19.258388Z",
     "iopub.status.idle": "2023-01-09T14:26:19.273479Z",
     "shell.execute_reply": "2023-01-09T14:26:19.271984Z"
    },
    "papermill": {
     "duration": 0.028673,
     "end_time": "2023-01-09T14:26:19.277568",
     "exception": false,
     "start_time": "2023-01-09T14:26:19.248895",
     "status": "completed"
    },
    "tags": []
   },
   "outputs": [
    {
     "data": {
      "application/javascript": [
       "parent.postMessage({\"jupyterEvent\": \"custom.exercise_interaction\", \"data\": {\"outcomeType\": 1, \"valueTowardsCompletion\": 0.2, \"interactionType\": 1, \"questionType\": 1, \"questionId\": \"4_BirthsPerYear\", \"learnToolsVersion\": \"0.3.4\", \"failureMessage\": \"\", \"exceptionClass\": \"\", \"trace\": \"\"}}, \"*\")"
      ],
      "text/plain": [
       "<IPython.core.display.Javascript object>"
      ]
     },
     "metadata": {},
     "output_type": "display_data"
    },
    {
     "data": {
      "text/markdown": [
       "<span style=\"color:#33cc33\">Correct</span>"
      ],
      "text/plain": [
       "Correct"
      ]
     },
     "metadata": {},
     "output_type": "display_data"
    }
   ],
   "source": [
    "# TODO: Set the value of the births_per_min variable\n",
    "births_per_min = 250\n",
    "\n",
    "# TODO: Set the value of the births_per_day variable\n",
    "births_per_day = births_per_min * 60 * 24\n",
    "\n",
    "# DO NOT REMOVE: Check your answer\n",
    "q4.check()"
   ]
  },
  {
   "cell_type": "code",
   "execution_count": 7,
   "id": "1afb0b53",
   "metadata": {
    "execution": {
     "iopub.execute_input": "2023-01-09T14:26:19.303775Z",
     "iopub.status.busy": "2023-01-09T14:26:19.303395Z",
     "iopub.status.idle": "2023-01-09T14:26:19.308351Z",
     "shell.execute_reply": "2023-01-09T14:26:19.307211Z"
    },
    "papermill": {
     "duration": 0.018839,
     "end_time": "2023-01-09T14:26:19.310459",
     "exception": false,
     "start_time": "2023-01-09T14:26:19.291620",
     "status": "completed"
    },
    "tags": []
   },
   "outputs": [],
   "source": [
    "# Uncomment to get a hint\n",
    "#q4.hint()\n",
    "\n",
    "# Uncomment to view solution\n",
    "#q4.solution()"
   ]
  },
  {
   "cell_type": "markdown",
   "id": "0496e8e3",
   "metadata": {
    "papermill": {
     "duration": 0.007224,
     "end_time": "2023-01-09T14:26:19.325312",
     "exception": false,
     "start_time": "2023-01-09T14:26:19.318088",
     "status": "completed"
    },
    "tags": []
   },
   "source": [
    "# 🌶️ Question 5\n",
    "\n",
    "(Questions marked with a 🌶️ will be a little bit more challenging than the others!  Remember you can always get a hint or view the solution.)\n",
    "\n",
    "The [Titanic competition](https://www.kaggle.com/c/titanic) is Kaggle's most famous data science competition. In this competition, participants are challenged to build a machine learning model that can predict whether or not passengers survived the Titanic shipwreck, based on information like age, sex, family size, and ticket number.\n",
    "\n",
    "Run the next code cell without changes to load and preview the titanic data.\n",
    "\n",
    "Don't worry about the details of the code for now - the end result is just that the all of the titanic data has been loaded in a variable named `titanic_data`.  (In order to learn how to write this code yourself, you can take the [Python course](https://www.kaggle.com/learn/python) and then the [Pandas course](https://www.kaggle.com/learn/pandas).)"
   ]
  },
  {
   "cell_type": "code",
   "execution_count": 8,
   "id": "f5df23c5",
   "metadata": {
    "execution": {
     "iopub.execute_input": "2023-01-09T14:26:19.342464Z",
     "iopub.status.busy": "2023-01-09T14:26:19.341785Z",
     "iopub.status.idle": "2023-01-09T14:26:19.383186Z",
     "shell.execute_reply": "2023-01-09T14:26:19.381982Z"
    },
    "papermill": {
     "duration": 0.052947,
     "end_time": "2023-01-09T14:26:19.385755",
     "exception": false,
     "start_time": "2023-01-09T14:26:19.332808",
     "status": "completed"
    },
    "tags": []
   },
   "outputs": [
    {
     "data": {
      "text/html": [
       "<div>\n",
       "<style scoped>\n",
       "    .dataframe tbody tr th:only-of-type {\n",
       "        vertical-align: middle;\n",
       "    }\n",
       "\n",
       "    .dataframe tbody tr th {\n",
       "        vertical-align: top;\n",
       "    }\n",
       "\n",
       "    .dataframe thead th {\n",
       "        text-align: right;\n",
       "    }\n",
       "</style>\n",
       "<table border=\"1\" class=\"dataframe\">\n",
       "  <thead>\n",
       "    <tr style=\"text-align: right;\">\n",
       "      <th></th>\n",
       "      <th>PassengerId</th>\n",
       "      <th>Survived</th>\n",
       "      <th>Pclass</th>\n",
       "      <th>Name</th>\n",
       "      <th>Sex</th>\n",
       "      <th>Age</th>\n",
       "      <th>SibSp</th>\n",
       "      <th>Parch</th>\n",
       "      <th>Ticket</th>\n",
       "      <th>Fare</th>\n",
       "      <th>Cabin</th>\n",
       "      <th>Embarked</th>\n",
       "    </tr>\n",
       "  </thead>\n",
       "  <tbody>\n",
       "    <tr>\n",
       "      <th>0</th>\n",
       "      <td>1</td>\n",
       "      <td>0</td>\n",
       "      <td>3</td>\n",
       "      <td>Braund, Mr. Owen Harris</td>\n",
       "      <td>male</td>\n",
       "      <td>22.0</td>\n",
       "      <td>1</td>\n",
       "      <td>0</td>\n",
       "      <td>A/5 21171</td>\n",
       "      <td>7.2500</td>\n",
       "      <td>NaN</td>\n",
       "      <td>S</td>\n",
       "    </tr>\n",
       "    <tr>\n",
       "      <th>1</th>\n",
       "      <td>2</td>\n",
       "      <td>1</td>\n",
       "      <td>1</td>\n",
       "      <td>Cumings, Mrs. John Bradley (Florence Briggs Th...</td>\n",
       "      <td>female</td>\n",
       "      <td>38.0</td>\n",
       "      <td>1</td>\n",
       "      <td>0</td>\n",
       "      <td>PC 17599</td>\n",
       "      <td>71.2833</td>\n",
       "      <td>C85</td>\n",
       "      <td>C</td>\n",
       "    </tr>\n",
       "    <tr>\n",
       "      <th>2</th>\n",
       "      <td>3</td>\n",
       "      <td>1</td>\n",
       "      <td>3</td>\n",
       "      <td>Heikkinen, Miss. Laina</td>\n",
       "      <td>female</td>\n",
       "      <td>26.0</td>\n",
       "      <td>0</td>\n",
       "      <td>0</td>\n",
       "      <td>STON/O2. 3101282</td>\n",
       "      <td>7.9250</td>\n",
       "      <td>NaN</td>\n",
       "      <td>S</td>\n",
       "    </tr>\n",
       "    <tr>\n",
       "      <th>3</th>\n",
       "      <td>4</td>\n",
       "      <td>1</td>\n",
       "      <td>1</td>\n",
       "      <td>Futrelle, Mrs. Jacques Heath (Lily May Peel)</td>\n",
       "      <td>female</td>\n",
       "      <td>35.0</td>\n",
       "      <td>1</td>\n",
       "      <td>0</td>\n",
       "      <td>113803</td>\n",
       "      <td>53.1000</td>\n",
       "      <td>C123</td>\n",
       "      <td>S</td>\n",
       "    </tr>\n",
       "    <tr>\n",
       "      <th>4</th>\n",
       "      <td>5</td>\n",
       "      <td>0</td>\n",
       "      <td>3</td>\n",
       "      <td>Allen, Mr. William Henry</td>\n",
       "      <td>male</td>\n",
       "      <td>35.0</td>\n",
       "      <td>0</td>\n",
       "      <td>0</td>\n",
       "      <td>373450</td>\n",
       "      <td>8.0500</td>\n",
       "      <td>NaN</td>\n",
       "      <td>S</td>\n",
       "    </tr>\n",
       "  </tbody>\n",
       "</table>\n",
       "</div>"
      ],
      "text/plain": [
       "   PassengerId  Survived  Pclass  \\\n",
       "0            1         0       3   \n",
       "1            2         1       1   \n",
       "2            3         1       3   \n",
       "3            4         1       1   \n",
       "4            5         0       3   \n",
       "\n",
       "                                                Name     Sex   Age  SibSp  \\\n",
       "0                            Braund, Mr. Owen Harris    male  22.0      1   \n",
       "1  Cumings, Mrs. John Bradley (Florence Briggs Th...  female  38.0      1   \n",
       "2                             Heikkinen, Miss. Laina  female  26.0      0   \n",
       "3       Futrelle, Mrs. Jacques Heath (Lily May Peel)  female  35.0      1   \n",
       "4                           Allen, Mr. William Henry    male  35.0      0   \n",
       "\n",
       "   Parch            Ticket     Fare Cabin Embarked  \n",
       "0      0         A/5 21171   7.2500   NaN        S  \n",
       "1      0          PC 17599  71.2833   C85        C  \n",
       "2      0  STON/O2. 3101282   7.9250   NaN        S  \n",
       "3      0            113803  53.1000  C123        S  \n",
       "4      0            373450   8.0500   NaN        S  "
      ]
     },
     "execution_count": 8,
     "metadata": {},
     "output_type": "execute_result"
    }
   ],
   "source": [
    "# Load the data from the titanic competition\n",
    "import pandas as pd\n",
    "titanic_data = pd.read_csv(\"../input/titanic/train.csv\")\n",
    "\n",
    "# Show the first five rows of the data\n",
    "titanic_data.head()"
   ]
  },
  {
   "cell_type": "markdown",
   "id": "dfbe042b",
   "metadata": {
    "papermill": {
     "duration": 0.007379,
     "end_time": "2023-01-09T14:26:19.400953",
     "exception": false,
     "start_time": "2023-01-09T14:26:19.393574",
     "status": "completed"
    },
    "tags": []
   },
   "source": [
    "The data has a different row for each passenger.  \n",
    "\n",
    "The next code cell defines and prints the values of three variables:  \n",
    "- `total` = total number of passengers who boarded the ship\n",
    "- `survived` = number of passengers who survived the shipwreck\n",
    "- `minors` = number of passengers under 18 years of age\n",
    "\n",
    "Run the code cell without changes.  (Don't worry about the details of how these variables are calculated for now.  You can learn more about how to calculate these values in the [Pandas course](https://www.kaggle.com/learn/pandas).)"
   ]
  },
  {
   "cell_type": "code",
   "execution_count": 9,
   "id": "dbf51c6e",
   "metadata": {
    "execution": {
     "iopub.execute_input": "2023-01-09T14:26:19.417769Z",
     "iopub.status.busy": "2023-01-09T14:26:19.417342Z",
     "iopub.status.idle": "2023-01-09T14:26:19.429149Z",
     "shell.execute_reply": "2023-01-09T14:26:19.427921Z"
    },
    "papermill": {
     "duration": 0.023464,
     "end_time": "2023-01-09T14:26:19.431850",
     "exception": false,
     "start_time": "2023-01-09T14:26:19.408386",
     "status": "completed"
    },
    "tags": []
   },
   "outputs": [
    {
     "name": "stdout",
     "output_type": "stream",
     "text": [
      "891\n",
      "342\n",
      "113\n"
     ]
    }
   ],
   "source": [
    "# Number of total passengers\n",
    "total = len(titanic_data)\n",
    "print(total)\n",
    "\n",
    "# Number of passengers who survived\n",
    "survived = (titanic_data.Survived == 1).sum()\n",
    "print(survived)\n",
    "\n",
    "# Number of passengers under 18\n",
    "minors = (titanic_data.Age < 18).sum()\n",
    "print(minors)"
   ]
  },
  {
   "cell_type": "markdown",
   "id": "8b33ec56",
   "metadata": {
    "papermill": {
     "duration": 0.010344,
     "end_time": "2023-01-09T14:26:19.451802",
     "exception": false,
     "start_time": "2023-01-09T14:26:19.441458",
     "status": "completed"
    },
    "tags": []
   },
   "source": [
    "So, \n",
    "- `total = 891` (there were 891 passengers on board the Titanic),\n",
    "- `survived = 342` (342 passengers survived), and \n",
    "- `minors = 113` (113 passengers were under the age of 18).\n",
    "\n",
    "In the code cell below, replace the underlines (`____`) with code to calculate the values for two more variables:\n",
    "- `survived_fraction` should be set to the fraction of passengers who survived the Titanic disaster.\n",
    "- `minors_fraction` should be the fraction of passengers who were minors (under the age of 18).\n",
    "\n",
    "For each variable, your answer should be a number between 0 and 1.  \n",
    "\n",
    "If you need a hint or want to view the solution, you can skip to the next code cell and uncomment the appropriate lines of code (`q5.hint()` and `q5.solution()`)."
   ]
  },
  {
   "cell_type": "code",
   "execution_count": 10,
   "id": "98dc0c2e",
   "metadata": {
    "execution": {
     "iopub.execute_input": "2023-01-09T14:26:19.478294Z",
     "iopub.status.busy": "2023-01-09T14:26:19.477444Z",
     "iopub.status.idle": "2023-01-09T14:26:19.489561Z",
     "shell.execute_reply": "2023-01-09T14:26:19.487997Z"
    },
    "papermill": {
     "duration": 0.029337,
     "end_time": "2023-01-09T14:26:19.492757",
     "exception": false,
     "start_time": "2023-01-09T14:26:19.463420",
     "status": "completed"
    },
    "tags": []
   },
   "outputs": [
    {
     "name": "stdout",
     "output_type": "stream",
     "text": [
      "0.3838383838383838\n",
      "0.12682379349046016\n"
     ]
    },
    {
     "data": {
      "application/javascript": [
       "parent.postMessage({\"jupyterEvent\": \"custom.exercise_interaction\", \"data\": {\"outcomeType\": 1, \"valueTowardsCompletion\": 0.2, \"interactionType\": 1, \"questionType\": 1, \"questionId\": \"5_BonusTitanic\", \"learnToolsVersion\": \"0.3.4\", \"failureMessage\": \"\", \"exceptionClass\": \"\", \"trace\": \"\"}}, \"*\")"
      ],
      "text/plain": [
       "<IPython.core.display.Javascript object>"
      ]
     },
     "metadata": {},
     "output_type": "display_data"
    },
    {
     "data": {
      "text/markdown": [
       "<span style=\"color:#33cc33\">Correct</span>"
      ],
      "text/plain": [
       "Correct"
      ]
     },
     "metadata": {},
     "output_type": "display_data"
    }
   ],
   "source": [
    "# TODO: Fill in the value of the survived_fraction variable\n",
    "survived_fraction = survived / total\n",
    "\n",
    "# Print the value of the variable\n",
    "print(survived_fraction)\n",
    "\n",
    "# TODO: Fill in the value of the minors_fraction variable\n",
    "minors_fraction = minors / total\n",
    "\n",
    "# Print the value of the variable\n",
    "print(minors_fraction)\n",
    "\n",
    "# DO NOT REMOVE: Check your answer\n",
    "q5.check()"
   ]
  },
  {
   "cell_type": "code",
   "execution_count": 11,
   "id": "cd3b0f5f",
   "metadata": {
    "execution": {
     "iopub.execute_input": "2023-01-09T14:26:19.518088Z",
     "iopub.status.busy": "2023-01-09T14:26:19.517660Z",
     "iopub.status.idle": "2023-01-09T14:26:19.521821Z",
     "shell.execute_reply": "2023-01-09T14:26:19.520975Z"
    },
    "papermill": {
     "duration": 0.019602,
     "end_time": "2023-01-09T14:26:19.524442",
     "exception": false,
     "start_time": "2023-01-09T14:26:19.504840",
     "status": "completed"
    },
    "tags": []
   },
   "outputs": [],
   "source": [
    "# Uncomment to receive a hint\n",
    "#q5.hint()\n",
    "\n",
    "# Uncomment to view the solution\n",
    "#q5.solution()"
   ]
  },
  {
   "cell_type": "markdown",
   "id": "d945ca13",
   "metadata": {
    "papermill": {
     "duration": 0.008726,
     "end_time": "2023-01-09T14:26:19.543275",
     "exception": false,
     "start_time": "2023-01-09T14:26:19.534549",
     "status": "completed"
    },
    "tags": []
   },
   "source": [
    "# Bonus Exercise\n",
    "\n",
    "As an **optional** next step, you're encouraged to make a submission to the Titanic competition.  \n",
    "> To do this, follow the instructions in the **[notebook here](https://www.kaggle.com/alexisbcook/titanic-tutorial)**.  \n",
    "\n",
    "The notebook is beginner-friendly and does not assume you have any experience with coding.  At the same time, you'll learn how to author your own notebooks on Kaggle, and it gives you a great idea of what you'll be able to do if you continue to learn data science!\n",
    "\n",
    "# Keep going\n",
    "\n",
    "Congratulations!  You have just finished the first exercise in the Intro to Programming course!  \n",
    "\n",
    "You are now ready to learn how to **[organize your code with functions](https://www.kaggle.com/alexisbcook/functions)**."
   ]
  },
  {
   "cell_type": "markdown",
   "id": "27c5008d",
   "metadata": {
    "papermill": {
     "duration": 0.007947,
     "end_time": "2023-01-09T14:26:19.560211",
     "exception": false,
     "start_time": "2023-01-09T14:26:19.552264",
     "status": "completed"
    },
    "tags": []
   },
   "source": [
    "---\n",
    "\n",
    "\n",
    "\n",
    "\n",
    "*Have questions or comments? Visit the [course discussion forum](https://www.kaggle.com/learn/intro-to-programming/discussion) to chat with other learners.*"
   ]
  }
 ],
 "metadata": {
  "kernelspec": {
   "display_name": "Python 3",
   "language": "python",
   "name": "python3"
  },
  "language_info": {
   "codemirror_mode": {
    "name": "ipython",
    "version": 3
   },
   "file_extension": ".py",
   "mimetype": "text/x-python",
   "name": "python",
   "nbconvert_exporter": "python",
   "pygments_lexer": "ipython3",
   "version": "3.7.12"
  },
  "papermill": {
   "default_parameters": {},
   "duration": 10.289909,
   "end_time": "2023-01-09T14:26:20.291019",
   "environment_variables": {},
   "exception": null,
   "input_path": "__notebook__.ipynb",
   "output_path": "__notebook__.ipynb",
   "parameters": {},
   "start_time": "2023-01-09T14:26:10.001110",
   "version": "2.3.4"
  }
 },
 "nbformat": 4,
 "nbformat_minor": 5
}
