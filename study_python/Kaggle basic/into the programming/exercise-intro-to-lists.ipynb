{
 "cells": [
  {
   "cell_type": "markdown",
   "id": "5fe205fc",
   "metadata": {
    "papermill": {
     "duration": 0.006422,
     "end_time": "2023-12-17T14:31:38.443650",
     "exception": false,
     "start_time": "2023-12-17T14:31:38.437228",
     "status": "completed"
    },
    "tags": []
   },
   "source": [
    "**This notebook is an exercise in the [Intro to Programming](https://www.kaggle.com/learn/intro-to-programming) course.  You can reference the tutorial at [this link](https://www.kaggle.com/alexisbcook/intro-to-lists).**\n",
    "\n",
    "---\n"
   ]
  },
  {
   "cell_type": "markdown",
   "id": "54642fde",
   "metadata": {
    "papermill": {
     "duration": 0.006792,
     "end_time": "2023-12-17T14:31:38.457988",
     "exception": false,
     "start_time": "2023-12-17T14:31:38.451196",
     "status": "completed"
    },
    "tags": []
   },
   "source": [
    "In the tutorial, you learned how to define and modify Python lists.  In this exercise, you will use your new knowledge to solve several problems.\n",
    "\n",
    "# Set up the notebook\n",
    "\n",
    "Run the next code cell without changes to set up the notebook."
   ]
  },
  {
   "cell_type": "code",
   "execution_count": 1,
   "id": "ddb5d4ff",
   "metadata": {
    "execution": {
     "iopub.execute_input": "2023-12-17T14:31:38.472693Z",
     "iopub.status.busy": "2023-12-17T14:31:38.472296Z",
     "iopub.status.idle": "2023-12-17T14:31:38.927738Z",
     "shell.execute_reply": "2023-12-17T14:31:38.926413Z"
    },
    "papermill": {
     "duration": 0.467287,
     "end_time": "2023-12-17T14:31:38.931278",
     "exception": false,
     "start_time": "2023-12-17T14:31:38.463991",
     "status": "completed"
    },
    "tags": []
   },
   "outputs": [
    {
     "name": "stdout",
     "output_type": "stream",
     "text": [
      "Setup complete.\n"
     ]
    }
   ],
   "source": [
    "from learntools.core import binder\n",
    "binder.bind(globals())\n",
    "from learntools.intro_to_programming.ex5 import *\n",
    "print('Setup complete.')"
   ]
  },
  {
   "cell_type": "markdown",
   "id": "8a746ec0",
   "metadata": {
    "papermill": {
     "duration": 0.005751,
     "end_time": "2023-12-17T14:31:38.943581",
     "exception": false,
     "start_time": "2023-12-17T14:31:38.937830",
     "status": "completed"
    },
    "tags": []
   },
   "source": [
    "# Question 1\n",
    "\n",
    "You own a restaurant with five food dishes, organized in the Python list `menu` below.  One day, you decide to:\n",
    "- remove bean soup (`'bean soup'`) from the menu, and\n",
    "- add roasted beet salad (`'roasted beet salad'`) to the menu.\n",
    "\n",
    "Implement this change to the list below.  While completing this task, \n",
    "- do not change the line that creates the `menu` list.  \n",
    "- your answer should use `.remove()` and `.append()`.  "
   ]
  },
  {
   "cell_type": "code",
   "execution_count": 2,
   "id": "0a656058",
   "metadata": {
    "execution": {
     "iopub.execute_input": "2023-12-17T14:31:38.958104Z",
     "iopub.status.busy": "2023-12-17T14:31:38.957591Z",
     "iopub.status.idle": "2023-12-17T14:31:38.968785Z",
     "shell.execute_reply": "2023-12-17T14:31:38.967558Z"
    },
    "papermill": {
     "duration": 0.021701,
     "end_time": "2023-12-17T14:31:38.971474",
     "exception": false,
     "start_time": "2023-12-17T14:31:38.949773",
     "status": "completed"
    },
    "tags": []
   },
   "outputs": [
    {
     "data": {
      "application/javascript": [
       "parent.postMessage({\"jupyterEvent\": \"custom.exercise_interaction\", \"data\": {\"outcomeType\": 1, \"valueTowardsCompletion\": 0.2, \"interactionType\": 1, \"questionType\": 2, \"questionId\": \"1_FoodMenu\", \"learnToolsVersion\": \"0.3.4\", \"failureMessage\": \"\", \"exceptionClass\": \"\", \"trace\": \"\"}}, \"*\")"
      ],
      "text/plain": [
       "<IPython.core.display.Javascript object>"
      ]
     },
     "metadata": {},
     "output_type": "display_data"
    },
    {
     "data": {
      "text/markdown": [
       "<span style=\"color:#33cc33\">Correct</span>"
      ],
      "text/plain": [
       "Correct"
      ]
     },
     "metadata": {},
     "output_type": "display_data"
    }
   ],
   "source": [
    "# Do not change: Initial menu for your restaurant\n",
    "menu = ['stewed meat with onions', 'bean soup', 'risotto with trout and shrimp',\n",
    "       'fish soup with cream and onion', 'gyro']\n",
    "\n",
    "# TODO: remove 'bean soup', and add 'roasted beet salad' to the end of the menu\n",
    "menu.remove('bean soup')\n",
    "menu.append('roasted beet salad')\n",
    "\n",
    "# Do not change: Check your answer\n",
    "q1.check()"
   ]
  },
  {
   "cell_type": "code",
   "execution_count": 3,
   "id": "ac6137e1",
   "metadata": {
    "execution": {
     "iopub.execute_input": "2023-12-17T14:31:38.985657Z",
     "iopub.status.busy": "2023-12-17T14:31:38.985267Z",
     "iopub.status.idle": "2023-12-17T14:31:38.989714Z",
     "shell.execute_reply": "2023-12-17T14:31:38.988507Z"
    },
    "papermill": {
     "duration": 0.014179,
     "end_time": "2023-12-17T14:31:38.991921",
     "exception": false,
     "start_time": "2023-12-17T14:31:38.977742",
     "status": "completed"
    },
    "tags": []
   },
   "outputs": [],
   "source": [
    "# Uncomment to see a hint\n",
    "#q1.hint()\n",
    "\n",
    "# Uncomment to see the solution\n",
    "#q1.solution()"
   ]
  },
  {
   "cell_type": "markdown",
   "id": "0f4995a7",
   "metadata": {
    "papermill": {
     "duration": 0.005933,
     "end_time": "2023-12-17T14:31:39.004285",
     "exception": false,
     "start_time": "2023-12-17T14:31:38.998352",
     "status": "completed"
    },
    "tags": []
   },
   "source": [
    "# Question 2\n",
    "\n",
    "The list `num_customers` contains the number of customers who came into your restaurant every day over the last month (which lasted thirty days).  Fill in values for each of the following:\n",
    "- `avg_first_seven` - average number of customers who visited in the first seven days\n",
    "- `avg_last_seven` - average number of customers who visited in the last seven days\n",
    "- `max_month` - number of customers on the day that got the most customers in the last month\n",
    "- `min_month` - number of customers on the day that got the least customers in the last month\n",
    "\n",
    "Answer this question by writing code.  For instance, if you have to find the minimum value in a list, use `min()` instead of scanning for the smallest value and directly filling in a number."
   ]
  },
  {
   "cell_type": "code",
   "execution_count": 4,
   "id": "7b546bde",
   "metadata": {
    "execution": {
     "iopub.execute_input": "2023-12-17T14:31:39.018948Z",
     "iopub.status.busy": "2023-12-17T14:31:39.018529Z",
     "iopub.status.idle": "2023-12-17T14:31:39.030488Z",
     "shell.execute_reply": "2023-12-17T14:31:39.028924Z"
    },
    "papermill": {
     "duration": 0.022142,
     "end_time": "2023-12-17T14:31:39.032918",
     "exception": false,
     "start_time": "2023-12-17T14:31:39.010776",
     "status": "completed"
    },
    "tags": []
   },
   "outputs": [
    {
     "data": {
      "application/javascript": [
       "parent.postMessage({\"jupyterEvent\": \"custom.exercise_interaction\", \"data\": {\"outcomeType\": 1, \"valueTowardsCompletion\": 0.2, \"interactionType\": 1, \"questionType\": 1, \"questionId\": \"2_NumCustomers\", \"learnToolsVersion\": \"0.3.4\", \"failureMessage\": \"\", \"exceptionClass\": \"\", \"trace\": \"\"}}, \"*\")"
      ],
      "text/plain": [
       "<IPython.core.display.Javascript object>"
      ]
     },
     "metadata": {},
     "output_type": "display_data"
    },
    {
     "data": {
      "text/markdown": [
       "<span style=\"color:#33cc33\">Correct</span>"
      ],
      "text/plain": [
       "Correct"
      ]
     },
     "metadata": {},
     "output_type": "display_data"
    }
   ],
   "source": [
    "# Do not change: Number of customers each day for the last month\n",
    "num_customers = [137, 147, 135, 128, 170, 174, 165, 146, 126, 159,\n",
    "                 141, 148, 132, 147, 168, 153, 170, 161, 148, 152,\n",
    "                 141, 151, 131, 149, 164, 163, 143, 143, 166, 171]\n",
    "\n",
    "# TODO: Fill in values for the variables below\n",
    "avg_first_seven = sum(num_customers[:7])/7\n",
    "avg_last_seven =sum(num_customers[-7:])/7\n",
    "max_month = max(num_customers)\n",
    "min_month = min(num_customers)\n",
    "\n",
    "# Do not change: Check your answer\n",
    "q2.check()"
   ]
  },
  {
   "cell_type": "code",
   "execution_count": 5,
   "id": "9ead945b",
   "metadata": {
    "execution": {
     "iopub.execute_input": "2023-12-17T14:31:39.047991Z",
     "iopub.status.busy": "2023-12-17T14:31:39.047618Z",
     "iopub.status.idle": "2023-12-17T14:31:39.051997Z",
     "shell.execute_reply": "2023-12-17T14:31:39.050888Z"
    },
    "papermill": {
     "duration": 0.014505,
     "end_time": "2023-12-17T14:31:39.054091",
     "exception": false,
     "start_time": "2023-12-17T14:31:39.039586",
     "status": "completed"
    },
    "tags": []
   },
   "outputs": [],
   "source": [
    "# Uncomment to see a hint\n",
    "#q2.hint()\n",
    "\n",
    "# Uncomment to see the solution\n",
    "#q2.solution()"
   ]
  },
  {
   "cell_type": "markdown",
   "id": "f97501c4",
   "metadata": {
    "papermill": {
     "duration": 0.006344,
     "end_time": "2023-12-17T14:31:39.066964",
     "exception": false,
     "start_time": "2023-12-17T14:31:39.060620",
     "status": "completed"
    },
    "tags": []
   },
   "source": [
    "# Question 3\n",
    "\n",
    "In the tutorial, we gave an example of a Python string with information that was better as a list."
   ]
  },
  {
   "cell_type": "code",
   "execution_count": 6,
   "id": "9ed09f1f",
   "metadata": {
    "execution": {
     "iopub.execute_input": "2023-12-17T14:31:39.081577Z",
     "iopub.status.busy": "2023-12-17T14:31:39.081192Z",
     "iopub.status.idle": "2023-12-17T14:31:39.086060Z",
     "shell.execute_reply": "2023-12-17T14:31:39.084804Z"
    },
    "papermill": {
     "duration": 0.014453,
     "end_time": "2023-12-17T14:31:39.087997",
     "exception": false,
     "start_time": "2023-12-17T14:31:39.073544",
     "status": "completed"
    },
    "tags": []
   },
   "outputs": [],
   "source": [
    "flowers = \"pink primrose,hard-leaved pocket orchid,canterbury bells,sweet pea,english marigold,tiger lily,moon orchid,bird of paradise,monkshood,globe thistle\""
   ]
  },
  {
   "cell_type": "markdown",
   "id": "ed029ef2",
   "metadata": {
    "papermill": {
     "duration": 0.006525,
     "end_time": "2023-12-17T14:31:39.101057",
     "exception": false,
     "start_time": "2023-12-17T14:31:39.094532",
     "status": "completed"
    },
    "tags": []
   },
   "source": [
    "You can actually use Python to quickly turn this string into a list with `.split()`.  In the parentheses, we need to provide the character should be used to mark the end of one list item and the beginning of another, and enclose it in quotation marks.  In this case, that character is a comma."
   ]
  },
  {
   "cell_type": "code",
   "execution_count": 7,
   "id": "dd4500e5",
   "metadata": {
    "execution": {
     "iopub.execute_input": "2023-12-17T14:31:39.115986Z",
     "iopub.status.busy": "2023-12-17T14:31:39.115619Z",
     "iopub.status.idle": "2023-12-17T14:31:39.120735Z",
     "shell.execute_reply": "2023-12-17T14:31:39.119701Z"
    },
    "papermill": {
     "duration": 0.016232,
     "end_time": "2023-12-17T14:31:39.123889",
     "exception": false,
     "start_time": "2023-12-17T14:31:39.107657",
     "status": "completed"
    },
    "tags": []
   },
   "outputs": [
    {
     "name": "stdout",
     "output_type": "stream",
     "text": [
      "['pink primrose', 'hard-leaved pocket orchid', 'canterbury bells', 'sweet pea', 'english marigold', 'tiger lily', 'moon orchid', 'bird of paradise', 'monkshood', 'globe thistle']\n"
     ]
    }
   ],
   "source": [
    " print(flowers.split(\",\"))"
   ]
  },
  {
   "cell_type": "markdown",
   "id": "53ae307d",
   "metadata": {
    "papermill": {
     "duration": 0.006238,
     "end_time": "2023-12-17T14:31:39.136741",
     "exception": false,
     "start_time": "2023-12-17T14:31:39.130503",
     "status": "completed"
    },
    "tags": []
   },
   "source": [
    "Now it is your turn to try this out!  Create two Python lists:\n",
    "- `letters` should be a Python list where each entry is an uppercase letter of the English alphabet.  For instance, the first two entries should be `\"A\"` and `\"B\"`, and the final two entries should be `\"Y\"` and `\"Z\"`.  Use the string `alphabet` to create this list.\n",
    "- `address` should be a Python list where each row in `address` is a different item in the list.  Currently, each row in `address` is separated by a comma. "
   ]
  },
  {
   "cell_type": "code",
   "execution_count": 8,
   "id": "64ab5821",
   "metadata": {
    "execution": {
     "iopub.execute_input": "2023-12-17T14:31:39.151643Z",
     "iopub.status.busy": "2023-12-17T14:31:39.151272Z",
     "iopub.status.idle": "2023-12-17T14:31:39.159879Z",
     "shell.execute_reply": "2023-12-17T14:31:39.159075Z"
    },
    "papermill": {
     "duration": 0.018189,
     "end_time": "2023-12-17T14:31:39.161689",
     "exception": false,
     "start_time": "2023-12-17T14:31:39.143500",
     "status": "completed"
    },
    "tags": []
   },
   "outputs": [
    {
     "data": {
      "application/javascript": [
       "parent.postMessage({\"jupyterEvent\": \"custom.exercise_interaction\", \"data\": {\"outcomeType\": 1, \"valueTowardsCompletion\": 0.2, \"interactionType\": 1, \"questionType\": 1, \"questionId\": \"3_SplitString\", \"learnToolsVersion\": \"0.3.4\", \"failureMessage\": \"\", \"exceptionClass\": \"\", \"trace\": \"\"}}, \"*\")"
      ],
      "text/plain": [
       "<IPython.core.display.Javascript object>"
      ]
     },
     "metadata": {},
     "output_type": "display_data"
    },
    {
     "data": {
      "text/markdown": [
       "<span style=\"color:#33cc33\">Correct</span>"
      ],
      "text/plain": [
       "Correct"
      ]
     },
     "metadata": {},
     "output_type": "display_data"
    }
   ],
   "source": [
    "# DO not change: Define two Python strings\n",
    "alphabet = \"A.B.C.D.E.F.G.H.I.J.K.L.M.N.O.P.Q.R.S.T.U.V.W.X.Y.Z\"\n",
    "address = \"Mr. H. Potter,The cupboard under the Stairs,4 Privet Drive,Little Whinging,Surrey\"\n",
    "\n",
    "# TODO: Convert strings into Python lists\n",
    "letters = alphabet.split(\".\")\n",
    "formatted_address = address.split(\",\")\n",
    "\n",
    "# Do not change: Check your answer\n",
    "q3.check()"
   ]
  },
  {
   "cell_type": "code",
   "execution_count": 9,
   "id": "d3049f92",
   "metadata": {
    "execution": {
     "iopub.execute_input": "2023-12-17T14:31:39.176730Z",
     "iopub.status.busy": "2023-12-17T14:31:39.176339Z",
     "iopub.status.idle": "2023-12-17T14:31:39.180144Z",
     "shell.execute_reply": "2023-12-17T14:31:39.179429Z"
    },
    "papermill": {
     "duration": 0.013455,
     "end_time": "2023-12-17T14:31:39.181943",
     "exception": false,
     "start_time": "2023-12-17T14:31:39.168488",
     "status": "completed"
    },
    "tags": []
   },
   "outputs": [],
   "source": [
    "# Uncomment to see a hint\n",
    "#q3.hint()\n",
    "\n",
    "# Uncomment to see the solution\n",
    "#q3.solution()"
   ]
  },
  {
   "cell_type": "markdown",
   "id": "b0d0bc82",
   "metadata": {
    "papermill": {
     "duration": 0.00659,
     "end_time": "2023-12-17T14:31:39.195512",
     "exception": false,
     "start_time": "2023-12-17T14:31:39.188922",
     "status": "completed"
    },
    "tags": []
   },
   "source": [
    "# Question 4\n",
    "\n",
    "In the Python course, you'll learn all about **list comprehensions**, which allow you to create a list based on the values in another list.  In this question, you'll get a brief preview of how they work.\n",
    "\n",
    "Say we're working with the list below."
   ]
  },
  {
   "cell_type": "code",
   "execution_count": 10,
   "id": "7efe3e51",
   "metadata": {
    "execution": {
     "iopub.execute_input": "2023-12-17T14:31:39.212554Z",
     "iopub.status.busy": "2023-12-17T14:31:39.212188Z",
     "iopub.status.idle": "2023-12-17T14:31:39.216841Z",
     "shell.execute_reply": "2023-12-17T14:31:39.215854Z"
    },
    "papermill": {
     "duration": 0.015435,
     "end_time": "2023-12-17T14:31:39.219077",
     "exception": false,
     "start_time": "2023-12-17T14:31:39.203642",
     "status": "completed"
    },
    "tags": []
   },
   "outputs": [],
   "source": [
    "test_ratings = [1, 2, 3, 4, 5]"
   ]
  },
  {
   "cell_type": "markdown",
   "id": "7a46004f",
   "metadata": {
    "papermill": {
     "duration": 0.007134,
     "end_time": "2023-12-17T14:31:39.233846",
     "exception": false,
     "start_time": "2023-12-17T14:31:39.226712",
     "status": "completed"
    },
    "tags": []
   },
   "source": [
    "Then we can use this list (`test_ratings`) to create a new list (`test_liked`) where each item has been turned into a boolean, depending on whether or not the item is greater than or equal to four."
   ]
  },
  {
   "cell_type": "code",
   "execution_count": 11,
   "id": "0853c5ca",
   "metadata": {
    "execution": {
     "iopub.execute_input": "2023-12-17T14:31:39.249712Z",
     "iopub.status.busy": "2023-12-17T14:31:39.249308Z",
     "iopub.status.idle": "2023-12-17T14:31:39.255160Z",
     "shell.execute_reply": "2023-12-17T14:31:39.254050Z"
    },
    "papermill": {
     "duration": 0.016711,
     "end_time": "2023-12-17T14:31:39.257508",
     "exception": false,
     "start_time": "2023-12-17T14:31:39.240797",
     "status": "completed"
    },
    "tags": []
   },
   "outputs": [
    {
     "name": "stdout",
     "output_type": "stream",
     "text": [
      "[False, False, False, True, True]\n"
     ]
    }
   ],
   "source": [
    "test_liked = [i>=4 for i in test_ratings]\n",
    "print(test_liked)"
   ]
  },
  {
   "cell_type": "markdown",
   "id": "b0806b56",
   "metadata": {
    "papermill": {
     "duration": 0.006687,
     "end_time": "2023-12-17T14:31:39.271420",
     "exception": false,
     "start_time": "2023-12-17T14:31:39.264733",
     "status": "completed"
    },
    "tags": []
   },
   "source": [
    "In this question, you'll use this list comprehension to define a function `percentage_liked()` that takes one argument as input:\n",
    "- `ratings`: list of ratings that people gave to a movie, where each rating is a number between 1-5, inclusive\n",
    "\n",
    "We say someone liked the movie, if they gave a rating of either 4 or 5.  Your function should return the percentage of people who liked the movie.\n",
    "\n",
    "For instance, if we supply a value of `[1, 2, 3, 4, 5, 4, 5, 1]`, then 50% (4/8) of the people liked the movie, and the function should return `0.5`.\n",
    "\n",
    "Part of the function has already been completed for you.  You need only use `list_liked` to calculate `percentage_liked`."
   ]
  },
  {
   "cell_type": "code",
   "execution_count": 12,
   "id": "5459ecc9",
   "metadata": {
    "execution": {
     "iopub.execute_input": "2023-12-17T14:31:39.287207Z",
     "iopub.status.busy": "2023-12-17T14:31:39.286801Z",
     "iopub.status.idle": "2023-12-17T14:31:39.297065Z",
     "shell.execute_reply": "2023-12-17T14:31:39.296258Z"
    },
    "papermill": {
     "duration": 0.02044,
     "end_time": "2023-12-17T14:31:39.298956",
     "exception": false,
     "start_time": "2023-12-17T14:31:39.278516",
     "status": "completed"
    },
    "tags": []
   },
   "outputs": [
    {
     "data": {
      "application/javascript": [
       "parent.postMessage({\"jupyterEvent\": \"custom.exercise_interaction\", \"data\": {\"outcomeType\": 1, \"valueTowardsCompletion\": 0.2, \"interactionType\": 1, \"questionType\": 2, \"questionId\": \"4_PercentageLiked\", \"learnToolsVersion\": \"0.3.4\", \"failureMessage\": \"\", \"exceptionClass\": \"\", \"trace\": \"\"}}, \"*\")"
      ],
      "text/plain": [
       "<IPython.core.display.Javascript object>"
      ]
     },
     "metadata": {},
     "output_type": "display_data"
    },
    {
     "data": {
      "text/markdown": [
       "<span style=\"color:#33cc33\">Correct</span>"
      ],
      "text/plain": [
       "Correct"
      ]
     },
     "metadata": {},
     "output_type": "display_data"
    }
   ],
   "source": [
    "\n",
    "def percentage_liked(ratings):\n",
    "    list_liked = [i>=4 for i in ratings]\n",
    "    # TODO: Complete the function\n",
    "    percentage_liked = sum(list_liked)/len(list_liked)\n",
    "    return percentage_liked\n",
    "\n",
    "# Do not change: should return 0.5\n",
    "percentage_liked([1, 2, 3, 4, 5, 4, 5, 1])\n",
    "\n",
    "# Do not change: Check your answer\n",
    "q4.check()"
   ]
  },
  {
   "cell_type": "code",
   "execution_count": 13,
   "id": "12975e56",
   "metadata": {
    "execution": {
     "iopub.execute_input": "2023-12-17T14:31:39.317977Z",
     "iopub.status.busy": "2023-12-17T14:31:39.317588Z",
     "iopub.status.idle": "2023-12-17T14:31:39.322300Z",
     "shell.execute_reply": "2023-12-17T14:31:39.321134Z"
    },
    "papermill": {
     "duration": 0.015717,
     "end_time": "2023-12-17T14:31:39.324248",
     "exception": false,
     "start_time": "2023-12-17T14:31:39.308531",
     "status": "completed"
    },
    "tags": []
   },
   "outputs": [],
   "source": [
    "# Uncomment to see a hint\n",
    "#q4.hint()\n",
    "\n",
    "# Uncomment to see the solution\n",
    "#q4.solution()"
   ]
  },
  {
   "cell_type": "markdown",
   "id": "57ed53e7",
   "metadata": {
    "papermill": {
     "duration": 0.006976,
     "end_time": "2023-12-17T14:31:39.338795",
     "exception": false,
     "start_time": "2023-12-17T14:31:39.331819",
     "status": "completed"
    },
    "tags": []
   },
   "source": [
    "# 🌶️ Question 5\n",
    " \n",
    "Say you're doing analytics for a website.  You need to write a function that returns the percentage growth in the total number of users relative to a specified number of years ago.\n",
    "\n",
    "Your function `percentage_growth()` should take two arguments as input:\n",
    "- `num_users` = Python list with the total number of users each year.  So `num_users[0]` is the total number of users in the first year, `num_users[1]` is the total number of users in the second year, and so on.  The final entry in the list gives the total number of users in the most recently completed year.\n",
    "- `yrs_ago` = number of years to go back in time when calculating the growth percentage\n",
    "\n",
    "For instance, say `num_users = [920344, 1043553, 1204334, 1458996, 1503323, 1593432, 1623463, 1843064, 1930992, 2001078]`.\n",
    "- if `yrs_ago = 1`, we want the function to return a value of about `0.036`. This corresponds to a percentage growth of approximately 3.6%, calculated as (2001078 - 1930992)/1930992.\n",
    "- if `years_ago = 7`, we would want to return approximately `0.66`.  This corresponds to a percentage growth of approximately 66%, calculated as (2001078 - 1204334)/1204334.\n",
    "\n",
    "Your coworker sent you a draft of a function, but it doesn't seem to be doing the correct calculation.  Can you figure out what has gone wrong and make the needed changes?"
   ]
  },
  {
   "cell_type": "code",
   "execution_count": 14,
   "id": "7f2b2403",
   "metadata": {
    "execution": {
     "iopub.execute_input": "2023-12-17T14:31:39.354896Z",
     "iopub.status.busy": "2023-12-17T14:31:39.354521Z",
     "iopub.status.idle": "2023-12-17T14:31:39.364810Z",
     "shell.execute_reply": "2023-12-17T14:31:39.364025Z"
    },
    "papermill": {
     "duration": 0.021174,
     "end_time": "2023-12-17T14:31:39.367330",
     "exception": false,
     "start_time": "2023-12-17T14:31:39.346156",
     "status": "completed"
    },
    "tags": []
   },
   "outputs": [
    {
     "name": "stdout",
     "output_type": "stream",
     "text": [
      "0.03629533421163837\n",
      "0.6615639847417742\n"
     ]
    },
    {
     "data": {
      "application/javascript": [
       "parent.postMessage({\"jupyterEvent\": \"custom.exercise_interaction\", \"data\": {\"outcomeType\": 1, \"valueTowardsCompletion\": 0.2, \"interactionType\": 1, \"questionType\": 2, \"questionId\": \"5_WebsiteAnalytics\", \"learnToolsVersion\": \"0.3.4\", \"failureMessage\": \"\", \"exceptionClass\": \"\", \"trace\": \"\"}}, \"*\")"
      ],
      "text/plain": [
       "<IPython.core.display.Javascript object>"
      ]
     },
     "metadata": {},
     "output_type": "display_data"
    },
    {
     "data": {
      "text/markdown": [
       "<span style=\"color:#33cc33\">Correct</span>"
      ],
      "text/plain": [
       "Correct"
      ]
     },
     "metadata": {},
     "output_type": "display_data"
    }
   ],
   "source": [
    "# TODO: Edit the function\n",
    "def percentage_growth(num_users, yrs_ago):\n",
    "#   growth = (num_users[len(num_users)-1] - num_users[len(num_users)-yrs_ago-1])/num_users[len(num_users)-yrs_ago-1]\n",
    "    growth = (num_users[-1] - num_users[-yrs_ago-1])/num_users[-yrs_ago-1]\n",
    "    return growth\n",
    "\n",
    "# Do not change: Variable for calculating some test examples\n",
    "num_users_test = [920344, 1043553, 1204334, 1458996, 1503323, 1593432, 1623463, 1843064, 1930992, 2001078]\n",
    "\n",
    "# Do not change: Should return .036\n",
    "print(percentage_growth(num_users_test, 1))\n",
    "\n",
    "# Do not change: Should return 0.66\n",
    "print(percentage_growth(num_users_test, 7))\n",
    "\n",
    "# Do not change: Check your answer\n",
    "q5.check()"
   ]
  },
  {
   "cell_type": "code",
   "execution_count": 15,
   "id": "9eb152de",
   "metadata": {
    "execution": {
     "iopub.execute_input": "2023-12-17T14:31:39.384705Z",
     "iopub.status.busy": "2023-12-17T14:31:39.383911Z",
     "iopub.status.idle": "2023-12-17T14:31:39.388149Z",
     "shell.execute_reply": "2023-12-17T14:31:39.387344Z"
    },
    "papermill": {
     "duration": 0.015192,
     "end_time": "2023-12-17T14:31:39.390073",
     "exception": false,
     "start_time": "2023-12-17T14:31:39.374881",
     "status": "completed"
    },
    "tags": []
   },
   "outputs": [],
   "source": [
    "# Uncomment to see a hint\n",
    "#q5.hint()\n",
    "\n",
    "# Uncomment to see the solution\n",
    "#q5.solution()"
   ]
  },
  {
   "cell_type": "markdown",
   "id": "9ffbbe4c",
   "metadata": {
    "papermill": {
     "duration": 0.007722,
     "end_time": "2023-12-17T14:31:39.405457",
     "exception": false,
     "start_time": "2023-12-17T14:31:39.397735",
     "status": "completed"
    },
    "tags": []
   },
   "source": [
    "# Congratulations!\n",
    "\n",
    "Congratulations for finishing the Intro to Programming course!  You should be proud of your very first steps with learning programming.  As next steps, we recommend taking:\n",
    "- the **[Python course](http://www.kaggle.com/learn/python)**, and \n",
    "- the **[Intro to Machine Learning course](https://www.kaggle.com/learn/intro-to-machine-learning)**."
   ]
  },
  {
   "cell_type": "markdown",
   "id": "edfdf2fb",
   "metadata": {
    "papermill": {
     "duration": 0.007283,
     "end_time": "2023-12-17T14:31:39.420450",
     "exception": false,
     "start_time": "2023-12-17T14:31:39.413167",
     "status": "completed"
    },
    "tags": []
   },
   "source": [
    "---\n",
    "\n",
    "\n",
    "\n",
    "\n",
    "*Have questions or comments? Visit the [course discussion forum](https://www.kaggle.com/learn/intro-to-programming/discussion) to chat with other learners.*"
   ]
  }
 ],
 "metadata": {
  "kaggle": {
   "accelerator": "none",
   "dataSources": [],
   "isGpuEnabled": false,
   "isInternetEnabled": false,
   "language": "python",
   "sourceType": "notebook"
  },
  "kernelspec": {
   "display_name": "Python 3",
   "language": "python",
   "name": "python3"
  },
  "language_info": {
   "codemirror_mode": {
    "name": "ipython",
    "version": 3
   },
   "file_extension": ".py",
   "mimetype": "text/x-python",
   "name": "python",
   "nbconvert_exporter": "python",
   "pygments_lexer": "ipython3",
   "version": "3.10.12"
  },
  "papermill": {
   "default_parameters": {},
   "duration": 4.681986,
   "end_time": "2023-12-17T14:31:39.948643",
   "environment_variables": {},
   "exception": null,
   "input_path": "__notebook__.ipynb",
   "output_path": "__notebook__.ipynb",
   "parameters": {},
   "start_time": "2023-12-17T14:31:35.266657",
   "version": "2.4.0"
  }
 },
 "nbformat": 4,
 "nbformat_minor": 5
}
