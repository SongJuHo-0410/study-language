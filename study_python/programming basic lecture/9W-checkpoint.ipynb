{
 "cells": [
  {
   "cell_type": "markdown",
   "id": "f36d56e6",
   "metadata": {},
   "source": [
    "# 리스트 : 수정할 수 있는 자료형"
   ]
  },
  {
   "cell_type": "code",
   "execution_count": 45,
   "id": "86dbc1bf",
   "metadata": {},
   "outputs": [
    {
     "data": {
      "text/plain": [
       "list"
      ]
     },
     "execution_count": 45,
     "metadata": {},
     "output_type": "execute_result"
    }
   ],
   "source": [
    "a =[]\n",
    "type(a)"
   ]
  },
  {
   "cell_type": "code",
   "execution_count": 2,
   "id": "2c87d0f2",
   "metadata": {},
   "outputs": [
    {
     "data": {
      "text/plain": [
       "[1, 2, 3, 4, 5]"
      ]
     },
     "execution_count": 2,
     "metadata": {},
     "output_type": "execute_result"
    }
   ],
   "source": [
    "a = [1,2,3,4,5]\n",
    "a"
   ]
  },
  {
   "cell_type": "code",
   "execution_count": 3,
   "id": "cad215b1",
   "metadata": {},
   "outputs": [
    {
     "data": {
      "text/plain": [
       "['Hello', 'Python']"
      ]
     },
     "execution_count": 3,
     "metadata": {},
     "output_type": "execute_result"
    }
   ],
   "source": [
    "b = ['Hello','Python']\n",
    "b"
   ]
  },
  {
   "cell_type": "code",
   "execution_count": 5,
   "id": "4ca7a0fe",
   "metadata": {},
   "outputs": [
    {
     "data": {
      "text/plain": [
       "[1, 2, 'Hello', [10, 20]]"
      ]
     },
     "execution_count": 5,
     "metadata": {},
     "output_type": "execute_result"
    }
   ],
   "source": [
    "c = [1,2,\"Hello\",[10,20]]\n",
    "c"
   ]
  },
  {
   "cell_type": "code",
   "execution_count": 12,
   "id": "e4b9d6fd",
   "metadata": {},
   "outputs": [
    {
     "ename": "IndexError",
     "evalue": "list index out of range",
     "output_type": "error",
     "traceback": [
      "\u001b[1;31m---------------------------------------------------------------------------\u001b[0m",
      "\u001b[1;31mIndexError\u001b[0m                                Traceback (most recent call last)",
      "\u001b[1;32m~\\AppData\\Local\\Temp/ipykernel_2976/3866081546.py\u001b[0m in \u001b[0;36m<module>\u001b[1;34m\u001b[0m\n\u001b[0;32m      3\u001b[0m \u001b[0ma\u001b[0m\u001b[1;33m[\u001b[0m\u001b[1;36m0\u001b[0m\u001b[1;33m]\u001b[0m\u001b[1;33m+\u001b[0m\u001b[0ma\u001b[0m\u001b[1;33m[\u001b[0m\u001b[1;36m2\u001b[0m\u001b[1;33m]\u001b[0m\u001b[1;33m\u001b[0m\u001b[1;33m\u001b[0m\u001b[0m\n\u001b[0;32m      4\u001b[0m \u001b[0ma\u001b[0m\u001b[1;33m[\u001b[0m\u001b[1;33m-\u001b[0m\u001b[1;36m3\u001b[0m\u001b[1;33m]\u001b[0m\u001b[1;33m\u001b[0m\u001b[1;33m\u001b[0m\u001b[0m\n\u001b[1;32m----> 5\u001b[1;33m \u001b[0ma\u001b[0m\u001b[1;33m[\u001b[0m\u001b[1;36m4\u001b[0m\u001b[1;33m]\u001b[0m\u001b[1;33m\u001b[0m\u001b[1;33m\u001b[0m\u001b[0m\n\u001b[0m",
      "\u001b[1;31mIndexError\u001b[0m: list index out of range"
     ]
    }
   ],
   "source": [
    "a = [10,20,30,40]\n",
    "a[0]\n",
    "a[0]+a[2]\n",
    "a[-3]\n",
    "a[4] #범위 밖"
   ]
  },
  {
   "cell_type": "code",
   "execution_count": 16,
   "id": "caa7702e",
   "metadata": {},
   "outputs": [
    {
     "data": {
      "text/plain": [
       "[10, 20]"
      ]
     },
     "execution_count": 16,
     "metadata": {},
     "output_type": "execute_result"
    }
   ],
   "source": [
    "a[1:3] #[시작번호:끝번호-1]\n",
    "a[:4] #처음부터\n",
    "a[2:] #끝까지"
   ]
  },
  {
   "cell_type": "code",
   "execution_count": 18,
   "id": "f2153ce7",
   "metadata": {},
   "outputs": [
    {
     "data": {
      "text/plain": [
       "[10, 20, 200]"
      ]
     },
     "execution_count": 18,
     "metadata": {},
     "output_type": "execute_result"
    }
   ],
   "source": [
    "h = [10,20,30]\n",
    "h[2] = 200\n",
    "h"
   ]
  },
  {
   "cell_type": "code",
   "execution_count": 25,
   "id": "bf79f260",
   "metadata": {},
   "outputs": [
    {
     "data": {
      "text/plain": [
       "[10, 15, 20, 30, [40, 50]]"
      ]
     },
     "execution_count": 25,
     "metadata": {},
     "output_type": "execute_result"
    }
   ],
   "source": [
    "a = []\n",
    "a = [10,20]\n",
    "a.append(30) # a에 맨 뒤에 추가하는 기능\n",
    "a.append([40,50]) # a에 맨뒤에 추가하는 기능\n",
    "a.insert(1,15) # a의 중간에 추가하는 기능\n",
    "a"
   ]
  },
  {
   "cell_type": "code",
   "execution_count": 29,
   "id": "fb7d1c87",
   "metadata": {},
   "outputs": [
    {
     "data": {
      "text/plain": [
       "[8, 6, 5, 4, 2]"
      ]
     },
     "execution_count": 29,
     "metadata": {},
     "output_type": "execute_result"
    }
   ],
   "source": [
    "a = [8,6,5,2,4]\n",
    "a.sort() #오름차순 정렬\n",
    "a\n",
    "\n",
    "a.sort(reverse=True) #내림차순 정렬\n",
    "a\n",
    "\n"
   ]
  },
  {
   "cell_type": "code",
   "execution_count": 34,
   "id": "5431c731",
   "metadata": {},
   "outputs": [
    {
     "data": {
      "text/plain": [
       "[10]"
      ]
     },
     "execution_count": 34,
     "metadata": {},
     "output_type": "execute_result"
    }
   ],
   "source": [
    "a = [10,20,30,40]\n",
    "a.pop() #pop안에 파라메터없으면 끝값 삭제\n",
    "a.pop(1)\n",
    "a\n",
    "a.remove(30)\n",
    "a"
   ]
  },
  {
   "cell_type": "code",
   "execution_count": 35,
   "id": "14b65034",
   "metadata": {},
   "outputs": [
    {
     "data": {
      "text/plain": [
       "2"
      ]
     },
     "execution_count": 35,
     "metadata": {},
     "output_type": "execute_result"
    }
   ],
   "source": [
    "a = [10,20,30,20]\n",
    "a.count(20) #리스트의 값 개수 세기"
   ]
  },
  {
   "cell_type": "code",
   "execution_count": 44,
   "id": "b1debe76",
   "metadata": {},
   "outputs": [
    {
     "data": {
      "text/plain": [
       "3"
      ]
     },
     "execution_count": 44,
     "metadata": {},
     "output_type": "execute_result"
    }
   ],
   "source": [
    "a = [10,20,30]\n",
    "a.index(20)\n",
    "len(a) #리스트 개수"
   ]
  },
  {
   "cell_type": "markdown",
   "id": "f0edcfb9",
   "metadata": {},
   "source": [
    "# 튜플 :수정할 수 없는 자료형"
   ]
  },
  {
   "cell_type": "code",
   "execution_count": 51,
   "id": "9b51a032",
   "metadata": {},
   "outputs": [
    {
     "data": {
      "text/plain": [
       "(10, 20, 30, 40)"
      ]
     },
     "execution_count": 51,
     "metadata": {},
     "output_type": "execute_result"
    }
   ],
   "source": [
    "a = (10,20,30,40)\n",
    "a[1:3]\n",
    "a[2:]\n",
    "a[:4]"
   ]
  },
  {
   "cell_type": "code",
   "execution_count": 52,
   "id": "42f9e0ad",
   "metadata": {},
   "outputs": [
    {
     "ename": "TypeError",
     "evalue": "'tuple' object does not support item assignment",
     "output_type": "error",
     "traceback": [
      "\u001b[1;31m---------------------------------------------------------------------------\u001b[0m",
      "\u001b[1;31mTypeError\u001b[0m                                 Traceback (most recent call last)",
      "\u001b[1;32m~\\AppData\\Local\\Temp/ipykernel_2976/2887545237.py\u001b[0m in \u001b[0;36m<module>\u001b[1;34m\u001b[0m\n\u001b[0;32m      1\u001b[0m \u001b[0ma\u001b[0m \u001b[1;33m=\u001b[0m \u001b[1;33m(\u001b[0m\u001b[1;36m10\u001b[0m\u001b[1;33m,\u001b[0m\u001b[1;36m20\u001b[0m\u001b[1;33m,\u001b[0m\u001b[1;36m30\u001b[0m\u001b[1;33m,\u001b[0m\u001b[1;36m40\u001b[0m\u001b[1;33m)\u001b[0m\u001b[1;33m\u001b[0m\u001b[1;33m\u001b[0m\u001b[0m\n\u001b[1;32m----> 2\u001b[1;33m \u001b[0ma\u001b[0m\u001b[1;33m[\u001b[0m\u001b[1;36m1\u001b[0m\u001b[1;33m]\u001b[0m \u001b[1;33m=\u001b[0m\u001b[1;36m200\u001b[0m\u001b[1;33m\u001b[0m\u001b[1;33m\u001b[0m\u001b[0m\n\u001b[0m",
      "\u001b[1;31mTypeError\u001b[0m: 'tuple' object does not support item assignment"
     ]
    }
   ],
   "source": [
    "a = (10,20,30,40)\n",
    "a[1] =200"
   ]
  },
  {
   "cell_type": "markdown",
   "id": "bed25826",
   "metadata": {},
   "source": [
    "# 딕셔너리=맵: {key: value}, 순서x"
   ]
  },
  {
   "cell_type": "code",
   "execution_count": 57,
   "id": "a39c9223",
   "metadata": {},
   "outputs": [
    {
     "data": {
      "text/plain": [
       "{'김밥': 2000, '라면': 3000, '돈까스': 7000, '짜장면': 6000}"
      ]
     },
     "execution_count": 57,
     "metadata": {},
     "output_type": "execute_result"
    }
   ],
   "source": [
    "menu = {'김밥': 2000,'라면':3000, '돈까스':7000}\n",
    "menu['라면']\n",
    "menu['짜장면']= 6000 #딕셔너리에 추가하는 기능\n",
    "menu"
   ]
  },
  {
   "cell_type": "code",
   "execution_count": 60,
   "id": "e203394c",
   "metadata": {},
   "outputs": [
    {
     "data": {
      "text/plain": [
       "dict_keys(['김밥', '라면', '돈까스', '짜장면'])"
      ]
     },
     "execution_count": 60,
     "metadata": {},
     "output_type": "execute_result"
    }
   ],
   "source": [
    "menu.keys()"
   ]
  },
  {
   "cell_type": "code",
   "execution_count": 61,
   "id": "c58a4b19",
   "metadata": {},
   "outputs": [
    {
     "data": {
      "text/plain": [
       "dict_values([2000, 3000, 7000, 6000])"
      ]
     },
     "execution_count": 61,
     "metadata": {},
     "output_type": "execute_result"
    }
   ],
   "source": [
    "menu.values()"
   ]
  },
  {
   "cell_type": "code",
   "execution_count": 62,
   "id": "eafb9ebc",
   "metadata": {},
   "outputs": [
    {
     "data": {
      "text/plain": [
       "dict_items([('김밥', 2000), ('라면', 3000), ('돈까스', 7000), ('짜장면', 6000)])"
      ]
     },
     "execution_count": 62,
     "metadata": {},
     "output_type": "execute_result"
    }
   ],
   "source": [
    "menu.items() #key와 value의 쌍을 튜플로 묶은 값을 반환"
   ]
  },
  {
   "cell_type": "code",
   "execution_count": 70,
   "id": "f3239712",
   "metadata": {},
   "outputs": [
    {
     "data": {
      "text/plain": [
       "'없음'"
      ]
     },
     "execution_count": 70,
     "metadata": {},
     "output_type": "execute_result"
    }
   ],
   "source": [
    "name = {100:'황복동',200:'황채연',300:'황나연'}\n",
    "name[100]\n",
    "\n",
    "name.get(400,'없음') #없는 값을 처리"
   ]
  },
  {
   "cell_type": "markdown",
   "id": "7feed977",
   "metadata": {},
   "source": [
    "# get()함수: 키가 존재하지 않을 경우에는 KeyError를 발생x"
   ]
  },
  {
   "cell_type": "code",
   "execution_count": 73,
   "id": "2d573c8e",
   "metadata": {},
   "outputs": [
    {
     "data": {
      "text/plain": [
       "{300: '황나연'}"
      ]
     },
     "execution_count": 73,
     "metadata": {},
     "output_type": "execute_result"
    }
   ],
   "source": [
    "name = {100:'황복동',200:'황채연',300:'황나연'}\n",
    "del(name[100])\n",
    "name\n",
    "name.pop(200)\n",
    "name"
   ]
  },
  {
   "cell_type": "markdown",
   "id": "72b5fe5d",
   "metadata": {},
   "source": [
    "# 세트(집합) : 중복x, 순서x"
   ]
  },
  {
   "cell_type": "code",
   "execution_count": 80,
   "id": "409b0afa",
   "metadata": {},
   "outputs": [
    {
     "data": {
      "text/plain": [
       "{10, 30}"
      ]
     },
     "execution_count": 80,
     "metadata": {},
     "output_type": "execute_result"
    }
   ],
   "source": [
    "a ={10,20,30}\n",
    "b ={20,40}\n",
    "\n",
    "a & b #교집합\n",
    "a.intersection(b) #교집합\n",
    "\n",
    "a|b #합집합\n",
    "\n",
    "a-b #차집합"
   ]
  },
  {
   "cell_type": "code",
   "execution_count": 83,
   "id": "b9716637",
   "metadata": {},
   "outputs": [
    {
     "data": {
      "text/plain": [
       "{10, 20, 30, 40}"
      ]
     },
     "execution_count": 83,
     "metadata": {},
     "output_type": "execute_result"
    }
   ],
   "source": [
    "s1 = {10,20,30}\n",
    "s1.add(40)\n",
    "s1"
   ]
  },
  {
   "cell_type": "code",
   "execution_count": 92,
   "id": "d38e7610",
   "metadata": {},
   "outputs": [
    {
     "name": "stdout",
     "output_type": "stream",
     "text": [
      "숫자:10\n",
      "숫자:20\n",
      "숫자:30\n",
      "숫자:40\n",
      "숫자:50\n",
      "숫자:60\n",
      "{40, 10, 50, 20, 60, 30}\n"
     ]
    }
   ],
   "source": [
    "c =set()\n",
    "\n",
    "for i in range(1,7,1):\n",
    "    c.add(int(input(\"숫자:\")))\n",
    "print(c)"
   ]
  },
  {
   "cell_type": "code",
   "execution_count": 101,
   "id": "89ab1d20",
   "metadata": {},
   "outputs": [
    {
     "name": "stdout",
     "output_type": "stream",
     "text": [
      "{'최재원': '010-1111-1234', '최지윤': '010-2222-1234', '김연수': '010-3333-1234', '김연우': '010-4444-1234', '김가현': '010-5555-1234', '김혜현': '010-6666-1234'}\n",
      "\n",
      "dict_keys(['최재원', '최지윤', '김연수', '김연우', '김가현', '김혜현'])\n",
      "['최재원', '최지윤', '김연수', '김연우', '김가현', '김혜현']\n",
      "search name: 최재원\n",
      "010-1111-1234\n"
     ]
    }
   ],
   "source": [
    "addr={}\n",
    "\n",
    "addr['최재원']= '010-1111-1234'\n",
    "addr['최지윤']= '010-2222-1234'\n",
    "addr['김연수']= '010-3333-1234'\n",
    "addr['김연우']= '010-4444-1234'\n",
    "addr['김가현']= '010-5555-1234'\n",
    "addr['김혜현']= '010-6666-1234'\n",
    "\n",
    "print(addr)\n",
    "print()\n",
    "print(addr.keys())\n",
    "print(list(addr.keys()))\n",
    "\n",
    "name=input(\"search name: \")\n",
    "print(addr.get(name,'없음'))"
   ]
  },
  {
   "cell_type": "code",
   "execution_count": 100,
   "id": "b71cddea",
   "metadata": {},
   "outputs": [
    {
     "name": "stdout",
     "output_type": "stream",
     "text": [
      "<class 'dict'>\n",
      "<class 'set'>\n"
     ]
    }
   ],
   "source": [
    "a = {}\n",
    "print(type(a))\n",
    "\n",
    "b = set()\n",
    "print(type(b))"
   ]
  },
  {
   "cell_type": "code",
   "execution_count": null,
   "id": "fb5145d2",
   "metadata": {},
   "outputs": [],
   "source": [
    "\n"
   ]
  },
  {
   "cell_type": "code",
   "execution_count": 105,
   "id": "ccbff4a5",
   "metadata": {},
   "outputs": [
    {
     "name": "stdout",
     "output_type": "stream",
     "text": [
      "count: 3\n"
     ]
    }
   ],
   "source": [
    "score = [70,90,60,100,50]\n",
    "cnt = 0 #반드시 초기화\n",
    "for i in range(0,5,1):\n",
    "    if score[i]>=70:\n",
    "        cnt += 1\n",
    "\n",
    "print('count:',cnt)"
   ]
  },
  {
   "cell_type": "code",
   "execution_count": 107,
   "id": "ceb1bf4a",
   "metadata": {},
   "outputs": [
    {
     "name": "stdout",
     "output_type": "stream",
     "text": [
      "start num: 1\n",
      "end num: 100\n",
      "전체합계 : 5050\n",
      "짝수의 합 : 2550\n",
      "홀수의 합 : 2500\n"
     ]
    }
   ],
   "source": [
    "s = int(input('start num: '))\n",
    "e = int(input('end num: '))\n",
    "\n",
    "#변수의 초기화\n",
    "total, even, odd = 0,0,0\n",
    "for i in range(s,e+1,1):\n",
    "    total += i\n",
    "    if i % 2 == 0:\n",
    "        even += i\n",
    "    else:\n",
    "        odd += i\n",
    "\n",
    "print('전체합계 :',total)\n",
    "print('짝수의 합 :',even)\n",
    "print('홀수의 합 :',odd)\n",
    "      "
   ]
  },
  {
   "cell_type": "code",
   "execution_count": null,
   "id": "a7ee76cf",
   "metadata": {},
   "outputs": [],
   "source": []
  }
 ],
 "metadata": {
  "kernelspec": {
   "display_name": "Python 3 (ipykernel)",
   "language": "python",
   "name": "python3"
  },
  "language_info": {
   "codemirror_mode": {
    "name": "ipython",
    "version": 3
   },
   "file_extension": ".py",
   "mimetype": "text/x-python",
   "name": "python",
   "nbconvert_exporter": "python",
   "pygments_lexer": "ipython3",
   "version": "3.9.7"
  }
 },
 "nbformat": 4,
 "nbformat_minor": 5
}
