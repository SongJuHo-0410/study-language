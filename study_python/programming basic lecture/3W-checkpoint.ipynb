{
 "cells": [
  {
   "cell_type": "markdown",
   "id": "d3091a20",
   "metadata": {},
   "source": [
    "# 변수와 연산자"
   ]
  },
  {
   "cell_type": "code",
   "execution_count": 5,
   "id": "a5d60edd",
   "metadata": {},
   "outputs": [
    {
     "name": "stdout",
     "output_type": "stream",
     "text": [
      "안녕하세요 파이썬!\n",
      "안녕하세요 파이썬!\n",
      "안녕하세요 파이썬!\n",
      "안녕하세요 파이썬!\n"
     ]
    }
   ],
   "source": [
    "print(\"안녕하세요 파이썬!\")\n",
    "print(\"안녕하세요 파이썬!\")\n",
    "print(\"안녕하세요 파이썬!\")\n",
    "print(\"안녕하세요 파이썬!\")"
   ]
  },
  {
   "cell_type": "code",
   "execution_count": 6,
   "id": "4d750e30",
   "metadata": {},
   "outputs": [
    {
     "name": "stdout",
     "output_type": "stream",
     "text": [
      "안녕하세요 파이썬!\n",
      "안녕하세요 파이썬!\n",
      "안녕하세요 파이썬!\n"
     ]
    }
   ],
   "source": [
    "hello = \"안녕하세요 파이썬!\"\n",
    "print(hello)\n",
    "print(hello)\n",
    "print(hello)"
   ]
  },
  {
   "cell_type": "code",
   "execution_count": 7,
   "id": "a0b27bb0",
   "metadata": {},
   "outputs": [
    {
     "name": "stdout",
     "output_type": "stream",
     "text": [
      "['False', 'None', 'True', '__peg_parser__', 'and', 'as', 'assert', 'async', 'await', 'break', 'class', 'continue', 'def', 'del', 'elif', 'else', 'except', 'finally', 'for', 'from', 'global', 'if', 'import', 'in', 'is', 'lambda', 'nonlocal', 'not', 'or', 'pass', 'raise', 'return', 'try', 'while', 'with', 'yield']\n"
     ]
    }
   ],
   "source": [
    "import keyword\n",
    "print(keyword.kwlist)"
   ]
  },
  {
   "cell_type": "code",
   "execution_count": 9,
   "id": "d3174dcf",
   "metadata": {},
   "outputs": [
    {
     "name": "stdout",
     "output_type": "stream",
     "text": [
      "나코딩\n",
      "20\n"
     ]
    }
   ],
   "source": [
    "name = \"나코딩\"\n",
    "age = 20\n",
    "\n",
    "print(name)\n",
    "print(age)"
   ]
  },
  {
   "cell_type": "code",
   "execution_count": 14,
   "id": "c8f0667e",
   "metadata": {},
   "outputs": [
    {
     "name": "stdout",
     "output_type": "stream",
     "text": [
      "<class 'str'>\n",
      "<class 'int'>\n"
     ]
    }
   ],
   "source": [
    "print(type(name))\n",
    "print(type(age))"
   ]
  },
  {
   "cell_type": "code",
   "execution_count": 16,
   "id": "a0e07b12",
   "metadata": {},
   "outputs": [
    {
     "name": "stdout",
     "output_type": "stream",
     "text": [
      "<class 'float'>\n",
      "<class 'bool'>\n"
     ]
    }
   ],
   "source": [
    "num = 95.5\n",
    "print(type(num))\n",
    "\n",
    "res = True\n",
    "print(type(res))\n"
   ]
  },
  {
   "cell_type": "code",
   "execution_count": 22,
   "id": "6bd444c0",
   "metadata": {},
   "outputs": [
    {
     "name": "stdout",
     "output_type": "stream",
     "text": [
      "30\n",
      "-10\n",
      "0.5\n",
      "10\n",
      "0\n",
      "100000000000000000000\n"
     ]
    }
   ],
   "source": [
    "a = 10\n",
    "b = 20\n",
    "print(a + b)\n",
    "print(a - b)\n",
    "print(a / b)\n",
    "print(a % b)\n",
    "print(a // b)\n",
    "print(a ** b)"
   ]
  },
  {
   "cell_type": "code",
   "execution_count": 25,
   "id": "07ec64bc",
   "metadata": {},
   "outputs": [
    {
     "name": "stdout",
     "output_type": "stream",
     "text": [
      "2\n",
      "10\n"
     ]
    }
   ],
   "source": [
    "money = 1000\n",
    "print(money // 500)\n",
    "print(money // 100)"
   ]
  },
  {
   "cell_type": "code",
   "execution_count": 29,
   "id": "36a1d338",
   "metadata": {},
   "outputs": [
    {
     "name": "stdout",
     "output_type": "stream",
     "text": [
      "66\n",
      "100\n"
     ]
    }
   ],
   "source": [
    "money = 10000\n",
    "price = 150\n",
    "numCandy = money//price\n",
    "change = money%price\n",
    "print(numCandy)\n",
    "print(change)"
   ]
  },
  {
   "cell_type": "code",
   "execution_count": 50,
   "id": "9ad3ecfd",
   "metadata": {
    "collapsed": true
   },
   "outputs": [
    {
     "name": "stdout",
     "output_type": "stream",
     "text": [
      "1분기 지출 금액:123.5\n"
     ]
    },
    {
     "ename": "ValueError",
     "evalue": "invalid literal for int() with base 10: '123.5'",
     "output_type": "error",
     "traceback": [
      "\u001b[1;31m---------------------------------------------------------------------------\u001b[0m",
      "\u001b[1;31mValueError\u001b[0m                                Traceback (most recent call last)",
      "\u001b[1;32m~\\AppData\\Local\\Temp/ipykernel_23404/3135570597.py\u001b[0m in \u001b[0;36m<module>\u001b[1;34m\u001b[0m\n\u001b[1;32m----> 1\u001b[1;33m \u001b[0mcost1\u001b[0m \u001b[1;33m=\u001b[0m \u001b[0mint\u001b[0m\u001b[1;33m(\u001b[0m\u001b[0minput\u001b[0m\u001b[1;33m(\u001b[0m\u001b[1;34m\"1분기 지출 금액:\"\u001b[0m\u001b[1;33m)\u001b[0m\u001b[1;33m)\u001b[0m\u001b[1;33m\u001b[0m\u001b[1;33m\u001b[0m\u001b[0m\n\u001b[0m\u001b[0;32m      2\u001b[0m \u001b[0mcost2\u001b[0m \u001b[1;33m=\u001b[0m \u001b[0mint\u001b[0m\u001b[1;33m(\u001b[0m\u001b[0minput\u001b[0m\u001b[1;33m(\u001b[0m\u001b[1;34m\"2분기 지출 금액:\"\u001b[0m\u001b[1;33m)\u001b[0m\u001b[1;33m)\u001b[0m\u001b[1;33m\u001b[0m\u001b[1;33m\u001b[0m\u001b[0m\n\u001b[0;32m      3\u001b[0m \u001b[1;33m\u001b[0m\u001b[0m\n\u001b[0;32m      4\u001b[0m \u001b[0mhap\u001b[0m \u001b[1;33m=\u001b[0m \u001b[1;36m0\u001b[0m\u001b[1;33m\u001b[0m\u001b[1;33m\u001b[0m\u001b[0m\n\u001b[0;32m      5\u001b[0m \u001b[1;33m\u001b[0m\u001b[0m\n",
      "\u001b[1;31mValueError\u001b[0m: invalid literal for int() with base 10: '123.5'"
     ]
    }
   ],
   "source": [
    "cost1 = int(input(\"1분기 지출 금액:\"))\n",
    "cost2 = int(input(\"2분기 지출 금액:\"))\n",
    "\n",
    "hap = 0\n",
    "\n",
    "hap = cost1 + cost2\n",
    "print(\"총액은:\", hap,\"억 원\")\n",
    "type(hap)"
   ]
  },
  {
   "cell_type": "code",
   "execution_count": null,
   "id": "36195f32",
   "metadata": {},
   "outputs": [],
   "source": [
    "cost = float(input(\"단가 입력:\"))\n",
    "cnt = float(input(\"개수 입력:\"))\n",
    "totalCost = 0\n",
    "\n",
    "totalCost = cost * cnt\n",
    "print(\"총액은\",totalCost,\"원\")"
   ]
  },
  {
   "cell_type": "code",
   "execution_count": 54,
   "id": "ad2c6d0a",
   "metadata": {},
   "outputs": [
    {
     "name": "stdout",
     "output_type": "stream",
     "text": [
      "금액 입력:2\n",
      "인원 입력:3\n",
      "0.6666666666666666\n"
     ]
    }
   ],
   "source": [
    "cost = float(input(\"금액 입력:\"))\n",
    "cnt = float(input(\"인원 입력:\"))\n",
    "\n",
    "unitCost = float(0)\n",
    "unitCost = cost / cnt\n",
    "print(unitCost)"
   ]
  },
  {
   "cell_type": "code",
   "execution_count": 55,
   "id": "64d75916",
   "metadata": {},
   "outputs": [
    {
     "name": "stdout",
     "output_type": "stream",
     "text": [
      "총 수입:1000\n",
      "총 지출:200\n",
      "잔액 800\n"
     ]
    }
   ],
   "source": [
    "income = int(input(\"총 수입:\"))\n",
    "spending = int(input(\"총 지출:\"))\n",
    "balance = 0\n",
    "\n",
    "balance = income - spending #잔액 계산\n",
    "\n",
    "print(\"잔액\",balance) #잔액 출력\n"
   ]
  },
  {
   "cell_type": "code",
   "execution_count": 58,
   "id": "23c088d4",
   "metadata": {},
   "outputs": [
    {
     "data": {
      "text/plain": [
       "False"
      ]
     },
     "execution_count": 58,
     "metadata": {},
     "output_type": "execute_result"
    }
   ],
   "source": [
    "10 == 10\n",
    "\n",
    "10 != 10"
   ]
  },
  {
   "cell_type": "code",
   "execution_count": 65,
   "id": "6dea885c",
   "metadata": {},
   "outputs": [
    {
     "data": {
      "text/plain": [
       "True"
      ]
     },
     "execution_count": 65,
     "metadata": {},
     "output_type": "execute_result"
    }
   ],
   "source": [
    "a = 10\n",
    "b = 60\n",
    "\n",
    "a < 50 and b < 70\n",
    "\n",
    "not a > 100"
   ]
  },
  {
   "cell_type": "code",
   "execution_count": 71,
   "id": "b0518e99",
   "metadata": {},
   "outputs": [
    {
     "name": "stdout",
     "output_type": "stream",
     "text": [
      "python is fun!\n",
      "python python python python python \n",
      "**********\n"
     ]
    }
   ],
   "source": [
    "h = \"python \"\n",
    "t = \"is fun!\"\n",
    "print(h + t)\n",
    "\n",
    "print(h*5)\n",
    "\n",
    "print(\"*\"*10)"
   ]
  },
  {
   "cell_type": "code",
   "execution_count": 73,
   "id": "1e66cae4",
   "metadata": {},
   "outputs": [
    {
     "name": "stdout",
     "output_type": "stream",
     "text": [
      "====================\n",
      "I love python\n",
      "I like python\n",
      "====================\n"
     ]
    }
   ],
   "source": [
    "print(\"=\"*20)\n",
    "print(\"I love python\")\n",
    "print(\"I like python\")\n",
    "print(\"=\"*20)"
   ]
  },
  {
   "cell_type": "code",
   "execution_count": 85,
   "id": "7bc9b2ce",
   "metadata": {},
   "outputs": [
    {
     "name": "stdout",
     "output_type": "stream",
     "text": [
      "입금 금액:1000\n",
      "선택 제품 금액:200\n",
      "잔돈 800\n",
      "500원 1 개\n",
      "100원 3 개\n"
     ]
    }
   ],
   "source": [
    "money = int(input(\"입금 금액:\"))\n",
    "price = int(input(\"선택 제품 금액:\"))\n",
    "\n",
    "change = money - price\n",
    "print(\"잔돈\" ,change)\n",
    "\n",
    "c500 = change // 500\n",
    "change = change% 500\n",
    "\n",
    "c100 = change // 100\n",
    "change = change% 100\n",
    "\n",
    "print(\"500원\",c500,\"개\")\n",
    "print(\"100원\",c100,\"개\")"
   ]
  },
  {
   "cell_type": "code",
   "execution_count": 110,
   "id": "b575e668",
   "metadata": {},
   "outputs": [
    {
     "name": "stdout",
     "output_type": "stream",
     "text": [
      "국어 점수:10\n",
      "영어 점수:20\n",
      "수학 점수:7\n",
      "총점 37 점 평균 12.333333333333334 점\n"
     ]
    }
   ],
   "source": [
    "kor = int(input(\"국어 점수:\"))\n",
    "eng = int(input(\"영어 점수:\"))\n",
    "math = int(input(\"수학 점수:\"))\n",
    "\n",
    "\n",
    "hap = kor + eng + math\n",
    "avg = hap / 3\n",
    "\n",
    "print(\"총점\",hap,\"점\",\"평균\",avg,\"점\")"
   ]
  },
  {
   "cell_type": "code",
   "execution_count": 114,
   "id": "43250af9",
   "metadata": {},
   "outputs": [
    {
     "name": "stdout",
     "output_type": "stream",
     "text": [
      "숫자입력(1~999) : 999\n",
      "999\n",
      "백의자리 9\n",
      "십의자리 9\n",
      "일의자리 9\n"
     ]
    }
   ],
   "source": [
    "n = int(input(\"숫자입력(1~999) : \"))\n",
    "print(n)\n",
    "d100 = n // 100 #백의 자리\n",
    "n= n % 100 #백의자리를 제외한 나머지 자리\n",
    "\n",
    "d10 = n // 10 #십의 자리\n",
    "d1 = n % 10 #십의 자리를 제외한 나머지 자리\n",
    "\n",
    "print(\"백의자리\",d100)\n",
    "print(\"십의자리\",d10)\n",
    "print(\"일의자리\",d1)"
   ]
  },
  {
   "cell_type": "code",
   "execution_count": 125,
   "id": "2a68be2c",
   "metadata": {},
   "outputs": [
    {
     "name": "stdout",
     "output_type": "stream",
     "text": [
      "초 입력 :3700\n",
      "3700 초\n",
      "61\n",
      "1\n",
      "1\n",
      "40\n"
     ]
    }
   ],
   "source": [
    "time = int(input(\"초 입력 :\"))\n",
    "print(time,\"초\")\n",
    "\n",
    "minute = time // 60 #시간의 나머지(time은 영향이 없기 때문에)\n",
    "second = time % 60 #시간의 몫 \n",
    "\n",
    "hour = minute // 60 ()\n",
    "minute = minute % 60\n",
    "\n",
    "print(hour)\n",
    "print(minute)\n",
    "print(second)\n"
   ]
  },
  {
   "cell_type": "code",
   "execution_count": 128,
   "id": "5b280d4d",
   "metadata": {},
   "outputs": [
    {
     "name": "stdout",
     "output_type": "stream",
     "text": [
      "출석 입력 :50\n",
      "과제 입력 :100\n",
      "중간 입력 :100\n",
      "기말 입력 :100\n",
      "전체 총점 :  95.0\n"
     ]
    }
   ],
   "source": [
    "attend = int(input(\"출석 입력 :\"))\n",
    "homework= int(input(\"과제 입력 :\"))\n",
    "mid = int(input(\"중간 입력 :\"))\n",
    "final = int(input(\"기말 입력 :\"))\n",
    "\n",
    "total = attend * 0.1\n",
    "total += homework *0.3\n",
    "total += mid *0.3\n",
    "total += final *0.3\n",
    "\n",
    "print(\"전체 총점 : \",total)"
   ]
  },
  {
   "cell_type": "markdown",
   "id": "6c3c59f5",
   "metadata": {},
   "source": [
    "#"
   ]
  },
  {
   "cell_type": "code",
   "execution_count": null,
   "id": "62a23886",
   "metadata": {},
   "outputs": [],
   "source": []
  }
 ],
 "metadata": {
  "kernelspec": {
   "display_name": "Python 3 (ipykernel)",
   "language": "python",
   "name": "python3"
  },
  "language_info": {
   "codemirror_mode": {
    "name": "ipython",
    "version": 3
   },
   "file_extension": ".py",
   "mimetype": "text/x-python",
   "name": "python",
   "nbconvert_exporter": "python",
   "pygments_lexer": "ipython3",
   "version": "3.9.7"
  }
 },
 "nbformat": 4,
 "nbformat_minor": 5
}
