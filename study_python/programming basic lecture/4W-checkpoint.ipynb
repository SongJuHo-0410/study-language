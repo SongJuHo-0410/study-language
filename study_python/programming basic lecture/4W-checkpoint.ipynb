{
 "cells": [
  {
   "cell_type": "code",
   "execution_count": 6,
   "id": "487914f7",
   "metadata": {},
   "outputs": [
    {
     "data": {
      "text/plain": [
       "list"
      ]
     },
     "execution_count": 6,
     "metadata": {},
     "output_type": "execute_result"
    }
   ],
   "source": [
    "n = [2, 2.4, (1,2,3), \"sun\"]\n",
    "n\n",
    "type(n)"
   ]
  },
  {
   "cell_type": "code",
   "execution_count": 14,
   "id": "62bb8b97",
   "metadata": {},
   "outputs": [
    {
     "data": {
      "text/plain": [
       "set"
      ]
     },
     "execution_count": 14,
     "metadata": {},
     "output_type": "execute_result"
    }
   ],
   "source": [
    "n = {2, 2.4, (1,2,3), \"sun\"}\n",
    "type(n)"
   ]
  },
  {
   "cell_type": "code",
   "execution_count": 16,
   "id": "8208ad39",
   "metadata": {},
   "outputs": [
    {
     "name": "stdout",
     "output_type": "stream",
     "text": [
      "<class 'int'>\n",
      "3\n"
     ]
    }
   ],
   "source": [
    "n = int(3.14)\n",
    "print(type(n))\n",
    "print(n)"
   ]
  },
  {
   "cell_type": "code",
   "execution_count": 22,
   "id": "81414018",
   "metadata": {},
   "outputs": [
    {
     "name": "stdout",
     "output_type": "stream",
     "text": [
      "<class 'float'>\n",
      "7.0\n"
     ]
    }
   ],
   "source": [
    "n = float(7)\n",
    "print(type(n))\n",
    "print(n)"
   ]
  },
  {
   "cell_type": "code",
   "execution_count": 25,
   "id": "23fc3fc8",
   "metadata": {},
   "outputs": [
    {
     "data": {
      "text/plain": [
       "0.10000000000000009"
      ]
     },
     "execution_count": 25,
     "metadata": {},
     "output_type": "execute_result"
    }
   ],
   "source": [
    "2.2 - 2.1"
   ]
  },
  {
   "cell_type": "code",
   "execution_count": 30,
   "id": "9e8a4544",
   "metadata": {},
   "outputs": [
    {
     "name": "stdout",
     "output_type": "stream",
     "text": [
      "<class 'complex'>\n",
      "(3+4.5j)\n"
     ]
    },
    {
     "data": {
      "text/plain": [
       "(3-4.5j)"
      ]
     },
     "execution_count": 30,
     "metadata": {},
     "output_type": "execute_result"
    }
   ],
   "source": [
    "n = 3 + 4.5j\n",
    "print(type(n))\n",
    "print(n)\n",
    "n.conjugate()"
   ]
  },
  {
   "cell_type": "code",
   "execution_count": 34,
   "id": "3d271593",
   "metadata": {},
   "outputs": [
    {
     "data": {
      "text/plain": [
       "1"
      ]
     },
     "execution_count": 34,
     "metadata": {},
     "output_type": "execute_result"
    }
   ],
   "source": [
    "n = 3\n",
    "n > 0\n",
    "\n",
    "True + True #True는 1\n",
    "True + False #False는 0"
   ]
  },
  {
   "cell_type": "code",
   "execution_count": 39,
   "id": "d08f21ce",
   "metadata": {},
   "outputs": [
    {
     "data": {
      "text/plain": [
       "True"
      ]
     },
     "execution_count": 39,
     "metadata": {},
     "output_type": "execute_result"
    }
   ],
   "source": [
    "bool(3.2>1)"
   ]
  },
  {
   "cell_type": "code",
   "execution_count": 43,
   "id": "ecb5b984",
   "metadata": {},
   "outputs": [
    {
     "data": {
      "text/plain": [
       "'Nice Day Hello'"
      ]
     },
     "execution_count": 43,
     "metadata": {},
     "output_type": "execute_result"
    }
   ],
   "source": [
    "a = 'Nice Day'\n",
    "a\n",
    "b = 'Hello World'\n",
    "b\n",
    "\n",
    "a = 'Nice Day \\\n",
    "Hello'\n",
    "a\n"
   ]
  },
  {
   "cell_type": "code",
   "execution_count": 53,
   "id": "945565d6",
   "metadata": {},
   "outputs": [
    {
     "name": "stdout",
     "output_type": "stream",
     "text": [
      "\\안녕하세요?\n"
     ]
    }
   ],
   "source": [
    "print('안녕하세요?')"
   ]
  },
  {
   "cell_type": "code",
   "execution_count": 54,
   "id": "5231de6e",
   "metadata": {},
   "outputs": [
    {
     "name": "stdout",
     "output_type": "stream",
     "text": [
      "My name is: Juho\n"
     ]
    }
   ],
   "source": [
    "myName = \"Juho\"\n",
    "print(\"My name is:\",myName)"
   ]
  },
  {
   "cell_type": "code",
   "execution_count": 61,
   "id": "d49631dc",
   "metadata": {},
   "outputs": [
    {
     "name": "stdout",
     "output_type": "stream",
     "text": [
      "2번째과일이름: grape\n"
     ]
    }
   ],
   "source": [
    "fruits = (\"apple\",\"grape\",\"banana\")\n",
    "print(\"2번째과일이름:\",fruits[1])"
   ]
  },
  {
   "cell_type": "code",
   "execution_count": 75,
   "id": "64649d8a",
   "metadata": {},
   "outputs": [
    {
     "name": "stdout",
     "output_type": "stream",
     "text": [
      "2번째과일이름: grape\n"
     ]
    }
   ],
   "source": [
    "fruits = (\"apple\",\"grape\",\"banana\") #튜플은 변경불가\n",
    "#fruits[1] = \"수박\"\n",
    "print(\"2번째과일이름:\",fruits[1])"
   ]
  },
  {
   "cell_type": "code",
   "execution_count": 6,
   "id": "a4168bdf",
   "metadata": {},
   "outputs": [
    {
     "name": "stdout",
     "output_type": "stream",
     "text": [
      "정수: 1000\n",
      "정수: 1000\n"
     ]
    }
   ],
   "source": [
    "myList = [1,2,3,4,5]\n",
    "myList[2] = 1000\n",
    "print(\"정수:\",myList[2])\n",
    "print(\"정수:\",myList[-3])\n"
   ]
  },
  {
   "cell_type": "code",
   "execution_count": 84,
   "id": "f51e55b8",
   "metadata": {},
   "outputs": [
    {
     "name": "stdout",
     "output_type": "stream",
     "text": [
      "Type number:1\n"
     ]
    },
    {
     "data": {
      "text/plain": [
       "int"
      ]
     },
     "execution_count": 84,
     "metadata": {},
     "output_type": "execute_result"
    }
   ],
   "source": [
    "a = int(input(\"Type number:\"))\n",
    "a\n",
    "type(a)"
   ]
  },
  {
   "cell_type": "code",
   "execution_count": 85,
   "id": "c6ead919",
   "metadata": {},
   "outputs": [
    {
     "name": "stdout",
     "output_type": "stream",
     "text": [
      "5 + 3 = 8\n"
     ]
    }
   ],
   "source": [
    "a = 5\n",
    "b = 3\n",
    "print(a,\"+\",b,\"=\",a+b)"
   ]
  },
  {
   "cell_type": "code",
   "execution_count": 93,
   "id": "84cf34c5",
   "metadata": {},
   "outputs": [
    {
     "name": "stdout",
     "output_type": "stream",
     "text": [
      "5 + 3 = 8\n"
     ]
    }
   ],
   "source": [
    "print(a,\"+\",b, end = \" \")\n",
    "print(\"=\",a+b)"
   ]
  },
  {
   "cell_type": "code",
   "execution_count": 99,
   "id": "357f2600",
   "metadata": {},
   "outputs": [
    {
     "name": "stdout",
     "output_type": "stream",
     "text": [
      "1,3,5,7,9\n"
     ]
    }
   ],
   "source": [
    "print(1,3,5,7,9,sep =\",\")"
   ]
  },
  {
   "cell_type": "code",
   "execution_count": 105,
   "id": "cd2b2821",
   "metadata": {},
   "outputs": [
    {
     "name": "stdout",
     "output_type": "stream",
     "text": [
      "학과입력:1\n",
      "이름입력:2\n",
      "I am  2 in 1\n"
     ]
    }
   ],
   "source": [
    "subject = input(\"학과입력:\")\n",
    "name = input(\"이름입력:\")\n",
    "\n",
    "msg = name + ' in ' + subject\n",
    "print('I am ',msg)"
   ]
  },
  {
   "cell_type": "code",
   "execution_count": 108,
   "id": "e7d72730",
   "metadata": {},
   "outputs": [
    {
     "name": "stdout",
     "output_type": "stream",
     "text": [
      "몸무게 입력:1\n",
      "You are fat? False\n"
     ]
    }
   ],
   "source": [
    "weight = float(input(\"몸무게 입력:\"))\n",
    "\n",
    "print(\"You are fat?\", weight > 80)"
   ]
  },
  {
   "cell_type": "code",
   "execution_count": 110,
   "id": "7701898d",
   "metadata": {},
   "outputs": [
    {
     "name": "stdout",
     "output_type": "stream",
     "text": [
      "비번입력:11\n",
      "로그인실패\n"
     ]
    }
   ],
   "source": [
    "passWD = int(2323)\n",
    "\n",
    "userWD = int(input(\"비번입력:\"))\n",
    "\n",
    "if(userWD == passWD):\n",
    "    print(\"로그인성공\")\n",
    "else:\n",
    "    print(\"로그인실패\")"
   ]
  },
  {
   "cell_type": "code",
   "execution_count": 113,
   "id": "8b15975e",
   "metadata": {},
   "outputs": [
    {
     "name": "stdout",
     "output_type": "stream",
     "text": [
      "국가입력:korea\n",
      "한쿸인\n"
     ]
    }
   ],
   "source": [
    "country = \"korea\"\n",
    "\n",
    "myCountry = input(\"국가입력:\")\n",
    "\n",
    "if(country == myCountry):\n",
    "    print(\"한쿸인\")\n",
    "else:\n",
    "    print(\"외쿸인\")"
   ]
  },
  {
   "cell_type": "markdown",
   "id": "72fa4f1d",
   "metadata": {},
   "source": [
    "#  파이썬의 3가지 출력 형태\n",
    "1) 콤마(,)로 구분하여 출력하는 형태  \n",
    "2) % 형식지정자를 이용하는 형태  \n",
    "3) format() 함수를 이용하는 형태  "
   ]
  },
  {
   "cell_type": "code",
   "execution_count": 114,
   "id": "c0302d20",
   "metadata": {},
   "outputs": [
    {
     "name": "stdout",
     "output_type": "stream",
     "text": [
      "이름 입력: ss\n",
      "입력하신 이름은 ss\n"
     ]
    }
   ],
   "source": [
    "name = input(\"이름 입력: \")\n",
    "print(\"입력하신 이름은 %s\" % name)"
   ]
  },
  {
   "cell_type": "code",
   "execution_count": 124,
   "id": "e43aa6d3",
   "metadata": {},
   "outputs": [
    {
     "name": "stdout",
     "output_type": "stream",
     "text": [
      "첫 번째 숫자 입력: 100\n",
      "첫 번째 숫자 입력: 200\n",
      "100 + 200 = 300\n",
      "100 + 200 = 300.00\n"
     ]
    }
   ],
   "source": [
    "n1 = int(input(\"첫 번째 숫자 입력: \"))\n",
    "n2 = int(input(\"첫 번째 숫자 입력: \"))\n",
    "print(\"%d + %d = %d\" % (n1,n2,n1+n2))\n",
    "print(\"%d + %d = %.2f\" % (n1,n2,n1+n2))"
   ]
  },
  {
   "cell_type": "code",
   "execution_count": 128,
   "id": "468b4290",
   "metadata": {},
   "outputs": [
    {
     "name": "stdout",
     "output_type": "stream",
     "text": [
      "123\n",
      "  123\n",
      "00123\n"
     ]
    }
   ],
   "source": [
    "print(\"%d\" % 123)\n",
    "print(\"%5d\" % 123)\n",
    "print(\"%05d\" % 123)\n"
   ]
  },
  {
   "cell_type": "code",
   "execution_count": 135,
   "id": "ca343f69",
   "metadata": {},
   "outputs": [
    {
     "name": "stdout",
     "output_type": "stream",
     "text": [
      "123.450000\n",
      "123.45\n",
      "00123.450\n"
     ]
    }
   ],
   "source": [
    "print(\"%f\" % 123.45)\n",
    "print(\"%.2f\" % 123.45)\n",
    "print(\"%09.3f\" % 123.45)\n"
   ]
  },
  {
   "cell_type": "code",
   "execution_count": 136,
   "id": "9356f83b",
   "metadata": {},
   "outputs": [
    {
     "name": "stdout",
     "output_type": "stream",
     "text": [
      "Python\n",
      "    Python\n"
     ]
    }
   ],
   "source": [
    "print(\"%s\" % \"Python\")\n",
    "print(\"%10s\" % \"Python\")\n"
   ]
  },
  {
   "cell_type": "code",
   "execution_count": 138,
   "id": "bc97b13f",
   "metadata": {},
   "outputs": [
    {
     "name": "stdout",
     "output_type": "stream",
     "text": [
      "첫 번째 숫자 입력: 100\n",
      "첫 번째 숫자 입력: 200\n",
      "100 + 200 = 300\n",
      "100 + 200 = 300.00\n",
      "\n",
      "200 / 100 = 0.5\n"
     ]
    }
   ],
   "source": [
    "n1 = int(input(\"첫 번째 숫자 입력: \"))\n",
    "n2 = int(input(\"첫 번째 숫자 입력: \"))\n",
    "\n",
    "print(\"%d + %d = %d\" % (n1,n2,n1+n2))\n",
    "print(\"%d + %d = %.2f\" % (n1,n2,n1+n2))\n",
    "\n",
    "print()\n",
    "\n",
    "print(\"{1} / {0} = {2}\".format(n1,n2,n1/n2))"
   ]
  },
  {
   "cell_type": "code",
   "execution_count": 139,
   "id": "6b85f297",
   "metadata": {},
   "outputs": [
    {
     "name": "stdout",
     "output_type": "stream",
     "text": [
      "반짝 반짝 빛나는 별\n"
     ]
    }
   ],
   "source": [
    "print(\"{1} {1} 빛나는 {0}\".format(\"별\",\"반짝\"))"
   ]
  },
  {
   "cell_type": "code",
   "execution_count": 144,
   "id": "e683b8aa",
   "metadata": {},
   "outputs": [
    {
     "name": "stdout",
     "output_type": "stream",
     "text": [
      "123   123 00123\n",
      "123   123 00123\n"
     ]
    }
   ],
   "source": [
    "print(\"%d %5d %05d\" %(123,123,123))\n",
    "print(\"{0:d} {1:5d} {2:05d}\".format(123,123,123))\n"
   ]
  },
  {
   "cell_type": "code",
   "execution_count": 149,
   "id": "9608dbb6",
   "metadata": {},
   "outputs": [
    {
     "name": "stdout",
     "output_type": "stream",
     "text": [
      "가로 길이 입력:3\n",
      "세로 길이 입력:2\n",
      "3,2,6\n"
     ]
    }
   ],
   "source": [
    "width = int(input(\"가로 길이 입력:\"))\n",
    "height = int(input(\"세로 길이 입력:\"))\n",
    "area = width * height\n",
    "print(\"{},{},{}\".format(width,height,area))"
   ]
  },
  {
   "cell_type": "code",
   "execution_count": 152,
   "id": "7479f2ca",
   "metadata": {},
   "outputs": [
    {
     "name": "stdout",
     "output_type": "stream",
     "text": [
      "시간의 전체 초 입력: 732\n",
      "732 초: 12 분 12 초\n"
     ]
    }
   ],
   "source": [
    "total = int(input(\"시간의 전체 초 입력: \"))\n",
    "min = total // 60\n",
    "sec = total % 60\n",
    "print(\"%d 초: %d 분 %d 초\" % (total,min,sec))"
   ]
  },
  {
   "cell_type": "code",
   "execution_count": 157,
   "id": "7a0f2476",
   "metadata": {},
   "outputs": [
    {
     "name": "stdout",
     "output_type": "stream",
     "text": [
      "이름 입력: 1\n",
      "출생년도 입력: 1\n",
      "1 님의 한국 나이는 2022살\n"
     ]
    }
   ],
   "source": [
    "name =input(\"이름 입력: \")\n",
    "year = int(input(\"출생년도 입력: \"))\n",
    "age = 2022 - year + 1\n",
    "print(\"{} 님의 한국 나이는 {}살\".format(name,age))"
   ]
  },
  {
   "cell_type": "code",
   "execution_count": 180,
   "id": "ff5d4db7",
   "metadata": {},
   "outputs": [
    {
     "name": "stdout",
     "output_type": "stream",
     "text": [
      "키 입력: 188.1\n",
      "키 188.1cm 의 표준 체중은 7.9e+01kg 입니다\n"
     ]
    }
   ],
   "source": [
    "height = float(input(\"키 입력: \"))\n",
    "result = (height - 100) * 0.9\n",
    "#print(\"키 \",height, \"의 표준 체중은 \", result,\"kg 입니다.\")\n",
    "print(\"키 {}cm 의 표준 체중은 {}kg 입니다\".format(height,result))"
   ]
  },
  {
   "cell_type": "code",
   "execution_count": 185,
   "id": "c2edd8f5",
   "metadata": {},
   "outputs": [
    {
     "name": "stdout",
     "output_type": "stream",
     "text": [
      "국어 점수: 86\n",
      "영어 점수: 82\n",
      "수학 점수: 97\n",
      "국어:86점, 영어:82점, 수학:97점 -> 총점:265.00, 평균:88.33\n"
     ]
    }
   ],
   "source": [
    "n1 = int(input(\"국어 점수: \"))\n",
    "n2 = int(input(\"영어 점수: \"))\n",
    "n3 = int(input(\"수학 점수: \"))\n",
    "\n",
    "print(\"국어:{}점, 영어:{}점, 수학:{}점 => 총점:{:.2f}, 평균:{:.2f}\".format(n1,n2,n3,n1+n2+n3,(n1+n2+n3)/3))\n"
   ]
  },
  {
   "cell_type": "code",
   "execution_count": 187,
   "id": "1f10fd42",
   "metadata": {},
   "outputs": [
    {
     "name": "stdout",
     "output_type": "stream",
     "text": [
      "첫 번째 숫자 입력: 20\n",
      "두 번째 숫자 입력: 10\n",
      "20  +  10  =  30\n",
      "20  -  10  =  10\n",
      "20  *  10  =  200\n",
      "20  /  10  =  2.0\n"
     ]
    }
   ],
   "source": [
    "n1 = int(input(\"첫 번째 숫자 입력: \"))\n",
    "n2 = int(input(\"두 번째 숫자 입력: \"))\n",
    "\n",
    "print(n1,\" + \",n2,\" = \",n1+n2)\n",
    "print(n1,\" - \",n2,\" = \",n1-n2)\n",
    "print(n1,\" * \",n2,\" = \",n1*n2)\n",
    "print(n1,\" / \",n2,\" = \",n1/n2)\n"
   ]
  },
  {
   "cell_type": "code",
   "execution_count": null,
   "id": "b5fab532",
   "metadata": {},
   "outputs": [],
   "source": []
  }
 ],
 "metadata": {
  "kernelspec": {
   "display_name": "Python 3 (ipykernel)",
   "language": "python",
   "name": "python3"
  },
  "language_info": {
   "codemirror_mode": {
    "name": "ipython",
    "version": 3
   },
   "file_extension": ".py",
   "mimetype": "text/x-python",
   "name": "python",
   "nbconvert_exporter": "python",
   "pygments_lexer": "ipython3",
   "version": "3.9.7"
  }
 },
 "nbformat": 4,
 "nbformat_minor": 5
}
