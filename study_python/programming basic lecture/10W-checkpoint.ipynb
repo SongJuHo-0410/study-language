{
 "cells": [
  {
   "cell_type": "markdown",
   "id": "60494786",
   "metadata": {},
   "source": [
    "## 각 학생들의 점수를 확인한 후 90점 이상이면 ‘LEVEL 1’, 80점 이상이면 ‘LEVEL 2’,  70점 이상이면 ‘LEVEL 3’, 나머지는 ‘FAIL’ 메시지를 출력하는 프로그램  "
   ]
  },
  {
   "cell_type": "code",
   "execution_count": 5,
   "id": "c7beb3df",
   "metadata": {},
   "outputs": [
    {
     "name": "stdout",
     "output_type": "stream",
     "text": [
      "1번 학생의 점수는 85입니다.\n",
      "결과는 LEVEL 2입니다.\n",
      "\n",
      "2번 학생의 점수는 95입니다.\n",
      "결과는 LEVEL 1입니다.\n",
      "\n",
      "3번 학생의 점수는 70입니다.\n",
      "결과는 LEVEL 3입니다.\n",
      "\n",
      "4번 학생의 점수는 50입니다.\n",
      "결과는 FAIL입니다.\n",
      "\n",
      "5번 학생의 점수는 100입니다.\n",
      "결과는 LEVEL 1입니다.\n",
      "\n"
     ]
    }
   ],
   "source": [
    "score = [85,95,70,50,100]\n",
    "n = 0\n",
    "for s in score:\n",
    "    n += 1\n",
    "    \n",
    "    if s >= 90:\n",
    "        result = \"LEVEL 1\"\n",
    "    elif s >= 80:\n",
    "        result = \"LEVEL 2\"\n",
    "    elif s >= 70:\n",
    "        result = \"LEVEL 3\"\n",
    "    else:\n",
    "        result = \"FAIL\"\n",
    "\n",
    "    print(\"{}번 학생의 점수는 {}입니다.\".format(n,s))\n",
    "    print('결과는 {}입니다.\\n'.format(result))"
   ]
  },
  {
   "cell_type": "code",
   "execution_count": 10,
   "id": "b7f1e84e",
   "metadata": {},
   "outputs": [
    {
     "name": "stdout",
     "output_type": "stream",
     "text": [
      "입력 받은 숫자만큼 막대그래프 그리기\n",
      "n : 4\n",
      "****\n",
      "n : 8\n",
      "********\n",
      "n : 12\n",
      "************\n",
      "n : 16\n",
      "****************\n",
      "n : 12\n",
      "************\n",
      "n : 8\n",
      "********\n",
      "n : 4\n",
      "****\n",
      "n : 0\n"
     ]
    }
   ],
   "source": [
    "print('입력 받은 숫자만큼 막대그래프 그리기')\n",
    "while True:\n",
    "    n = int(input('n : '))\n",
    "    if n == 0:\n",
    "        break\n",
    "    for i in range(n):\n",
    "        print('*', end='')\n",
    "    print()"
   ]
  },
  {
   "cell_type": "code",
   "execution_count": 14,
   "id": "0bb53f5e",
   "metadata": {},
   "outputs": [
    {
     "name": "stdout",
     "output_type": "stream",
     "text": [
      "구구단 게임\n",
      "시작:아무키나,종료:0 1\n",
      "2x2 =\n",
      "answer:4\n",
      "PASS\n",
      "시작:아무키나,종료:0 \n",
      "2x7 =\n",
      "answer:1\n",
      "FAIL\n",
      "시작:아무키나,종료:0 0\n"
     ]
    }
   ],
   "source": [
    "import random\n",
    "\n",
    "print('구구단 게임')\n",
    "\n",
    "while True:\n",
    "    s = input('시작:아무키나,종료:0 ')\n",
    "    if s == '0':break\n",
    "    dan = random.randint(2,9)\n",
    "    num = random.randint(1,9)\n",
    "    print('{}x{} ='.format(dan,num))\n",
    "    ans = int(input('answer:'))\n",
    "    if ans == dan*num:\n",
    "        print('PASS')\n",
    "    else:\n",
    "        print('FAIL')"
   ]
  },
  {
   "cell_type": "code",
   "execution_count": 18,
   "id": "7555be4d",
   "metadata": {},
   "outputs": [
    {
     "name": "stdout",
     "output_type": "stream",
     "text": [
      "[60, 80, 90, 70, 95]\n",
      "60번 학생은 불합격입니다.\n",
      "80번 학생은 불합격입니다.\n",
      "90번 학생은 합격입니다.\n",
      "70번 학생은 불합격입니다.\n",
      "95번 학생은 합격입니다.\n",
      "합격한 학생 수:  2\n"
     ]
    }
   ],
   "source": [
    "score = [60,80,90,70,95]\n",
    "cnt = 0\n",
    "print(score)\n",
    "\n",
    "for s in score:\n",
    "    if s > 80:\n",
    "        result = '합격'\n",
    "        cnt += 1\n",
    "    else:\n",
    "        result = '불합격'\n",
    "             \n",
    "    print('{}번 학생은 {}입니다.'.format(s,result))\n",
    "print('합격한 학생 수: ',cnt)"
   ]
  },
  {
   "cell_type": "code",
   "execution_count": 16,
   "id": "686ad448",
   "metadata": {},
   "outputs": [
    {
     "name": "stdout",
     "output_type": "stream",
     "text": [
      "[60, 80, 90, 70, 95]\n",
      "1번 학생은 불합격입니다.\n",
      "2번 학생은 불합격입니다.\n",
      "3번 학생은 합격입니다.\n",
      "4번 학생은 불합격입니다.\n",
      "5번 학생은 합격입니다.\n",
      "합격한 학생 수:  2\n"
     ]
    }
   ],
   "source": [
    "score = [60,80,90,70,95]\n",
    "cnt = 0\n",
    "print(score)\n",
    "for i in range(len(score)):\n",
    "    if score[i]>80:\n",
    "        result='합격'\n",
    "        cnt += 1\n",
    "    else:\n",
    "        result='불합격'\n",
    "    print('{}번 학생은 {}입니다.'.format(i+1,result))\n",
    "    \n",
    "print('합격한 학생 수: ',cnt)"
   ]
  },
  {
   "cell_type": "code",
   "execution_count": 19,
   "id": "1d150fcd",
   "metadata": {},
   "outputs": [
    {
     "name": "stdout",
     "output_type": "stream",
     "text": [
      "라면-3000\n",
      "떡볶이-4000\n",
      "김밥-2000\n",
      "햄버거-5000\n",
      "search menu: 라면\n",
      "3000\n",
      "search menu: ㅇ\n",
      "not Found\n",
      "search menu: q\n"
     ]
    }
   ],
   "source": [
    "menu = {}\n",
    "\n",
    "menu['라면'] = 3000\n",
    "menu['떡볶이'] = 4000\n",
    "menu['김밥'] = 2000\n",
    "menu['햄버거'] = 5000\n",
    "\n",
    "for i in menu.keys():\n",
    "    print('{}-{}'.format(i,menu[i]))\n",
    "\n",
    "while True:\n",
    "    s=input('search menu: ')\n",
    "    if s=='q' :break\n",
    "    print(menu.get(s,'not Found'))  #중요"
   ]
  },
  {
   "cell_type": "code",
   "execution_count": 21,
   "id": "7f31084e",
   "metadata": {},
   "outputs": [
    {
     "name": "stdout",
     "output_type": "stream",
     "text": [
      "학번:100\n",
      "이름:a\n",
      "학과:b\n",
      "연락처:010\n",
      "1 학생 정보 저장\n",
      "{'학번': 100, '이름': 'a', '학과': 'b', '연락처': '010'}\n",
      "학번:0\n"
     ]
    }
   ],
   "source": [
    "n = 0\n",
    "club = []\n",
    "\n",
    "while True:\n",
    "    id = int(input('학번:'))\n",
    "    if id == 0:break\n",
    "    name = input('이름:')\n",
    "    dept = input('학과:')\n",
    "    phone = input('연락처:')\n",
    "    addr = {'학번':id,'이름':name,'학과':dept,'연락처':phone}\n",
    "    club.append(addr)   #순서를 유지하기위해 리스트에 저장\n",
    "    print('{} 학생 정보 저장'.format(n+1))\n",
    "    print('{}'.format(club[n]))\n",
    "    n += 1"
   ]
  },
  {
   "cell_type": "code",
   "execution_count": 28,
   "id": "5850fd1d",
   "metadata": {},
   "outputs": [
    {
     "name": "stdout",
     "output_type": "stream",
     "text": [
      "수강 과목 수 : 5\n",
      "score 1 : 100\n",
      "score 2 : 70\n",
      "score 3 : 60\n",
      "score 4 : 80\n",
      "score 5 : 90\n",
      "pass :  3\n",
      "fail :  2\n"
     ]
    }
   ],
   "source": [
    "score = []\n",
    "p,n = 0,0\n",
    "cnt = int(input('수강 과목 수 : '))\n",
    "\n",
    "for i in range(cnt):\n",
    "    s = int(input('score {} : '.format(i+1)))\n",
    "    score.append(s)\n",
    "    \n",
    "for s in score:\n",
    "    if s >= 80:\n",
    "        p += 1\n",
    "    else:\n",
    "        n += 1\n",
    "\n",
    "print('pass : ',p)\n",
    "print('fail : ',n)"
   ]
  },
  {
   "cell_type": "code",
   "execution_count": null,
   "id": "ff987e64",
   "metadata": {},
   "outputs": [],
   "source": []
  },
  {
   "cell_type": "code",
   "execution_count": 34,
   "id": "38ed62a8",
   "metadata": {},
   "outputs": [
    {
     "name": "stdout",
     "output_type": "stream",
     "text": [
      "score : 1\n",
      "score : 1\n",
      "score : 1\n",
      "score : 1\n",
      "score : 1\n",
      "total :  5\n",
      "avg :  1.0\n"
     ]
    }
   ],
   "source": [
    "score = []\n",
    "total = 0\n",
    "avg = 0\n",
    "cnt = 0\n",
    "\n",
    "for i in range(5):\n",
    "    s = int(input('score : '))\n",
    "    \n",
    "    cnt += 1\n",
    "    total += s\n",
    "\n",
    "avg = total / cnt\n",
    "\n",
    "print('total : ',total)\n",
    "print('avg : ' ,avg)\n"
   ]
  },
  {
   "cell_type": "code",
   "execution_count": 45,
   "id": "afacae82",
   "metadata": {},
   "outputs": [
    {
     "name": "stdout",
     "output_type": "stream",
     "text": [
      "score : 1\n",
      "score : 2\n",
      "score : 3\n",
      "score : 4\n",
      "score : 5\n",
      "[1, 2, 3, 4, 5]\n",
      "total :  15\n",
      "avg :  3.0\n"
     ]
    }
   ],
   "source": [
    "score = []\n",
    "total = 0\n",
    "for i in range(5):\n",
    "    s = int(input('score : '))\n",
    "    score.append(s)\n",
    "    total += s\n",
    "    \n",
    "#for i in score:\n",
    "    #total += i\n",
    "    \n",
    "avg = total / 5\n",
    "\n",
    "print(score)\n",
    "print('total : ',total)\n",
    "print('avg : ' ,avg)\n"
   ]
  },
  {
   "cell_type": "code",
   "execution_count": 49,
   "id": "edb58ff4",
   "metadata": {},
   "outputs": [
    {
     "name": "stdout",
     "output_type": "stream",
     "text": [
      "패스워드 입력 : a\n",
      "암호가 틀립니다.\n",
      "패스워드 입력 : b\n",
      "암호가 틀립니다.\n",
      "패스워드 입력 : c\n",
      "암호가 틀립니다.\n",
      "시도횟수초과\n",
      "프로그램 종료\n"
     ]
    }
   ],
   "source": [
    "cnt = 0\n",
    "while True:\n",
    "    pw = input('패스워드 입력 : ')\n",
    "    if pw == 'admin':\n",
    "        print('환영합니다.') \n",
    "        break\n",
    "        \n",
    "    else:\n",
    "        print('암호가 틀립니다.')\n",
    "        cnt += 1\n",
    "        if cnt == 3:\n",
    "            print('시도횟수초과')\n",
    "            break\n",
    "\n",
    "print('프로그램 종료')"
   ]
  },
  {
   "cell_type": "code",
   "execution_count": 84,
   "id": "4257c8f1",
   "metadata": {},
   "outputs": [
    {
     "name": "stdout",
     "output_type": "stream",
     "text": [
      "로또 프로그램 시작\n",
      "추첨된 로또 번호\n",
      "9 12 19 21 30 42 "
     ]
    }
   ],
   "source": [
    "import random\n",
    "\n",
    "lotto = []\n",
    "print('로또 프로그램 시작')\n",
    "\n",
    "while True:\n",
    "    num = random.randint(1,45)\n",
    "    \n",
    "    if lotto.count(num) == 0:\n",
    "        lotto.append(num)\n",
    "    \n",
    "    if len(lotto) == 6:\n",
    "        break\n",
    "    \n",
    "print('추첨된 로또 번호')\n",
    "lotto.sort()\n",
    "\n",
    "for i in range(6):\n",
    "    print('{} '.format(lotto[i]), end='')"
   ]
  },
  {
   "cell_type": "code",
   "execution_count": null,
   "id": "d54704d3",
   "metadata": {},
   "outputs": [],
   "source": []
  }
 ],
 "metadata": {
  "kernelspec": {
   "display_name": "Python 3 (ipykernel)",
   "language": "python",
   "name": "python3"
  },
  "language_info": {
   "codemirror_mode": {
    "name": "ipython",
    "version": 3
   },
   "file_extension": ".py",
   "mimetype": "text/x-python",
   "name": "python",
   "nbconvert_exporter": "python",
   "pygments_lexer": "ipython3",
   "version": "3.9.7"
  }
 },
 "nbformat": 4,
 "nbformat_minor": 5
}
