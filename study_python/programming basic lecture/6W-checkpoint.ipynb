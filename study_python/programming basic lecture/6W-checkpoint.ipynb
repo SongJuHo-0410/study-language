{
 "cells": [
  {
   "cell_type": "code",
   "execution_count": 6,
   "id": "7e2e517d",
   "metadata": {},
   "outputs": [
    {
     "name": "stdout",
     "output_type": "stream",
     "text": [
      "0과 100 사이에 있는 7의 배수 합계 : 735\n"
     ]
    }
   ],
   "source": [
    "i,hap = 0, 0\n",
    "\n",
    "for i in range(0,101,7):\n",
    "    hap += i\n",
    "\n",
    "print(\"0과 100 사이에 있는 7의 배수 합계 : %d\" % hap)"
   ]
  },
  {
   "cell_type": "code",
   "execution_count": 11,
   "id": "34ec4957",
   "metadata": {},
   "outputs": [
    {
     "name": "stdout",
     "output_type": "stream",
     "text": [
      "시작 값을 입력하세요: 99\n",
      "끝 값을 입력하세요: 100\n",
      "99과 100 사이에 있는 7의 배수 합계 : 199\n"
     ]
    }
   ],
   "source": [
    "i,hap = 0, 0\n",
    "endNum = 0\n",
    "startNum = 0\n",
    "\n",
    "startNum = int(input(\"시작 값을 입력하세요: \"))\n",
    "endNum = int(input(\"끝 값을 입력하세요: \"))\n",
    "\n",
    "for i in range(startNum,endNum+1,1):\n",
    "    hap += i\n",
    "\n",
    "print(\"%d과 %d 까지의 합계 : %d\" % (startNum,endNum,hap))"
   ]
  },
  {
   "cell_type": "code",
   "execution_count": 15,
   "id": "679b395f",
   "metadata": {},
   "outputs": [
    {
     "name": "stdout",
     "output_type": "stream",
     "text": [
      "단을 입력: 2\n",
      "2 X 1 = 2\n",
      "2 X 2 = 4\n",
      "2 X 3 = 6\n",
      "2 X 4 = 8\n",
      "2 X 5 = 10\n",
      "2 X 6 = 12\n",
      "2 X 7 = 14\n",
      "2 X 8 = 16\n",
      "2 X 9 = 18\n"
     ]
    }
   ],
   "source": [
    "i,dan =0,0\n",
    "\n",
    "dan = int(input(\"단을 입력: \"))\n",
    "\n",
    "for i in range(1,10,1):\n",
    "    print(\"%d X %d = %d\" %(dan,i,dan*i))"
   ]
  },
  {
   "cell_type": "code",
   "execution_count": 17,
   "id": "94071fc9",
   "metadata": {},
   "outputs": [
    {
     "name": "stdout",
     "output_type": "stream",
     "text": [
      "단을 입력: 1\n",
      "1 X 0 = 0\n",
      "1 X 1 = 1\n",
      "1 X 2 = 2\n",
      "1 X 3 = 3\n",
      "1 X 4 = 4\n",
      "1 X 5 = 5\n",
      "1 X 6 = 6\n",
      "1 X 7 = 7\n",
      "1 X 8 = 8\n",
      "1 X 9 = 9\n"
     ]
    }
   ],
   "source": [
    "i,dan =0,0\n",
    "\n",
    "dan = int(input(\"단을 입력: \"))\n",
    "\n",
    "for i in range(i,10,1):\n",
    "    print(\"%d X %d = %d\" %(dan,i,dan*i))"
   ]
  },
  {
   "cell_type": "code",
   "execution_count": 18,
   "id": "ddc37a33",
   "metadata": {},
   "outputs": [
    {
     "name": "stdout",
     "output_type": "stream",
     "text": [
      "2 X 1 = 2\n",
      "2 X 2 = 4\n",
      "2 X 3 = 6\n",
      "2 X 4 = 8\n",
      "2 X 5 = 10\n",
      "2 X 6 = 12\n",
      "2 X 7 = 14\n",
      "2 X 8 = 16\n",
      "2 X 9 = 18\n",
      " \n",
      "3 X 1 = 3\n",
      "3 X 2 = 6\n",
      "3 X 3 = 9\n",
      "3 X 4 = 12\n",
      "3 X 5 = 15\n",
      "3 X 6 = 18\n",
      "3 X 7 = 21\n",
      "3 X 8 = 24\n",
      "3 X 9 = 27\n",
      " \n",
      "4 X 1 = 4\n",
      "4 X 2 = 8\n",
      "4 X 3 = 12\n",
      "4 X 4 = 16\n",
      "4 X 5 = 20\n",
      "4 X 6 = 24\n",
      "4 X 7 = 28\n",
      "4 X 8 = 32\n",
      "4 X 9 = 36\n",
      " \n",
      "5 X 1 = 5\n",
      "5 X 2 = 10\n",
      "5 X 3 = 15\n",
      "5 X 4 = 20\n",
      "5 X 5 = 25\n",
      "5 X 6 = 30\n",
      "5 X 7 = 35\n",
      "5 X 8 = 40\n",
      "5 X 9 = 45\n",
      " \n",
      "6 X 1 = 6\n",
      "6 X 2 = 12\n",
      "6 X 3 = 18\n",
      "6 X 4 = 24\n",
      "6 X 5 = 30\n",
      "6 X 6 = 36\n",
      "6 X 7 = 42\n",
      "6 X 8 = 48\n",
      "6 X 9 = 54\n",
      " \n",
      "7 X 1 = 7\n",
      "7 X 2 = 14\n",
      "7 X 3 = 21\n",
      "7 X 4 = 28\n",
      "7 X 5 = 35\n",
      "7 X 6 = 42\n",
      "7 X 7 = 49\n",
      "7 X 8 = 56\n",
      "7 X 9 = 63\n",
      " \n",
      "8 X 1 = 8\n",
      "8 X 2 = 16\n",
      "8 X 3 = 24\n",
      "8 X 4 = 32\n",
      "8 X 5 = 40\n",
      "8 X 6 = 48\n",
      "8 X 7 = 56\n",
      "8 X 8 = 64\n",
      "8 X 9 = 72\n",
      " \n",
      "9 X 1 = 9\n",
      "9 X 2 = 18\n",
      "9 X 3 = 27\n",
      "9 X 4 = 36\n",
      "9 X 5 = 45\n",
      "9 X 6 = 54\n",
      "9 X 7 = 63\n",
      "9 X 8 = 72\n",
      "9 X 9 = 81\n",
      " \n"
     ]
    }
   ],
   "source": [
    "for i in range(2,10,1):\n",
    "    for j in range(1,10,1):\n",
    "        print(\"%d X %d = %d\" %(i,j,i*j))\n",
    "    print(\" \")"
   ]
  },
  {
   "cell_type": "code",
   "execution_count": 62,
   "id": "06adbb25",
   "metadata": {},
   "outputs": [
    {
     "name": "stdout",
     "output_type": "stream",
     "text": [
      " #  2단 #  #  3단 #  #  4단 #  #  5단 #  #  6단 #  #  7단 #  #  8단 #  #  9단 # \n",
      " 2 X 1= 2  3 X 1= 3  4 X 1= 4  5 X 1= 5  6 X 1= 6  7 X 1= 7  8 X 1= 8  9 X 1= 9 \n",
      " 2 X 2= 4  3 X 2= 6  4 X 2= 8  5 X 2=10  6 X 2=12  7 X 2=14  8 X 2=16  9 X 2=18 \n",
      " 2 X 3= 6  3 X 3= 9  4 X 3=12  5 X 3=15  6 X 3=18  7 X 3=21  8 X 3=24  9 X 3=27 \n",
      " 2 X 4= 8  3 X 4=12  4 X 4=16  5 X 4=20  6 X 4=24  7 X 4=28  8 X 4=32  9 X 4=36 \n",
      " 2 X 5=10  3 X 5=15  4 X 5=20  5 X 5=25  6 X 5=30  7 X 5=35  8 X 5=40  9 X 5=45 \n",
      " 2 X 6=12  3 X 6=18  4 X 6=24  5 X 6=30  6 X 6=36  7 X 6=42  8 X 6=48  9 X 6=54 \n",
      " 2 X 7=14  3 X 7=21  4 X 7=28  5 X 7=35  6 X 7=42  7 X 7=49  8 X 7=56  9 X 7=63 \n",
      " 2 X 8=16  3 X 8=24  4 X 8=32  5 X 8=40  6 X 8=48  7 X 8=56  8 X 8=64  9 X 8=72 \n",
      " 2 X 9=18  3 X 9=27  4 X 9=36  5 X 9=45  6 X 9=54  7 X 9=63  8 X 9=72  9 X 9=81 \n"
     ]
    }
   ],
   "source": [
    "gugudan = \"\"\n",
    "\n",
    "for dan in range(2,10):\n",
    "    gugudan = gugudan + (\" # %2d단 # \" %dan)\n",
    "    \n",
    "print(gugudan)\n",
    "    \n",
    "for j in range(1,10,1):\n",
    "    gugudan = \"\"\n",
    "    for i in range(2,10,1):\n",
    "       gugudan = gugudan + (\"%2d X%2d=%2d \" %(i,j,i*j))\n",
    "    print(gugudan)\n",
    "    "
   ]
  },
  {
   "cell_type": "code",
   "execution_count": 65,
   "id": "b09a6646",
   "metadata": {},
   "outputs": [
    {
     "name": "stdout",
     "output_type": "stream",
     "text": [
      "0\n",
      "1\n",
      "2\n"
     ]
    }
   ],
   "source": [
    "for i in range(0,3,1):\n",
    "    print(\"%d\" %i)"
   ]
  },
  {
   "cell_type": "code",
   "execution_count": 70,
   "id": "e682c4dd",
   "metadata": {},
   "outputs": [
    {
     "name": "stdout",
     "output_type": "stream",
     "text": [
      "0 1 2 "
     ]
    }
   ],
   "source": [
    "i = 0\n",
    "while i < 3:\n",
    "    print(i, end = \" \")\n",
    "    i += 1"
   ]
  },
  {
   "cell_type": "code",
   "execution_count": 72,
   "id": "3b763153",
   "metadata": {},
   "outputs": [
    {
     "name": "stdout",
     "output_type": "stream",
     "text": [
      "s u n m o o n "
     ]
    }
   ],
   "source": [
    "str = \"sunmoon\"\n",
    "for i in range(0,len(str),1):\n",
    "    print(str[i], end = \" \")"
   ]
  },
  {
   "cell_type": "code",
   "execution_count": 73,
   "id": "0ac6d1eb",
   "metadata": {},
   "outputs": [
    {
     "name": "stdout",
     "output_type": "stream",
     "text": [
      "문자열 입력: korea\n",
      "k o r e a "
     ]
    }
   ],
   "source": [
    "str = input(\"문자열 입력: \")\n",
    "for i in range(0,len(str),1):\n",
    "    print(str[i], end = \" \")"
   ]
  },
  {
   "cell_type": "code",
   "execution_count": 77,
   "id": "4058236e",
   "metadata": {},
   "outputs": [
    {
     "name": "stdout",
     "output_type": "stream",
     "text": [
      "문자열 입력: hello\n",
      "h e l l o "
     ]
    }
   ],
   "source": [
    "i = 0\n",
    "\n",
    "str = input(\"문자열 입력: \")\n",
    "\n",
    "while i < len(str):\n",
    "    print(str[i],end = \" \")\n",
    "    i+=1"
   ]
  },
  {
   "cell_type": "code",
   "execution_count": 78,
   "id": "7251ce3b",
   "metadata": {},
   "outputs": [
    {
     "name": "stdout",
     "output_type": "stream",
     "text": [
      "187500\n"
     ]
    }
   ],
   "source": [
    "hap = 0\n",
    "i = 501\n",
    "while i < 1001:\n",
    "    hap += i\n",
    "    i+=2\n",
    "print(hap)"
   ]
  },
  {
   "cell_type": "code",
   "execution_count": 81,
   "id": "22db4f6b",
   "metadata": {},
   "outputs": [
    {
     "name": "stdout",
     "output_type": "stream",
     "text": [
      "시작값을 입력:1\n",
      "끝값을 입력:100\n",
      "5050\n"
     ]
    }
   ],
   "source": [
    "b = int(input(\"시작값을 입력:\"))\n",
    "a = int(input(\"끝값을 입력:\"))\n",
    "hap = 0\n",
    "i = 0\n",
    "while i < a+1:\n",
    "    hap+=i\n",
    "    i+=1\n",
    "print(hap)\n"
   ]
  },
  {
   "cell_type": "code",
   "execution_count": 104,
   "id": "017d1233",
   "metadata": {},
   "outputs": [
    {
     "name": "stdout",
     "output_type": "stream",
     "text": [
      "2 X 1 = 2\n",
      "2 X 2 = 4\n",
      "2 X 3 = 6\n",
      "2 X 4 = 8\n",
      "2 X 5 = 10\n",
      "2 X 6 = 12\n",
      "2 X 7 = 14\n",
      "2 X 8 = 16\n",
      "2 X 9 = 18\n",
      "\n",
      "3 X 1 = 3\n",
      "3 X 2 = 6\n",
      "3 X 3 = 9\n",
      "3 X 4 = 12\n",
      "3 X 5 = 15\n",
      "3 X 6 = 18\n",
      "3 X 7 = 21\n",
      "3 X 8 = 24\n",
      "3 X 9 = 27\n",
      "\n",
      "4 X 1 = 4\n",
      "4 X 2 = 8\n",
      "4 X 3 = 12\n",
      "4 X 4 = 16\n",
      "4 X 5 = 20\n",
      "4 X 6 = 24\n",
      "4 X 7 = 28\n",
      "4 X 8 = 32\n",
      "4 X 9 = 36\n",
      "\n",
      "5 X 1 = 5\n",
      "5 X 2 = 10\n",
      "5 X 3 = 15\n",
      "5 X 4 = 20\n",
      "5 X 5 = 25\n",
      "5 X 6 = 30\n",
      "5 X 7 = 35\n",
      "5 X 8 = 40\n",
      "5 X 9 = 45\n",
      "\n",
      "6 X 1 = 6\n",
      "6 X 2 = 12\n",
      "6 X 3 = 18\n",
      "6 X 4 = 24\n",
      "6 X 5 = 30\n",
      "6 X 6 = 36\n",
      "6 X 7 = 42\n",
      "6 X 8 = 48\n",
      "6 X 9 = 54\n",
      "\n",
      "7 X 1 = 7\n",
      "7 X 2 = 14\n",
      "7 X 3 = 21\n",
      "7 X 4 = 28\n",
      "7 X 5 = 35\n",
      "7 X 6 = 42\n",
      "7 X 7 = 49\n",
      "7 X 8 = 56\n",
      "7 X 9 = 63\n",
      "\n",
      "8 X 1 = 8\n",
      "8 X 2 = 16\n",
      "8 X 3 = 24\n",
      "8 X 4 = 32\n",
      "8 X 5 = 40\n",
      "8 X 6 = 48\n",
      "8 X 7 = 56\n",
      "8 X 8 = 64\n",
      "8 X 9 = 72\n",
      "\n",
      "9 X 1 = 9\n",
      "9 X 2 = 18\n",
      "9 X 3 = 27\n",
      "9 X 4 = 36\n",
      "9 X 5 = 45\n",
      "9 X 6 = 54\n",
      "9 X 7 = 63\n",
      "9 X 8 = 72\n",
      "9 X 9 = 81\n",
      "\n"
     ]
    }
   ],
   "source": [
    "i =2\n",
    "while i<10:\n",
    "    j = 1\n",
    "    while j < 10:\n",
    "        print(\"%d X %d = %d\" %(i,j,i*j))\n",
    "        j+=1\n",
    "    print(\"\")\n",
    "    i+=1"
   ]
  },
  {
   "cell_type": "code",
   "execution_count": 108,
   "id": "21d915ce",
   "metadata": {},
   "outputs": [
    {
     "name": "stdout",
     "output_type": "stream",
     "text": [
      "첫 번째 수 입력: 55\n",
      "두 번째 수 입력: 22\n",
      "55 + 22 = 77\n",
      "55 - 22 = 33\n",
      "55 * 22 = 1210\n",
      "55 / 22 = 2\n",
      "첫 번째 수 입력: 77\n",
      "두 번째 수 입력: 128\n",
      "77 + 128 = 205\n",
      "77 - 128 = -51\n",
      "77 * 128 = 9856\n",
      "77 / 128 = 0\n",
      "첫 번째 수 입력: 33\n",
      "두 번째 수 입력: 55\n",
      "33 + 55 = 88\n",
      "33 - 55 = -22\n",
      "33 * 55 = 1815\n",
      "33 / 55 = 0\n"
     ]
    },
    {
     "ename": "KeyboardInterrupt",
     "evalue": "Interrupted by user",
     "output_type": "error",
     "traceback": [
      "\u001b[1;31m---------------------------------------------------------------------------\u001b[0m",
      "\u001b[1;31mKeyboardInterrupt\u001b[0m                         Traceback (most recent call last)",
      "\u001b[1;32m~\\AppData\\Local\\Temp/ipykernel_32196/1397511927.py\u001b[0m in \u001b[0;36m<module>\u001b[1;34m\u001b[0m\n\u001b[0;32m      1\u001b[0m \u001b[1;32mwhile\u001b[0m \u001b[1;32mTrue\u001b[0m \u001b[1;33m:\u001b[0m\u001b[1;33m\u001b[0m\u001b[1;33m\u001b[0m\u001b[0m\n\u001b[1;32m----> 2\u001b[1;33m     \u001b[0ma\u001b[0m \u001b[1;33m=\u001b[0m \u001b[0mint\u001b[0m\u001b[1;33m(\u001b[0m\u001b[0minput\u001b[0m\u001b[1;33m(\u001b[0m\u001b[1;34m\"첫 번째 수 입력: \"\u001b[0m\u001b[1;33m)\u001b[0m\u001b[1;33m)\u001b[0m\u001b[1;33m\u001b[0m\u001b[1;33m\u001b[0m\u001b[0m\n\u001b[0m\u001b[0;32m      3\u001b[0m     \u001b[0mb\u001b[0m \u001b[1;33m=\u001b[0m \u001b[0mint\u001b[0m\u001b[1;33m(\u001b[0m\u001b[0minput\u001b[0m\u001b[1;33m(\u001b[0m\u001b[1;34m\"두 번째 수 입력: \"\u001b[0m\u001b[1;33m)\u001b[0m\u001b[1;33m)\u001b[0m\u001b[1;33m\u001b[0m\u001b[1;33m\u001b[0m\u001b[0m\n\u001b[0;32m      4\u001b[0m \u001b[1;33m\u001b[0m\u001b[0m\n\u001b[0;32m      5\u001b[0m     \u001b[0mprint\u001b[0m\u001b[1;33m(\u001b[0m\u001b[1;34m\"%d + %d = %d\"\u001b[0m \u001b[1;33m%\u001b[0m \u001b[1;33m(\u001b[0m\u001b[0ma\u001b[0m\u001b[1;33m,\u001b[0m\u001b[0mb\u001b[0m\u001b[1;33m,\u001b[0m\u001b[0ma\u001b[0m\u001b[1;33m+\u001b[0m\u001b[0mb\u001b[0m\u001b[1;33m)\u001b[0m\u001b[1;33m)\u001b[0m\u001b[1;33m\u001b[0m\u001b[1;33m\u001b[0m\u001b[0m\n",
      "\u001b[1;32mC:\\ProgramData\\Anaconda3\\lib\\site-packages\\ipykernel\\kernelbase.py\u001b[0m in \u001b[0;36mraw_input\u001b[1;34m(self, prompt)\u001b[0m\n\u001b[0;32m   1004\u001b[0m                 \u001b[1;34m\"raw_input was called, but this frontend does not support input requests.\"\u001b[0m\u001b[1;33m\u001b[0m\u001b[1;33m\u001b[0m\u001b[0m\n\u001b[0;32m   1005\u001b[0m             )\n\u001b[1;32m-> 1006\u001b[1;33m         return self._input_request(\n\u001b[0m\u001b[0;32m   1007\u001b[0m             \u001b[0mstr\u001b[0m\u001b[1;33m(\u001b[0m\u001b[0mprompt\u001b[0m\u001b[1;33m)\u001b[0m\u001b[1;33m,\u001b[0m\u001b[1;33m\u001b[0m\u001b[1;33m\u001b[0m\u001b[0m\n\u001b[0;32m   1008\u001b[0m             \u001b[0mself\u001b[0m\u001b[1;33m.\u001b[0m\u001b[0m_parent_ident\u001b[0m\u001b[1;33m[\u001b[0m\u001b[1;34m\"shell\"\u001b[0m\u001b[1;33m]\u001b[0m\u001b[1;33m,\u001b[0m\u001b[1;33m\u001b[0m\u001b[1;33m\u001b[0m\u001b[0m\n",
      "\u001b[1;32mC:\\ProgramData\\Anaconda3\\lib\\site-packages\\ipykernel\\kernelbase.py\u001b[0m in \u001b[0;36m_input_request\u001b[1;34m(self, prompt, ident, parent, password)\u001b[0m\n\u001b[0;32m   1049\u001b[0m             \u001b[1;32mexcept\u001b[0m \u001b[0mKeyboardInterrupt\u001b[0m\u001b[1;33m:\u001b[0m\u001b[1;33m\u001b[0m\u001b[1;33m\u001b[0m\u001b[0m\n\u001b[0;32m   1050\u001b[0m                 \u001b[1;31m# re-raise KeyboardInterrupt, to truncate traceback\u001b[0m\u001b[1;33m\u001b[0m\u001b[1;33m\u001b[0m\u001b[0m\n\u001b[1;32m-> 1051\u001b[1;33m                 \u001b[1;32mraise\u001b[0m \u001b[0mKeyboardInterrupt\u001b[0m\u001b[1;33m(\u001b[0m\u001b[1;34m\"Interrupted by user\"\u001b[0m\u001b[1;33m)\u001b[0m \u001b[1;32mfrom\u001b[0m \u001b[1;32mNone\u001b[0m\u001b[1;33m\u001b[0m\u001b[1;33m\u001b[0m\u001b[0m\n\u001b[0m\u001b[0;32m   1052\u001b[0m             \u001b[1;32mexcept\u001b[0m \u001b[0mException\u001b[0m\u001b[1;33m:\u001b[0m\u001b[1;33m\u001b[0m\u001b[1;33m\u001b[0m\u001b[0m\n\u001b[0;32m   1053\u001b[0m                 \u001b[0mself\u001b[0m\u001b[1;33m.\u001b[0m\u001b[0mlog\u001b[0m\u001b[1;33m.\u001b[0m\u001b[0mwarning\u001b[0m\u001b[1;33m(\u001b[0m\u001b[1;34m\"Invalid Message:\"\u001b[0m\u001b[1;33m,\u001b[0m \u001b[0mexc_info\u001b[0m\u001b[1;33m=\u001b[0m\u001b[1;32mTrue\u001b[0m\u001b[1;33m)\u001b[0m\u001b[1;33m\u001b[0m\u001b[1;33m\u001b[0m\u001b[0m\n",
      "\u001b[1;31mKeyboardInterrupt\u001b[0m: Interrupted by user"
     ]
    }
   ],
   "source": [
    "\n",
    "while True : \n",
    "    a = int(input(\"첫 번째 수 입력: \"))\n",
    "    b = int(input(\"두 번째 수 입력: \"))\n",
    "\n",
    "    print(\"%d + %d = %d\" % (a,b,a+b))\n",
    "    print(\"%d - %d = %d\" % (a,b,a-b))\n",
    "    print(\"%d * %d = %d\" % (a,b,a*b))\n",
    "    print(\"%d / %d = %d\" % (a,b,a/b))"
   ]
  },
  {
   "cell_type": "code",
   "execution_count": 118,
   "id": "4ff8a0db",
   "metadata": {},
   "outputs": [
    {
     "name": "stdout",
     "output_type": "stream",
     "text": [
      "1 2 3 4 "
     ]
    }
   ],
   "source": [
    "for i in range(1,21,1):\n",
    "    if i%5==0:\n",
    "        break\n",
    "    print(i, end=\" \")"
   ]
  },
  {
   "cell_type": "code",
   "execution_count": 111,
   "id": "d2b5dd6e",
   "metadata": {},
   "outputs": [
    {
     "name": "stdout",
     "output_type": "stream",
     "text": [
      "1 2 3 4 6 7 8 9 11 12 13 14 16 17 18 19 "
     ]
    }
   ],
   "source": [
    "for i in range(1,21,1):\n",
    "    if i%5==0:\n",
    "        continue\n",
    "    print(i, end=\" \")"
   ]
  },
  {
   "cell_type": "code",
   "execution_count": 116,
   "id": "2f135502",
   "metadata": {},
   "outputs": [
    {
     "name": "stdout",
     "output_type": "stream",
     "text": [
      "3 6 9 12 15 18 "
     ]
    }
   ],
   "source": [
    "for i in range(1,21,1):\n",
    "    if i%3==0:\n",
    "        #continue\n",
    "        print(i, end=\" \")"
   ]
  },
  {
   "cell_type": "code",
   "execution_count": 119,
   "id": "e54004b1",
   "metadata": {},
   "outputs": [
    {
     "name": "stdout",
     "output_type": "stream",
     "text": [
      "1 2 4 5 7 8 10 11 13 14 16 17 19 20 "
     ]
    }
   ],
   "source": [
    "for i in range(1,21,1):\n",
    "    if i%3==0:\n",
    "        continue\n",
    "    print(i, end=\" \")"
   ]
  },
  {
   "cell_type": "code",
   "execution_count": 120,
   "id": "9f2f55c7",
   "metadata": {
    "scrolled": true
   },
   "outputs": [
    {
     "name": "stdout",
     "output_type": "stream",
     "text": [
      "첫 번째 수 입력: 0\n",
      "두 번째 수 입력: 1\n"
     ]
    }
   ],
   "source": [
    "while True : \n",
    "    a = int(input(\"첫 번째 수 입력: \"))\n",
    "    b = int(input(\"두 번째 수 입력: \"))\n",
    "    if a == 0:\n",
    "        break\n",
    "\n",
    "    print(\"%d + %d = %d\" % (a,b,a+b))\n",
    "    print(\"%d - %d = %d\" % (a,b,a-b))\n",
    "    print(\"%d * %d = %d\" % (a,b,a*b))\n",
    "    print(\"%d / %d = %d\" % (a,b,a/b))"
   ]
  },
  {
   "cell_type": "code",
   "execution_count": 124,
   "id": "fd5a2e21",
   "metadata": {},
   "outputs": [
    {
     "name": "stdout",
     "output_type": "stream",
     "text": [
      "1~100의 합계를 최초로 1000이 넘게 하는 숫자: 45\n"
     ]
    }
   ],
   "source": [
    "hap = 0\n",
    "\n",
    "for i in range(1,101,1):\n",
    "    hap += i\n",
    "    if hap > 1000:\n",
    "        break\n",
    "print(\"1~100의 합계를 최초로 1000이 넘게 하는 숫자: %d\" %i)"
   ]
  },
  {
   "cell_type": "code",
   "execution_count": 127,
   "id": "7ba91866",
   "metadata": {},
   "outputs": [
    {
     "name": "stdout",
     "output_type": "stream",
     "text": [
      "1~100의 합계를 최초로 1000이 넘게 하는 숫자: 45\n"
     ]
    }
   ],
   "source": [
    "hap = 0\n",
    "i=1\n",
    "while i < 101:\n",
    "    hap += i\n",
    "    if hap > 1000:\n",
    "        break\n",
    "    i+=1\n",
    "print(\"1~100의 합계를 최초로 1000이 넘게 하는 숫자: %d\" %i)"
   ]
  },
  {
   "cell_type": "code",
   "execution_count": null,
   "id": "afb872ec",
   "metadata": {},
   "outputs": [],
   "source": []
  }
 ],
 "metadata": {
  "kernelspec": {
   "display_name": "Python 3 (ipykernel)",
   "language": "python",
   "name": "python3"
  },
  "language_info": {
   "codemirror_mode": {
    "name": "ipython",
    "version": 3
   },
   "file_extension": ".py",
   "mimetype": "text/x-python",
   "name": "python",
   "nbconvert_exporter": "python",
   "pygments_lexer": "ipython3",
   "version": "3.9.7"
  }
 },
 "nbformat": 4,
 "nbformat_minor": 5
}
