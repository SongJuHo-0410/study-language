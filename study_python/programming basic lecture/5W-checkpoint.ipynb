{
 "cells": [
  {
   "cell_type": "code",
   "execution_count": 4,
   "id": "1252d4a7",
   "metadata": {},
   "outputs": [
    {
     "data": {
      "text/plain": [
       "'good'"
      ]
     },
     "execution_count": 4,
     "metadata": {},
     "output_type": "execute_result"
    }
   ],
   "source": [
    "str = \"good luck\"\n",
    "str[5:9]\n",
    "str[5:]\n",
    "str[:4]"
   ]
  },
  {
   "cell_type": "markdown",
   "id": "9205672e",
   "metadata": {},
   "source": [
    "# IF"
   ]
  },
  {
   "cell_type": "code",
   "execution_count": 7,
   "id": "97c6dbb4",
   "metadata": {},
   "outputs": [
    {
     "name": "stdout",
     "output_type": "stream",
     "text": [
      "회원이십니까?(y/n) \n",
      "안녕하세요.\n"
     ]
    }
   ],
   "source": [
    "member = input('회원이십니까?(y/n) ')\n",
    "if member == 'y':\n",
    "    print(\"어서 오십시요.\")\n",
    "print(\"안녕하세요.\")"
   ]
  },
  {
   "cell_type": "code",
   "execution_count": 8,
   "id": "78a54a62",
   "metadata": {},
   "outputs": [
    {
     "name": "stdout",
     "output_type": "stream",
     "text": [
      "회원이십니까?(y/n) ㄴ\n",
      "회원가입을 해주세요.\n"
     ]
    }
   ],
   "source": [
    "member = input('회원이십니까?(y/n) ')\n",
    "if member == 'y':\n",
    "    print(\"어서 오십시요.\")\n",
    "else:\n",
    "    print(\"회원가입을 해주세요.\")"
   ]
  },
  {
   "cell_type": "code",
   "execution_count": 15,
   "id": "d7b57245",
   "metadata": {},
   "outputs": [
    {
     "name": "stdout",
     "output_type": "stream",
     "text": [
      "나이 입력: -135\n",
      "잘못 입력하였습니다.\n"
     ]
    }
   ],
   "source": [
    "age = int(input('나이 입력: '))\n",
    "price = 20000\n",
    "if 1 <= age < 6 :\n",
    "    print('입장료는 무료')\n",
    "elif 6 <= age < 60 :\n",
    "    print('입장료는', price, '원')\n",
    "elif age >= 60 :\n",
    "    print('입장료는', price*0.5, '원')\n",
    "else:\n",
    "    print('잘못 입력하였습니다.')"
   ]
  },
  {
   "cell_type": "code",
   "execution_count": 26,
   "id": "43e5c356",
   "metadata": {},
   "outputs": [
    {
     "name": "stdout",
     "output_type": "stream",
     "text": [
      "결재 수단 입력: ㅇㅇ\n",
      "걸어가세요.\n"
     ]
    }
   ],
   "source": [
    "pocket = ['스마트폰','교통카드','현금']\n",
    "item = input('결재 수단 입력: ')\n",
    "price = 20000\n",
    "if item in pocket and item == '현금':\n",
    "    print('택시를 타세요.')\n",
    "if item in pocket and item == '교통카드':\n",
    "    print('버스를 타세요.')\n",
    "else:\n",
    "    print('걸어가세요.')"
   ]
  },
  {
   "cell_type": "code",
   "execution_count": 32,
   "id": "c14f027f",
   "metadata": {},
   "outputs": [
    {
     "name": "stdout",
     "output_type": "stream",
     "text": [
      "연도 입력: 4\n",
      "4 년은 윤년\n"
     ]
    }
   ],
   "source": [
    "year = int(input('연도 입력: '))\n",
    "if year % 4 == 0 and year % 100 != 0 or year % 400 == 0:\n",
    "    print('%d 년은 윤년' % year)\n",
    "else:\n",
    "    print('%d 년은 윤년 아님' % year)"
   ]
  },
  {
   "cell_type": "code",
   "execution_count": 37,
   "id": "175b3def",
   "metadata": {},
   "outputs": [
    {
     "name": "stdout",
     "output_type": "stream",
     "text": [
      "월 입력: 1\n",
      "1 월은 겨울\n"
     ]
    }
   ],
   "source": [
    "month = int(input('월 입력: '))\n",
    "if month < 1 or month > 12:\n",
    "    print('error')\n",
    "elif 3 <= month <= 5:\n",
    "    print(month,'월은 봄')\n",
    "elif 6 <= month <= 8:\n",
    "    print(month,'월은 봄')\n",
    "elif 9 <= month <= 11:\n",
    "    print(month,'월은 봄')\n",
    "else:\n",
    "    print(month,'월은 겨울')"
   ]
  },
  {
   "cell_type": "code",
   "execution_count": 49,
   "id": "93008830",
   "metadata": {},
   "outputs": [
    {
     "name": "stdout",
     "output_type": "stream",
     "text": [
      "정수 입력: 2\n",
      "2은 짝수\n"
     ]
    }
   ],
   "source": [
    "num = int(input('정수 입력: '))\n",
    "if num % 2 == 1:\n",
    "    print('%d은 홀수' % num)\n",
    "else:\n",
    "    print('%d은 짝수' % num)"
   ]
  },
  {
   "cell_type": "code",
   "execution_count": 70,
   "id": "38af9a23",
   "metadata": {},
   "outputs": [
    {
     "name": "stdout",
     "output_type": "stream",
     "text": [
      "정수 입력: -1\n",
      "-1은 음수\n"
     ]
    }
   ],
   "source": [
    "num = int(input('정수 입력: '))\n",
    "if num > 0:\n",
    "    print('%d은 양수' % num)\n",
    "elif num <0:\n",
    "    print('%d은 음수' % num)\n",
    "else:\n",
    "    print('%d은 0' % num)"
   ]
  },
  {
   "cell_type": "code",
   "execution_count": 82,
   "id": "cc67a44d",
   "metadata": {},
   "outputs": [
    {
     "name": "stdout",
     "output_type": "stream",
     "text": [
      "아이디 입력: 1\n",
      "비밀번호 입력: 1\n",
      "아이디나 비밀번호가 틀려 로그인 실패\n"
     ]
    }
   ],
   "source": [
    "id = input('아이디 입력: ')\n",
    "pwd = input('비밀번호 입력: ')\n",
    "if id == 'admin' and pwd == 'pw1234':\n",
    "    print('login suecess')\n",
    "else :\n",
    "    print('아이디나 비밀번호가 틀려 로그인 실패')"
   ]
  },
  {
   "cell_type": "code",
   "execution_count": 83,
   "id": "c10af32c",
   "metadata": {},
   "outputs": [
    {
     "name": "stdout",
     "output_type": "stream",
     "text": [
      "1차 점수 입력: 70\n",
      "2차 점수 입력: 80\n",
      "합격\n"
     ]
    }
   ],
   "source": [
    "num1 = int(input('1차 점수 입력: '))\n",
    "num2 = int(input('2차 점수 입력: '))\n",
    "avg = (num1 + num2) / 2\n",
    "\n",
    "if  100 >= avg >= 70 and 100 >= num1>= 50 and 100 >= num2 >= 50:\n",
    "    print('합격')\n",
    "elif  avg <70  and num1 < 50 and num2 < 50:\n",
    "    print('불합격')\n",
    "else:\n",
    "    print('값 오류')\n",
    "\n",
    "    "
   ]
  },
  {
   "cell_type": "code",
   "execution_count": 101,
   "id": "a2acd295",
   "metadata": {},
   "outputs": [
    {
     "name": "stdout",
     "output_type": "stream",
     "text": [
      "1차 점수 입력: 100\n",
      "100 점은 A+학점\n"
     ]
    }
   ],
   "source": [
    "num1 = int(input('1차 점수 입력: '))\n",
    "if 100 >= num1 >= 96:\n",
    "    grade = 'A+'\n",
    "elif  95 >= num1 >= 90:\n",
    "     grade = \"A\"\n",
    "elif  90 > num1 >= 80:\n",
    "     grade = 'B'\n",
    "elif  80 > num1 >= 70:\n",
    "     grade = 'C'\n",
    "elif  70 > num1 >= 60:\n",
    "     grade = 'D'\n",
    "elif  60 > num1 >= 0:\n",
    "     grade = 'F'\n",
    "else:\n",
    "    print(num1,'점은 나올 수 없는 점수')\n",
    "    \n",
    "print('%d 점은 %s학점' % (num1,grade))"
   ]
  },
  {
   "cell_type": "markdown",
   "id": "f6b1e8fd",
   "metadata": {},
   "source": [
    "# 반복문 for,while\n"
   ]
  },
  {
   "cell_type": "code",
   "execution_count": 114,
   "id": "1a5a409c",
   "metadata": {},
   "outputs": [
    {
     "name": "stdout",
     "output_type": "stream",
     "text": [
      "0 안녕하세요? for문을 공부중입니다.\n",
      "1 안녕하세요? for문을 공부중입니다.\n",
      "2 안녕하세요? for문을 공부중입니다.\n"
     ]
    }
   ],
   "source": [
    "for i in range(0,3,1):\n",
    "    print('%d 안녕하세요? for문을 공부중입니다.' % i)"
   ]
  },
  {
   "cell_type": "code",
   "execution_count": 117,
   "id": "f8dae0e6",
   "metadata": {},
   "outputs": [
    {
     "name": "stdout",
     "output_type": "stream",
     "text": [
      "1 2 3 4 5 6 7 8 9 10 "
     ]
    }
   ],
   "source": [
    "for i in [1,2,3,4,5,6,7,8,9,10]:\n",
    "    print(i, end = \" \")"
   ]
  },
  {
   "cell_type": "code",
   "execution_count": 146,
   "id": "b8754cd8",
   "metadata": {},
   "outputs": [
    {
     "name": "stdout",
     "output_type": "stream",
     "text": [
      "1 3 5 7 9 11 13 15 17 19 21 23 25 27 29 31 33 35 37 39 41 43 45 47 49 51 53 55 57 59 61 63 65 67 69 71 73 75 77 79 81 83 85 87 89 91 93 95 97 99 "
     ]
    }
   ],
   "source": [
    "for i in range(1,101,2): #시작값, 끝값+1, 증강값\n",
    "    print(i, end = \" \")"
   ]
  },
  {
   "cell_type": "code",
   "execution_count": 142,
   "id": "60a0cca4",
   "metadata": {},
   "outputs": [
    {
     "name": "stdout",
     "output_type": "stream",
     "text": [
      "99 99 196 97 291 95 384 93 475 91 564 89 651 87 736 85 819 83 900 81 979 79 1056 77 1131 75 1204 73 1275 71 1344 69 1411 67 1476 65 1539 63 1600 61 1659 59 1716 57 1771 55 1824 53 1875 51 1924 49 1971 47 2016 45 2059 43 2100 41 2139 39 2176 37 2211 35 2244 33 2275 31 2304 29 2331 27 2356 25 2379 23 2400 21 2419 19 2436 17 2451 15 2464 13 2475 11 2484 9 2491 7 2496 5 2499 3 2500 1 2500\n"
     ]
    }
   ],
   "source": [
    "hap = 0\n",
    "for i in range(99,0,-2):\n",
    "    hap += i\n",
    "    print(hap, i, end = \" \")\n",
    "    \n",
    "print(hap)"
   ]
  },
  {
   "cell_type": "code",
   "execution_count": 147,
   "id": "17c9c305",
   "metadata": {},
   "outputs": [
    {
     "name": "stdout",
     "output_type": "stream",
     "text": [
      "187500\n"
     ]
    }
   ],
   "source": [
    "hap = 0\n",
    "for i in range(501,1001,2):\n",
    "    hap += i  \n",
    "print(hap)"
   ]
  },
  {
   "cell_type": "code",
   "execution_count": null,
   "id": "52549970",
   "metadata": {},
   "outputs": [],
   "source": []
  },
  {
   "cell_type": "code",
   "execution_count": null,
   "id": "fe243c6a",
   "metadata": {},
   "outputs": [],
   "source": []
  },
  {
   "cell_type": "code",
   "execution_count": null,
   "id": "054cc28f",
   "metadata": {},
   "outputs": [],
   "source": []
  }
 ],
 "metadata": {
  "kernelspec": {
   "display_name": "Python 3 (ipykernel)",
   "language": "python",
   "name": "python3"
  },
  "language_info": {
   "codemirror_mode": {
    "name": "ipython",
    "version": 3
   },
   "file_extension": ".py",
   "mimetype": "text/x-python",
   "name": "python",
   "nbconvert_exporter": "python",
   "pygments_lexer": "ipython3",
   "version": "3.9.7"
  }
 },
 "nbformat": 4,
 "nbformat_minor": 5
}
