{
 "cells": [
  {
   "cell_type": "code",
   "execution_count": 3,
   "id": "c3e3c279",
   "metadata": {},
   "outputs": [
    {
     "name": "stdout",
     "output_type": "stream",
     "text": [
      "단 입력:3\n",
      "3 x 1 = 3\n",
      "3 x 2 = 6\n",
      "3 x 3 = 9\n",
      "3 x 4 = 12\n",
      "3 x 5 = 15\n",
      "3 x 6 = 18\n",
      "3 x 7 = 21\n",
      "3 x 8 = 24\n",
      "3 x 9 = 27\n"
     ]
    }
   ],
   "source": [
    "dan = int(input(\"단 입력:\"))\n",
    "for i in range(1,10,1):\n",
    "    print(\"%d x %d = %d\" % (dan,i,dan*i))"
   ]
  },
  {
   "cell_type": "code",
   "execution_count": 9,
   "id": "ea71d20e",
   "metadata": {},
   "outputs": [
    {
     "name": "stdout",
     "output_type": "stream",
     "text": [
      "단 입력3\n",
      "3 x 1 = 3\n",
      "3 x 2 = 6\n",
      "3 x 3 = 9\n",
      "3 x 4 = 12\n",
      "3 x 5 = 15\n",
      "3 x 6 = 18\n",
      "3 x 7 = 21\n",
      "3 x 8 = 24\n",
      "3 x 9 = 27\n"
     ]
    }
   ],
   "source": [
    "dan = int(input(\"단 입력\"))\n",
    "i = 1\n",
    "while i<10:\n",
    "    print(\"%d x %d = %d\" % (dan,i,dan*i))\n",
    "    i += 1"
   ]
  },
  {
   "cell_type": "code",
   "execution_count": 10,
   "id": "c68b1728",
   "metadata": {},
   "outputs": [
    {
     "name": "stdout",
     "output_type": "stream",
     "text": [
      "번호입력(종료0):1\n",
      "while 무한루프 반복중\n",
      "번호입력(종료0):2\n",
      "while 무한루프 반복중\n",
      "번호입력(종료0):3\n",
      "while 무한루프 반복중\n",
      "번호입력(종료0):4\n",
      "while 무한루프 반복중\n",
      "번호입력(종료0):0\n"
     ]
    }
   ],
   "source": [
    "while True:\n",
    "    num = int(input(\"번호입력(종료0):\"))\n",
    "    if num == 0:\n",
    "        break\n",
    "    print(\"while 무한루프 반복중\")"
   ]
  },
  {
   "cell_type": "code",
   "execution_count": 12,
   "id": "d108ad66",
   "metadata": {},
   "outputs": [
    {
     "name": "stdout",
     "output_type": "stream",
     "text": [
      "7\n",
      "14\n",
      "21\n",
      "28\n"
     ]
    }
   ],
   "source": [
    "for i in range(1,31,1):\n",
    "    if i % 7 == 0:\n",
    "        print(i)"
   ]
  },
  {
   "cell_type": "code",
   "execution_count": 18,
   "id": "27f4f488",
   "metadata": {},
   "outputs": [
    {
     "name": "stdout",
     "output_type": "stream",
     "text": [
      "7의배수 7\n",
      "7의배수 14\n",
      "7의배수 21\n",
      "7의배수 28\n"
     ]
    }
   ],
   "source": [
    "for i in range(1,31,1):\n",
    "    if i % 7 != 0:\n",
    "        continue\n",
    "    print(\"7의배수\",i)"
   ]
  },
  {
   "cell_type": "code",
   "execution_count": 39,
   "id": "1b4debfd",
   "metadata": {},
   "outputs": [
    {
     "name": "stdout",
     "output_type": "stream",
     "text": [
      "시작단 입력:2\n",
      "끝 단 입력:4\n",
      "2 x 1 = 2\n",
      "2 x 2 = 4\n",
      "2 x 3 = 6\n",
      "2 x 4 = 8\n",
      "2 x 5 = 10\n",
      "2 x 6 = 12\n",
      "2 x 7 = 14\n",
      "2 x 8 = 16\n",
      "2 x 9 = 18\n",
      "3 x 1 = 3\n",
      "3 x 2 = 6\n",
      "3 x 3 = 9\n",
      "3 x 4 = 12\n",
      "3 x 5 = 15\n",
      "3 x 6 = 18\n",
      "3 x 7 = 21\n",
      "3 x 8 = 24\n",
      "3 x 9 = 27\n",
      "4 x 1 = 4\n",
      "4 x 2 = 8\n",
      "4 x 3 = 12\n",
      "4 x 4 = 16\n",
      "4 x 5 = 20\n",
      "4 x 6 = 24\n",
      "4 x 7 = 28\n",
      "4 x 8 = 32\n",
      "4 x 9 = 36\n"
     ]
    }
   ],
   "source": [
    "dan1 = int(input(\"시작단 입력:\"))\n",
    "dan2 = int(input(\"끝 단 입력:\"))\n",
    "for i in range(dan1,dan2+1,1):\n",
    "    for j in range(1,10,1):\n",
    "        print(\"%d x %d = %d\" % (i,j,i*j))\n",
    "    \n",
    "    "
   ]
  },
  {
   "cell_type": "code",
   "execution_count": 49,
   "id": "1f9efcf6",
   "metadata": {},
   "outputs": [
    {
     "name": "stdout",
     "output_type": "stream",
     "text": [
      "1부터 어디까지 진행할까요:30\n",
      "1\n",
      "2\n",
      "짝\n",
      "4\n",
      "5\n",
      "짝\n",
      "7\n",
      "8\n",
      "짝\n",
      "10\n",
      "11\n",
      "12\n",
      "짝\n",
      "14\n",
      "15\n",
      "짝\n",
      "17\n",
      "18\n",
      "짝\n",
      "20\n",
      "21\n",
      "22\n",
      "짝\n",
      "24\n",
      "25\n",
      "짝\n",
      "27\n",
      "28\n",
      "짝\n",
      "30\n"
     ]
    }
   ],
   "source": [
    "num = int(input(\"1부터 어디까지 진행할까요:\"))\n",
    "\n",
    "for i in range(1,num+1,1):\n",
    "    if i % 10 == 3 or i % 10 ==6 or i % 10 == 9:\n",
    "        print(\"짝\")\n",
    "    else:\n",
    "        print(i)"
   ]
  },
  {
   "cell_type": "markdown",
   "id": "c85f39ac",
   "metadata": {},
   "source": [
    "# 구입금액은 킵드로 입력받아서 5만원이상이면 최종결제 가격을 3% 할인 10만원이상이면 5% 할인된 최종 결제 금액을 출력하라."
   ]
  },
  {
   "cell_type": "code",
   "execution_count": 46,
   "id": "ec79b890",
   "metadata": {},
   "outputs": [
    {
     "name": "stdout",
     "output_type": "stream",
     "text": [
      "구입금액:400\n",
      "400.0\n"
     ]
    }
   ],
   "source": [
    "price = float(input(\"구입금액:\"))\n",
    "if price >= 50000:\n",
    "    print(\"%f\" %(price*0.97))\n",
    "elif price >= 50000:\n",
    "    print(\"%f\" %(price*0.95))\n",
    "else:\n",
    "    print(price)"
   ]
  },
  {
   "cell_type": "markdown",
   "id": "3dc42072",
   "metadata": {},
   "source": [
    "# 1부터 원하는 숫자까지의 합계를 구하라"
   ]
  },
  {
   "cell_type": "code",
   "execution_count": 47,
   "id": "b171cf92",
   "metadata": {},
   "outputs": [
    {
     "name": "stdout",
     "output_type": "stream",
     "text": [
      "원하는 숫자입력:100\n",
      "5050\n"
     ]
    }
   ],
   "source": [
    "num = int(input(\"원하는 숫자입력:\"))\n",
    "tot=0\n",
    "for i in range(1,num+1,1):\n",
    "    tot += i\n",
    "print(\"%d\" %tot)"
   ]
  },
  {
   "cell_type": "code",
   "execution_count": 51,
   "id": "df2f80b9",
   "metadata": {},
   "outputs": [
    {
     "name": "stdout",
     "output_type": "stream",
     "text": [
      "원하는 숫자입력:10\n",
      "55\n"
     ]
    }
   ],
   "source": [
    "num = int(input(\"원하는 숫자입력:\"))\n",
    "tot = 0\n",
    "i = 1\n",
    "while i < num+1:\n",
    "    tot += i\n",
    "    i +=1\n",
    "print(\"%d\" %tot)"
   ]
  },
  {
   "cell_type": "code",
   "execution_count": 54,
   "id": "381caf30",
   "metadata": {},
   "outputs": [
    {
     "name": "stdout",
     "output_type": "stream",
     "text": [
      "원하는 숫자1입력:1\n",
      "원하는 숫자2입력:100\n",
      "5050\n"
     ]
    }
   ],
   "source": [
    "num1 = int(input(\"원하는 숫자1입력:\"))\n",
    "num2 = int(input(\"원하는 숫자2입력:\"))\n",
    "tot=0\n",
    "for i in range(num1,num2+1,1):\n",
    "    tot += i\n",
    "print(\"%d\" %tot)"
   ]
  },
  {
   "cell_type": "code",
   "execution_count": null,
   "id": "649ace3c",
   "metadata": {},
   "outputs": [],
   "source": []
  }
 ],
 "metadata": {
  "kernelspec": {
   "display_name": "Python 3 (ipykernel)",
   "language": "python",
   "name": "python3"
  },
  "language_info": {
   "codemirror_mode": {
    "name": "ipython",
    "version": 3
   },
   "file_extension": ".py",
   "mimetype": "text/x-python",
   "name": "python",
   "nbconvert_exporter": "python",
   "pygments_lexer": "ipython3",
   "version": "3.9.7"
  }
 },
 "nbformat": 4,
 "nbformat_minor": 5
}
