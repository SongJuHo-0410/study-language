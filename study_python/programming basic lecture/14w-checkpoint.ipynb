{
 "cells": [
  {
   "cell_type": "code",
   "execution_count": 20,
   "id": "e89591dc",
   "metadata": {},
   "outputs": [
    {
     "name": "stdout",
     "output_type": "stream",
     "text": [
      "** 자판기 판매 메뉴 **\n",
      "1 : 콜라 500\n",
      "2 : 사이다 500\n",
      "3 : 환타 600\n",
      "4 : 커피 600\n",
      "5 : 생수 400\n",
      "돈을 투입하세요 : 1000\n",
      "메뉴 선택 (종료:0) : 1\n",
      "콜라 구입완료\n",
      "잔액:  500\n",
      "메뉴 선택 (종료:0) : 5\n",
      "생수 구입완료\n",
      "잔액:  100\n",
      "메뉴 선택 (종료:0) : 4\n",
      "잔액부족\n",
      "잔액:  100\n",
      "메뉴 선택 (종료:0) : 2\n",
      "잔액부족\n",
      "잔액:  100\n",
      "메뉴 선택 (종료:0) : 0\n",
      "자판기 종료, 잔액  100 반환\n"
     ]
    }
   ],
   "source": [
    "menu = ['콜라','사이다','환타','커피','생수']\n",
    "price = [500,500,600,600,400]\n",
    "\n",
    "print(\"** 자판기 판매 메뉴 **\")\n",
    "\n",
    "for i in range(0,5,1):\n",
    "    print(i+1 ,\":\", menu[i], price[i])\n",
    "\n",
    "money = int(input(\"돈을 투입하세요 : \"))\n",
    "\n",
    "while True:\n",
    "    num = int(input(\"메뉴 선택 (종료:0) : \"))\n",
    "    if num == 0: \n",
    "        print(\"자판기 종료, 잔액 \", money, \"반환\")\n",
    "        break\n",
    "        \n",
    "    if money < price[num-1] :\n",
    "        print(\"잔액부족\")\n",
    "    else:\n",
    "        print(menu[num-1], \"구입완료\")\n",
    "        money = money - price[num-1]\n",
    "\n",
    "    print(\"잔액:\", money)"
   ]
  },
  {
   "cell_type": "code",
   "execution_count": 13,
   "id": "61dc585c",
   "metadata": {},
   "outputs": [
    {
     "name": "stdout",
     "output_type": "stream",
     "text": [
      "한 학기 수업주차 입력 : 5\n",
      "1주차 강의에 출석하셨나요?:\n",
      "출석은 1, 결석은 0 >>>1\n",
      "2주차 강의에 출석하셨나요?:\n",
      "출석은 1, 결석은 0 >>>1\n",
      "3주차 강의에 출석하셨나요?:\n",
      "출석은 1, 결석은 0 >>>0\n",
      "4주차 강의에 출석하셨나요?:\n",
      "출석은 1, 결석은 0 >>>0\n",
      "5주차 강의에 출석하셨나요?:\n",
      "출석은 1, 결석은 0 >>>1\n",
      "[1, 1, 0, 0, 1]\n",
      "결석 횟수 :  2\n",
      "출석 횟수 :  3\n"
     ]
    }
   ],
   "source": [
    "day = int(input(\"한 학기 수업주차 입력 : \"))\n",
    "\n",
    "att_book = [0]*day\n",
    "att = 0\n",
    "gyul = 0\n",
    "\n",
    "for i in range(day):\n",
    "    print(\"%d주차 강의에 출석하셨나요?:\" % (i+1))\n",
    "    att_book[i] = int(input(\"출석은 1, 결석은 0 >>>\"))\n",
    "    \n",
    "att = att_book.count(1)\n",
    "gyul = att_book.count(0)\n",
    "\n",
    "print(att_book)\n",
    "print(\"결석 횟수 : \", gyul)\n",
    "print(\"출석 횟수 : \", att)"
   ]
  }
 ],
 "metadata": {
  "kernelspec": {
   "display_name": "Python 3 (ipykernel)",
   "language": "python",
   "name": "python3"
  },
  "language_info": {
   "codemirror_mode": {
    "name": "ipython",
    "version": 3
   },
   "file_extension": ".py",
   "mimetype": "text/x-python",
   "name": "python",
   "nbconvert_exporter": "python",
   "pygments_lexer": "ipython3",
   "version": "3.9.7"
  }
 },
 "nbformat": 4,
 "nbformat_minor": 5
}
