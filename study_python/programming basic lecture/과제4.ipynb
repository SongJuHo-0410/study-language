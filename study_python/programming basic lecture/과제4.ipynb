{
 "cells": [
  {
   "attachments": {
    "image.png": {
     "image/png": "[encoded data removed]"
    }
   },
   "cell_type": "markdown",
   "id": "138d742c",
   "metadata": {},
   "source": [
    "## 2차원(3X5) 리스트를 생성하여 각 리스트에 1부터 15까지 값을 생성하여 저장한후 각 행의 합계를 계산 \n",
    "![image.png](attachment:image.png)\n",
    "\n",
    "\n"
   ]
  },
  {
   "cell_type": "code",
   "execution_count": 9,
   "id": "5d8fa0c6",
   "metadata": {},
   "outputs": [
    {
     "name": "stdout",
     "output_type": "stream",
     "text": [
      "1 번째 행 :\n",
      "    1    2    3    4    5\n",
      "2 번째 행 :\n",
      "    6    7    8    9   10\n",
      "3 번째 행 :\n",
      "   11   12   13   14   15\n",
      "1 번째 행 합계 :  15\n",
      "2 번째 행 합계 :  40\n",
      "3 번째 행 합계 :  65\n"
     ]
    }
   ],
   "source": [
    "list1 = []\n",
    "list2 = []\n",
    "value = 1\n",
    "sum = 0\n",
    "for i in range(3):\n",
    "    for k in range(5):\n",
    "        list1.append(value)\n",
    "        value += 1\n",
    "    list2.append(list1)\n",
    "    list1 = []\n",
    "    \n",
    "for i in range(3):\n",
    "    print(i+1,\"번째 행 :\")\n",
    "    for k in range(5) :\n",
    "        print(\"%5d\" %list2[i][k],end ='')\n",
    "    print(\"\")\n",
    "\n",
    "for i in range(3):\n",
    "    for k in range(5) :\n",
    "        sum += list2[i][k]\n",
    "    print(i+1,\"번째 행 합계 : \", sum)\n",
    "    sum = 0"
   ]
  },
  {
   "cell_type": "markdown",
   "id": "58c64371",
   "metadata": {},
   "source": [
    "## 숫자(1~45사이의 정수) 6개를 출력하는 프로그램을 작성.   \n",
    "## 중복을 허용하지 않는 set 자료구조를 활용하여 1~45 사이의 정수 난수 6개를 발생시켜 로또번호 출력(무한반복: while True 난수가 6개가 되면 반복 종료)  \n",
    "참고:  set에 원소 추가  \n",
    "k = set()  \n",
    "k.add(23) \n",
    "\n",
    "\n",
    "\n",
    "\n",
    "출력  \n",
    "6개 숫자는 :  {34, 4, 36, 7, 14, 27}\n"
   ]
  },
  {
   "cell_type": "code",
   "execution_count": 28,
   "id": "a2be03c3",
   "metadata": {},
   "outputs": [
    {
     "name": "stdout",
     "output_type": "stream",
     "text": [
      "출력\n",
      "6개 숫자는: {3, 4, 40, 10, 14, 25}\n"
     ]
    }
   ],
   "source": [
    "import random\n",
    "\n",
    "lotto = set()\n",
    "\n",
    "while True:\n",
    "    num = random.randint(1,45)\n",
    "    \n",
    "    lotto.add(num)\n",
    "    \n",
    "    if len(lotto) == 6:\n",
    "        break\n",
    "        \n",
    "print('출력')\n",
    "print('6개 숫자는:',lotto)"
   ]
  },
  {
   "cell_type": "code",
   "execution_count": null,
   "id": "7ffd2e5d",
   "metadata": {},
   "outputs": [],
   "source": []
  },
  {
   "cell_type": "code",
   "execution_count": null,
   "id": "9041f157",
   "metadata": {},
   "outputs": [],
   "source": []
  }
 ],
 "metadata": {
  "kernelspec": {
   "display_name": "Python 3 (ipykernel)",
   "language": "python",
   "name": "python3"
  },
  "language_info": {
   "codemirror_mode": {
    "name": "ipython",
    "version": 3
   },
   "file_extension": ".py",
   "mimetype": "text/x-python",
   "name": "python",
   "nbconvert_exporter": "python",
   "pygments_lexer": "ipython3",
   "version": "3.9.7"
  }
 },
 "nbformat": 4,
 "nbformat_minor": 5
}
