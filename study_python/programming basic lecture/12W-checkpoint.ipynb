{
 "cells": [
  {
   "cell_type": "code",
   "execution_count": 1,
   "id": "76eea34b",
   "metadata": {},
   "outputs": [
    {
     "name": "stdout",
     "output_type": "stream",
     "text": [
      "1번째 숫자: 1\n",
      "1번째 숫자: 2\n",
      "1번째 숫자: 3\n",
      "1번째 숫자: 4\n",
      "합계 ==> 10\n"
     ]
    }
   ],
   "source": [
    "a ,b ,c ,d = 0, 0 ,0 ,0\n",
    "hap = 0\n",
    "\n",
    "a = int(input(\"1번째 숫자: \"))\n",
    "b = int(input(\"1번째 숫자: \"))\n",
    "c = int(input(\"1번째 숫자: \"))\n",
    "d = int(input(\"1번째 숫자: \"))\n",
    "\n",
    "hap = a + b + c + d\n",
    "\n",
    "print(\"합계 ==> %d\" %hap)"
   ]
  },
  {
   "cell_type": "code",
   "execution_count": 4,
   "id": "202f63da",
   "metadata": {},
   "outputs": [
    {
     "name": "stdout",
     "output_type": "stream",
     "text": [
      "1번째 숫자: 2\n",
      "1번째 숫자: 3\n",
      "1번째 숫자: 4\n",
      "1번째 숫자: 5\n",
      "합계 ==> 14\n"
     ]
    }
   ],
   "source": [
    "aa = [0, 0 ,0 ,0]\n",
    "hap = 0\n",
    "\n",
    "aa[0] = int(input(\"1번째 숫자: \"))\n",
    "aa[1] = int(input(\"1번째 숫자: \"))\n",
    "aa[2] = int(input(\"1번째 숫자: \"))\n",
    "aa[3]= int(input(\"1번째 숫자: \"))\n",
    "\n",
    "hap = aa[0] + aa[1] + aa[2] + aa[3]\n",
    "\n",
    "print(\"합계 ==> %d\" %hap)"
   ]
  },
  {
   "cell_type": "code",
   "execution_count": 15,
   "id": "8fcc480d",
   "metadata": {},
   "outputs": [
    {
     "name": "stdout",
     "output_type": "stream",
     "text": [
      "1번째 숫자 : 1\n",
      "2번째 숫자 : 2\n",
      "3번째 숫자 : 3\n",
      "4번째 숫자 : 4\n",
      "합계 -> 10\n"
     ]
    }
   ],
   "source": [
    "aa = []\n",
    "\n",
    "for i in range(4):\n",
    "    aa.append(0)\n",
    "hap = 0\n",
    "\n",
    "for i in range(4):\n",
    "    aa[i] = int(input(str(i+1) + \"번째 숫자 : \"))\n",
    "    \n",
    "for j in range(4):\n",
    "    hap += aa[j]\n",
    "    \n",
    "print(\"합계 -> %d\" % hap)"
   ]
  },
  {
   "cell_type": "code",
   "execution_count": 17,
   "id": "e65029bf",
   "metadata": {},
   "outputs": [
    {
     "name": "stdout",
     "output_type": "stream",
     "text": [
      "bb[0]에는 198이, bb[99]에는 0이 입력됩니다.\n"
     ]
    }
   ],
   "source": [
    "aa = []\n",
    "bb = []\n",
    "value = 0\n",
    "\n",
    "for i in range(100):\n",
    "    aa.append(value)\n",
    "    value += 2\n",
    "\n",
    "for i in range(100):\n",
    "    bb.append(aa[99 - i])\n",
    "    \n",
    "print(\"bb[0]에는 %d이, bb[99]에는 %d이 입력됩니다.\" %(bb[0],bb[99]))"
   ]
  },
  {
   "cell_type": "code",
   "execution_count": 21,
   "id": "56035013",
   "metadata": {},
   "outputs": [
    {
     "name": "stdout",
     "output_type": "stream",
     "text": [
      "bb[0]에는 597이, bb[199]에는 0이 입력됩니다.\n"
     ]
    }
   ],
   "source": [
    "aa = []\n",
    "bb = []\n",
    "value = 0\n",
    "\n",
    "for i in range(200):\n",
    "    aa.append(value)\n",
    "    value += 3\n",
    "\n",
    "for i in range(200):\n",
    "    bb.append(aa[199 - i])\n",
    "    \n",
    "print(\"bb[0]에는 %d이, bb[199]에는 %d이 입력됩니다.\" %(bb[0],bb[199]))"
   ]
  },
  {
   "cell_type": "code",
   "execution_count": 22,
   "id": "8cf6208b",
   "metadata": {},
   "outputs": [
    {
     "name": "stdout",
     "output_type": "stream",
     "text": [
      "현재 리스트 : [30, 10, 20]\n",
      "append(40) 후의 리스트 : [30, 10, 20, 40]\n",
      "pop()으로 추출한 값 : 40\n",
      "pop() 후의 리스트 : [30, 10, 20]\n",
      "sort() 후의 리스트 : [10, 20, 30]\n",
      "reverse() 후의 리스트 : [30, 20, 10]\n",
      "20값의 위치 : 1\n",
      "insert(2, 222) 후의 리스트 : [30, 20, 222, 10]\n",
      "remove(222) 후의 리스트 : [30, 20, 10]\n",
      "extend([77, 88, 77]) 후의 리스트 : [30, 20, 10, 77, 88, 77]\n",
      "77값의 개수 : 2\n"
     ]
    }
   ],
   "source": [
    "myList = [30, 10, 20]\n",
    "print(\"현재 리스트 : %s\" % myList)\n",
    "myList.append(40)\n",
    "print(\"append(40) 후의 리스트 : %s\" % myList)\n",
    "print(\"pop()으로 추출한 값 : %s\" % myList.pop())\n",
    "print(\"pop() 후의 리스트 : %s\" % myList)\n",
    "myList.sort()\n",
    "print(\"sort() 후의 리스트 : %s\" % myList)\n",
    "myList.reverse()\n",
    "print(\"reverse() 후의 리스트 : %s\" % myList)\n",
    "print(\"20값의 위치 : %d\" % myList.index(20))\n",
    "myList.insert(2, 222)\n",
    "print(\"insert(2, 222) 후의 리스트 : %s\" % myList)\n",
    "myList.remove(222)\n",
    "print(\"remove(222) 후의 리스트 : %s\" % myList)\n",
    "myList.extend( [77, 88, 77] )\n",
    "print(\"extend([77, 88, 77]) 후의 리스트 : %s\" % myList)\n",
    "print(\"77값의 개수 : %d\" % myList.count(77))"
   ]
  },
  {
   "cell_type": "code",
   "execution_count": 25,
   "id": "4353edfb",
   "metadata": {},
   "outputs": [
    {
     "name": "stdout",
     "output_type": "stream",
     "text": [
      "  1  2  3  4\n",
      "  5  6  7  8\n",
      "  9 10 11 12\n"
     ]
    }
   ],
   "source": [
    "list1 = []\n",
    "list2 = []\n",
    "value = 1\n",
    "for i in range(3):\n",
    "    for k in range(4):\n",
    "        list1.append(value)\n",
    "        value += 1\n",
    "    list2.append(list1)\n",
    "    list1 = []\n",
    "    \n",
    "for i in range(3):\n",
    "    for k in range(4) :\n",
    "        print(\"%3d\" %list2[i][k],end ='')\n",
    "    print(\"\")\n",
    "    "
   ]
  },
  {
   "cell_type": "code",
   "execution_count": 29,
   "id": "43fc4f08",
   "metadata": {},
   "outputs": [
    {
     "name": "stdout",
     "output_type": "stream",
     "text": [
      "  0  3  6  9 12\n",
      " 15 18 21 24 27\n",
      " 30 33 36 39 42\n",
      " 45 48 51 54 57\n"
     ]
    }
   ],
   "source": [
    "list1 = []\n",
    "list2 = []\n",
    "value = 0\n",
    "for i in range(4):\n",
    "    for k in range(5):\n",
    "        list1.append(value)\n",
    "        value += 3\n",
    "    list2.append(list1)\n",
    "    list1 = []\n",
    "    \n",
    "for i in range(4):\n",
    "    for k in range(5) :\n",
    "        print(\"%3d\" %list2[i][k],end ='')\n",
    "    print(\"\")\n",
    "    "
   ]
  },
  {
   "cell_type": "code",
   "execution_count": null,
   "id": "d9c0fb0a",
   "metadata": {},
   "outputs": [],
   "source": []
  }
 ],
 "metadata": {
  "kernelspec": {
   "display_name": "Python 3 (ipykernel)",
   "language": "python",
   "name": "python3"
  },
  "language_info": {
   "codemirror_mode": {
    "name": "ipython",
    "version": 3
   },
   "file_extension": ".py",
   "mimetype": "text/x-python",
   "name": "python",
   "nbconvert_exporter": "python",
   "pygments_lexer": "ipython3",
   "version": "3.9.7"
  }
 },
 "nbformat": 4,
 "nbformat_minor": 5
}
