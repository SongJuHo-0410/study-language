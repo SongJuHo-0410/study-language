{
 "cells": [
  {
   "cell_type": "markdown",
   "id": "a32a4a0e",
   "metadata": {},
   "source": [
    "# 프로시저(procedure)와 함수(function)\n",
    "0 프로시저와 함수는 여러 프로그램 문장을 하나로 묶어서 특정 기능을 수행하도록 만든 것  \n",
    "0 반복적으로 호출하여 여러 번 실행가능(효츌적)  \n",
    "0 프로시저나 함수를 실행하기위해 호출(call)  \n",
    "0 호출할 때 인자(argument, 매개변수, 인수) 혹은 파라미터 전달  \n",
    "0 프로시저: 결과 값을 반환하지 않는다  \n",
    "0 함수: 지정한 값을 반환한다  \n"
   ]
  },
  {
   "cell_type": "code",
   "execution_count": 1,
   "id": "862d6456",
   "metadata": {},
   "outputs": [
    {
     "name": "stdout",
     "output_type": "stream",
     "text": [
      "안녕하세요!\n"
     ]
    }
   ],
   "source": [
    "def greet():\n",
    "    print(\"안녕하세요!\")\n",
    "    \n",
    "greet()"
   ]
  },
  {
   "cell_type": "code",
   "execution_count": 2,
   "id": "6d0d7967",
   "metadata": {},
   "outputs": [
    {
     "name": "stdout",
     "output_type": "stream",
     "text": [
      "*********\n"
     ]
    }
   ],
   "source": [
    "def star():\n",
    "    print(\"*********\")\n",
    "star()"
   ]
  },
  {
   "cell_type": "code",
   "execution_count": 7,
   "id": "0079d303",
   "metadata": {
    "scrolled": true
   },
   "outputs": [
    {
     "name": "stdout",
     "output_type": "stream",
     "text": [
      "*********\n",
      "*********\n",
      "*********\n",
      "안녕하세요!\n"
     ]
    }
   ],
   "source": [
    "star()\n",
    "star()\n",
    "star()\n",
    "greet()\n"
   ]
  },
  {
   "cell_type": "code",
   "execution_count": 11,
   "id": "efff444b",
   "metadata": {},
   "outputs": [],
   "source": [
    "def greetName(name):\n",
    "    print(\"안녕하세요!\", name)\n",
    "    "
   ]
  },
  {
   "cell_type": "code",
   "execution_count": 12,
   "id": "93c4ab13",
   "metadata": {},
   "outputs": [
    {
     "name": "stdout",
     "output_type": "stream",
     "text": [
      "이름입력:juho\n",
      "안녕하세요! juho\n"
     ]
    }
   ],
   "source": [
    "name = input(\"이름입력:\")\n",
    "greetName(name)"
   ]
  },
  {
   "cell_type": "code",
   "execution_count": 14,
   "id": "95b5fc09",
   "metadata": {},
   "outputs": [
    {
     "name": "stdout",
     "output_type": "stream",
     "text": [
      "별의 개수: 100\n",
      "* * * * * * * * * * * * * * * * * * * * * * * * * * * * * * * * * * * * * * * * * * * * * * * * * * * * * * * * * * * * * * * * * * * * * * * * * * * * * * * * * * * * * * * * * * * * * * * * * * * * "
     ]
    }
   ],
   "source": [
    "def starCount(count):\n",
    "    n = 0\n",
    "    while n < count:\n",
    "        print('*', end = ' ')\n",
    "        n += 1\n",
    "    \n",
    "num = int(input('별의 개수: '))\n",
    "starCount(num)"
   ]
  },
  {
   "cell_type": "code",
   "execution_count": 15,
   "id": "1b640376",
   "metadata": {},
   "outputs": [
    {
     "name": "stdout",
     "output_type": "stream",
     "text": [
      "실수 입력: 10\n",
      "10 의 제곱은  100\n"
     ]
    }
   ],
   "source": [
    "def square(n):\n",
    "    print(n, '의 제곱은 ', n * n)\n",
    "\n",
    "num = int(input('실수 입력: '))\n",
    "square(num)"
   ]
  },
  {
   "cell_type": "code",
   "execution_count": 17,
   "id": "7d9ca124",
   "metadata": {},
   "outputs": [
    {
     "name": "stdout",
     "output_type": "stream",
     "text": [
      "9.8596\n"
     ]
    }
   ],
   "source": [
    "def squareReturn(n):\n",
    "    return n*n\n",
    "\n",
    "a = squareReturn(3.14)\n",
    "print(a)\n",
    "\n"
   ]
  },
  {
   "cell_type": "code",
   "execution_count": 18,
   "id": "630f2ce2",
   "metadata": {},
   "outputs": [
    {
     "name": "stdout",
     "output_type": "stream",
     "text": [
      "실수 입력:3.14\n"
     ]
    },
    {
     "data": {
      "text/plain": [
       "9.8596"
      ]
     },
     "execution_count": 18,
     "metadata": {},
     "output_type": "execute_result"
    }
   ],
   "source": [
    "num = float(input(\"실수 입력:\"))\n",
    "squareReturn(num)"
   ]
  },
  {
   "cell_type": "code",
   "execution_count": 19,
   "id": "9c9889e6",
   "metadata": {},
   "outputs": [
    {
     "data": {
      "text/plain": [
       "81"
      ]
     },
     "execution_count": 19,
     "metadata": {},
     "output_type": "execute_result"
    }
   ],
   "source": [
    "squareReturn(9)"
   ]
  },
  {
   "cell_type": "code",
   "execution_count": 20,
   "id": "3cb09949",
   "metadata": {},
   "outputs": [
    {
     "name": "stdout",
     "output_type": "stream",
     "text": [
      "실수 입력: 1\n",
      "실수 입력: 2\n",
      "1.0 + 2.0 = 3.0\n"
     ]
    }
   ],
   "source": [
    "def add2(n,k):\n",
    "    return n+k\n",
    "\n",
    "a = float(input(\"실수 입력: \"))\n",
    "b = float(input(\"실수 입력: \"))\n",
    "print(a,'+',b,'=',add2(a,b))"
   ]
  },
  {
   "cell_type": "code",
   "execution_count": 21,
   "id": "b2008bfd",
   "metadata": {},
   "outputs": [
    {
     "name": "stdout",
     "output_type": "stream",
     "text": [
      "실수 입력: 2.7\n",
      "2.7\n"
     ]
    }
   ],
   "source": [
    "def inputNumber():\n",
    "    num = float(input(\"실수 입력: \"))\n",
    "    return num\n",
    "\n",
    "a = inputNumber()\n",
    "print(a)"
   ]
  },
  {
   "cell_type": "code",
   "execution_count": 35,
   "id": "7917f8ac",
   "metadata": {},
   "outputs": [
    {
     "name": "stdout",
     "output_type": "stream",
     "text": [
      "작은 수 입력:3\n",
      "큰 수 입력:7\n",
      "3 부터 7 까지의 합: 25\n"
     ]
    }
   ],
   "source": [
    "def hap(a,b):\n",
    "    tot = 0\n",
    "    for i in range(a, b+1, 1):\n",
    "        tot = tot + i\n",
    "    return tot\n",
    "\n",
    "n1 = int(input('작은 수 입력:'))\n",
    "n2 = int(input('큰 수 입력:'))\n",
    "print(n1, '부터' , n2, '까지의 합:',hap(n1,n2))"
   ]
  },
  {
   "cell_type": "code",
   "execution_count": 3,
   "id": "18c1b4b2",
   "metadata": {},
   "outputs": [
    {
     "name": "stdout",
     "output_type": "stream",
     "text": [
      "첫번째 수 입력:1\n",
      "두번째 수 입력:2\n",
      "1 부터 2 까지의 합: 3\n"
     ]
    }
   ],
   "source": [
    "def hap(a,b):\n",
    "    tot = 0\n",
    "    n = a\n",
    "    while n <= b:\n",
    "        tot = tot + n\n",
    "        n = n + 1\n",
    "    return tot\n",
    "\n",
    "n1 = int(input('첫번째 수 입력:'))\n",
    "n2 = int(input('두번째 수 입력:'))\n",
    "print(n1, \"부터\" , n2, \"까지의 합:\",hap(n1,n2))"
   ]
  },
  {
   "cell_type": "code",
   "execution_count": 7,
   "id": "5e61e769",
   "metadata": {},
   "outputs": [
    {
     "name": "stdout",
     "output_type": "stream",
     "text": [
      "작은 수 입력:100\n",
      "큰 수 입력:1\n",
      "100 부터 1 까지의 합: 5050\n"
     ]
    }
   ],
   "source": [
    "def hap(a,b):\n",
    "    tot = 0\n",
    "    \n",
    "    if a > b:\n",
    "        for i in range(b, a+1, 1):\n",
    "            tot = tot + i\n",
    "        return tot\n",
    "    if a == b:\n",
    "        tot = a\n",
    "        return tot\n",
    "    if a < b:\n",
    "        for i in range(a, b+1, 1):\n",
    "            tot = tot + i    \n",
    "        return tot\n",
    "\n",
    "n1 = int(input('작은 수 입력:'))\n",
    "n2 = int(input('큰 수 입력:'))\n",
    "\n",
    "\n",
    "print(n1, '부터' , n2, '까지의 합:',hap(n1,n2))"
   ]
  },
  {
   "cell_type": "code",
   "execution_count": 10,
   "id": "e548a51c",
   "metadata": {},
   "outputs": [
    {
     "name": "stdout",
     "output_type": "stream",
     "text": [
      "작은 수 입력:100\n",
      "큰 수 입력:1\n",
      "1 부터 100 까지의 합: 5050\n"
     ]
    }
   ],
   "source": [
    "def hap(a,b):\n",
    "    tot = 0\n",
    "    for i in range(a, b+1, 1):\n",
    "        tot = tot + i    \n",
    "    return tot\n",
    "\n",
    "n1 = int(input('작은 수 입력:'))\n",
    "n2 = int(input('큰 수 입력:'))\n",
    "\n",
    "if n1 > n2:\n",
    "        c = n2\n",
    "        n2 = n1\n",
    "        n1 = c\n",
    "        \n",
    "print(n1, '부터' , n2, '까지의 합:',hap(n1,n2))"
   ]
  },
  {
   "cell_type": "code",
   "execution_count": 11,
   "id": "0bc7ba3c",
   "metadata": {},
   "outputs": [],
   "source": [
    "def factorial(n):\n",
    "    if n == 0:\n",
    "        return 1\n",
    "    else:\n",
    "        return n * factorial(n-1)"
   ]
  },
  {
   "cell_type": "code",
   "execution_count": 13,
   "id": "afbc70f8",
   "metadata": {},
   "outputs": [
    {
     "data": {
      "text/plain": [
       "24"
      ]
     },
     "execution_count": 13,
     "metadata": {},
     "output_type": "execute_result"
    }
   ],
   "source": [
    "factorial(4)"
   ]
  },
  {
   "cell_type": "code",
   "execution_count": 16,
   "id": "d9c58d6e",
   "metadata": {},
   "outputs": [
    {
     "name": "stdout",
     "output_type": "stream",
     "text": [
      "작은 수 입력:1\n",
      "큰 수 입력:100\n",
      "1 부터 100 까지의 합: 5050\n"
     ]
    }
   ],
   "source": [
    "def hapRecur(a,b):\n",
    "    if a == b:\n",
    "        return b\n",
    "    else:\n",
    "        return a + hapRecur(a+1,b)\n",
    "\n",
    "n1 = int(input('작은 수 입력:'))\n",
    "n2 = int(input('큰 수 입력:'))\n",
    "\n",
    "print(n1, '부터' , n2, '까지의 합:',hapRecur(n1,n2))"
   ]
  },
  {
   "cell_type": "code",
   "execution_count": null,
   "id": "eb8369ca",
   "metadata": {},
   "outputs": [],
   "source": []
  }
 ],
 "metadata": {
  "kernelspec": {
   "display_name": "Python 3 (ipykernel)",
   "language": "python",
   "name": "python3"
  },
  "language_info": {
   "codemirror_mode": {
    "name": "ipython",
    "version": 3
   },
   "file_extension": ".py",
   "mimetype": "text/x-python",
   "name": "python",
   "nbconvert_exporter": "python",
   "pygments_lexer": "ipython3",
   "version": "3.9.7"
  }
 },
 "nbformat": 4,
 "nbformat_minor": 5
}
