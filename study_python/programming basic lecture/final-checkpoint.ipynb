{
 "cells": [
  {
   "cell_type": "code",
   "execution_count": 60,
   "id": "55836db9",
   "metadata": {},
   "outputs": [
    {
     "name": "stdout",
     "output_type": "stream",
     "text": [
      "첫 번째 숫자를 입력하세요 : 1\n",
      "두 번째 숫자를 입력하세요 : 10\n",
      "55\n"
     ]
    }
   ],
   "source": [
    "#10번 문제 O\n",
    "fn = int(input(\"첫 번째 숫자를 입력하세요 : \"))\n",
    "sn = int(input(\"두 번째 숫자를 입력하세요 : \"))\n",
    "\n",
    "def add(fn,sn):\n",
    "    sum = 0\n",
    "\n",
    "    if(fn < sn):\n",
    "        for i in range(fn,sn+1,1):\n",
    "            sum += i\n",
    "    elif(fn > sn):\n",
    "        for i in range(sn,fn+1,1):\n",
    "            sum += i\n",
    "    print(sum)\n",
    "    \n",
    "add(fn,sn)"
   ]
  },
  {
   "cell_type": "code",
   "execution_count": 61,
   "id": "23f9b38a",
   "metadata": {},
   "outputs": [
    {
     "name": "stdout",
     "output_type": "stream",
     "text": [
      "첫 번째 숫자를 입력하세요 : 10\n",
      "두 번째 숫자를 입력하세요 : 30\n",
      "세 번째 숫자를 입력하세요 : 20\n",
      "가장 큰 수는 :  30\n"
     ]
    }
   ],
   "source": [
    "#11번 문제 0\n",
    "fn = int(input(\"첫 번째 숫자를 입력하세요 : \"))\n",
    "sn = int(input(\"두 번째 숫자를 입력하세요 : \"))\n",
    "cn = int(input(\"세 번째 숫자를 입력하세요 : \"))\n",
    "\n",
    "def findMax(fn,sn,cn):\n",
    "    max = fn\n",
    "    if(fn < sn):\n",
    "        max = sn\n",
    "        if(sn < cn):\n",
    "            max = cn\n",
    "    elif(fn < cn):\n",
    "        max = cn\n",
    "    print(\"가장 큰 수는 : \", max)\n",
    "    \n",
    "findMax(fn,sn,cn)"
   ]
  },
  {
   "cell_type": "code",
   "execution_count": 69,
   "id": "818d8a11",
   "metadata": {},
   "outputs": [
    {
     "name": "stdout",
     "output_type": "stream",
     "text": [
      "\n",
      " 0  3  6  9 12 \n",
      "15 18 21 24 27 \n",
      "30 33 36 39 42 \n",
      "45 48 51 54 57 "
     ]
    }
   ],
   "source": [
    "#12번 문제 0\n",
    "list1 = []\n",
    "list2 = []\n",
    "num = 0\n",
    "for i in range(4):\n",
    "    list2.append(list1)\n",
    "    for j in range(5):\n",
    "        list1.append(num)\n",
    "        \n",
    "        num += 3\n",
    "    list1=[]\n",
    "\n",
    "for i in range(4):\n",
    "    print()\n",
    "    for j in range(5):\n",
    "        print(\"%2.f\" %list2[i][j], end = ' ')"
   ]
  },
  {
   "cell_type": "code",
   "execution_count": 59,
   "id": "31230f42",
   "metadata": {},
   "outputs": [
    {
     "name": "stdout",
     "output_type": "stream",
     "text": [
      "[7, 3, 45, 31, 43, 27]\n"
     ]
    }
   ],
   "source": [
    "#13번 문제 0\n",
    "import random\n",
    "\n",
    "a = []\n",
    "num = 0\n",
    "for i in range(6):\n",
    "    num = random.randint(1,45)\n",
    "    a.append(num)\n",
    "\n",
    "print(a)"
   ]
  },
  {
   "cell_type": "code",
   "execution_count": null,
   "id": "6c55df5a",
   "metadata": {},
   "outputs": [],
   "source": []
  }
 ],
 "metadata": {
  "kernelspec": {
   "display_name": "Python 3 (ipykernel)",
   "language": "python",
   "name": "python3"
  },
  "language_info": {
   "codemirror_mode": {
    "name": "ipython",
    "version": 3
   },
   "file_extension": ".py",
   "mimetype": "text/x-python",
   "name": "python",
   "nbconvert_exporter": "python",
   "pygments_lexer": "ipython3",
   "version": "3.9.7"
  }
 },
 "nbformat": 4,
 "nbformat_minor": 5
}
