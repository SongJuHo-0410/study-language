{
 "cells": [
  {
   "cell_type": "markdown",
   "id": "06a8e692",
   "metadata": {},
   "source": [
    "# 1"
   ]
  },
  {
   "cell_type": "code",
   "execution_count": null,
   "id": "1d16bd38",
   "metadata": {},
   "outputs": [],
   "source": [
    "1"
   ]
  },
  {
   "cell_type": "markdown",
   "id": "d18b59fb",
   "metadata": {},
   "source": [
    "# 2"
   ]
  },
  {
   "cell_type": "code",
   "execution_count": 5,
   "id": "64f64010",
   "metadata": {},
   "outputs": [
    {
     "name": "stdout",
     "output_type": "stream",
     "text": [
      "Enter your password:2323\n",
      "비밀번호가 맞습니다.\n"
     ]
    }
   ],
   "source": [
    "passWD = int(2323)\n",
    "\n",
    "# Update the code ask the user password\n",
    "userWD = int(input(\"Enter your password:\"))\n",
    "if userWD == passWD:\n",
    "    print(\"비밀번호가 맞습니다.\")\n",
    "else:\n",
    "    print(\"비밀번호가 틀렸습니다.\")"
   ]
  },
  {
   "cell_type": "markdown",
   "id": "bf231b2e",
   "metadata": {},
   "source": [
    "# 3"
   ]
  },
  {
   "cell_type": "code",
   "execution_count": 117,
   "id": "895dcdcd",
   "metadata": {},
   "outputs": [
    {
     "name": "stdout",
     "output_type": "stream",
     "text": [
      "상품의 개수를 입력하세요:99\n",
      "단가를 입력하세요:100\n",
      "9900\n"
     ]
    }
   ],
   "source": [
    "product = int(input(\"상품의 개수를 입력하세요:\"))\n",
    "unit_price = int(input(\"단가를 입력하세요:\"))\n",
    "total = product * unit_price\n",
    "\n",
    "if 100 <= product <= 199:\n",
    "    print(\"총 금액(8% 할인):\",total*0.92,\"원\")\n",
    "elif 200 <= product <= 299:\n",
    "    print(\"총 금액(15% 할인):\",total*0.85,\"원\")\n",
    "elif 300 <= product:\n",
    "    print(\"총 금액(20% 할인):\",total*0.80,\"원\")\n",
    "else:\n",
    "    print(total)\n"
   ]
  },
  {
   "cell_type": "markdown",
   "id": "b9157f1b",
   "metadata": {},
   "source": [
    "# 4"
   ]
  },
  {
   "cell_type": "code",
   "execution_count": 107,
   "id": "b037b572",
   "metadata": {},
   "outputs": [
    {
     "name": "stdout",
     "output_type": "stream",
     "text": [
      "현재의 월을 입력 : 13\n",
      "잘못된 입력입니다.\n"
     ]
    }
   ],
   "source": [
    "month = int(input(\"현재의 월을 입력 : \"))\n",
    "\n",
    "if 3 <= month <= 5:\n",
    "    print(\"봄입니다.\")\n",
    "elif 6 <= month <= 8 :\n",
    "    print(\"여름입니다.\")\n",
    "elif 9 <= month <= 11:\n",
    "    print(\"가을입니다.\")\n",
    "elif month == 12 or month == 1 or month == 2:\n",
    "    print(\"겨울입니다.\")\n",
    "else:\n",
    "    print(\"잘못된 입력입니다.\")"
   ]
  },
  {
   "cell_type": "markdown",
   "id": "5bfa181f",
   "metadata": {},
   "source": [
    "# 5"
   ]
  },
  {
   "cell_type": "code",
   "execution_count": 108,
   "id": "a344eccf",
   "metadata": {},
   "outputs": [
    {
     "name": "stdout",
     "output_type": "stream",
     "text": [
      "시작값을 입력하세요: 2\n",
      "끝값을 입력하세요: 100\n",
      "증가값을 입력하세요: 2\n",
      "2에서 100까지 2씩 증가시킨 값의 합계: 2550\n"
     ]
    }
   ],
   "source": [
    "num1 = int(input(\"시작값을 입력하세요: \"))\n",
    "num2 = int(input(\"끝값을 입력하세요: \"))\n",
    "num3 = int(input(\"증가값을 입력하세요: \"))\n",
    "hap = 0\n",
    "\n",
    "for i in range(num1,num2+1,num3):\n",
    "    hap += i \n",
    "   \n",
    "print(\"%d에서 %d까지 %d씩 증가시킨 값의 합계: %d\" %(num1,num2,num3,hap))\n"
   ]
  },
  {
   "cell_type": "markdown",
   "id": "5bd13ad7",
   "metadata": {},
   "source": [
    "# 6-1"
   ]
  },
  {
   "cell_type": "code",
   "execution_count": 72,
   "id": "7fd74412",
   "metadata": {},
   "outputs": [
    {
     "name": "stdout",
     "output_type": "stream",
     "text": [
      "1~100의 홀수의 합에서 최초로 1000이 넘는 위치:63\n"
     ]
    }
   ],
   "source": [
    "hap = 0\n",
    "for i in range(1,101,2):\n",
    "    hap += i\n",
    "    if hap >= 1000:\n",
    "        break\n",
    "print(\"1~100의 홀수의 합에서 최초로 1000이 넘는 위치:%d\" %i)"
   ]
  },
  {
   "cell_type": "markdown",
   "id": "1af9d4eb",
   "metadata": {},
   "source": [
    "# 6-2"
   ]
  },
  {
   "cell_type": "code",
   "execution_count": 90,
   "id": "2c848d30",
   "metadata": {},
   "outputs": [
    {
     "name": "stdout",
     "output_type": "stream",
     "text": [
      "1~100의 홀수의 합에서 최초로 1000이 넘는 위치:63\n"
     ]
    }
   ],
   "source": [
    "hap = 0\n",
    "i = 1\n",
    "while i < 101:\n",
    "    hap += i\n",
    "    if hap >= 1000:\n",
    "        break\n",
    "    i += 2\n",
    "    \n",
    "print(\"1~100의 홀수의 합에서 최초로 1000이 넘는 위치:%d\" %i)"
   ]
  },
  {
   "cell_type": "markdown",
   "id": "01e751e9",
   "metadata": {},
   "source": [
    "# 7"
   ]
  },
  {
   "cell_type": "code",
   "execution_count": 111,
   "id": "eb472282",
   "metadata": {},
   "outputs": [
    {
     "name": "stdout",
     "output_type": "stream",
     "text": [
      "1~100의 합계(3의 배수 제외):3367\n"
     ]
    }
   ],
   "source": [
    "hap = 0\n",
    "for i in range(1,101,1):\n",
    "    if i%3==0:\n",
    "        continue\n",
    "    hap += i\n",
    "print(\"1~100의 합계(3의 배수 제외):%d\" %hap)"
   ]
  },
  {
   "cell_type": "code",
   "execution_count": null,
   "id": "f19264d3",
   "metadata": {},
   "outputs": [],
   "source": []
  }
 ],
 "metadata": {
  "kernelspec": {
   "display_name": "Python 3 (ipykernel)",
   "language": "python",
   "name": "python3"
  },
  "language_info": {
   "codemirror_mode": {
    "name": "ipython",
    "version": 3
   },
   "file_extension": ".py",
   "mimetype": "text/x-python",
   "name": "python",
   "nbconvert_exporter": "python",
   "pygments_lexer": "ipython3",
   "version": "3.9.7"
  }
 },
 "nbformat": 4,
 "nbformat_minor": 5
}
