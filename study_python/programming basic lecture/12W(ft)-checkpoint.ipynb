{
 "cells": [
  {
   "cell_type": "code",
   "execution_count": 1,
   "id": "6b47cd27",
   "metadata": {},
   "outputs": [
    {
     "name": "stdout",
     "output_type": "stream",
     "text": [
      "Please enter your name:dd\n",
      "Your name is: dd\n"
     ]
    }
   ],
   "source": [
    "name = ''\n",
    "\n",
    "def getName(name):\n",
    "    name = input('Please enter your name:')\n",
    "    return name\n",
    "\n",
    "name = getName(name)\n",
    "print('Your name is:', name)"
   ]
  },
  {
   "cell_type": "code",
   "execution_count": 2,
   "id": "74d73c23",
   "metadata": {},
   "outputs": [
    {
     "name": "stdout",
     "output_type": "stream",
     "text": [
      "첫번째 정수 입력: 1\n",
      "두번째 정수 입력: 2\n",
      "2\n",
      "0.5\n"
     ]
    }
   ],
   "source": [
    "n1 = int(input(\"첫번째 정수 입력: \"))\n",
    "n2 = int(input(\"두번째 정수 입력: \"))\n",
    "result = 0\n",
    "\n",
    "def numProduct(n1, n2):\n",
    "    result = n1 * n2\n",
    "    print(result)\n",
    "\n",
    "def numDivide(n1,n2):\n",
    "    result = n1 / n2\n",
    "    print(result)\n",
    "\n",
    "numProduct(n1,n2)    \n",
    "numDivide(n1,n2)\n",
    "\n"
   ]
  },
  {
   "cell_type": "code",
   "execution_count": 8,
   "id": "e7e11805",
   "metadata": {},
   "outputs": [
    {
     "data": {
      "text/plain": [
       "3.142"
      ]
     },
     "execution_count": 8,
     "metadata": {},
     "output_type": "execute_result"
    }
   ],
   "source": [
    "nlist = [6,2,4,7]\n",
    "pi = 3.1415926\n",
    "\n",
    "sum(nlist)\n",
    "\n",
    "max(nlist)\n",
    "\n",
    "abs(-2.3) #절대값\n",
    "\n",
    "pow(5,3) #계승\n",
    "\n",
    "round(pi,3)"
   ]
  },
  {
   "cell_type": "code",
   "execution_count": 9,
   "id": "2d6d5032",
   "metadata": {},
   "outputs": [
    {
     "data": {
      "text/plain": [
       "720"
      ]
     },
     "execution_count": 9,
     "metadata": {},
     "output_type": "execute_result"
    }
   ],
   "source": [
    "import math\n",
    "\n",
    "math.fabs(-3.4)\n",
    "\n",
    "math.factorial(6)"
   ]
  },
  {
   "cell_type": "code",
   "execution_count": 11,
   "id": "3535a44f",
   "metadata": {},
   "outputs": [
    {
     "name": "stdout",
     "output_type": "stream",
     "text": [
      "실수입력:2\n",
      "2.0 의 제곱근: 1.4142135623730951\n"
     ]
    }
   ],
   "source": [
    "x =  float(input(\"실수입력:\"))\n",
    "print(x,\"의 제곱근:\",math.sqrt(x))"
   ]
  },
  {
   "cell_type": "code",
   "execution_count": 13,
   "id": "124247e6",
   "metadata": {},
   "outputs": [
    {
     "data": {
      "text/plain": [
       "6.283185307179586"
      ]
     },
     "execution_count": 13,
     "metadata": {},
     "output_type": "execute_result"
    }
   ],
   "source": [
    "math.pi\n",
    "\n",
    "math.tau"
   ]
  },
  {
   "cell_type": "code",
   "execution_count": 18,
   "id": "d89ab73a",
   "metadata": {},
   "outputs": [
    {
     "data": {
      "text/plain": [
       "14"
      ]
     },
     "execution_count": 18,
     "metadata": {},
     "output_type": "execute_result"
    }
   ],
   "source": [
    "import random\n",
    "random.randrange(1,9,2)\n",
    "\n",
    "random.randint(1,45)"
   ]
  },
  {
   "cell_type": "code",
   "execution_count": 25,
   "id": "23d43a2a",
   "metadata": {},
   "outputs": [
    {
     "name": "stdout",
     "output_type": "stream",
     "text": [
      "Thu May 26 16:31:29 2022\n",
      "1653550289.0\n"
     ]
    }
   ],
   "source": [
    "import time\n",
    "t = time.localtime()\n",
    "print(time.asctime(t))\n",
    "\n",
    "sec = time.mktime(t)\n",
    "print(sec)"
   ]
  },
  {
   "cell_type": "code",
   "execution_count": 28,
   "id": "d1c6b13d",
   "metadata": {},
   "outputs": [
    {
     "data": {
      "text/plain": [
       "'16 : 35 : 21'"
      ]
     },
     "execution_count": 28,
     "metadata": {},
     "output_type": "execute_result"
    }
   ],
   "source": [
    "str1 = time.strftime(\"%H hour %M minute %S second\")\n",
    "str2 = time.strftime(\"%H : %M : %S\")\n",
    "str2"
   ]
  },
  {
   "cell_type": "code",
   "execution_count": null,
   "id": "3d36b3d2",
   "metadata": {},
   "outputs": [],
   "source": []
  }
 ],
 "metadata": {
  "kernelspec": {
   "display_name": "Python 3 (ipykernel)",
   "language": "python",
   "name": "python3"
  },
  "language_info": {
   "codemirror_mode": {
    "name": "ipython",
    "version": 3
   },
   "file_extension": ".py",
   "mimetype": "text/x-python",
   "name": "python",
   "nbconvert_exporter": "python",
   "pygments_lexer": "ipython3",
   "version": "3.9.7"
  }
 },
 "nbformat": 4,
 "nbformat_minor": 5
}
