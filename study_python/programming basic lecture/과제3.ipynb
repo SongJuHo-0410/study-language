{
 "cells": [
  {
   "cell_type": "markdown",
   "id": "5c4c4192",
   "metadata": {},
   "source": [
    "### 학과목 리스트를 생성하여 사용자가 키보드로 입력하고,(예:국어, 영어, 수학, 사회, 과학),   \n",
    "### 각 과목의 점수를 사용자가 키보드로 입력받아 점수 리스트를 구성하고,  \n",
    "### 리스트를 이용하여 학생의 총점과 평균을 출력하는 프로그램 작성(과목명은 언제든지 변경 가능)\n",
    "\n",
    "S = []  \n",
    "Score=[]  \n",
    "\n",
    "\n",
    "int(input(i+\" 점수 입력 : \"))  \n",
    "\n",
    "\n",
    "과목을 입력하세요: 국어  \n",
    "과목을 입력하세요: 영어  \n",
    "과목을 입력하세요: 수학  \n",
    "과목을 입력하세요: 사회  \n",
    "과목을 입력하세요: 과학  \n",
    "국어 점수 입력 : 89  \n",
    "영어 점수 입력 : 99  \n",
    "수학 점수 입력 : 100  \n",
    "사회 점수 입력 : 88  \n",
    "과학 점수 입력 : 98  \n",
    "학과목 리스트 :  ['국어', '영어', '수학', '사회', '과학']  \n",
    "점수 리스트 :  [89, 99, 100, 88, 98]  \n",
    "총점 :  474  \n",
    "평균 :  94.8  \n"
   ]
  },
  {
   "cell_type": "code",
   "execution_count": 35,
   "id": "41ea903d",
   "metadata": {},
   "outputs": [
    {
     "name": "stdout",
     "output_type": "stream",
     "text": [
      " 과목 입력 : 과학\n",
      " 과목 입력 : 사회\n",
      " 과목 입력 : 수학\n",
      " 과목 입력 : 영ㅇ\n",
      " 과목 입력 : 국어\n",
      "과학 점수 입력 : 89\n",
      "사회 점수 입력 : 99\n",
      "수학 점수 입력 : 100\n",
      "영ㅇ 점수 입력 : 88\n",
      "국어 점수 입력 : 98\n",
      "학과목 리스트: ['과학', '사회', '수학', '영ㅇ', '국어']\n",
      "점수 리스트: [89, 99, 100, 88, 98]\n",
      "총점: 474\n",
      "평균: 94.8\n"
     ]
    }
   ],
   "source": [
    "S = []\n",
    "Score=[]\n",
    "tot = 0\n",
    "\n",
    "for j in range(0,5,1):\n",
    "    j = input(\" 과목 입력 : \")\n",
    "    S.append(j)\n",
    "\n",
    "for i in S:\n",
    "    a = int(input(i+\" 점수 입력 : \"))\n",
    "    Score.append(a)\n",
    "    tot += a\n",
    "    \n",
    "print('학과목 리스트:', S)\n",
    "print('점수 리스트:', Score)\n",
    "print('총점:',tot)\n",
    "print('평균:',tot/5)\n",
    "\n"
   ]
  },
  {
   "cell_type": "markdown",
   "id": "caacc41a",
   "metadata": {},
   "source": [
    "# 3\n",
    "## 주소록에 친구를 등록하고 , 친구를 이름으로 검색한 후 연락처를 출력하는 프로그램을 작성\n",
    "#### 1.딕셔너리 자료구조 사용하여 친구의 이름과 연락처를 저장(임의대로)  \n",
    "#### 2.딕셔너리에서 전체 친구의 이름만 검색하여 리스트로 변환 후 출력  \n",
    "#### 3.찾는 친구가 있으면 연락처를 출력하고 없으면 에러 메시지 출력  \n",
    "#### 4.찾는 친구의 이름은 키보드로 입력받아 처리  \n",
    "#### 5. 찾는 친구의 이름을 키보드로 q입력하면 종료   \n",
    "\n",
    "{'최재원': '010-1111-1234', '최지윤': '010-2222-1234', '김연수': '010-3333-1234', '김연우': '010-4444-1234', '김가현': '010-5555-1234', '김혜현': '010-6666-1234'}  \n",
    "\n",
    "['최재원', '최지윤', '김연수', '김연우', '김가현', '김혜현']  \n",
    "search name : 홍길동  \n",
    "not Found  \n",
    "search name : 김연수  \n",
    "010-3333-1234  \n",
    "search name : q  "
   ]
  },
  {
   "cell_type": "code",
   "execution_count": 49,
   "id": "a73a3c08",
   "metadata": {},
   "outputs": [
    {
     "name": "stdout",
     "output_type": "stream",
     "text": [
      "{'최재원': '010-1111-1234', '최지윤': '010-2222-1234', '김연수': '010-3333-1234', '김연우': '010-4444-1234', '김가현': '010-5555-1234', '김혜현': '010-6666-1234'} \n",
      "\n",
      "['최재원', '최지윤', '김연수', '김연우', '김가현', '김혜현']\n",
      "search name : 홍길동\n",
      "not Found\n",
      "search name : 김연수\n",
      "010-3333-1234\n",
      "search name : ㅂ\n",
      "not Found\n",
      "search name : q\n"
     ]
    }
   ],
   "source": [
    "addr = {}\n",
    "\n",
    "addr['최재원'] = '010-1111-1234'\n",
    "addr['최지윤'] = '010-2222-1234'\n",
    "addr['김연수'] = '010-3333-1234'\n",
    "addr['김연우'] = '010-4444-1234'\n",
    "addr['김가현'] = '010-5555-1234'\n",
    "addr['김혜현'] = '010-6666-1234'\n",
    "\n",
    "print(addr,'\\n')\n",
    "print(list(addr.keys()))\n",
    "\n",
    "while True:\n",
    "    search = input(\"search name : \")\n",
    "    if search == 'q': break\n",
    "    print(addr.get(search,'not Found'))\n"
   ]
  },
  {
   "cell_type": "code",
   "execution_count": null,
   "id": "be1c71f1",
   "metadata": {},
   "outputs": [],
   "source": []
  }
 ],
 "metadata": {
  "kernelspec": {
   "display_name": "Python 3 (ipykernel)",
   "language": "python",
   "name": "python3"
  },
  "language_info": {
   "codemirror_mode": {
    "name": "ipython",
    "version": 3
   },
   "file_extension": ".py",
   "mimetype": "text/x-python",
   "name": "python",
   "nbconvert_exporter": "python",
   "pygments_lexer": "ipython3",
   "version": "3.9.7"
  }
 },
 "nbformat": 4,
 "nbformat_minor": 5
}
