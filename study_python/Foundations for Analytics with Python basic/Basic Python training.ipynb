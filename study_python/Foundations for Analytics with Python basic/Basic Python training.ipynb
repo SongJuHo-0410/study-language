{
 "cells": [
  {
   "cell_type": "code",
   "execution_count": 16,
   "metadata": {},
   "outputs": [
    {
     "name": "stdout",
     "output_type": "stream",
     "text": [
      "output #1: I'm excited to learn Python\n"
     ]
    }
   ],
   "source": [
    "print(\"output #1: I'm excited to learn Python\")"
   ]
  },
  {
   "cell_type": "code",
   "execution_count": 14,
   "metadata": {},
   "outputs": [
    {
     "name": "stdout",
     "output_type": "stream",
     "text": [
      "output #2: For plus five equals 9.\n"
     ]
    }
   ],
   "source": [
    "x = 4\n",
    "y = 5\n",
    "z = x + y\n",
    "print(\"output #2: For plus five equals {0:d}.\".format(z))"
   ]
  },
  {
   "cell_type": "code",
   "execution_count": 11,
   "metadata": {},
   "outputs": [
    {
     "name": "stdout",
     "output_type": "stream",
     "text": [
      "output #3: [1, 2, 3, 4] ['first', 'second', 'third', 'forth'] [1, 2, 3, 4, 'first', 'second', 'third', 'forth']\n"
     ]
    }
   ],
   "source": [
    "a = [1, 2, 3, 4]\n",
    "b = [\"first\", \"second\", \"third\", \"forth\"]\n",
    "c = a + b\n",
    "print(\"output #3: {0} {1} {2}\".format(a,b,c))"
   ]
  },
  {
   "cell_type": "code",
   "execution_count": 2,
   "metadata": {},
   "outputs": [
    {
     "name": "stdout",
     "output_type": "stream",
     "text": [
      "output #4: 9\n",
      "output #5: 81\n",
      "output #6: 4.0\n"
     ]
    }
   ],
   "source": [
    "x = 9\n",
    "print(\"output #4: {0}\".format(x))\n",
    "print(\"output #5: {0}\".format(3**4))\n",
    "print(\"output #6: {0}\".format(int(8.3)/int(2.7)))"
   ]
  },
  {
   "cell_type": "code",
   "execution_count": 1,
   "metadata": {},
   "outputs": [
    {
     "name": "stdout",
     "output_type": "stream",
     "text": [
      "output #7: 3.074\n",
      "output #8: 12.0\n",
      "output #9: 2.67\n",
      "output #10: 2.6667\n"
     ]
    }
   ],
   "source": [
    "print(\"output #7: {0:.3f}\".format(8.3/2.7))\n",
    "y = 2.5*4.8\n",
    "print(\"output #8: {0:.1f}\".format(y))\n",
    "r = 8/float(3)\n",
    "print(\"output #9: {0:.2f}\".format(r))\n",
    "print(\"output #10: {0:.4f}\".format(8.0/3))"
   ]
  },
  {
   "cell_type": "code",
   "execution_count": 3,
   "metadata": {},
   "outputs": [],
   "source": [
    "from math import exp, log, sqrt"
   ]
  },
  {
   "cell_type": "code",
   "execution_count": 6,
   "metadata": {},
   "outputs": [
    {
     "name": "stdout",
     "output_type": "stream",
     "text": [
      "output #11: 20.0855\n",
      "output #12: 1.39\n",
      "output #13: 9.0\n"
     ]
    }
   ],
   "source": [
    "print(\"output #11: {0:.4f}\".format(exp(3)))\n",
    "print(\"output #12: {0:.2f}\".format(log(4)))\n",
    "print(\"output #13: {0:.1f}\".format(sqrt(81)))\n"
   ]
  },
  {
   "cell_type": "code",
   "execution_count": 15,
   "metadata": {},
   "outputs": [
    {
     "name": "stdout",
     "output_type": "stream",
     "text": [
      "output #14: I'm enjoying learning Python.\n",
      "output #15: This is a long string. Without the backslashit would run of of teh page on the right in teh text editor and be verydifficult to read and edit. By using the backslash you can split the longstring into smaller stirngs to separate lines so that the whole string is easyto view in the text editor.\n",
      "output #16: You can use triple single quotes\n",
      "for multi-line comment strings.\n",
      "output #17: You can also use triple double quotes\n",
      "for multi-line commnet strings.\n"
     ]
    }
   ],
   "source": [
    "print(\"output #14: {0:s}\".format('I\\'m enjoying learning Python.'))\n",
    "\n",
    "print(\"output #15: {0:s}\".format('This is a long string. Without the backslash\\\n",
    "it would run of of teh page on the right in teh text editor and be very\\\n",
    "difficult to read and edit. By using the backslash you can split the long\\\n",
    "string into smaller stirngs to separate lines so that the whole string is easy\\\n",
    "to view in the text editor.'))\n",
    "\n",
    "print(\"output #16: {0:s}\".format('''You can use triple single quotes\n",
    "for multi-line comment strings.'''))\n",
    "print(\"output #17: {0:s}\".format(\"\"\"You can also use triple double quotes\n",
    "for multi-line commnet strings.\"\"\"))"
   ]
  },
  {
   "cell_type": "code",
   "execution_count": 17,
   "metadata": {},
   "outputs": [
    {
     "name": "stdout",
     "output_type": "stream",
     "text": [
      "Output #18: This is a short string.\n",
      "Output #19: She is very very very very beautiful.\n",
      "Output #20: 23\n"
     ]
    }
   ],
   "source": [
    "string1 = \"This is a \"\n",
    "string2 = \"short string.\"\n",
    "sentence = string1 + string2\n",
    "print(\"Output #18: {0:s}\".format(sentence))\n",
    "print(\"Output #19: {0:s} {1:s}{2:s}\".format(\"She is\",\"very \"*4, \"beautiful.\"))\n",
    "m = len(sentence)\n",
    "print(\"Output #20: {0:d}\".format(m))"
   ]
  },
  {
   "cell_type": "code",
   "execution_count": 12,
   "metadata": {},
   "outputs": [
    {
     "name": "stdout",
     "output_type": "stream",
     "text": [
      "Output #21: ['My', 'deliverable', 'is', 'due', 'in', 'May']\n",
      "Output #22: FIRST PIECE:My SECOND PIECE:deliverable THIRD PIECE:is due in May\n",
      "Output #23: ['Your', 'deliverable', 'is', 'due', 'in', 'June']\n",
      "Output #24: deliverable June June\n"
     ]
    }
   ],
   "source": [
    "string1 = \"My deliverable is due in May\"\n",
    "string1_list1 = string1.split()\n",
    "string1_list2 = string1.split(\" \",2)\n",
    "print(\"Output #21: {0}\".format(string1_list1))\n",
    "print(\"Output #22: FIRST PIECE:{0} SECOND PIECE:{1} THIRD PIECE:{2}\"\\\n",
    "      .format(string1_list2[0], string1_list2[1], string1_list2[2]))\n",
    "\n",
    "string2 = \"Your,deliverable,is,due,in,June\"\n",
    "string2_list = string2.split(',')\n",
    "print(\"Output #23: {0}\".format(string2_list))\n",
    "print(\"Output #24: {0} {1} {2}\".format(string2_list[1], string2_list[5],\\\n",
    "                                       string2_list[-1]))"
   ]
  },
  {
   "cell_type": "code",
   "execution_count": null,
   "metadata": {},
   "outputs": [],
   "source": []
  },
  {
   "cell_type": "code",
   "execution_count": null,
   "metadata": {},
   "outputs": [],
   "source": []
  }
 ],
 "metadata": {
  "kernelspec": {
   "display_name": "Python 3",
   "language": "python",
   "name": "python3"
  },
  "language_info": {
   "codemirror_mode": {
    "name": "ipython",
    "version": 3
   },
   "file_extension": ".py",
   "mimetype": "text/x-python",
   "name": "python",
   "nbconvert_exporter": "python",
   "pygments_lexer": "ipython3",
   "version": "3.11.5"
  },
  "orig_nbformat": 4
 },
 "nbformat": 4,
 "nbformat_minor": 2
}
