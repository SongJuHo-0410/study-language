{
 "cells": [
  {
   "cell_type": "code",
   "execution_count": 4,
   "id": "d3323378",
   "metadata": {},
   "outputs": [
    {
     "name": "stdout",
     "output_type": "stream",
     "text": [
      "저의 이름은\n",
      "송주호 입니다\n"
     ]
    }
   ],
   "source": [
    "print(\"저의 이름은\")\n",
    "print(\"송주호 입니다\")"
   ]
  },
  {
   "cell_type": "markdown",
   "id": "b7835845",
   "metadata": {},
   "source": [
    "안녕하세요  \n",
    "선문대학교"
   ]
  },
  {
   "cell_type": "markdown",
   "id": "dd9928ec",
   "metadata": {},
   "source": [
    "# 파이썬\n",
    "## 아나콘다"
   ]
  },
  {
   "cell_type": "markdown",
   "id": "3127b605",
   "metadata": {},
   "source": [
    "- 아나콘다\n"
   ]
  },
  {
   "cell_type": "markdown",
   "id": "e8ea788f",
   "metadata": {},
   "source": [
    "# 파이썬 시작"
   ]
  },
  {
   "cell_type": "markdown",
   "id": "17d0a4d4",
   "metadata": {},
   "source": [
    "인터프리터: 한줄씩 실행"
   ]
  },
  {
   "cell_type": "code",
   "execution_count": 6,
   "id": "e049c2a3",
   "metadata": {
    "scrolled": true
   },
   "outputs": [
    {
     "name": "stdout",
     "output_type": "stream",
     "text": [
      "print문을 사용하여 출력\n"
     ]
    }
   ],
   "source": [
    "print(\"print문을 사용하여 출력\") #print()는 함수"
   ]
  },
  {
   "cell_type": "code",
   "execution_count": 2,
   "id": "e46d5a2b",
   "metadata": {},
   "outputs": [
    {
     "name": "stdout",
     "output_type": "stream",
     "text": [
      "Hello World!\n",
      "파이썬 공부시작\n"
     ]
    }
   ],
   "source": [
    "print(\"Hello World!\")\n",
    "print(\"파이썬 공부시작\")"
   ]
  },
  {
   "cell_type": "code",
   "execution_count": null,
   "id": "3ef1342e",
   "metadata": {},
   "outputs": [],
   "source": []
  },
  {
   "cell_type": "code",
   "execution_count": null,
   "id": "202f459d",
   "metadata": {},
   "outputs": [],
   "source": []
  }
 ],
 "metadata": {
  "kernelspec": {
   "display_name": "Python 3 (ipykernel)",
   "language": "python",
   "name": "python3"
  },
  "language_info": {
   "codemirror_mode": {
    "name": "ipython",
    "version": 3
   },
   "file_extension": ".py",
   "mimetype": "text/x-python",
   "name": "python",
   "nbconvert_exporter": "python",
   "pygments_lexer": "ipython3",
   "version": "3.9.7"
  }
 },
 "nbformat": 4,
 "nbformat_minor": 5
}
